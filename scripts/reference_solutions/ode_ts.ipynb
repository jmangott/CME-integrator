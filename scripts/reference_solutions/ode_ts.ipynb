{
 "cells": [
  {
   "attachments": {},
   "cell_type": "markdown",
   "metadata": {},
   "source": [
    "# Toggle switch"
   ]
  },
  {
   "cell_type": "code",
   "execution_count": null,
   "metadata": {},
   "outputs": [],
   "source": [
    "from scipy.integrate import solve_ivp\n",
    "\n",
    "from ode_helper import *\n",
    "plt.style.use(\"./scripts/output/notebooks/custom_style.mplstyle\")\n",
    "%matplotlib inline"
   ]
  },
  {
   "attachments": {},
   "cell_type": "markdown",
   "metadata": {},
   "source": [
    "## Simulation parameters"
   ]
  },
  {
   "cell_type": "code",
   "execution_count": null,
   "metadata": {},
   "outputs": [],
   "source": [
    "t = 500\n",
    "n = np.array([51, 51], dtype=\"int64\")\n",
    "slice_vec = np.array([0, 0], dtype=\"int64\")\n",
    "r = 5\n",
    "m = n.size\n",
    "m1 = 1\n",
    "dx = np.prod(n)"
   ]
  },
  {
   "attachments": {},
   "cell_type": "markdown",
   "metadata": {},
   "source": [
    "## Reaction system"
   ]
  },
  {
   "cell_type": "code",
   "execution_count": null,
   "metadata": {},
   "outputs": [],
   "source": [
    "# Reaction parameters\n",
    "b = 0.4\n",
    "c = 0.05\n",
    "\n",
    "# Stoichiometric vectors\n",
    "nu0 = np.array([-1, 0])\n",
    "nu1 = np.array([0, -1])\n",
    "nu2 = np.array([1, 0])\n",
    "nu3 = np.array([0, 1])\n",
    "\n",
    "# Propensity functions\n",
    "@njit\n",
    "def prop0(x: np.ndarray) -> float:\n",
    "    return c * x[0]\n",
    "@njit\n",
    "def prop1(x: np.ndarray) -> float:\n",
    "    return c * x[1]\n",
    "@njit\n",
    "def prop2(x: np.ndarray) -> float:\n",
    "    return b / (b + x[1])\n",
    "@njit\n",
    "def prop3(x: np.ndarray) -> float:\n",
    "    return b / (b + x[0])"
   ]
  },
  {
   "attachments": {},
   "cell_type": "markdown",
   "metadata": {},
   "source": [
    "## RHS of the CME"
   ]
  },
  {
   "cell_type": "code",
   "execution_count": null,
   "metadata": {},
   "outputs": [],
   "source": [
    "@njit\n",
    "def cme(t: float, P: np.ndarray, interval: np.ndarray) -> np.ndarray:\n",
    "    m = interval.size\n",
    "    null = np.zeros(m)\n",
    "    result = (\n",
    "        evaluateProp(prop0, nu0, interval) * shiftArray(P, nu0, interval) +\n",
    "        evaluateProp(prop1, nu1, interval) * shiftArray(P, nu1, interval) +\n",
    "        evaluateProp(prop2, nu2, interval) * shiftArray(P, nu2, interval) +\n",
    "        evaluateProp(prop3, nu3, interval) * shiftArray(P, nu3, interval)\n",
    "    )\n",
    "    result -= (\n",
    "        evaluateProp(prop0, null, interval) +\n",
    "        evaluateProp(prop1, null, interval) +\n",
    "        evaluateProp(prop2, null, interval) +\n",
    "        evaluateProp(prop3, null, interval)\n",
    "    ) * P\n",
    "    return result"
   ]
  },
  {
   "attachments": {},
   "cell_type": "markdown",
   "metadata": {},
   "source": [
    "## Set up the initial condition"
   ]
  },
  {
   "cell_type": "code",
   "execution_count": null,
   "metadata": {},
   "outputs": [],
   "source": [
    "C = 0.5 * np.array([[75, -15], [-15, 75]])\n",
    "Cinv = np.linalg.inv(C)\n",
    "mu = np.array([30, 5])\n",
    "\n",
    "def eval_P0(x: np.ndarray) -> float:\n",
    "    return np.exp(-0.5 * np.dot(np.transpose(x - mu), np.dot(Cinv, (x - mu))))\n",
    "\n",
    "P0 = constructP0(eval_P0, n)"
   ]
  },
  {
   "attachments": {},
   "cell_type": "markdown",
   "metadata": {},
   "source": [
    "## Solve the system"
   ]
  },
  {
   "cell_type": "code",
   "execution_count": null,
   "metadata": {},
   "outputs": [],
   "source": [
    "t_step = 10\n",
    "t_eval = np.arange(0, t + t_step, t_step)\n",
    "sol = solve_ivp(lambda t, P: cme(t, P, n), [0, t + 1], P0, method='RK45', t_eval=t_eval)\n",
    "\n",
    "y = np.zeros((t_eval.size, dx))\n",
    "for i in range(t_eval.size):\n",
    "    y[i, :] = sol.y[:, i]"
   ]
  },
  {
   "attachments": {},
   "cell_type": "markdown",
   "metadata": {},
   "source": [
    "## Calculate output"
   ]
  },
  {
   "cell_type": "code",
   "execution_count": null,
   "metadata": {},
   "outputs": [],
   "source": [
    "P_full, P_marginal, _, P_sliced, _, P_best_approximation = calculateObservables(\n",
    "    y, n, r, m1, slice_vec, np.array([0, 1], dtype=\"int64\"))\n",
    "\n",
    "with open(\"scripts/reference_solutions/ts_ode_ref.npy\", \"wb\") as f:\n",
    "    np.save(f, P_full)\n",
    "    np.save(f, P_marginal)\n",
    "    np.save(f, P_sliced)\n",
    "    np.save(f, P_best_approximation)\n",
    "    np.save(f, n)"
   ]
  },
  {
   "cell_type": "code",
   "execution_count": null,
   "metadata": {},
   "outputs": [],
   "source": [
    "P_mat = P_full[-1].reshape(n[0], n[1], order=\"F\");\n",
    "u, s, vh = np.linalg.svd(P_mat)\n",
    "x0 = u[:, :5]\n",
    "print(s[:5])"
   ]
  },
  {
   "cell_type": "markdown",
   "metadata": {},
   "source": [
    "## Full probability distribution"
   ]
  },
  {
   "cell_type": "code",
   "execution_count": null,
   "metadata": {},
   "outputs": [],
   "source": [
    "xx1, xx2 = np.meshgrid(np.arange(n[0]), np.arange(n[1]))\n",
    "fig, (ax1, ax2) = plt.subplots(1, 2, figsize=(8, 8))\n",
    "levels = np.linspace(np.amin(P_mat), np.amax(P_mat), 9)\n",
    "ax1.contour(xx1, xx2, P_mat, levels=levels)\n",
    "ax1.set_title(\"exact\")\n",
    "\n",
    "ax2.contour(xx1, xx2, (u[:, :2] * s[:2]) @ vh[:2, :], levels=levels)\n",
    "ax2.set_title(\"$r = 2$\")\n",
    "plt.setp((ax1, ax2), xlim=[0, 30], ylim=[0, 30], xlabel=\"$x_0$\", ylabel=\"$x_1$\", aspect=\"equal\")\n",
    "\n",
    "plt.subplots_adjust(wspace=0.3)\n",
    "plt.savefig(\"plots/toggle_switch_comparison.pdf\")"
   ]
  },
  {
   "cell_type": "markdown",
   "metadata": {},
   "source": [
    "## First two basis functions"
   ]
  },
  {
   "cell_type": "code",
   "execution_count": null,
   "metadata": {},
   "outputs": [],
   "source": [
    "fig, axs = plt.subplots(2, 2, figsize=(6, 6))\n",
    "axs[0, 0].plot(np.arange(n[0]), -u[:, 0])\n",
    "axs[0, 0].set_xlabel(\"$x_0$\")\n",
    "axs[0, 0].set_ylabel(\"$P_{{0,H}}(x_0)$\")\n",
    "axs[0, 1].plot(np.arange(n[1]), -vh[0, :])\n",
    "axs[0, 1].set_xlabel(\"$x_1$\")\n",
    "axs[0, 1].set_ylabel(\"$P_{{1,L}}(x_1)$\")\n",
    "\n",
    "axs[1, 0].plot(np.arange(n[0]), -u[:, 1])\n",
    "axs[1, 0].set_xlabel(\"$x_0$\")\n",
    "axs[1, 0].set_ylabel(\"$P_{{0,L}}(x_0)$\")\n",
    "axs[1, 1].plot(np.arange(n[1]), -vh[1, :])\n",
    "axs[1, 1].set_xlabel(\"$x_1$\")\n",
    "axs[1, 1].set_ylabel(\"$P_{{1,H}}(x_1)$\")\n",
    "\n",
    "fig.tight_layout()\n",
    "plt.savefig(\"plots/toggle_switch_lr_factors.pdf\")"
   ]
  }
 ],
 "metadata": {
  "kernelspec": {
   "display_name": "base",
   "language": "python",
   "name": "python3"
  },
  "language_info": {
   "codemirror_mode": {
    "name": "ipython",
    "version": 3
   },
   "file_extension": ".py",
   "mimetype": "text/x-python",
   "name": "python",
   "nbconvert_exporter": "python",
   "pygments_lexer": "ipython3",
   "version": "3.10.14"
  },
  "orig_nbformat": 4
 },
 "nbformat": 4,
 "nbformat_minor": 2
}
