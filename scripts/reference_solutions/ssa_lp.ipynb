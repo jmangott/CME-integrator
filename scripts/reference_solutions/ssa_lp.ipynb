{
 "cells": [
  {
   "attachments": {},
   "cell_type": "markdown",
   "metadata": {},
   "source": [
    "# Lambda phage\n",
    "Initial condition: $P_0(x)=\\delta_{x,x_0}$, where $x = (0,\\,0,\\,0,\\,0,\\,0)$"
   ]
  },
  {
   "cell_type": "code",
   "execution_count": 1,
   "metadata": {},
   "outputs": [],
   "source": [
    "import numpy as np\n",
    "import pysb_model_lp as pysb_model\n",
    "from pysb.simulator import StochKitSimulator\n",
    "\n",
    "from ssa_helper import *"
   ]
  },
  {
   "attachments": {},
   "cell_type": "markdown",
   "metadata": {},
   "source": [
    "## Simulation parameters"
   ]
  },
  {
   "cell_type": "code",
   "execution_count": 2,
   "metadata": {},
   "outputs": [],
   "source": [
    "n_time = 100 + 1\n",
    "n_runs = 100000\n",
    "tspan = np.linspace(0.0, 10.0, n_time)\n",
    "\n",
    "m = len(pysb_model.model.observables)\n",
    "slice_vec = [int(pysb_model.model.initials[i].value.value) for i in range(m)]"
   ]
  },
  {
   "attachments": {},
   "cell_type": "markdown",
   "metadata": {},
   "source": [
    "## Run StochKit simulation"
   ]
  },
  {
   "cell_type": "code",
   "execution_count": 3,
   "metadata": {},
   "outputs": [],
   "source": [
    "sim = StochKitSimulator(pysb_model.model, tspan=tspan)\n",
    "simulation_result = sim.run(n_runs=n_runs)\n",
    "\n",
    "# Convert the result into a numpy array\n",
    "result = np.zeros((n_runs, n_time, m), dtype=\"int64\")\n",
    "for i_runs in range(n_runs):\n",
    "    for i_obs, obs in enumerate(pysb_model.model.observables):\n",
    "        result[i_runs, :, i_obs] = simulation_result.observables[i_runs][obs.name]"
   ]
  },
  {
   "attachments": {},
   "cell_type": "markdown",
   "metadata": {},
   "source": [
    "## Calculate output"
   ]
  },
  {
   "cell_type": "code",
   "execution_count": 4,
   "metadata": {},
   "outputs": [],
   "source": [
    "P_full, P_marginal, P_marginal2D, P_sliced, P_sliced2D, n, n_min, n_max = CalculateObservables(\n",
    "    result, m, n_time, n_runs, slice_vec)\n",
    "\n",
    "with open(\"scripts/reference_solutions/lp_ssa_ref.npy\", \"wb\") as f:\n",
    "    np.save(f, P_full)\n",
    "    np.save(f, P_marginal)\n",
    "    np.save(f, P_marginal2D)\n",
    "    np.save(f, P_sliced)\n",
    "    np.save(f, P_sliced2D)\n",
    "    np.save(f, n)\n",
    "    np.save(f, n_min)\n",
    "    np.save(f, n_max)"
   ]
  }
 ],
 "metadata": {
  "kernelspec": {
   "display_name": "base",
   "language": "python",
   "name": "python3"
  },
  "language_info": {
   "codemirror_mode": {
    "name": "ipython",
    "version": 3
   },
   "file_extension": ".py",
   "mimetype": "text/x-python",
   "name": "python",
   "nbconvert_exporter": "python",
   "pygments_lexer": "ipython3",
   "version": "3.9.5"
  },
  "orig_nbformat": 4
 },
 "nbformat": 4,
 "nbformat_minor": 2
}
