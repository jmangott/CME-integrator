{
 "cells": [
  {
   "attachments": {},
   "cell_type": "markdown",
   "metadata": {},
   "source": [
    "# Enzymatic futile cycle"
   ]
  },
  {
   "cell_type": "code",
   "execution_count": null,
   "metadata": {},
   "outputs": [],
   "source": [
    "from scipy.integrate import solve_ivp\n",
    "from scipy.special import factorial\n",
    "\n",
    "from scripts.reference_solutions.ode_helper import *\n",
    "from scripts.index_functions import vecIndexToCombIndex"
   ]
  },
  {
   "attachments": {},
   "cell_type": "markdown",
   "metadata": {},
   "source": [
    "## Simulation parameters"
   ]
  },
  {
   "cell_type": "code",
   "execution_count": null,
   "metadata": {},
   "outputs": [],
   "source": [
    "t = 10.0\n",
    "n = np.array([128, 4, 4, 128, 4, 4], dtype=\"int64\")\n",
    "slice_vec = np.zeros(6)\n",
    "m = n.size\n",
    "m1 = 3\n",
    "dx = np.prod(n)"
   ]
  },
  {
   "attachments": {},
   "cell_type": "markdown",
   "metadata": {},
   "source": [
    "## Reaction system"
   ]
  },
  {
   "cell_type": "code",
   "execution_count": null,
   "metadata": {},
   "outputs": [],
   "source": [
    "# Reaction parameters\n",
    "kp1 = 0.4\n",
    "kp2 = 100.0\n",
    "kp3 = 100.0\n",
    "km1 = 2.0\n",
    "km2 = 1.0\n",
    "km3 = 50.0\n",
    "\n",
    "# Stoichiometric vectors\n",
    "nu0 = np.array([-1, -1, 1, 0, 0, 0])\n",
    "nu1 = np.array([1, 1, -1, 0, 0, 0])\n",
    "nu2 = np.array([0, 0, 0, -1, -1, 1])\n",
    "nu3 = np.array([0, 0, 0, 1, 1, -1])\n",
    "nu4 = np.array([0, 1, -1, 1, 0, 0])\n",
    "nu5 = np.array([1, 0, 0, 0, 1, -1])\n",
    "\n",
    "# Propensity functions\n",
    "@njit\n",
    "def prop0(x: np.ndarray) -> float:\n",
    "    return kp1 * x[0] * x[1]\n",
    "@njit\n",
    "def prop1(x: np.ndarray) -> float:\n",
    "    return kp2 * x[2]\n",
    "@njit\n",
    "def prop2(x: np.ndarray) -> float:\n",
    "    return km1 * x[3] * x[4]\n",
    "@njit\n",
    "def prop3(x: np.ndarray) -> float:\n",
    "    return km2 * x[5]\n",
    "@njit\n",
    "def prop4(x: np.ndarray) -> float:\n",
    "    return kp3 * x[2]\n",
    "@njit\n",
    "def prop5(x: np.ndarray) -> float:\n",
    "    return km3 * x[5]"
   ]
  },
  {
   "attachments": {},
   "cell_type": "markdown",
   "metadata": {},
   "source": [
    "## RHS of the CME"
   ]
  },
  {
   "cell_type": "code",
   "execution_count": null,
   "metadata": {},
   "outputs": [],
   "source": [
    "@njit\n",
    "def cme(t: float, P: np.ndarray, interval: np.ndarray) -> np.ndarray:\n",
    "    m = interval.size\n",
    "    null = np.zeros(m)\n",
    "    result = (\n",
    "        evaluateProp(prop0, nu0, interval) * shiftArray(P, nu0, interval) + \n",
    "        evaluateProp(prop1, nu1, interval) * shiftArray(P, nu1, interval) +\n",
    "        evaluateProp(prop2, nu2, interval) * shiftArray(P, nu2, interval) +\n",
    "        evaluateProp(prop3, nu3, interval) * shiftArray(P, nu3, interval) +\n",
    "        evaluateProp(prop4, nu4, interval) * shiftArray(P, nu4, interval) +\n",
    "        evaluateProp(prop5, nu5, interval) * shiftArray(P, nu5, interval)\n",
    "    )\n",
    "    result -= (\n",
    "        evaluateProp(prop0, null, interval) + \n",
    "        evaluateProp(prop1, null, interval) +\n",
    "        evaluateProp(prop2, null, interval) +\n",
    "        evaluateProp(prop3, null, interval) +\n",
    "        evaluateProp(prop4, null, interval) +\n",
    "        evaluateProp(prop5, null, interval)\n",
    "    ) * P\n",
    "    return result"
   ]
  },
  {
   "attachments": {},
   "cell_type": "markdown",
   "metadata": {},
   "source": [
    "## Set up the initial condition"
   ]
  },
  {
   "cell_type": "code",
   "execution_count": null,
   "metadata": {},
   "outputs": [],
   "source": [
    "P0 = np.zeros(dx)\n",
    "idx = vecIndexToCombIndex([30, 2, 0, 90, 2, 0], n)\n",
    "P0[idx] = 1.0"
   ]
  },
  {
   "attachments": {},
   "cell_type": "markdown",
   "metadata": {},
   "source": [
    "## Solve the system"
   ]
  },
  {
   "cell_type": "code",
   "execution_count": null,
   "metadata": {},
   "outputs": [],
   "source": [
    "t_step = 1\n",
    "t_eval = np.arange(0, t + t_step, t_step)\n",
    "sol = solve_ivp(lambda t, P: cme(t, P, n), [0, t + 1], P0, method='RK45', t_eval=t_eval)\n",
    "y = sol.y.T"
   ]
  },
  {
   "attachments": {},
   "cell_type": "markdown",
   "metadata": {},
   "source": [
    "## Calculate output"
   ]
  },
  {
   "cell_type": "code",
   "execution_count": null,
   "metadata": {},
   "outputs": [],
   "source": [
    "_, P_marginal, _, _, _ = calculateObservables(y, n, slice_vec, np.array([0, 1], dtype=\"int64\"))"
   ]
  },
  {
   "cell_type": "code",
   "execution_count": null,
   "metadata": {},
   "outputs": [],
   "source": [
    "with open(\"scripts/reference_solutions/efc_ode_ref.npz\", \"wb\") as f:\n",
    "    np.savez(f, P_marginal=P_marginal)"
   ]
  }
 ],
 "metadata": {
  "kernelspec": {
   "display_name": "base",
   "language": "python",
   "name": "python3"
  },
  "language_info": {
   "codemirror_mode": {
    "name": "ipython",
    "version": 3
   },
   "file_extension": ".py",
   "mimetype": "text/x-python",
   "name": "python",
   "nbconvert_exporter": "python",
   "pygments_lexer": "ipython3",
   "version": "3.10.14"
  },
  "orig_nbformat": 4
 },
 "nbformat": 4,
 "nbformat_minor": 2
}
