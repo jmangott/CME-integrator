{
 "cells": [
  {
   "attachments": {},
   "cell_type": "markdown",
   "metadata": {},
   "source": [
    "# Lambda phage\n",
    "Initial condition:\n",
    "\\begin{equation*}\n",
    "P_0(x)=\n",
    "\\begin{cases}\n",
    "    \\frac{3!}{x_1! \\cdots x_5!(3-|x|)!}0.05^{|x|}(1-5\\cdot0.05)^{3-|x|} \\quad \\text{if} \\quad |x| \\le 3, \\\\\n",
    "    0 \\quad \\text{else}\n",
    "\\end{cases}\n",
    "\\end{equation*}"
   ]
  },
  {
   "cell_type": "code",
   "execution_count": 1,
   "metadata": {},
   "outputs": [],
   "source": [
    "from scipy.integrate import solve_ivp\n",
    "from scipy.special import factorial\n",
    "\n",
    "from ode_helper import *"
   ]
  },
  {
   "attachments": {},
   "cell_type": "markdown",
   "metadata": {},
   "source": [
    "## Simulation parameters"
   ]
  },
  {
   "cell_type": "code",
   "execution_count": 2,
   "metadata": {},
   "outputs": [],
   "source": [
    "t = 10\n",
    "n = np.array([16, 41, 11, 11, 11], dtype=\"int64\")\n",
    "slice_vec = np.array([0, 9, 1, 1, 1])\n",
    "r = 4\n",
    "m = n.size\n",
    "m1 = 2\n",
    "dx = np.prod(n)"
   ]
  },
  {
   "attachments": {},
   "cell_type": "markdown",
   "metadata": {},
   "source": [
    "## Reaction system"
   ]
  },
  {
   "cell_type": "code",
   "execution_count": 3,
   "metadata": {},
   "outputs": [],
   "source": [
    "# Reaction parameters\n",
    "a = np.array([0.5, 1.0, 0.15, 0.3, 0.3])\n",
    "b = np.array([0.12, 0.6, 1.0, 1.0, 1.0])\n",
    "c = np.array([0.0025, 0.0007, 0.0231, 0.01, 0.01])\n",
    "\n",
    "# Stoichiometric vectors\n",
    "nu0 = np.array([1, 0, 0, 0, 0])\n",
    "nu1 = np.array([0, 1, 0, 0, 0])\n",
    "nu2 = np.array([0, 0, 1, 0, 0])\n",
    "nu3 = np.array([0, 0, 0, 1, 0])\n",
    "nu4 = np.array([0, 0, 0, 0, 1])\n",
    "nu5 = np.array([-1, 0, 0, 0, 0])\n",
    "nu6 = np.array([0, -1, 0, 0, 0])\n",
    "nu7 = np.array([0, 0, -1, 0, 0])\n",
    "nu8 = np.array([0, 0, 0, -1, 0])\n",
    "nu9 = np.array([0, 0, 0, 0, -1])\n",
    "\n",
    "# Propensity functions\n",
    "@njit\n",
    "def prop0(x: np.ndarray) -> float:\n",
    "    return a[0] * b[0] / (b[0] + x[1])\n",
    "@njit\n",
    "def prop1(x: np.ndarray) -> float:\n",
    "    return (a[1] + x[4]) * b[1] / (b[1] + x[0])\n",
    "@njit\n",
    "def prop2(x: np.ndarray) -> float:\n",
    "    return a[2] * b[2] * x[1] / (b[2] * x[1] + 1.0)\n",
    "@njit\n",
    "def prop3(x: np.ndarray) -> float:\n",
    "    return a[3] * b[3] * x[2] / (b[3] * x[2] + 1.0)\n",
    "@njit\n",
    "def prop4(x: np.ndarray) -> float:\n",
    "    return a[4] * b[4] * x[2] / (b[4] * x[2] + 1.0)\n",
    "@njit\n",
    "def prop5(x: np.ndarray) -> float:\n",
    "    return c[0] * x[0]\n",
    "@njit\n",
    "def prop6(x: np.ndarray) -> float:\n",
    "    return c[1] * x[1]\n",
    "@njit\n",
    "def prop7(x: np.ndarray) -> float:\n",
    "    return c[2] * x[2]\n",
    "@njit\n",
    "def prop8(x: np.ndarray) -> float:\n",
    "    return c[3] * x[3]\n",
    "@njit\n",
    "def prop9(x: np.ndarray) -> float:\n",
    "    return c[4] * x[4]"
   ]
  },
  {
   "attachments": {},
   "cell_type": "markdown",
   "metadata": {},
   "source": [
    "## RHS of the CME"
   ]
  },
  {
   "cell_type": "code",
   "execution_count": 4,
   "metadata": {},
   "outputs": [],
   "source": [
    "@njit\n",
    "def cme(t: float, P: np.ndarray, interval: np.ndarray) -> np.ndarray:\n",
    "    m = interval.size\n",
    "    null = np.zeros(m)\n",
    "    result = (\n",
    "        evaluateProp(prop0, nu0, interval) * shiftArray(P, nu0, interval) + \n",
    "        evaluateProp(prop1, nu1, interval) * shiftArray(P, nu1, interval) +\n",
    "        evaluateProp(prop2, nu2, interval) * shiftArray(P, nu2, interval) +\n",
    "        evaluateProp(prop3, nu3, interval) * shiftArray(P, nu3, interval) +\n",
    "        evaluateProp(prop4, nu4, interval) * shiftArray(P, nu4, interval) +\n",
    "        evaluateProp(prop5, nu5, interval) * shiftArray(P, nu5, interval) +\n",
    "        evaluateProp(prop6, nu6, interval) * shiftArray(P, nu6, interval) +\n",
    "        evaluateProp(prop7, nu7, interval) * shiftArray(P, nu7, interval) +\n",
    "        evaluateProp(prop8, nu8, interval) * shiftArray(P, nu8, interval) +\n",
    "        evaluateProp(prop9, nu9, interval) * shiftArray(P, nu9, interval)\n",
    "    )\n",
    "    result -= (\n",
    "        evaluateProp(prop0, null, interval) + \n",
    "        evaluateProp(prop1, null, interval) +\n",
    "        evaluateProp(prop2, null, interval) +\n",
    "        evaluateProp(prop3, null, interval) +\n",
    "        evaluateProp(prop4, null, interval) +\n",
    "        evaluateProp(prop5, null, interval) +\n",
    "        evaluateProp(prop6, null, interval) +\n",
    "        evaluateProp(prop7, null, interval) +\n",
    "        evaluateProp(prop8, null, interval) +\n",
    "        evaluateProp(prop9, null, interval)\n",
    "    ) * P\n",
    "    return result"
   ]
  },
  {
   "attachments": {},
   "cell_type": "markdown",
   "metadata": {},
   "source": [
    "## Set up the initial condition"
   ]
  },
  {
   "cell_type": "code",
   "execution_count": 5,
   "metadata": {},
   "outputs": [],
   "source": [
    "def eval_P0(x: np.ndarray) -> float:\n",
    "    abs_x = np.sum(x)\n",
    "    if (abs_x <= 3):\n",
    "        P0 = factorial(3) * (0.05 ** abs_x) * \\\n",
    "            ((1.0 - 5 * 0.05) ** (3 - abs_x)) / \\\n",
    "            (np.prod(factorial(x)) * factorial(3 - abs_x))\n",
    "    else:\n",
    "        P0 = 0.0\n",
    "    return P0\n",
    "\n",
    "P0 = constructP0(eval_P0, n)"
   ]
  },
  {
   "attachments": {},
   "cell_type": "markdown",
   "metadata": {},
   "source": [
    "## Solve the system"
   ]
  },
  {
   "cell_type": "code",
   "execution_count": 6,
   "metadata": {},
   "outputs": [],
   "source": [
    "t_step = 1\n",
    "t_eval = np.arange(0, t + t_step, t_step)\n",
    "sol = solve_ivp(lambda t, P: cme(t, P, n), [0, t + 1], P0, method='RK45', t_eval=t_eval)\n",
    "\n",
    "y = np.zeros((t_eval.size, dx))\n",
    "for i in range(t_eval.size):\n",
    "    y[i, :] = sol.y[:, i]"
   ]
  },
  {
   "attachments": {},
   "cell_type": "markdown",
   "metadata": {},
   "source": [
    "## Calculate output"
   ]
  },
  {
   "cell_type": "code",
   "execution_count": 9,
   "metadata": {},
   "outputs": [],
   "source": [
    "P_full, P_marginal, P_marginal2D, P_sliced, P_sliced2D, P_best_approximation = calculateObservables(\n",
    "    y, n, 9, m1, slice_vec, np.array([0, 1], dtype=\"int64\"))"
   ]
  },
  {
   "cell_type": "code",
   "execution_count": 10,
   "metadata": {},
   "outputs": [],
   "source": [
    "with open(\"scripts/reference_solutions/lp_ode_ref_r9.npz\", \"wb\") as f:\n",
    "    np.savez(f, P_full=P_full, P_best_approximation=P_best_approximation)"
   ]
  }
 ],
 "metadata": {
  "kernelspec": {
   "display_name": "base",
   "language": "python",
   "name": "python3"
  },
  "language_info": {
   "codemirror_mode": {
    "name": "ipython",
    "version": 3
   },
   "file_extension": ".py",
   "mimetype": "text/x-python",
   "name": "python",
   "nbconvert_exporter": "python",
   "pygments_lexer": "ipython3",
   "version": "3.10.14"
  },
  "orig_nbformat": 4
 },
 "nbformat": 4,
 "nbformat_minor": 2
}
