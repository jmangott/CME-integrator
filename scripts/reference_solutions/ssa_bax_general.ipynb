{
 "cells": [
  {
   "attachments": {},
   "cell_type": "markdown",
   "metadata": {},
   "source": [
    "# BAX pore assembly\n",
    "Initial condition:\n",
    "\\begin{equation*}\n",
    "P_0(x)=\\gamma \\cdot \\exp\\left(-\\frac{1}{2} (x-\\mu)^T C^{-1} (x-\\mu)\\right),\n",
    "\\end{equation*}\n",
    "with $C=0.2$, $\\mu=(40,\\,0,\\,0,\\,0,\\,0,\\,0,\\,0,\\,0,\\,0,\\,50,\\,0)$ and $\\gamma$ was determined by the condition $\\sum_{x\\in\\Omega^{\\zeta,\\eta}} P_0(x)=1$."
   ]
  },
  {
   "cell_type": "code",
   "execution_count": null,
   "metadata": {},
   "outputs": [],
   "source": [
    "import numpy as np\n",
    "import matplotlib.pyplot as plt\n",
    "import scripts.models.bax_pysb as pysb_model\n",
    "from pysb.simulator import StochKitSimulator\n",
    "\n",
    "from ssa_helper import *"
   ]
  },
  {
   "attachments": {},
   "cell_type": "markdown",
   "metadata": {},
   "source": [
    "## Simulation parameters"
   ]
  },
  {
   "cell_type": "code",
   "execution_count": null,
   "metadata": {},
   "outputs": [],
   "source": [
    "n_time = 1 + 1\n",
    "tspan = np.linspace(0.0, 145, n_time)\n",
    "\n",
    "# This defines the small sample space\n",
    "liml = np.array([38, 0, 0, 0, 0, 0, 0, 0, 0, 48, 0])\n",
    "n = np.array([5, 4, 4, 4, 4, 4, 4, 4, 4, 5, 4])\n",
    "\n",
    "sweeps = 1e4\n",
    "meta_runs = 1\n",
    "\n",
    "m = n.size # len(pysb_model.model.observables)\n",
    "observables = [obs.name for obs in pysb_model.model.observables]"
   ]
  },
  {
   "attachments": {},
   "cell_type": "markdown",
   "metadata": {},
   "source": [
    "## Set up the initial condition"
   ]
  },
  {
   "cell_type": "code",
   "execution_count": null,
   "metadata": {},
   "outputs": [],
   "source": [
    "mu = np.array([40.0, 0.0, 0.0, 0.0, 0.0, 0.0, 0.0, 0.0, 0.0, 50.0, 0.0])\n",
    "C = 0.2\n",
    "Cinv = 1 / C\n",
    "\n",
    "# Calculate the normalization\n",
    "sum_vec = np.zeros(n.size)\n",
    "for i, n_el in enumerate(n):\n",
    "    for x in range(n_el):\n",
    "        x_vec = np.array([x])\n",
    "        sum_vec[i] += np.exp(-0.5 * Cinv * np.linalg.norm(x + liml[i] - mu[i]) ** 2)\n",
    "gamma = 1 / np.prod(sum_vec)\n",
    "\n",
    "@njit\n",
    "def eval_P0(x: np.ndarray) -> float:\n",
    "    return gamma * np.exp(-0.5 * Cinv * np.linalg.norm(x - mu) ** 2)"
   ]
  },
  {
   "attachments": {},
   "cell_type": "markdown",
   "metadata": {},
   "source": [
    "## Run StochKit simulation"
   ]
  },
  {
   "cell_type": "code",
   "execution_count": null,
   "metadata": {},
   "outputs": [],
   "source": [
    "n_runs, n_runs_tot = calculateNRuns(eval_P0, sweeps, n, liml)\n",
    "result_tot = np.empty((meta_runs * n_runs_tot, n_time, m), dtype=\"int64\")\n",
    "\n",
    "for i in range(meta_runs):\n",
    "    result_tot[i * n_runs_tot : (i + 1) * n_runs_tot] = runSSA(n_runs, n_runs_tot, tspan, n, liml, pysb_model.model, observables)\n",
    "    print(i)\n",
    "\n",
    "np.save(\"scripts/reference_solutions/bax_ssa_general_ref_1e4.npy\", result_tot)"
   ]
  }
 ],
 "metadata": {
  "kernelspec": {
   "display_name": "base",
   "language": "python",
   "name": "python3"
  },
  "language_info": {
   "codemirror_mode": {
    "name": "ipython",
    "version": 3
   },
   "file_extension": ".py",
   "mimetype": "text/x-python",
   "name": "python",
   "nbconvert_exporter": "python",
   "pygments_lexer": "ipython3",
   "version": "3.10.14"
  },
  "orig_nbformat": 4
 },
 "nbformat": 4,
 "nbformat_minor": 2
}
