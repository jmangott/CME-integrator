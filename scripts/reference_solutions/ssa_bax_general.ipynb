{
 "cells": [
  {
   "attachments": {},
   "cell_type": "markdown",
   "metadata": {},
   "source": [
    "# BAX pore assembly\n",
    "Initial condition:\n",
    "\\begin{equation*}\n",
    "P_0(x)=\\gamma \\cdot \\exp\\left(-\\frac{1}{2} (x-\\mu)^T C^{-1} (x-\\mu)\\right),\n",
    "\\end{equation*}\n",
    "with $C=0.2$, $\\mu=(80,\\,0,\\,0,\\,0,\\,0,\\,0,\\,0,\\,0,\\,0,\\,100,\\,0)$ and $\\gamma$ was determined by the condition $\\sum_{x\\in\\Omega^{\\zeta,\\eta}} P_0(x)=1$."
   ]
  },
  {
   "cell_type": "code",
   "execution_count": 1,
   "metadata": {},
   "outputs": [],
   "source": [
    "import numpy as np\n",
    "import matplotlib.pyplot as plt\n",
    "import pysb_model_bax as pysb_model\n",
    "from pysb.simulator import StochKitSimulator\n",
    "\n",
    "from ssa_helper import *"
   ]
  },
  {
   "attachments": {},
   "cell_type": "markdown",
   "metadata": {},
   "source": [
    "## Simulation parameters"
   ]
  },
  {
   "cell_type": "code",
   "execution_count": 2,
   "metadata": {},
   "outputs": [],
   "source": [
    "n_time = 10 + 1\n",
    "tspan = np.linspace(0.0, 20000.0, n_time)\n",
    "\n",
    "# This defines the small sample space\n",
    "liml = np.array([0, 0, 0, 0, 98, 0, 78, 0, 0, 0,0])\n",
    "n = np.array([4, 4, 4, 4, 5, 4, 5, 4, 4, 4, 4])\n",
    "\n",
    "sweeps = 1e4\n",
    "\n",
    "m = n.size # len(pysb_model.model.observables)"
   ]
  },
  {
   "attachments": {},
   "cell_type": "markdown",
   "metadata": {},
   "source": [
    "## Set up the initial condition"
   ]
  },
  {
   "cell_type": "code",
   "execution_count": 3,
   "metadata": {},
   "outputs": [],
   "source": [
    "C = 0.2\n",
    "Cinv = 1 / C\n",
    "mu = np.array([0, 0, 0, 0, 100, 0, 80, 0, 0, 0, 0])\n",
    "\n",
    "def eval_P0(gamma: float, x: np.ndarray, mu: np.ndarray) -> float:\n",
    "    return gamma * np.exp(-0.5 * Cinv * np.dot(np.transpose(x - mu), (x - mu)))"
   ]
  },
  {
   "cell_type": "code",
   "execution_count": 4,
   "metadata": {},
   "outputs": [],
   "source": [
    "# Calculate the normalization\n",
    "sum_vec = np.zeros(n.size)\n",
    "for i, n_el in enumerate(n):\n",
    "    for x in range(n_el):\n",
    "        sum_vec[i] += eval_P0(1.0, x + liml[i], mu[i])\n",
    "gamma = 1 / np.prod(sum_vec)"
   ]
  },
  {
   "attachments": {},
   "cell_type": "markdown",
   "metadata": {},
   "source": [
    "## Run StochKit simulation"
   ]
  },
  {
   "cell_type": "code",
   "execution_count": 5,
   "metadata": {},
   "outputs": [],
   "source": [
    "result = runSSAWithP0(lambda x: eval_P0(gamma, x, mu), sweeps, tspan, n, liml, pysb_model.model)\n",
    "np.save(\"scripts/reference_solutions/bax_ssa_general_ref_1e4.npy\", result)"
   ]
  }
 ],
 "metadata": {
  "kernelspec": {
   "display_name": "base",
   "language": "python",
   "name": "python3"
  },
  "language_info": {
   "codemirror_mode": {
    "name": "ipython",
    "version": 3
   },
   "file_extension": ".py",
   "mimetype": "text/x-python",
   "name": "python",
   "nbconvert_exporter": "python",
   "pygments_lexer": "ipython3",
   "version": "3.9.5"
  },
  "orig_nbformat": 4
 },
 "nbformat": 4,
 "nbformat_minor": 2
}
