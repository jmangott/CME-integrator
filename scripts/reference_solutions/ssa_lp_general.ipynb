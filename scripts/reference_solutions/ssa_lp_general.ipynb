{
 "cells": [
  {
   "attachments": {},
   "cell_type": "markdown",
   "metadata": {},
   "source": [
    "# Lambda phage\n",
    "Initial condition:\n",
    "\\begin{equation*}\n",
    "P_0(x)=\n",
    "\\begin{cases}\n",
    "    \\frac{3!}{x_1! \\cdots x_5!(3-|x|)!}0.05^{|x|}(1-5\\cdot0.05)^{3-|x|} \\quad \\text{if} \\quad |x| \\le 3, \\\\\n",
    "    0 \\quad \\text{else}\n",
    "\\end{cases}\n",
    "\\end{equation*}"
   ]
  },
  {
   "cell_type": "code",
   "execution_count": null,
   "metadata": {},
   "outputs": [],
   "source": [
    "import numpy as np\n",
    "import matplotlib.pyplot as plt\n",
    "import scripts.models.lambda_phage_pysb as pysb_model\n",
    "from pysb.simulator import StochKitSimulator\n",
    "from scipy.special import factorial\n",
    "\n",
    "from ssa_helper import *"
   ]
  },
  {
   "attachments": {},
   "cell_type": "markdown",
   "metadata": {},
   "source": [
    "## Simulation parameters"
   ]
  },
  {
   "cell_type": "code",
   "execution_count": null,
   "metadata": {},
   "outputs": [],
   "source": [
    "n_time = 10 + 1\n",
    "tspan = np.linspace(0.0, 10.0, n_time)\n",
    "\n",
    "liml = np.array([0, 0, 0, 0, 0])\n",
    "n = np.array([16, 41, 11, 11, 11])\n",
    "\n",
    "sweeps = 1e3\n",
    "\n",
    "m = n.size # len(pysb_model.model.observables)\n",
    "observables = [obs.name for obs in pysb_model.model.observables]"
   ]
  },
  {
   "attachments": {},
   "cell_type": "markdown",
   "metadata": {},
   "source": [
    "## Set up the initial condition"
   ]
  },
  {
   "cell_type": "code",
   "execution_count": null,
   "metadata": {},
   "outputs": [],
   "source": [
    "def eval_P0(x: np.ndarray) -> float:\n",
    "    abs_x = np.sum(x)\n",
    "    if (abs_x <= 3):\n",
    "        P0 = factorial(3) * (0.05 ** abs_x) * \\\n",
    "            ((1.0 - 5 * 0.05) ** (3 - abs_x)) / \\\n",
    "            (np.prod(factorial(x)) * factorial(3 - abs_x))\n",
    "    else:\n",
    "        P0 = 0.0\n",
    "    return P0"
   ]
  },
  {
   "attachments": {},
   "cell_type": "markdown",
   "metadata": {},
   "source": [
    "## Run StochKit simulation"
   ]
  },
  {
   "cell_type": "code",
   "execution_count": null,
   "metadata": {},
   "outputs": [],
   "source": [
    "n_runs, n_runs_tot = calculateNRuns(eval_P0, sweeps, n, liml)\n",
    "result = runSSA(n_runs, n_runs_tot, tspan, n, liml, pysb_model.model, observables)\n",
    "np.save(\"scripts/reference_solutions/lp_ssa_general_ref_1e3.npy\", result)"
   ]
  }
 ],
 "metadata": {
  "kernelspec": {
   "display_name": "base",
   "language": "python",
   "name": "python3"
  },
  "language_info": {
   "codemirror_mode": {
    "name": "ipython",
    "version": 3
   },
   "file_extension": ".py",
   "mimetype": "text/x-python",
   "name": "python",
   "nbconvert_exporter": "python",
   "pygments_lexer": "ipython3",
   "version": "3.9.18"
  },
  "orig_nbformat": 4
 },
 "nbformat": 4,
 "nbformat_minor": 2
}
