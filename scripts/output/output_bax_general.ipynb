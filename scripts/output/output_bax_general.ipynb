{
 "cells": [
  {
   "attachments": {},
   "cell_type": "markdown",
   "metadata": {},
   "source": [
    "# BAX pore assembly"
   ]
  },
  {
   "cell_type": "code",
   "execution_count": null,
   "metadata": {},
   "outputs": [],
   "source": [
    "from scripts.reference_solutions.ssa_helper import SSASol\n",
    "from output_helper import *\n",
    "%matplotlib inline"
   ]
  },
  {
   "cell_type": "code",
   "execution_count": null,
   "metadata": {},
   "outputs": [],
   "source": [
    "with xr.open_dataset(\"output/bax_general_230724_so_tau1e-1_ss10/output_t500.nc\") as ds:\n",
    "    grid = GridInfo(ds)\n",
    "    print(grid.t)\n",
    "    lr_sol = LRSol(ds, grid)\n",
    "    slice_vec = np.array([5, 2, 2, 2, 2, 2, 0, 0, 0, 3, 47])\n",
    "    idx_2D = np.array([9, 10])\n",
    "    P_marginal = lr_sol.marginalDistributions()\n",
    "    P_marginal2D = lr_sol.marginalDistribution2D(idx_2D)\n",
    "    P_sliced = lr_sol.slicedDistributions(slice_vec)\n",
    "    P_sliced2D = lr_sol.slicedDistribution2D(slice_vec, idx_2D)"
   ]
  },
  {
   "cell_type": "code",
   "execution_count": null,
   "metadata": {},
   "outputs": [],
   "source": [
    "result = np.load(\"scripts/reference_solutions/bax_ssa_general_ref_1e4_5.npy\")\n",
    "ssa_sol = SSASol(result)\n",
    "P_marginal_ssa, P_marginal2D_ssa, P_sliced_ssa, P_sliced2D_ssa = ssa_sol.calculateObservables(slice_vec, idx_2D)"
   ]
  },
  {
   "cell_type": "markdown",
   "metadata": {},
   "source": [
    "Additional parameters:"
   ]
  },
  {
   "cell_type": "code",
   "execution_count": null,
   "metadata": {},
   "outputs": [],
   "source": [
    "# idx = np.arange(11)\n",
    "# mesh = [grid.bin[j] * np.arange(n_el) + grid.liml[j] for j, n_el in enumerate(grid.n)]\n",
    "# mesh_ssa = [np.arange(el) + nssa_min[j] for j, el in enumerate(nssa)]\n",
    "# mesh_ssa = [np.arange(el) + ssa_sol.n_min[j] for j, el in enumerate(ssa_sol.n)]"
   ]
  },
  {
   "attachments": {},
   "cell_type": "markdown",
   "metadata": {},
   "source": [
    "## Figures 1 and 2\n",
    "One-dimensional marginal and sliced distributions"
   ]
  },
  {
   "cell_type": "code",
   "execution_count": null,
   "metadata": {},
   "outputs": [],
   "source": [
    "fig, axs = plt.subplots(6, 2, figsize=(6, 20))\n",
    "for i in range(11):\n",
    "    axs.flat[i].plot(range(grid.n[i]) + grid.liml[i], P_marginal[i])\n",
    "    axs.flat[i].plot(range(ssa_sol.n[i]) + ssa_sol.n_min[i], P_marginal_ssa[-1][i])"
   ]
  },
  {
   "cell_type": "code",
   "execution_count": null,
   "metadata": {},
   "outputs": [],
   "source": [
    "# fig, axs = plt.subplots(6, 2, figsize=(6, 20))\n",
    "# plotP1Dmult(axs, [P_marginal, P_marginal_ssa[-1]], [mesh, mesh_ssa], [\"DLR approx.\", \"SSA\"], idx, \"MD\")\n",
    "# axs.flat[0].legend()\n",
    "# axs.flat[-1].remove()\n",
    "# fig.tight_layout()\n",
    "# # plt.setp(axs.flat, yscale=\"log\")\n",
    "# fig.savefig('plots/bax_fig1.pdf')\n",
    "\n",
    "fig, axs = plt.subplots(6, 2, figsize=(6, 20))\n",
    "for i in range(11):\n",
    "    # axs.flat[i].plot(range(grid.n[i]) + grid.liml[i], P_sliced[i])\n",
    "    axs.flat[i].plot(range(ssa_sol.n[i]) + ssa_sol.n_min[i], P_sliced_ssa[-1][i])"
   ]
  },
  {
   "cell_type": "markdown",
   "metadata": {},
   "source": [
    "## Figures 3 and 4"
   ]
  },
  {
   "cell_type": "code",
   "execution_count": null,
   "metadata": {},
   "outputs": [],
   "source": [
    "result = np.load(\"scripts/reference_solutions/bax_ssa_general_ref_1e4.npy\")\n",
    "ssa_sol_1e4 = SSASol(result)\n",
    "P_marginal_ssa_1e4, _, P_sliced_ssa_1e4, _ = ssa_sol_1e4.calculateObservables(slice_vec, idx_2D)\n",
    "\n",
    "result = np.load(\"scripts/reference_solutions/bax_ssa_general_ref_1e5.npy\")\n",
    "ssa_sol_1e5 = SSASol(result)\n",
    "P_marginal_ssa_1e5, _, P_sliced_ssa_1e5, _ = ssa_sol_1e5.calculateObservables(slice_vec, idx_2D)\n",
    "\n",
    "result = np.load(\"scripts/reference_solutions/bax_ssa_general_ref_1e6.npy\")\n",
    "ssa_sol_1e6 = SSASol(result)\n",
    "P_marginal_ssa_1e6, _, P_sliced_ssa_1e6, _ = ssa_sol_1e6.calculateObservables(slice_vec, idx_2D)"
   ]
  },
  {
   "cell_type": "code",
   "execution_count": null,
   "metadata": {},
   "outputs": [],
   "source": [
    "mesh_dlr = grid.bin[0] * np.arange(grid.n[0]) + grid.liml[0]\n",
    "mesh_ssa_1e4 = np.arange(ssa_sol_1e4.n[0]) + ssa_sol_1e4.n_min[0]\n",
    "mesh_ssa_1e5 = np.arange(ssa_sol_1e5.n[0]) + ssa_sol_1e5.n_min[0]\n",
    "mesh_ssa_1e6 = np.arange(ssa_sol_1e6.n[0]) + ssa_sol_1e6.n_min[0]\n",
    "\n",
    "P_sliced_ssa_1e4_red = np.interp(mesh_dlr, mesh_ssa_1e4, P_sliced_ssa_1e4[-1][0])\n",
    "P_sliced_ssa_1e5_red = np.interp(mesh_dlr, mesh_ssa_1e5, P_sliced_ssa_1e5[-1][0])\n",
    "P_sliced_ssa_1e6_red = np.interp(mesh_dlr, mesh_ssa_1e6, P_sliced_ssa_1e6[-1][0])\n",
    "\n",
    "fig, axs = plt.subplots(3, 1, figsize=(5, 7.5))\n",
    "# axs[0].plot(mesh_dlr, P_sliced[1], \"bx\", label=\"DLR approx.\")\n",
    "axs[0].plot(mesh_dlr, P_sliced_ssa_1e4_red, \"gs\", label=\"SSA\")\n",
    "\n",
    "# axs[1].plot(mesh_dlr, P_sliced[1], \"bx\", label=\"DLR approx.\")\n",
    "axs[1].plot(mesh_dlr, P_sliced_ssa_1e5_red, \"gs\")\n",
    "\n",
    "# axs[2].plot(mesh_dlr, P_sliced[1], \"bx\", label=\"DLR approx.\")\n",
    "axs[2].plot(mesh_dlr, P_sliced_ssa_1e6_red, \"gs\")\n",
    "\n",
    "max_error_ssa_1e4 = np.max(np.abs(P_sliced_ssa_1e4_red - P_sliced[-1][0]))\n",
    "max_error_ssa_1e5 = np.max(np.abs(P_sliced_ssa_1e5_red - P_sliced[-1][0]))\n",
    "max_error_ssa_1e6 = np.max(np.abs(P_sliced_ssa_1e6_red - P_sliced[-1][0]))\n",
    "\n",
    "title = \"\\\\textbf{{10\\,000 runs}}\\n\"\n",
    "error_str_split = \"{:.2e}\".format(max_error_ssa_1e4).split('e')\n",
    "error_str = \"{} \\\\cdot 10^{{{}}}\".format(error_str_split[0], int(error_str_split[1]))\n",
    "title += \"$\\mathrm{{max}}(|\\\\textrm{{{}}}-\\\\textrm{{{}}}|)$ = ${}$\\n\".format(\"SSA\", \"DLR approx.\", error_str)\n",
    "axs[0].set_title(title, y=0.95)\n",
    "\n",
    "title = \"\\\\textbf{{100\\,000 runs}}\\n\"\n",
    "error_str_split = \"{:.2e}\".format(max_error_ssa_1e5).split('e')\n",
    "error_str = \"{} \\\\cdot 10^{{{}}}\".format(error_str_split[0], int(error_str_split[1]))\n",
    "title += \"$\\mathrm{{max}}(|\\\\textrm{{{}}}-\\\\textrm{{{}}}|)$ = ${}$\\n\".format(\"SSA\", \"DLR approx.\", error_str)\n",
    "axs[1].set_title(title, y=0.95)\n",
    "\n",
    "title = \"\\\\textbf{{1\\,000\\,000 runs}}\\n\"\n",
    "error_str_split = \"{:.2e}\".format(max_error_ssa_1e6).split('e')\n",
    "error_str = \"{} \\\\cdot 10^{{{}}}\".format(error_str_split[0], int(error_str_split[1]))\n",
    "title += \"$\\mathrm{{max}}(|\\\\textrm{{{}}}-\\\\textrm{{{}}}|)$ = ${}$\\n\".format(\"SSA\", \"DLR approx.\", error_str)\n",
    "axs[2].set_title(title, y=0.95)\n",
    "\n",
    "plt.setp(axs.flat, yscale=\"log\", xlabel=\"$x_1$\", ylabel=\"$P_\\mathrm{{S}}(x_1)$\")\n",
    "fig.tight_layout()\n",
    "axs[0].legend(fontsize=\"9\")\n",
    "fig.savefig('plots/bax_general_fig1.pgf')\n",
    "fig.savefig('plots/bax_general_fig1.pdf')"
   ]
  },
  {
   "cell_type": "code",
   "execution_count": null,
   "metadata": {},
   "outputs": [],
   "source": [
    "P_marginal_ssa_1e4_red = np.interp(mesh_dlr, mesh_ssa_1e4, P_marginal_ssa_1e4[-1][0])\n",
    "P_marginal_ssa_1e5_red = np.interp(mesh_dlr, mesh_ssa_1e5, P_marginal_ssa_1e5[-1][0])\n",
    "P_marginal_ssa_1e6_red = np.interp(mesh_dlr, mesh_ssa_1e6, P_marginal_ssa_1e6[-1][0])\n",
    "\n",
    "fig, axs = plt.subplots(3, 1, figsize=(5, 7.5))\n",
    "# axs[0].plot(mesh_dlr, P_sliced[1], \"bx\", label=\"DLR approx.\")\n",
    "axs[0].plot(mesh_dlr, P_marginal_ssa_1e4_red, \"gs\", label=\"SSA\")\n",
    "\n",
    "# axs[1].plot(mesh_dlr, P_sliced[1], \"bx\", label=\"DLR approx.\")\n",
    "axs[1].plot(mesh_dlr, P_marginal_ssa_1e5_red, \"gs\")\n",
    "\n",
    "# axs[2].plot(mesh_dlr, P_sliced[1], \"bx\", label=\"DLR approx.\")\n",
    "axs[2].plot(mesh_dlr, P_marginal_ssa_1e6_red, \"gs\")\n",
    "\n",
    "max_error_ssa_1e4 = np.max(np.abs(P_marginal_ssa_1e4_red - P_marginal[-1][0]))\n",
    "max_error_ssa_1e5 = np.max(np.abs(P_marginal_ssa_1e5_red - P_marginal[-1][0]))\n",
    "max_error_ssa_1e6 = np.max(np.abs(P_marginal_ssa_1e6_red - P_marginal[-1][0]))\n",
    "\n",
    "title = \"\\\\textbf{{10\\,000 runs}}\\n\"\n",
    "error_str_split = \"{:.2e}\".format(max_error_ssa_1e4).split('e')\n",
    "error_str = \"{} \\\\cdot 10^{{{}}}\".format(\n",
    "    error_str_split[0], int(error_str_split[1]))\n",
    "title += \"$\\mathrm{{max}}(|\\\\textrm{{{}}}-\\\\textrm{{{}}}|)$ = ${}$\\n\".format(\n",
    "    \"SSA\", \"DLR approx.\", error_str)\n",
    "axs[0].set_title(title, y=0.95)\n",
    "\n",
    "title = \"\\\\textbf{{100\\,000 runs}}\\n\"\n",
    "error_str_split = \"{:.2e}\".format(max_error_ssa_1e5).split('e')\n",
    "error_str = \"{} \\\\cdot 10^{{{}}}\".format(\n",
    "    error_str_split[0], int(error_str_split[1]))\n",
    "title += \"$\\mathrm{{max}}(|\\\\textrm{{{}}}-\\\\textrm{{{}}}|)$ = ${}$\\n\".format(\n",
    "    \"SSA\", \"DLR approx.\", error_str)\n",
    "axs[1].set_title(title, y=0.95)\n",
    "\n",
    "title = \"\\\\textbf{{1\\,000\\,000 runs}}\\n\"\n",
    "error_str_split = \"{:.2e}\".format(max_error_ssa_1e6).split('e')\n",
    "error_str = \"{} \\\\cdot 10^{{{}}}\".format(\n",
    "    error_str_split[0], int(error_str_split[1]))\n",
    "title += \"$\\mathrm{{max}}(|\\\\textrm{{{}}}-\\\\textrm{{{}}}|)$ = ${}$\\n\".format(\n",
    "    \"SSA\", \"DLR approx.\", error_str)\n",
    "axs[2].set_title(title, y=0.95)\n",
    "\n",
    "plt.setp(axs.flat, yscale=\"log\", xlabel=\"$x_1$\",\n",
    "         ylabel=\"$P_\\mathrm{{S}}(x_1)$\")\n",
    "fig.tight_layout()\n",
    "axs[0].legend(fontsize=\"9\")\n",
    "fig.savefig('plots/bax_general_fig2.pgf')\n",
    "fig.savefig('plots/bax_general_fig2.pdf')"
   ]
  },
  {
   "cell_type": "markdown",
   "metadata": {},
   "source": [
    "## Figures 5 and 6"
   ]
  },
  {
   "cell_type": "code",
   "execution_count": null,
   "metadata": {},
   "outputs": [],
   "source": [
    "result = np.load(\"scripts/reference_solutions/bax_ssa_general_ref_1e4_5.npy\")\n",
    "ssa_sol_1e4 = SSASol(result)\n",
    "P_marginal_ssa_1e4, P_marginal2D_ssa_1e4, P_sliced_ssa_1e4, P_sliced2D_ssa_1e4 = ssa_sol_1e4.calculateObservables(\n",
    "    slice_vec, idx_2D)"
   ]
  },
  {
   "cell_type": "code",
   "execution_count": null,
   "metadata": {},
   "outputs": [],
   "source": [
    "n_min = np.amax(np.stack((grid.liml, ssa_sol_1e4.n_min)), axis=0)\n",
    "n_max = np.amin(np.stack((grid.n + grid.liml, ssa_sol_1e4.n_max)), axis=0)\n",
    "n = n_max - n_min + 1\n",
    "dx = np.prod(n)\n",
    "\n",
    "print(n)\n",
    "\n",
    "P_marginal2D_red = np.zeros(n[:2])\n",
    "P_marginal2D_ssa_1e4_red = np.zeros(n[:2])\n",
    "# P_marginal2D_ode_red = np.zeros(n[:2])\n",
    "\n",
    "# P_sliced2D_r4_red = np.zeros(n[:2])\n",
    "# P_sliced2D_r7_red = np.zeros(n[:2])\n",
    "# P_sliced2D_ode_red = np.zeros(n[:2])\n",
    "P_sliced2D_red = np.zeros(n[:2])\n",
    "P_sliced2D_ssa_1e4_red = np.zeros(n[:2])\n",
    "# P_sliced2D_ssa_1e5_red = np.zeros(n[:2])\n",
    "# P_sliced2D_ssa_1e6_red = np.zeros(n[:2])\n",
    "\n",
    "liml_red = n_min - grid.liml\n",
    "liml_red_ssa_1e4 = n_min - ssa_sol_1e4.n_min\n",
    "# liml_red_ssa_1e5 = n_min - ssa_sol_1e5.n_min\n",
    "# liml_red_ssa_1e6 = n_min - ssa_sol_1e6.n_min\n",
    "\n",
    "for i in range(n[9]):\n",
    "    for j in range(n[10]):\n",
    "        P_marginal2D_red[i, j] = P_marginal2D[i + liml_red[9], j + liml_red[10]]\n",
    "        P_marginal2D_ssa_1e4_red[i, j] = P_marginal2D_ssa_1e4[-1][i +\n",
    "                                                              liml_red_ssa_1e4[9] + ssa_sol_1e4.n[9] * (j + liml_red_ssa_1e4[10])]\n",
    "\n",
    "        P_sliced2D_red[i, j] = P_sliced2D[i +\n",
    "                                                liml_red[9], j + liml_red[10]]\n",
    "        P_sliced2D_ssa_1e4_red[i, j] = P_sliced2D_ssa_1e4[-1][i +\n",
    "                                                              liml_red_ssa_1e4[9] + ssa_sol_1e4.n[9] * (j + liml_red_ssa_1e4[10])]\n",
    "        # P_sliced2D_ssa_1e5_red[i, j] = P_sliced2D_ssa_1e5[-1][i +\n",
    "        #                                                       liml_red_ssa_1e5[0] + ssa_sol_1e5.n[0] * (j + liml_red_ssa_1e5[1])]\n",
    "        # P_sliced2D_ssa_1e6_red[i, j] = P_sliced2D_ssa_1e6[-1][i +\n",
    "        #                                                       liml_red_ssa_1e6[0] + ssa_sol_1e6.n[0] * (j + liml_red_ssa_1e6[1])]"
   ]
  },
  {
   "cell_type": "code",
   "execution_count": null,
   "metadata": {},
   "outputs": [],
   "source": [
    "xx1, xx2 = np.meshgrid(\n",
    "    np.arange(n[0]) + n_min[0], np.arange(n[1]) + n_min[1], indexing='ij')\n",
    "\n",
    "fig, axs = plt.subplots(1, 2, figsize=(6, 4))\n",
    "plt.setp(axs.flat, xlabel='$x_1$', ylabel='$x_2$')\n",
    "plotP2D(axs, [P_marginal2D_red, P_marginal2D_ssa_1e4_red], [\n",
    "        xx1, xx2], [\"DLR approx. ($r=4$)\", \"SSA (10\\,000 runs)\"])\n",
    "fig.tight_layout()\n",
    "fig.savefig('plots/bax_general_fig3.pgf')\n",
    "fig.savefig('plots/bax_general_fig3.pdf')\n"
   ]
  },
  {
   "cell_type": "code",
   "execution_count": null,
   "metadata": {},
   "outputs": [],
   "source": [
    "xx1, xx2 = np.meshgrid(\n",
    "    np.arange(n[0]) + n_min[0], np.arange(n[1]) + n_min[1], indexing='ij')\n",
    "\n",
    "fig, axs = plt.subplots(1, 2, figsize=(6, 4))\n",
    "plt.setp(axs.flat, xlabel='$x_1$', ylabel='$x_2$')\n",
    "plotP2D(axs, [P_sliced2D_red, P_sliced2D_ssa_1e4_red], [\n",
    "        xx1, xx2], [\"DLR approx. ($r=4$)\", \"SSA (10\\,000 runs)\"])\n",
    "fig.tight_layout()\n",
    "fig.savefig('plots/bax_general_fig4.pgf')\n",
    "fig.savefig('plots/bax_general_fig4.pdf')\n"
   ]
  },
  {
   "cell_type": "code",
   "execution_count": null,
   "metadata": {},
   "outputs": [],
   "source": []
  }
 ],
 "metadata": {
  "kernelspec": {
   "display_name": "base",
   "language": "python",
   "name": "python3"
  },
  "language_info": {
   "codemirror_mode": {
    "name": "ipython",
    "version": 3
   },
   "file_extension": ".py",
   "mimetype": "text/x-python",
   "name": "python",
   "nbconvert_exporter": "python",
   "pygments_lexer": "ipython3",
   "version": "3.9.5"
  },
  "orig_nbformat": 4
 },
 "nbformat": 4,
 "nbformat_minor": 2
}
