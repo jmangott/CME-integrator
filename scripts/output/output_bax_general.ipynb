{
 "cells": [
  {
   "attachments": {},
   "cell_type": "markdown",
   "metadata": {},
   "source": [
    "# BAX pore assembly"
   ]
  },
  {
   "cell_type": "code",
   "execution_count": null,
   "metadata": {},
   "outputs": [],
   "source": [
    "from scripts.reference_solutions.ssa_helper import SSASol\n",
    "from output_helper import *\n",
    "%matplotlib inline"
   ]
  },
  {
   "cell_type": "code",
   "execution_count": null,
   "metadata": {},
   "outputs": [],
   "source": [
    "with xr.open_dataset(\"output/bax_230724_so_tau1e-1_ss20/output_t0.nc\") as ds:\n",
    "    grid = GridInfo(ds)\n",
    "    lr_sol = LRSol(ds, grid)\n",
    "    slice_vec = np.array([40, 0, 0, 0, 0, 0, 0, 0, 0, 50, 0])\n",
    "    P_marginal = lr_sol.marginalDistributions()\n",
    "    P_sliced = lr_sol.slicedDistributions(slice_vec)"
   ]
  },
  {
   "cell_type": "code",
   "execution_count": null,
   "metadata": {},
   "outputs": [],
   "source": [
    "result = np.load(\"scripts/reference_solutions/bax_ssa_general_ref_1e4.npy\")\n",
    "ssa_sol = SSASol(result)\n",
    "P_marginal_ssa, _, P_sliced_ssa, _ = ssa_sol.calculateObservables(slice_vec)\n",
    "\n",
    "# with open(\"scripts/reference_solutions/bax_ssa_ref.npy\", \"rb\") as f:\n",
    "#     P_marginal_ssa = np.load(f, allow_pickle=True)\n",
    "#     P_sliced_ssa = np.load(f, allow_pickle=True)\n",
    "#     nssa = np.load(f)\n",
    "#     nssa_min = np.load(f)\n",
    "#     nssa_max = np.load(f)"
   ]
  },
  {
   "cell_type": "markdown",
   "metadata": {},
   "source": [
    "Additional parameters:"
   ]
  },
  {
   "cell_type": "code",
   "execution_count": null,
   "metadata": {},
   "outputs": [],
   "source": [
    "# idx = np.arange(11)\n",
    "# mesh = [grid.bin[j] * np.arange(n_el) + grid.liml[j] for j, n_el in enumerate(grid.n)]\n",
    "# mesh_ssa = [np.arange(el) + nssa_min[j] for j, el in enumerate(nssa)]\n",
    "# mesh_ssa = [np.arange(el) + ssa_sol.n_min[j] for j, el in enumerate(ssa_sol.n)]"
   ]
  },
  {
   "attachments": {},
   "cell_type": "markdown",
   "metadata": {},
   "source": [
    "## Figure 1\n",
    "One-dimensional marginal distributions for $t = 40$"
   ]
  },
  {
   "cell_type": "code",
   "execution_count": null,
   "metadata": {},
   "outputs": [],
   "source": [
    "fig, axs = plt.subplots(6, 2, figsize=(6, 20))\n",
    "for i in range(11):\n",
    "    axs.flat[i].plot(range(grid.n[i]) + grid.liml[i], P_marginal[i])\n",
    "    axs.flat[i].plot(range(ssa_sol.n[i]) + ssa_sol.n_min[i], P_marginal_ssa[0][i])"
   ]
  },
  {
   "cell_type": "code",
   "execution_count": null,
   "metadata": {},
   "outputs": [],
   "source": [
    "# fig, axs = plt.subplots(6, 2, figsize=(6, 20))\n",
    "# plotP1Dmult(axs, [P_marginal, P_marginal_ssa[-1]], [mesh, mesh_ssa], [\"DLR approx.\", \"SSA\"], idx, \"MD\")\n",
    "# axs.flat[0].legend()\n",
    "# axs.flat[-1].remove()\n",
    "# fig.tight_layout()\n",
    "# # plt.setp(axs.flat, yscale=\"log\")\n",
    "# fig.savefig('plots/bax_fig1.pdf')\n",
    "\n",
    "fig, axs = plt.subplots(6, 2, figsize=(6, 20))\n",
    "for i in range(11):\n",
    "    axs.flat[i].plot(range(grid.n[i]) + grid.liml[i], P_sliced[i])\n",
    "    axs.flat[i].plot(range(ssa_sol.n[i]) + ssa_sol.n_min[i], P_sliced_ssa[0][i])"
   ]
  },
  {
   "attachments": {},
   "cell_type": "markdown",
   "metadata": {},
   "source": [
    "## Figure 2\n",
    "Sliced distributions for $x_0 = (0,\\,0,\\,0,\\,0,\\,0,\\,100,\\,0,\\,80,\\,0,\\,0,\\,0)$, $t = 40$"
   ]
  },
  {
   "cell_type": "code",
   "execution_count": null,
   "metadata": {},
   "outputs": [],
   "source": [
    "# fig, axs = plt.subplots(6, 2, figsize=(6, 20))\n",
    "# plotP1Dmult(axs, [P_sliced, P_sliced_ssa[-1]], [mesh, mesh_ssa], [\"DLR approx.\", \"SSA\"], idx, \"S\")\n",
    "# axs.flat[0].legend()\n",
    "# axs.flat[-1].remove()\n",
    "# fig.tight_layout()\n",
    "# fig.savefig('plots/bax_fig2.pgf')"
   ]
  }
 ],
 "metadata": {
  "kernelspec": {
   "display_name": "base",
   "language": "python",
   "name": "python3"
  },
  "language_info": {
   "codemirror_mode": {
    "name": "ipython",
    "version": 3
   },
   "file_extension": ".py",
   "mimetype": "text/x-python",
   "name": "python",
   "nbconvert_exporter": "python",
   "pygments_lexer": "ipython3",
   "version": "3.9.5"
  },
  "orig_nbformat": 4
 },
 "nbformat": 4,
 "nbformat_minor": 2
}
