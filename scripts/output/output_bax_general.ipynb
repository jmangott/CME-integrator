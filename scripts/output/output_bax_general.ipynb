{
 "cells": [
  {
   "attachments": {},
   "cell_type": "markdown",
   "metadata": {},
   "source": [
    "# BAX pore assembly"
   ]
  },
  {
   "cell_type": "code",
   "execution_count": null,
   "metadata": {},
   "outputs": [],
   "source": [
    "from scripts.reference_solutions.ssa_helper import SSASol\n",
    "from output_helper import *\n",
    "%matplotlib inline"
   ]
  },
  {
   "cell_type": "code",
   "execution_count": null,
   "metadata": {},
   "outputs": [],
   "source": [
    "with xr.open_dataset(\"output/bax_general_230730_r5_so_tau1e0_ss100/output_t100.nc\") as ds:\n",
    "    grid = GridInfo(ds)\n",
    "    lr_sol = LRSol(ds, grid)\n",
    "    slice_vec = np.array([17, 9, 2, 1, 0, 0, 0, 0, 0, 50, 0])\n",
    "    idx_2D = np.array([0, 1])\n",
    "    P_marginal = lr_sol.marginalDistributions()\n",
    "    P_marginal2D = lr_sol.marginalDistribution2D(idx_2D)\n",
    "    P_sliced = lr_sol.slicedDistributions(slice_vec)\n",
    "    P_sliced2D = lr_sol.slicedDistribution2D(slice_vec, idx_2D)"
   ]
  },
  {
   "cell_type": "markdown",
   "metadata": {},
   "source": [
    "## Figure 1\n",
    "Sliced distribution $P_\\mathrm{S}(x_1) = P(x_1, 9, 2, 1, 0, 0, 0, 0, 0, 50, 0)$ for $t = 145$"
   ]
  },
  {
   "cell_type": "code",
   "execution_count": null,
   "metadata": {},
   "outputs": [],
   "source": [
    "result = np.load(\"scripts/reference_solutions/bax_ssa_general_ref_t145_1e4.npy\")\n",
    "ssa_sol_1e4 = SSASol(result)\n",
    "P_marginal_ssa_1e4, _, P_sliced_ssa_1e4, _ = ssa_sol_1e4.calculateObservables(slice_vec, idx_2D)\n",
    "\n",
    "result = np.load(\"scripts/reference_solutions/bax_ssa_general_ref_t145_1e5.npy\")\n",
    "ssa_sol_1e5 = SSASol(result)\n",
    "P_marginal_ssa_1e5, _, P_sliced_ssa_1e5, _ = ssa_sol_1e5.calculateObservables(slice_vec, idx_2D)\n",
    "\n",
    "result = np.load(\"scripts/reference_solutions/bax_ssa_general_ref_t145_1e6.npy\")\n",
    "ssa_sol_1e6 = SSASol(result)\n",
    "P_marginal_ssa_1e6, _, P_sliced_ssa_1e6, _ = ssa_sol_1e6.calculateObservables(slice_vec, idx_2D)\n",
    "\n",
    "result = np.load(\"scripts/reference_solutions/bax_ssa_general_ref_t145_1e7.npy\")\n",
    "ssa_sol_1e7 = SSASol(result)\n",
    "P_marginal_ssa_1e7, _, P_sliced_ssa_1e7, _ = ssa_sol_1e7.calculateObservables(slice_vec, idx_2D)"
   ]
  },
  {
   "cell_type": "code",
   "execution_count": null,
   "metadata": {},
   "outputs": [],
   "source": [
    "mesh_dlr = grid.bin[0] * np.arange(grid.n[0]) + grid.liml[0]\n",
    "mesh_ssa_1e4 = np.arange(ssa_sol_1e4.n[0]) + ssa_sol_1e4.n_min[0]\n",
    "mesh_ssa_1e5 = np.arange(ssa_sol_1e5.n[0]) + ssa_sol_1e5.n_min[0]\n",
    "mesh_ssa_1e6 = np.arange(ssa_sol_1e6.n[0]) + ssa_sol_1e6.n_min[0]\n",
    "mesh_ssa_1e7 = np.arange(ssa_sol_1e7.n[0]) + ssa_sol_1e7.n_min[0]\n",
    "\n",
    "P_sliced_ssa_1e4_red = np.interp(mesh_dlr, mesh_ssa_1e4, P_sliced_ssa_1e4[-1][0])\n",
    "P_sliced_ssa_1e5_red = np.interp(mesh_dlr, mesh_ssa_1e5, P_sliced_ssa_1e5[-1][0])\n",
    "P_sliced_ssa_1e6_red = np.interp(mesh_dlr, mesh_ssa_1e6, P_sliced_ssa_1e6[-1][0])\n",
    "P_sliced_ssa_1e7_red = np.interp(mesh_dlr, mesh_ssa_1e7, P_sliced_ssa_1e7[-1][0])\n",
    "\n",
    "fig, axs = plt.subplots(2, 2, figsize=(6, 5))\n",
    "axs[0, 0].plot(mesh_dlr, P_sliced[0], \"bx\", label=\"DLR approx.\")\n",
    "axs[0, 0].plot(mesh_dlr, P_sliced_ssa_1e4_red, \"gs\", label=\"SSA\")\n",
    "\n",
    "axs[0, 1].plot(mesh_dlr, P_sliced[0], \"bx\", label=\"DLR approx.\")\n",
    "axs[0, 1].plot(mesh_dlr, P_sliced_ssa_1e5_red, \"gs\")\n",
    "\n",
    "axs[1, 0].plot(mesh_dlr, P_sliced[0], \"bx\", label=\"DLR approx.\")\n",
    "axs[1, 0].plot(mesh_dlr, P_sliced_ssa_1e6_red, \"gs\")\n",
    "\n",
    "axs[1, 1].plot(mesh_dlr, P_sliced[0], \"bx\", label=\"DLR approx.\")\n",
    "axs[1, 1].plot(mesh_dlr, P_sliced_ssa_1e7_red, \"gs\")\n",
    "\n",
    "max_error_ssa_1e4 = np.max(np.abs(P_sliced_ssa_1e4_red - P_sliced[0]))\n",
    "max_error_ssa_1e5 = np.max(np.abs(P_sliced_ssa_1e5_red - P_sliced[0]))\n",
    "max_error_ssa_1e6 = np.max(np.abs(P_sliced_ssa_1e6_red - P_sliced[0]))\n",
    "max_error_ssa_1e7 = np.max(np.abs(P_sliced_ssa_1e7_red - P_sliced[0]))\n",
    "\n",
    "axs[0, 0].set_title(\"10\\,000 runs\", y=0.95)\n",
    "axs[0, 1].set_title(\"100\\,000 runs\", y=0.95)\n",
    "axs[1, 0].set_title(\"1\\,000\\,000 runs\", y=0.95)\n",
    "axs[1, 1].set_title(\"10\\,000\\,000 runs\", y=0.95)\n",
    "\n",
    "plt.setp(axs.flat, \n",
    "         yscale=\"log\", \n",
    "         xlabel=\"$x_1$\", \n",
    "         ylabel=\"$P_\\mathrm{{S}}(x_1)$\", \n",
    "         xlim=(9, 25),\n",
    "         ylim=(1e-9, 1e-2)\n",
    "         )\n",
    "\n",
    "fig.tight_layout()\n",
    "axs[0, 0].legend(fontsize=\"9\")\n",
    "fig.savefig('plots/bax_general_fig1.pgf')\n",
    "fig.savefig('plots/bax_general_fig1.pdf')"
   ]
  },
  {
   "cell_type": "markdown",
   "metadata": {},
   "source": [
    "## Figure 2\n",
    "Two-dimensional sliced distribution $P_\\mathrm{S}(x_1) = P(x_1, 9, 2, 1, 0, 0, 0, 0, 0, 50, 0)$ for $t = 145$"
   ]
  },
  {
   "cell_type": "code",
   "execution_count": null,
   "metadata": {},
   "outputs": [],
   "source": [
    "result = np.load(\"scripts/reference_solutions/bax_ssa_general_ref_t145_1e4.npy\")\n",
    "ssa_sol_1e4 = SSASol(result)\n",
    "_, _, _, P_sliced2D_ssa_1e4 = ssa_sol_1e4.calculateObservables(slice_vec, idx_2D)\n",
    "\n",
    "result = np.load(\"scripts/reference_solutions/bax_ssa_general_ref_t145_1e5.npy\")\n",
    "ssa_sol_1e5 = SSASol(result)\n",
    "_, _, _, P_sliced2D_ssa_1e5 = ssa_sol_1e5.calculateObservables(slice_vec, idx_2D)\n",
    "\n",
    "result = np.load(\"scripts/reference_solutions/bax_ssa_general_ref_t145_1e6.npy\")\n",
    "ssa_sol_1e6 = SSASol(result)\n",
    "_, _, _, P_sliced2D_ssa_1e6 = ssa_sol_1e6.calculateObservables(slice_vec, idx_2D)\n",
    "\n",
    "result = np.load(\"scripts/reference_solutions/bax_ssa_general_ref_t145_1e7.npy\")\n",
    "ssa_sol_1e7 = SSASol(result)\n",
    "_, _, _, P_sliced2D_ssa_1e7 = ssa_sol_1e7.calculateObservables(slice_vec, idx_2D)"
   ]
  },
  {
   "cell_type": "code",
   "execution_count": null,
   "metadata": {},
   "outputs": [],
   "source": [
    "n_min = np.amax(np.stack((grid.liml, ssa_sol_1e4.n_min, ssa_sol_1e5.n_min, ssa_sol_1e6.n_min, ssa_sol_1e7.n_min)), axis=0)\n",
    "n_max = np.amin(np.stack((grid.n + grid.liml, ssa_sol_1e4.n_max,\n",
    "                ssa_sol_1e5.n_max, ssa_sol_1e6.n_max, ssa_sol_1e7.n_max)), axis=0)\n",
    "n = n_max - n_min + 1\n",
    "dx = np.prod(n)\n",
    "\n",
    "P_sliced2D_red = np.zeros(n[:2])\n",
    "P_sliced2D_ssa_1e4_red = np.zeros(n[:2])\n",
    "P_sliced2D_ssa_1e5_red = np.zeros(n[:2])\n",
    "P_sliced2D_ssa_1e6_red = np.zeros(n[:2])\n",
    "P_sliced2D_ssa_1e7_red = np.zeros(n[:2])\n",
    "\n",
    "liml_red = n_min - grid.liml\n",
    "liml_red_ssa_1e4 = n_min - ssa_sol_1e4.n_min\n",
    "liml_red_ssa_1e5 = n_min - ssa_sol_1e5.n_min\n",
    "liml_red_ssa_1e6 = n_min - ssa_sol_1e6.n_min\n",
    "liml_red_ssa_1e7 = n_min - ssa_sol_1e7.n_min\n",
    "\n",
    "for i in range(n[0]):\n",
    "    for j in range(n[1]):\n",
    "        P_sliced2D_red[i, j] = P_sliced2D[i + liml_red[0], j + liml_red[1]]\n",
    "        P_sliced2D_ssa_1e4_red[i, j] = P_sliced2D_ssa_1e4[-1][i +\n",
    "                                                              liml_red_ssa_1e4[0] + ssa_sol_1e4.n[0] * (j + liml_red_ssa_1e4[1])]\n",
    "        P_sliced2D_ssa_1e5_red[i, j] = P_sliced2D_ssa_1e5[-1][i +\n",
    "                                                              liml_red_ssa_1e5[0] + ssa_sol_1e5.n[0] * (j + liml_red_ssa_1e5[1])]\n",
    "        P_sliced2D_ssa_1e6_red[i, j] = P_sliced2D_ssa_1e6[-1][i +\n",
    "                                                              liml_red_ssa_1e6[0] + ssa_sol_1e6.n[0] * (j + liml_red_ssa_1e6[1])]\n",
    "        P_sliced2D_ssa_1e7_red[i, j] = P_sliced2D_ssa_1e7[-1][i +\n",
    "                                                              liml_red_ssa_1e7[0] + ssa_sol_1e7.n[0] * (j + liml_red_ssa_1e7[1])]"
   ]
  },
  {
   "cell_type": "code",
   "execution_count": null,
   "metadata": {},
   "outputs": [],
   "source": [
    "xx1, xx2 = np.meshgrid(np.arange(n[0]) + n_min[0], np.arange(n[1]) + n_min[1], indexing='ij')\n",
    "\n",
    "fig, axs = plt.subplots(1, 5, figsize=(10, 8))\n",
    "plt.setp(axs.flat, xlabel='$x_1$', ylabel='$x_2$')\n",
    "\n",
    "vmax = np.amax([np.amax(P_sliced2D_red), np.amax(P_sliced2D_ssa_1e4_red), np.amax(P_sliced2D_ssa_1e5_red), np.amax(P_sliced2D_ssa_1e6_red), np.amax(P_sliced2D_ssa_1e7_red)])\n",
    "vmin = np.amax([0.0, np.amin([np.amin(P_sliced2D_red), np.amin(P_sliced2D_ssa_1e4_red), np.amin(P_sliced2D_ssa_1e5_red), np.amin(P_sliced2D_ssa_1e6_red), np.amin(P_sliced2D_ssa_1e7_red)])])\n",
    "\n",
    "norm = mpl.colors.LogNorm(vmin=vmin, vmax=vmax)\n",
    "cmap = 'RdBu_r'\n",
    "\n",
    "axs[0].imshow(P_sliced2D_red, norm=norm, cmap=cmap)\n",
    "axs[1].imshow(P_sliced2D_ssa_1e4_red, norm=norm, cmap=cmap)\n",
    "axs[2].imshow(P_sliced2D_ssa_1e5_red, norm=norm, cmap=cmap)\n",
    "axs[3].imshow(P_sliced2D_ssa_1e6_red, norm=norm, cmap=cmap)\n",
    "axs[4].imshow(P_sliced2D_ssa_1e7_red, norm=norm, cmap=cmap)\n",
    "\n",
    "axs[0].set_title(\"DLR approx.\")\n",
    "axs[1].set_title(\"SSA (10\\,000 runs)\")\n",
    "axs[2].set_title(\"SSA (100\\,000 runs)\")\n",
    "axs[3].set_title(\"SSA (1\\,000\\,000 runs)\")\n",
    "axs[4].set_title(\"SSA (10\\,000\\,000 runs)\")\n",
    "fig.tight_layout()\n",
    "fig.savefig('plots/bax_general_fig2.pgf', dpi=300)\n",
    "fig.savefig('plots/bax_general_fig2.pdf', dpi=300)"
   ]
  }
 ],
 "metadata": {
  "kernelspec": {
   "display_name": "base",
   "language": "python",
   "name": "python3"
  },
  "language_info": {
   "codemirror_mode": {
    "name": "ipython",
    "version": 3
   },
   "file_extension": ".py",
   "mimetype": "text/x-python",
   "name": "python",
   "nbconvert_exporter": "python",
   "pygments_lexer": "ipython3",
   "version": "3.9.5"
  },
  "orig_nbformat": 4
 },
 "nbformat": 4,
 "nbformat_minor": 2
}
