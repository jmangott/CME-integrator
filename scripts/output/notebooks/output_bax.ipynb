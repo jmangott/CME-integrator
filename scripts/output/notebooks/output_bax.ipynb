{
 "cells": [
  {
   "cell_type": "markdown",
   "metadata": {},
   "source": [
    "# BAX pore assembly"
   ]
  },
  {
   "cell_type": "code",
   "execution_count": null,
   "metadata": {},
   "outputs": [],
   "source": [
    "import numpy as np\n",
    "import matplotlib.pyplot as plt\n",
    "plt.style.use(\"./scripts/output/notebooks/custom_style.mplstyle\")\n",
    "import xarray as xr\n",
    "\n",
    "from scripts.grid_class import GridParms\n",
    "from scripts.tree_class import Tree\n",
    "from scripts.output.output_helper import *\n",
    "from scripts.reference_solutions.ssa_helper import SSASol\n",
    "\n",
    "%matplotlib inline"
   ]
  },
  {
   "cell_type": "code",
   "execution_count": null,
   "metadata": {},
   "outputs": [],
   "source": [
    "slice_vec = np.array([12, 9, 2, 1, 0, 0, 0, 0, 0, 50, 0])"
   ]
  },
  {
   "cell_type": "markdown",
   "metadata": {},
   "source": [
    "## Marginal and sliced distributions"
   ]
  },
  {
   "cell_type": "markdown",
   "metadata": {},
   "source": [
    "### Load data"
   ]
  },
  {
   "cell_type": "markdown",
   "metadata": {},
   "source": [
    "#### Tree tensor integrator"
   ]
  },
  {
   "cell_type": "markdown",
   "metadata": {},
   "source": [
    "##### Partition 0\n",
    "(0 1 2)(((3 4 6 7)(5 8))(9 10))"
   ]
  },
  {
   "cell_type": "code",
   "execution_count": null,
   "metadata": {},
   "outputs": [],
   "source": [
    "tree = readTree(\"output/bax_p0_r5-10-20_i_tau5e-2/output_t2900.nc\")\n",
    "P_slice_tensor0, P_sum_tensor0 = tree.calculateObservables(0, slice_vec)"
   ]
  },
  {
   "cell_type": "markdown",
   "metadata": {},
   "source": [
    "##### Partition 1\n",
    "((0 1 2)(3 4 5))((6 7 9)(8 10))"
   ]
  },
  {
   "cell_type": "code",
   "execution_count": null,
   "metadata": {},
   "outputs": [],
   "source": [
    "tree = readTree(\"output/bax_p1_r5-15-25_i_tau5e-2/output_t2900.nc\")\n",
    "P_slice_tensor10, P_sum_tensor10 = tree.calculateObservables(0, slice_vec)\n",
    "P_slice_tensor11, P_sum_tensor11 = tree.calculateObservables(1, slice_vec)"
   ]
  },
  {
   "cell_type": "markdown",
   "metadata": {},
   "source": [
    "##### Partition 2\n",
    "((0 1)(2 3 4))((5 6 7 8)(9 10))"
   ]
  },
  {
   "cell_type": "code",
   "execution_count": null,
   "metadata": {},
   "outputs": [],
   "source": [
    "tree = readTree(\"output/bax_p2_r5-25-25_i_tau5e-2/output_t2900.nc\")\n",
    "P_slice_tensor2, P_sum_tensor2 = tree.calculateObservables(0, slice_vec)"
   ]
  },
  {
   "cell_type": "markdown",
   "metadata": {},
   "source": [
    "##### Two partitions\n",
    "(0 1 2 3 4)(5 6 7 8 9 10)"
   ]
  },
  {
   "cell_type": "code",
   "execution_count": null,
   "metadata": {},
   "outputs": [],
   "source": [
    "tree = readTree(\"output/bax_pfull_r5_i_tau5e-2/output_t2900.nc\")\n",
    "P_slice_tensor_full, P_sum_tensor_full = tree.calculateObservables(0, slice_vec)"
   ]
  },
  {
   "cell_type": "markdown",
   "metadata": {},
   "source": [
    "#### Matrix integrator"
   ]
  },
  {
   "cell_type": "code",
   "execution_count": null,
   "metadata": {},
   "outputs": [],
   "source": [
    "with xr.open_dataset(\"output/bax_general_230730_r5_so_tau1e0_ss100/output_t100.nc\") as ds:\n",
    "    grid = GridInfo(ds)\n",
    "    lr_sol = LRSol(ds, grid)\n",
    "    idx_2D = np.array([0, 1])\n",
    "    P_sum_matrix = lr_sol.marginalDistributions()\n",
    "    P_slice_matrix = lr_sol.slicedDistributions(slice_vec)"
   ]
  },
  {
   "cell_type": "markdown",
   "metadata": {},
   "source": [
    "#### SSA"
   ]
  },
  {
   "cell_type": "code",
   "execution_count": null,
   "metadata": {},
   "outputs": [],
   "source": [
    "result = np.load(\"scripts/reference_solutions/bax_ssa_general_ref_1e6.npy\")\n",
    "ssa_sol = SSASol(result)\n",
    "P_sum_ssa, _, P_slice_ssa, _ = ssa_sol.calculateObservables(slice_vec, idx_2D)"
   ]
  },
  {
   "cell_type": "code",
   "execution_count": null,
   "metadata": {},
   "outputs": [],
   "source": [
    "ssa_1e5 = np.load(\"scripts/reference_solutions/bax_ssa_general_ref_1e5.npy\")\n",
    "ssa_1e5_sol = SSASol(ssa_1e5)\n",
    "P_sum_ssa_1e5, _, P_slice_ssa_1e5, _ = ssa_1e5_sol.calculateObservables(slice_vec, idx_2D)"
   ]
  },
  {
   "cell_type": "markdown",
   "metadata": {},
   "source": [
    "### Sliced distributions"
   ]
  },
  {
   "cell_type": "code",
   "execution_count": null,
   "metadata": {},
   "outputs": [],
   "source": [
    "fig, axs = plt.subplots(2, 2, figsize=(7, 5), sharex='col', sharey='row')\n",
    "axs[0, 0].plot(np.arange(tree.root.child[0].grid.n[0])[11:26], P_slice_tensor10[11:26], '<-', label=\"PS-TTN integrator ($P_1$)\")\n",
    "axs[0, 0].plot(np.arange(grid.n[0])[11:26], P_slice_matrix[0][11:26], '^', label=\"DLRA\")\n",
    "axs[0, 0].plot((np.arange(ssa_sol.n[0])+ssa_sol.n_min[0])[8:23], P_slice_ssa[-1][0][8:23], 'v', label=\"SSA ($10^7$ runs)\")\n",
    "axs[0, 0].set_ylabel(\"$P_\\\\mathrm{{S}}(x_0)$\")\n",
    "axs[0, 0].set_yscale(\"log\")\n",
    "\n",
    "axs[1, 0].plot(np.arange(tree.root.child[0].grid.n[0])[11:26], P_slice_tensor10[11:26], '<-')\n",
    "axs[1, 0].plot(np.arange(grid.n[0])[11:26], P_slice_matrix[0][11:26], '^')\n",
    "axs[1, 0].plot((np.arange(ssa_sol.n[0])+ssa_sol.n_min[0])[8:23], P_slice_ssa[-1][0][8:23], 'v')\n",
    "axs[1, 0].plot((np.arange(ssa_1e5_sol.n[0])+ssa_1e5_sol.n_min[0])[8:23], P_slice_ssa_1e5[-1][0][8:23], '>')\n",
    "axs[1, 0].set_xlabel(xlabel=\"$x_0$\")\n",
    "axs[1, 0].set_ylabel(\"$P_\\\\mathrm{{S}}(x_0)$\")\n",
    "axs[1, 0].set_xticks(np.arange(11, 25+2, 2))\n",
    "axs[1, 0].set_xlim([10, 26])\n",
    "\n",
    "axs[0, 1].plot(np.arange(tree.root.child[0].grid.n[1])[8:16], P_slice_tensor11[8:16], '<-')\n",
    "axs[0, 1].plot(np.arange(grid.n[1])[8:16], P_slice_matrix[1][8:16], '^')\n",
    "axs[0, 1].plot((np.arange(ssa_sol.n[1])+ssa_sol.n_min[1])[8:16], P_slice_ssa[-1][1][8:16], 'v')\n",
    "axs[0, 1].set_xlabel(xlabel=\"$x_1$\")\n",
    "axs[0, 1].set_ylabel(\"$P_\\\\mathrm{{S}}(x_1)$\")\n",
    "axs[0, 1].set_yscale(\"log\")\n",
    "\n",
    "axs[1, 1].plot(np.arange(tree.root.child[0].grid.n[1])[8:16], P_slice_tensor11[8:16], '<-')\n",
    "axs[1, 1].plot(np.arange(grid.n[1])[8:16], P_slice_matrix[1][8:16], '^')\n",
    "axs[1, 1].plot((np.arange(ssa_sol.n[1])+ssa_sol.n_min[1])[8:16], P_slice_ssa[-1][1][8:16], 'v')\n",
    "axs[1, 1].plot((np.arange(ssa_1e5_sol.n[1])+ssa_1e5_sol.n_min[1])[8:16], P_slice_ssa_1e5[-1][1][8:16], '>')\n",
    "axs[1, 1].set_xlabel(xlabel=\"$x_1$\")\n",
    "axs[1, 1].set_ylabel(\"$P_\\\\mathrm{{S}}(x_1)$\")\n",
    "axs[1, 1].set_xticks(np.arange(8, 16))\n",
    "axs[1, 1].set_xlim([7, 16])\n",
    "\n",
    "axs[0, 1].yaxis.tick_right()\n",
    "axs[0, 1].yaxis.set_ticks_position(\"both\")\n",
    "axs[0, 1].yaxis.set_label_position(\"right\")\n",
    "axs[1, 1].yaxis.tick_right()\n",
    "axs[1, 1].yaxis.set_ticks_position(\"both\")\n",
    "axs[1, 1].yaxis.set_label_position(\"right\")\n",
    "fig.legend(*axs[0, 0].get_legend_handles_labels(), ncols=3, loc=\"upper center\")\n",
    "plt.subplots_adjust(hspace=.0, wspace=.0)"
   ]
  },
  {
   "cell_type": "markdown",
   "metadata": {},
   "source": [
    "### Marginal distributions"
   ]
  },
  {
   "cell_type": "code",
   "execution_count": null,
   "metadata": {},
   "outputs": [],
   "source": [
    "fig, (ax1, ax2) = plt.subplots(1, 2, figsize=(9, 4))\n",
    "ax1.plot(np.arange(tree.root.child[0].grid.n[0]), P_sum_tensor10, '<-', label=\"PS-TTN integrator ($P_1$)\")\n",
    "ax1.plot(np.arange(grid.n[0]), P_sum_matrix[0], '^', label=\"DLRA\")\n",
    "ax1.plot((np.arange(ssa_sol.n[0])+ssa_sol.n_min[0]), P_sum_ssa[-1][0], 'v', label=\"SSA ($10^7$ runs)\")\n",
    "ax1.set_xlabel(\"$x_0$\")\n",
    "ax1.set_ylabel(\"$P_\\\\mathrm{{M}}(x_0)$\")\n",
    "\n",
    "ax2.plot(np.arange(tree.root.child[0].grid.n[1]), P_sum_tensor11, '<-')\n",
    "ax2.plot(np.arange(grid.n[1]), P_sum_matrix[1], '^')\n",
    "ax2.plot((np.arange(ssa_sol.n[1])+ssa_sol.n_min[1]), P_sum_ssa[-1][1], 'v')\n",
    "ax2.set_xlabel(\"$x_1$\")\n",
    "ax2.yaxis.tick_right()\n",
    "ax2.yaxis.set_ticks_position(\"both\")\n",
    "ax2.yaxis.set_label_position(\"right\")\n",
    "ax2.set_ylabel(\"$P_\\\\mathrm{{M}}(x_1)$\")\n",
    "fig.legend(*ax1.get_legend_handles_labels(), ncols=3, loc=\"upper center\");"
   ]
  },
  {
   "cell_type": "markdown",
   "metadata": {},
   "source": [
    "## Comparison with deterministic solution"
   ]
  },
  {
   "cell_type": "code",
   "execution_count": null,
   "metadata": {},
   "outputs": [],
   "source": [
    "time_series = TimeSeries(\"output/bax_p1_r5-15-15_i_tau5e-2\")\n",
    "wall_time = time_series.getWallTime()\n",
    "concentrations = time_series.calculateMoments()\n",
    "t = time_series.time"
   ]
  },
  {
   "cell_type": "code",
   "execution_count": null,
   "metadata": {},
   "outputs": [],
   "source": [
    "from pysb.integrate import odesolve\n",
    "from scripts.models.bax_pysb import model\n",
    "concentrations_ode = odesolve(model, t)"
   ]
  },
  {
   "cell_type": "code",
   "execution_count": null,
   "metadata": {},
   "outputs": [],
   "source": [
    "fig, (ax1, ax2) = plt.subplots(1, 2, figsize=(7, 4))\n",
    "deviation = np.sqrt(concentrations[1]-concentrations[0]**2)\n",
    "observables = [\"oBax1\", \"oBax2\"]\n",
    "observables_alt = [\"$S_0$\", \"$S_1$\", \"$S_2$\"]\n",
    "for i, (o, o_alt) in enumerate(zip(observables, observables_alt)):\n",
    "    color = next(ax1._get_lines.prop_cycler)['color']\n",
    "    ax1.plot(t, concentrations[0][:, i], '-', label=o_alt, color=color, alpha=0.7)\n",
    "    ax1.fill_between(t, concentrations[0][:, i]-deviation[:, i], concentrations[0][:, i]+deviation[:, i], color=color, alpha=.2)\n",
    "    ax1.plot(t, concentrations_ode[o], '--', color=color, alpha=1.0)\n",
    "ax1.set_ylabel(\"$\\langle x_i(t) \\\\rangle$\")\n",
    "ax1.set_ylim([0.0, 45.0])\n",
    "\n",
    "observables = [\"oBax3\", \"oBax4\", \"oBax5\"]\n",
    "observables_alt = [\"$S_2$\", \"$S_3$\", \"$S_4$\"]\n",
    "for idx_o, (o, o_alt) in enumerate(zip(observables, observables_alt)):\n",
    "    color = next(ax1._get_lines.prop_cycler)['color']\n",
    "    i = idx_o + 2\n",
    "    ax2.plot(t, concentrations[0][:, i], '-', label=o_alt, color=color, alpha=0.7)\n",
    "    ax2.fill_between(t, concentrations[0][:, i]-deviation[:, i], concentrations[0][:, i]+deviation[:, i], color=color, alpha=.2)\n",
    "    ax2.plot(t, concentrations_ode[o], '--', color=color, alpha=1.0)\n",
    "ax2.set_ylim([0.0, 4])\n",
    "ax2.yaxis.tick_right()\n",
    "ax2.yaxis.set_ticks_position(\"both\")\n",
    "ax2.yaxis.set_label_position(\"right\")\n",
    "plt.setp((ax1, ax2), xlabel=\"$t$\", xlim=[0.0, 145.0], xticks=[0.0, 50.0, 100.0, 145.0]);\n",
    "\n",
    "lines_labels = [ax.get_legend_handles_labels() for ax in fig.axes]\n",
    "lines, labels = [sum(ll, []) for ll in zip(*lines_labels)]\n",
    "fig.legend(lines, labels, ncols=5, loc=\"upper center\");"
   ]
  },
  {
   "cell_type": "code",
   "execution_count": null,
   "metadata": {},
   "outputs": [],
   "source": [
    "plt.figure(5)\n",
    "for i, o in enumerate(model.observables):\n",
    "    plt.plot(t, np.abs((concentrations[0][:, i]-concentrations_ode[o.name])), '-')\n",
    "plt.xlabel(\"$t$\")\n",
    "plt.ylabel(\"$|c_i^\\mathrm{{CME}}(t) - c_i^\\mathrm{{ODE}}(t)|$\");"
   ]
  },
  {
   "cell_type": "markdown",
   "metadata": {},
   "source": [
    "## Error depending on rank and partition"
   ]
  },
  {
   "cell_type": "markdown",
   "metadata": {},
   "source": [
    "### Load data"
   ]
  },
  {
   "cell_type": "markdown",
   "metadata": {},
   "source": [
    "#### Partition 0"
   ]
  },
  {
   "cell_type": "code",
   "execution_count": null,
   "metadata": {},
   "outputs": [],
   "source": [
    "DLR_marginal_err00, SSA_marginal_err00 = calculateMarginalDistributionError(\"output/bax_p0_r5-5-5_i_tau5e-2/output_t2900.nc\", P_sum_matrix, P_sum_ssa[-1], ssa_sol)\n",
    "\n",
    "DLR_marginal_err10, SSA_marginal_err10 = calculateMarginalDistributionError(\"output/bax_p0_r5-10-10_i_tau5e-2/output_t2900.nc\", P_sum_matrix, P_sum_ssa[-1], ssa_sol)"
   ]
  },
  {
   "cell_type": "markdown",
   "metadata": {},
   "source": [
    "#### Partition 1"
   ]
  },
  {
   "cell_type": "code",
   "execution_count": null,
   "metadata": {},
   "outputs": [],
   "source": [
    "DLR_marginal_err01, SSA_marginal_err01 = calculateMarginalDistributionError(\"output/bax_p1_r5-5-5_i_tau5e-2/output_t2900.nc\", P_sum_matrix, P_sum_ssa[-1], ssa_sol)\n",
    "\n",
    "DLR_marginal_err11, SSA_marginal_err11 = calculateMarginalDistributionError(\"output/bax_p1_r5-10-10_i_tau5e-2/output_t2900.nc\", P_sum_matrix, P_sum_ssa[-1], ssa_sol)\n",
    "\n",
    "DLR_marginal_err21, SSA_marginal_err21 = calculateMarginalDistributionError(\"output/bax_p1_r5-15-25_i_tau5e-2/output_t2900.nc\", P_sum_matrix, P_sum_ssa[-1], ssa_sol)\n",
    "\n",
    "DLR_marginal_err31, SSA_marginal_err31 = calculateMarginalDistributionError(\"output/bax_p1_r5-20-20_i_tau5e-2/output_t2900.nc\", P_sum_matrix, P_sum_ssa[-1], ssa_sol)"
   ]
  },
  {
   "cell_type": "markdown",
   "metadata": {},
   "source": [
    "#### Partition 2"
   ]
  },
  {
   "cell_type": "code",
   "execution_count": null,
   "metadata": {},
   "outputs": [],
   "source": [
    "DLR_marginal_err02, SSA_marginal_err02 = calculateMarginalDistributionError(\"output/bax_p2_r5-5-5_i_tau5e-2/output_t2900.nc\", P_sum_matrix, P_sum_ssa[-1], ssa_sol)\n",
    "\n",
    "DLR_marginal_err12, SSA_marginal_err12 = calculateMarginalDistributionError(\"output/bax_p2_r5-10-10_i_tau5e-2/output_t2900.nc\", P_sum_matrix, P_sum_ssa[-1], ssa_sol)\n",
    "\n",
    "DLR_marginal_err22, SSA_marginal_err22 = calculateMarginalDistributionError(\"output/bax_p2_r5-15-15_i_tau5e-2/output_t2900.nc\", P_sum_matrix, P_sum_ssa[-1], ssa_sol)\n",
    "\n",
    "DLR_marginal_err32, SSA_marginal_err32 = calculateMarginalDistributionError(\"output/bax_p2_r5-20-20_i_tau5e-2/output_t2900.nc\", P_sum_matrix, P_sum_ssa[-1], ssa_sol)"
   ]
  },
  {
   "cell_type": "markdown",
   "metadata": {},
   "source": [
    "#### Two partitions"
   ]
  },
  {
   "cell_type": "code",
   "execution_count": null,
   "metadata": {},
   "outputs": [],
   "source": [
    "DLR_marginal_err_full, SSA_marginal_err_full = calculateMarginalDistributionError(\"output/bax_pfull_r5_i_tau5e-2/output_t2900.nc\", P_sum_matrix, P_sum_ssa[-1], ssa_sol)"
   ]
  },
  {
   "cell_type": "markdown",
   "metadata": {},
   "source": [
    "#### SSA with $10^6$ samples"
   ]
  },
  {
   "cell_type": "code",
   "execution_count": null,
   "metadata": {},
   "outputs": [],
   "source": [
    "ssa_1e5 = np.load(\"scripts/reference_solutions/bax_ssa_general_ref_1e5.npy\")\n",
    "ssa_1e5_sol = SSASol(ssa_1e5)\n",
    "P_sum_ssa_1e5, _, _, _ = ssa_1e5_sol.calculateObservables(slice_vec, idx_2D)\n",
    "\n",
    "ssa_1e6 = np.load(\"scripts/reference_solutions/bax_ssa_general_ref_1e6.npy\")\n",
    "ssa_1e6_sol = SSASol(ssa_1e6)\n",
    "P_sum_ssa_1e6, _, _, _ = ssa_1e6_sol.calculateObservables(slice_vec, idx_2D)\n",
    "\n",
    "DLR_marginal_err_ssa_1e5 = np.zeros(tree.grid.d())\n",
    "SSA_marginal_err_ssa_1e5 = np.zeros(tree.grid.d())\n",
    "DLR_marginal_err_ssa_1e6 = np.zeros(tree.grid.d())\n",
    "SSA_marginal_err_ssa_1e6 = np.zeros(tree.grid.d())\n",
    "\n",
    "for i in range(tree.grid.d()):\n",
    "    DLR_marginal_err_ssa_1e5[i] = np.linalg.norm(P_sum_ssa_1e5[-1][i][:tree.grid.n[i]] - P_sum_matrix[i][ssa_1e5_sol.n_min[i] : ssa_1e5_sol.n_min[i]+ssa_1e5_sol.n[i]], np.inf)\n",
    "    DLR_marginal_err_ssa_1e6[i] = np.linalg.norm(P_sum_ssa_1e6[-1][i][:tree.grid.n[i]] - P_sum_matrix[i][ssa_1e6_sol.n_min[i] : ssa_1e6_sol.n_min[i]+ssa_1e6_sol.n[i]], np.inf)"
   ]
  },
  {
   "cell_type": "markdown",
   "metadata": {},
   "source": [
    "### Plot"
   ]
  },
  {
   "cell_type": "code",
   "execution_count": null,
   "metadata": {},
   "outputs": [],
   "source": [
    "from mpl_toolkits.axes_grid1.inset_locator import inset_axes\n",
    "\n",
    "cols = [\"partition $P_0$\", \"partition $P_1$\", \"partition $P_2$\"]\n",
    "rows = [\"$r = (5, 5, 5)$\", \"$r = (5, 10, 10)$\", \"$r = (5, 15, 15)$\", \"$r = (5, 20, 20)$\"]\n",
    "labels = [\"$\\max_{{x_i}}|P_M(x_i)^\\mathrm{{TTN}}-P_M(x_i)^\\mathrm{{SSA}}|$\", \n",
    "          \"$\\max_{{x_i}}|P_M(x_i)^\\mathrm{{TTN}}-P_M(x_i)^\\mathrm{{DLRA}}|$\"]\n",
    "\n",
    "fig, axs = plt.subplots(4, 3, figsize=(10, 8), sharex='col', sharey='row')\n",
    "\n",
    "line0, = axs[0, 0].plot(np.arange(tree.grid.d()), SSA_marginal_err00, '--')\n",
    "line1, = axs[0, 0].plot(np.arange(tree.grid.d()), DLR_marginal_err00, '.-')\n",
    "axs[1, 0].plot(np.arange(tree.grid.d()), SSA_marginal_err10, '--')\n",
    "axs[1, 0].plot(np.arange(tree.grid.d()), DLR_marginal_err10, '.-')\n",
    "# axs[2, 0].plot(np.arange(tree.grid.d()), DLR_marginal_err20)\n",
    "# axs[2, 0].plot(np.arange(tree.grid.d()), SSA_marginal_err20)\n",
    "# axs[3, 0].plot(np.arange(tree.grid.d()), DLR_marginal_err30)\n",
    "# axs[3, 0].plot(np.arange(tree.grid.d()), SSA_marginal_err30)\n",
    "\n",
    "axs[0, 1].plot(np.arange(tree.grid.d()), SSA_marginal_err01, '--')\n",
    "axs[0, 1].plot(np.arange(tree.grid.d()), DLR_marginal_err01, '.-')\n",
    "axs[1, 1].plot(np.arange(tree.grid.d()), SSA_marginal_err11, '--')\n",
    "axs[1, 1].plot(np.arange(tree.grid.d()), DLR_marginal_err11, '.-')\n",
    "axs[2, 1].plot(np.arange(tree.grid.d()), SSA_marginal_err21, '--')\n",
    "axs[2, 1].plot(np.arange(tree.grid.d()), DLR_marginal_err21, '.-')\n",
    "axs[3, 1].plot(np.arange(tree.grid.d()), SSA_marginal_err31, '--')\n",
    "axs[3, 1].plot(np.arange(tree.grid.d()), DLR_marginal_err31, '.-')\n",
    "\n",
    "axs[0, 2].plot(np.arange(tree.grid.d()), SSA_marginal_err02, '--')\n",
    "axs[0, 2].plot(np.arange(tree.grid.d()), DLR_marginal_err02, '.-')\n",
    "axs[1, 2].plot(np.arange(tree.grid.d()), SSA_marginal_err12, '--')\n",
    "axs[1, 2].plot(np.arange(tree.grid.d()), DLR_marginal_err12, '.-')\n",
    "axs[2, 2].plot(np.arange(tree.grid.d()), SSA_marginal_err22, '--')\n",
    "axs[2, 2].plot(np.arange(tree.grid.d()), DLR_marginal_err22, '.-')\n",
    "axs[3, 2].plot(np.arange(tree.grid.d()), SSA_marginal_err32, '--')\n",
    "axs[3, 2].plot(np.arange(tree.grid.d()), DLR_marginal_err32, '.-')\n",
    "\n",
    "# axins = inset_axes(axs[-1, 1], width='65%', height='65%', loc='upper center')\n",
    "# axins.plot(np.arange(tree.grid.d()), SSA_marginal_err_full, '--')\n",
    "# axins.plot(np.arange(tree.grid.d()), DLR_marginal_err_full, '.-')\n",
    "# axins.set_ylim([-0.02*0.6, 0.42*0.6])\n",
    "# axins.annotate(\"TTN with 2 partitions\\n($r=5$)\", xy=(0.5, 1), xytext=(0, -30),\n",
    "#                 xycoords='axes fraction', textcoords='offset points',\n",
    "#                 size=11, ha='center', va='baseline')\n",
    "\n",
    "plt.setp(axs, ylim=[-0.02, 0.42])\n",
    "# plt.setp(axs[:, 0], ylim=[-0.02, 0.22])\n",
    "# plt.setp(axs[:, 1], ylim=[-0.02, 0.47])\n",
    "# plt.setp(axs[:, 2], ylim=[-0.02, 0.34])\n",
    "\n",
    "pad = 5 # in points\n",
    "\n",
    "for ax, col in zip(axs[0], cols):\n",
    "    ax.annotate(col, xy=(0.5, 1), xytext=(0, pad+5),\n",
    "                xycoords='axes fraction', textcoords='offset points',\n",
    "                size=14, ha='center', va='baseline')\n",
    "\n",
    "for ax, row in zip(axs[:,0], rows):\n",
    "    ax.annotate(row, xy=(0, 0.5), xytext=(-ax.yaxis.labelpad-pad, 0),\n",
    "                xycoords=ax.yaxis.label, textcoords='offset points',\n",
    "                size=14, ha='right', va='center')\n",
    "\n",
    "plt.setp(axs[-1, :], xlabel=\"species $S_i$\", xticks=[0, 2, 4, 6, 8, 10])\n",
    "lines_labels = [ax.get_legend_handles_labels() for ax in fig.axes]\n",
    "fig.legend([line0, line1], labels, ncols=2, loc=\"upper center\")\n",
    "plt.subplots_adjust(hspace=.0, wspace=.0)"
   ]
  },
  {
   "cell_type": "markdown",
   "metadata": {},
   "source": [
    "#### SSA"
   ]
  },
  {
   "cell_type": "code",
   "execution_count": null,
   "metadata": {},
   "outputs": [],
   "source": [
    "plt.plot(np.arange(tree.grid.d()), DLR_marginal_err_ssa_1e5, '<-')\n",
    "plt.plot(np.arange(tree.grid.d()), DLR_marginal_err_ssa_1e6, '<-')\n",
    "plt.ylim([-0.02, 0.42]);"
   ]
  },
  {
   "cell_type": "markdown",
   "metadata": {},
   "source": [
    "## Mass error"
   ]
  },
  {
   "cell_type": "markdown",
   "metadata": {},
   "source": [
    "### Load data"
   ]
  },
  {
   "cell_type": "markdown",
   "metadata": {},
   "source": [
    "#### Partition 0"
   ]
  },
  {
   "cell_type": "code",
   "execution_count": null,
   "metadata": {},
   "outputs": [],
   "source": [
    "time_series = TimeSeries(\"output/bax_p0_r5-5-5_i_tau5e-2\")\n",
    "mass_err00 = time_series.getMassErr()\n",
    "time = time_series.time\n",
    "\n",
    "time_series = TimeSeries(\"output/bax_p0_r5-10-10_i_tau5e-2\")\n",
    "mass_err10 = time_series.getMassErr()\n",
    "\n",
    "# time_series = TimeSeries(\"output/bax_p0_r5-15-15_i_tau5e-2\")\n",
    "# mass_err20 = time_series.getMassErr()\n",
    "\n",
    "# time_series = TimeSeries(\"output/bax_p0_r5-20-20_i_tau5e-2\")\n",
    "# mass_err30 = time_series.getMassErr()"
   ]
  },
  {
   "cell_type": "markdown",
   "metadata": {},
   "source": [
    "#### Partition 1"
   ]
  },
  {
   "cell_type": "code",
   "execution_count": null,
   "metadata": {},
   "outputs": [],
   "source": [
    "time_series = TimeSeries(\"output/bax_p1_r5-5-5_i_tau5e-2\")\n",
    "mass_err01 = time_series.getMassErr()\n",
    "\n",
    "time_series = TimeSeries(\"output/bax_p1_r5-10-10_i_tau5e-2\")\n",
    "mass_err11 = time_series.getMassErr()\n",
    "\n",
    "time_series = TimeSeries(\"output/bax_p1_r5-15-15_i_tau5e-2\")\n",
    "mass_err21 = time_series.getMassErr()\n",
    "\n",
    "time_series = TimeSeries(\"output/bax_p1_r5-20-20_i_tau5e-2\")\n",
    "mass_err31 = time_series.getMassErr()"
   ]
  },
  {
   "cell_type": "markdown",
   "metadata": {},
   "source": [
    "#### Partition 2"
   ]
  },
  {
   "cell_type": "code",
   "execution_count": null,
   "metadata": {},
   "outputs": [],
   "source": [
    "time_series = TimeSeries(\"output/bax_p2_r5-5-5_i_tau5e-2\")\n",
    "mass_err02 = time_series.getMassErr()\n",
    "\n",
    "time_series = TimeSeries(\"output/bax_p2_r5-10-10_i_tau5e-2\")\n",
    "mass_err12 = time_series.getMassErr()\n",
    "\n",
    "time_series = TimeSeries(\"output/bax_p2_r5-15-15_i_tau5e-2\")\n",
    "mass_err22 = time_series.getMassErr()\n",
    "\n",
    "time_series = TimeSeries(\"output/bax_p2_r5-20-20_i_tau5e-2\")\n",
    "mass_err32 = time_series.getMassErr()"
   ]
  },
  {
   "cell_type": "markdown",
   "metadata": {},
   "source": [
    "### Plot"
   ]
  },
  {
   "cell_type": "code",
   "execution_count": null,
   "metadata": {},
   "outputs": [],
   "source": [
    "fig, axs = plt.subplots(2, 2, figsize=(7, 5))\n",
    "\n",
    "axs[0, 0].plot(time, mass_err00, label=\"$P_0$\")\n",
    "axs[0, 0].plot(time, mass_err01, label=\"$P_1$\")\n",
    "axs[0, 0].plot(time, mass_err02, label=\"$P_2$\")\n",
    "axs[0, 0].set_title(\"$r = (5, 5, 5)$\")\n",
    "\n",
    "axs[0, 1].plot(time, mass_err10)\n",
    "axs[0, 1].plot(time, mass_err11)\n",
    "axs[0, 1].plot(time, mass_err12)\n",
    "axs[0, 1].set_title(\"$r = (5, 10, 10)$\")\n",
    "axs[0, 1].yaxis.tick_right()\n",
    "axs[0, 1].yaxis.set_ticks_position(\"both\")\n",
    "axs[0, 1].yaxis.set_label_position(\"right\")\n",
    "\n",
    "# axs[1, 0].plot(time, mass_err20)\n",
    "axs[1, 0].plot(time, mass_err21)\n",
    "axs[1, 0].plot(time, mass_err22)\n",
    "axs[1, 0].set_title(\"$r = (5, 15, 15)$\")\n",
    "\n",
    "# axs[1, 1].plot(time, mass_err30)\n",
    "axs[1, 1].plot(time, mass_err31)\n",
    "axs[1, 1].plot(time, mass_err32)\n",
    "axs[1, 1].set_title(\"$r = (5, 20, 20)$\")\n",
    "axs[1, 1].yaxis.tick_right()\n",
    "axs[1, 1].yaxis.set_ticks_position(\"both\")\n",
    "axs[1, 1].yaxis.set_label_position(\"right\")\n",
    "\n",
    "plt.setp(axs, xlabel=\"time $t$\", ylabel=\"$\\Delta m$\", xlim=[0.0, 145.0], xticks=[0.0, 50.0, 100.0, 145.0])\n",
    "plt.subplots_adjust(hspace=0.5)\n",
    "fig.legend(axs[0, 0].get_legend_handles_labels(), labels, ncols=3, loc=\"upper center\");"
   ]
  },
  {
   "cell_type": "markdown",
   "metadata": {},
   "source": [
    "## Wall time"
   ]
  },
  {
   "cell_type": "markdown",
   "metadata": {},
   "source": [
    "### Load data"
   ]
  },
  {
   "cell_type": "markdown",
   "metadata": {},
   "source": [
    "#### Partition 0"
   ]
  },
  {
   "cell_type": "code",
   "execution_count": null,
   "metadata": {},
   "outputs": [],
   "source": [
    "time_series = TimeSeries(\"output/bax_p0_r5-5-5_i_tau5e-2\")\n",
    "walltime_00 = time_series.getWallTime()\n",
    "\n",
    "time_series = TimeSeries(\"output/bax_p0_r5-10-10_i_tau5e-2\")\n",
    "walltime_10 = time_series.getWallTime()\n",
    "\n",
    "# time_series = TimeSeries(\"output/bax_p0_r5-15-15_i_tau5e-2\")\n",
    "# walltime_20 = time_series.getWallTime()\n",
    "\n",
    "# time_series = TimeSeries(\"output/bax_p0_r5-20-20_i_tau5e-2\")\n",
    "# walltime_30 = time_series.getWallTime()"
   ]
  },
  {
   "cell_type": "markdown",
   "metadata": {},
   "source": [
    "#### Partition 1"
   ]
  },
  {
   "cell_type": "code",
   "execution_count": null,
   "metadata": {},
   "outputs": [],
   "source": [
    "time_series = TimeSeries(\"output/bax_p1_r5-5-5_i_tau5e-2\")\n",
    "walltime_01 = time_series.getWallTime()\n",
    "\n",
    "time_series = TimeSeries(\"output/bax_p1_r5-10-10_i_tau5e-2\")\n",
    "walltime_11 = time_series.getWallTime()\n",
    "\n",
    "time_series = TimeSeries(\"output/bax_p1_r5-15-15_i_tau5e-2\")\n",
    "walltime_21 = time_series.getWallTime()\n",
    "\n",
    "time_series = TimeSeries(\"output/bax_p1_r5-20-20_i_tau5e-2\")\n",
    "walltime_31 = time_series.getWallTime()"
   ]
  },
  {
   "cell_type": "markdown",
   "metadata": {},
   "source": [
    "#### Partition 2"
   ]
  },
  {
   "cell_type": "code",
   "execution_count": null,
   "metadata": {},
   "outputs": [],
   "source": [
    "time_series = TimeSeries(\"output/bax_p2_r5-5-5_i_tau5e-2\")\n",
    "walltime_02 = time_series.getWallTime()\n",
    "\n",
    "time_series = TimeSeries(\"output/bax_p2_r5-10-10_i_tau5e-2\")\n",
    "walltime_12 = time_series.getWallTime()\n",
    "\n",
    "time_series = TimeSeries(\"output/bax_p2_r5-15-15_i_tau5e-2\")\n",
    "walltime_22 = time_series.getWallTime()\n",
    "\n",
    "time_series = TimeSeries(\"output/bax_p2_r5-20-20_i_tau5e-2\")\n",
    "walltime_32 = time_series.getWallTime()"
   ]
  },
  {
   "cell_type": "code",
   "execution_count": null,
   "metadata": {},
   "outputs": [],
   "source": [
    "#### SSA\n",
    "walltime_ssa_1e6 = 358\n",
    "walltime_ssa_1e7 = 2898"
   ]
  }
 ],
 "metadata": {
  "kernelspec": {
   "display_name": "base",
   "language": "python",
   "name": "python3"
  },
  "language_info": {
   "codemirror_mode": {
    "name": "ipython",
    "version": 3
   },
   "file_extension": ".py",
   "mimetype": "text/x-python",
   "name": "python",
   "nbconvert_exporter": "python",
   "pygments_lexer": "ipython3",
   "version": "3.9.18"
  }
 },
 "nbformat": 4,
 "nbformat_minor": 2
}
