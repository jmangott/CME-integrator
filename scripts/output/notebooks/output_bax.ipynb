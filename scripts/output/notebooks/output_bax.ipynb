{
 "cells": [
  {
   "cell_type": "markdown",
   "metadata": {},
   "source": [
    "# BAX pore assembly"
   ]
  },
  {
   "cell_type": "code",
   "execution_count": null,
   "metadata": {},
   "outputs": [],
   "source": [
    "import numpy as np\n",
    "import matplotlib.pyplot as plt\n",
    "import xarray as xr\n",
    "\n",
    "from scripts.grid_class import GridParms\n",
    "from scripts.tree_class import Tree\n",
    "from scripts.output.output_helper import *\n",
    "from scripts.reference_solutions.ssa_helper import SSASol\n",
    "\n",
    "%matplotlib inline"
   ]
  },
  {
   "cell_type": "markdown",
   "metadata": {},
   "source": [
    "## Tree tensor integrator"
   ]
  },
  {
   "cell_type": "code",
   "execution_count": null,
   "metadata": {},
   "outputs": [],
   "source": [
    "tree = readTree(\"output/bax_new/output_t2900.nc\")\n",
    "tree.calculateObservables(np.array([12, 9, 2, 1, 0, 0, 0, 0, 0, 50, 0]))\n",
    "\n",
    "dx0 = np.prod(tree.root.child[0].grid.n[:2])\n",
    "X0_sum = np.zeros((dx0, tree.root.child[0].X.shape[1]))\n",
    "for i in range(dx0):\n",
    "    for j in range(tree.root.child[0].X.shape[1]):\n",
    "        X0_sum[i, j] = np.sum(tree.root.child[0].X[i::dx0,j])\n",
    "\n",
    "P_sum_tensor = X0_sum @ tree.root.Q[:, :, 0] @ tree.root.child[1].X_sum\n",
    "\n",
    "X0_slice = tree.root.child[0].X[9 * tree.root.child[0].grid.n[0] + 2 * np.prod(tree.root.child[0].grid.n[:2]) : 10 * tree.root.child[0].grid.n[0] + 2 * np.prod(tree.root.child[0].grid.n[:2]), :]\n",
    "\n",
    "P_slice_tensor = X0_slice @ tree.root.Q[:, :, 0] @ tree.root.child[1].X_slice"
   ]
  },
  {
   "cell_type": "markdown",
   "metadata": {},
   "source": [
    "## Matrix integrator"
   ]
  },
  {
   "cell_type": "code",
   "execution_count": null,
   "metadata": {},
   "outputs": [],
   "source": [
    "with xr.open_dataset(\"output/bax_general_230730_r5_so_tau1e0_ss100/output_t100.nc\") as ds:\n",
    "    grid = GridInfo(ds)\n",
    "    lr_sol = LRSol(ds, grid)\n",
    "    slice_vec = np.array([17, 9, 2, 1, 0, 0, 0, 0, 0, 50, 0])\n",
    "    idx_2D = np.array([0, 1])\n",
    "    P_slice_matrix = lr_sol.slicedDistributions(slice_vec)"
   ]
  },
  {
   "cell_type": "markdown",
   "metadata": {},
   "source": [
    "## SSA"
   ]
  },
  {
   "cell_type": "code",
   "execution_count": null,
   "metadata": {},
   "outputs": [],
   "source": [
    "result = np.load(\"scripts/reference_solutions/bax_ssa_general_ref_1e7.npy\")\n",
    "ssa_sol = SSASol(result)\n",
    "_, _, P_slice_ssa, _ = ssa_sol.calculateObservables(slice_vec, idx_2D)"
   ]
  },
  {
   "cell_type": "markdown",
   "metadata": {},
   "source": [
    "## Plots"
   ]
  },
  {
   "cell_type": "code",
   "execution_count": null,
   "metadata": {},
   "outputs": [],
   "source": [
    "plt.figure(2)\n",
    "plt.plot(np.arange(tree.root.child[0].grid.n[0])[10:26], P_slice_tensor[10:26], 'rx', label=\"Hierarchical DLR approx.\")\n",
    "plt.plot(np.arange(grid.n[0])[10:26], P_slice_matrix[0][10:26], 'bo', label=\"DLR approx.\")\n",
    "plt.plot((np.arange(ssa_sol.n[0])+ssa_sol.n_min[0]), P_slice_ssa[-1][0], 'gs', label=\"SSA ($10^7$ runs)\")\n",
    "plt.legend()\n",
    "plt.yscale(\"log\")\n",
    "plt.xlabel(\"$x_0$\")\n",
    "plt.ylabel(\"$P_\\\\mathrm{{S}}(x_0)$\")\n",
    "plt.xlim([9, 26])\n",
    "plt.savefig(\"plots/hierarchical_bax_plot1.pdf\")"
   ]
  }
 ],
 "metadata": {
  "kernelspec": {
   "display_name": "base",
   "language": "python",
   "name": "python3"
  },
  "language_info": {
   "codemirror_mode": {
    "name": "ipython",
    "version": 3
   },
   "file_extension": ".py",
   "mimetype": "text/x-python",
   "name": "python",
   "nbconvert_exporter": "python",
   "pygments_lexer": "ipython3",
   "version": "3.9.18"
  }
 },
 "nbformat": 4,
 "nbformat_minor": 2
}
