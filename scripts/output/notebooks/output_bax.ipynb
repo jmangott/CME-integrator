{
 "cells": [
  {
   "cell_type": "markdown",
   "metadata": {},
   "source": [
    "# BAX pore assembly"
   ]
  },
  {
   "cell_type": "code",
   "execution_count": null,
   "metadata": {},
   "outputs": [],
   "source": [
    "import numpy as np\n",
    "import matplotlib.pyplot as plt\n",
    "plt.style.use(\"./scripts/output/notebooks/custom_style.mplstyle\")\n",
    "import xarray as xr\n",
    "\n",
    "from scripts.grid_class import GridParms\n",
    "from scripts.tree_class import Tree\n",
    "from scripts.output.output_helper import *\n",
    "from scripts.reference_solutions.ssa_helper import SSASol\n",
    "\n",
    "%matplotlib inline"
   ]
  },
  {
   "cell_type": "code",
   "execution_count": null,
   "metadata": {},
   "outputs": [],
   "source": [
    "slice_vec = np.array([12, 9, 2, 1, 0, 0, 0, 0, 0, 50, 0])"
   ]
  },
  {
   "cell_type": "markdown",
   "metadata": {},
   "source": [
    "## Load initial data"
   ]
  },
  {
   "cell_type": "markdown",
   "metadata": {},
   "source": [
    "### Tree tensor integrator"
   ]
  },
  {
   "cell_type": "markdown",
   "metadata": {},
   "source": [
    "#### Partition 0\n",
    "(0 1 2)(((3 4 6 7)(5 8))(9 10))"
   ]
  },
  {
   "cell_type": "markdown",
   "metadata": {},
   "source": [
    "#### Partition 1\n",
    "((0 1 2)(3 4 5))((6 7 9)(8 10))"
   ]
  },
  {
   "cell_type": "code",
   "execution_count": null,
   "metadata": {},
   "outputs": [],
   "source": [
    "tree = readTree(\"output/bax_p1_r5-10-10_i_tau5e-2/output_t2900.nc\")\n",
    "P_slice_p1_r_5_10_10_s0, P_sum_p1_r_5_10_10_s0 = tree.calculateObservables(0, slice_vec)\n",
    "P_slice_p1_r_5_10_10_s1, P_sum_p1_r_5_10_10_s1 = tree.calculateObservables(1, slice_vec)\n",
    "P_slice_p1_r_5_10_10_s3, P_sum_p1_r_5_10_10_s3 = tree.calculateObservables(3, slice_vec)\n",
    "P_slice_p1_r_5_10_10_s9, P_sum_p1_r_5_10_10_s9 = tree.calculateObservables(9, slice_vec)"
   ]
  },
  {
   "cell_type": "code",
   "execution_count": null,
   "metadata": {},
   "outputs": [],
   "source": [
    "tree = readTree(\"output/bax_p1_r5-15-25_i_tau5e-2/output_t2900.nc\")\n",
    "P_slice_p1_r_5_15_25_s0, P_sum_p1_r_5_15_25_s0 = tree.calculateObservables(0, slice_vec)\n",
    "P_slice_p1_r_5_15_25_s1, P_sum_p1_r_5_15_25_s1 = tree.calculateObservables(1, slice_vec)\n",
    "P_slice_p1_r_5_15_25_s3, P_sum_p1_r_5_15_25_s3 = tree.calculateObservables(3, slice_vec)\n",
    "P_slice_p1_r_5_15_25_s9, P_sum_p1_r_5_15_25_s9 = tree.calculateObservables(9, slice_vec)"
   ]
  },
  {
   "cell_type": "markdown",
   "metadata": {},
   "source": [
    "#### Partition 2\n",
    "((0 1)(2 3 4))((5 6 7 8)(9 10))"
   ]
  },
  {
   "cell_type": "markdown",
   "metadata": {},
   "source": [
    "#### Two partitions\n",
    "(0 1 2 3 4)(5 6 7 8 9 10)"
   ]
  },
  {
   "cell_type": "code",
   "execution_count": null,
   "metadata": {},
   "outputs": [],
   "source": [
    "tree = readTree(\"output/bax_pfull_r5_i_tau5e-2/output_t2900.nc\")\n",
    "\n",
    "P_slice_full = []\n",
    "P_sum_full = []\n",
    "for i in range(tree.grid.d()):\n",
    "    P_slice_tensor_full, P_sum_tensor_full = tree.calculateObservables(i, slice_vec)\n",
    "    P_slice_full.append(P_slice_tensor_full)\n",
    "    P_sum_full.append(P_sum_tensor_full)"
   ]
  },
  {
   "cell_type": "markdown",
   "metadata": {},
   "source": [
    "### Matrix integrator\n",
    "Two partitions, $r=5$, explicit Euler with variable time step size ($\\min_i({{\\tau_i}})=1.0$) and 100 substeps"
   ]
  },
  {
   "cell_type": "code",
   "execution_count": null,
   "metadata": {},
   "outputs": [],
   "source": [
    "with xr.open_dataset(\"output/bax_matrix/output_t100.nc\") as ds:\n",
    "    grid = GridInfo(ds)\n",
    "    lr_sol = LRSol(ds, grid)\n",
    "    idx_2D = np.array([0, 1])\n",
    "    P_sum_matrix = lr_sol.marginalDistributions()\n",
    "    P_slice_matrix = lr_sol.slicedDistributions(slice_vec)"
   ]
  },
  {
   "cell_type": "markdown",
   "metadata": {},
   "source": [
    "### SSA"
   ]
  },
  {
   "cell_type": "code",
   "execution_count": null,
   "metadata": {},
   "outputs": [],
   "source": [
    "ssa_1e7 = np.load(\"scripts/reference_solutions/bax_ssa_1e7.npy\")\n",
    "ssa_1e7_sol = SSASol(ssa_1e7)\n",
    "P_sum_ssa_1e7, _, P_slice_ssa_1e7, _ = ssa_1e7_sol.calculateObservables(slice_vec, idx_2D)"
   ]
  },
  {
   "cell_type": "code",
   "execution_count": null,
   "metadata": {},
   "outputs": [],
   "source": [
    "ssa_2e6 = np.load(\"scripts/reference_solutions/bax_ssa_2e6.npy\")\n",
    "ssa_2e6_sol = SSASol(ssa_2e6)\n",
    "P_sum_ssa_2e6, _, P_slice_ssa_2e6, _ = ssa_2e6_sol.calculateObservables(slice_vec, idx_2D)"
   ]
  },
  {
   "cell_type": "code",
   "execution_count": null,
   "metadata": {},
   "outputs": [],
   "source": [
    "ssa_1e6 = np.load(\"scripts/reference_solutions/bax_ssa_1e6.npy\")\n",
    "ssa_1e6_sol = SSASol(ssa_1e6)\n",
    "P_sum_ssa_1e6, _, P_slice_ssa_1e6, _ = ssa_1e6_sol.calculateObservables(slice_vec, idx_2D)"
   ]
  },
  {
   "cell_type": "code",
   "execution_count": null,
   "metadata": {},
   "outputs": [],
   "source": [
    "ssa_1e5 = np.load(\"scripts/reference_solutions/bax_ssa_1e5.npy\")\n",
    "ssa_1e5_sol = SSASol(ssa_1e5)\n",
    "P_sum_ssa_1e5, _, P_slice_ssa_1e5, _ = ssa_1e5_sol.calculateObservables(slice_vec, idx_2D)"
   ]
  },
  {
   "cell_type": "code",
   "execution_count": null,
   "metadata": {},
   "outputs": [],
   "source": [
    "ssa_1e4 = np.load(\"scripts/reference_solutions/bax_ssa_1e4.npy\")\n",
    "ssa_1e4_sol = SSASol(ssa_1e4)\n",
    "P_sum_ssa_1e4, _, P_slice_ssa_1e4, _ = ssa_1e4_sol.calculateObservables(slice_vec, idx_2D)"
   ]
  },
  {
   "cell_type": "markdown",
   "metadata": {},
   "source": [
    "## Sliced distributions"
   ]
  },
  {
   "cell_type": "markdown",
   "metadata": {},
   "source": [
    "### TTN integrator"
   ]
  },
  {
   "cell_type": "code",
   "execution_count": null,
   "metadata": {},
   "outputs": [],
   "source": [
    "fig, axs = plt.subplots(2, 2, figsize=(7, 5), sharex='col', sharey='row')\n",
    "axs[0, 0].plot(np.arange(tree.grid.n[0])[11:26], P_slice_full[0][11:26], '.-', label=\"2 partitions\")\n",
    "axs[0, 0].plot(np.arange(tree.grid.n[0])[11:26], P_slice_p1_r_5_10_10_s0[11:26], 'v', label=\"$\\mathcal{{P}}_1$, $r = (5, 10, 10)$\")\n",
    "axs[0, 0].plot(np.arange(tree.grid.n[0])[11:26], P_slice_p1_r_5_15_25_s0[11:26], '^', label=\"$\\mathcal{{P}}_1$, $r = (5, 15, 25)$\")\n",
    "axs[0, 0].set_ylabel(\"$P_\\\\mathrm{{S}}(x_0)$\")\n",
    "axs[0, 0].set_yscale(\"log\")\n",
    "\n",
    "axs[1, 0].plot(np.arange(tree.grid.n[0])[11:26], P_slice_full[0][11:26], '.-')\n",
    "axs[1, 0].plot(np.arange(tree.grid.n[0])[11:26], P_slice_p1_r_5_10_10_s0[11:26], 'v')\n",
    "axs[1, 0].plot(np.arange(tree.grid.n[0])[11:26], P_slice_p1_r_5_15_25_s0[11:26], '^')\n",
    "axs[1, 0].set_xlabel(xlabel=\"$x_0$\")\n",
    "axs[1, 0].set_ylabel(\"$P_\\\\mathrm{{S}}(x_0)$\")\n",
    "axs[1, 0].set_xticks(np.arange(11, 25+2, 2))\n",
    "axs[1, 0].set_xlim([10, 26])\n",
    "\n",
    "axs[0, 1].plot(np.arange(tree.grid.n[9])[45:], P_slice_full[9][45:], '.-')\n",
    "axs[0, 1].plot(np.arange(tree.grid.n[9])[45:], P_slice_p1_r_5_10_10_s9[45:], 'v')\n",
    "axs[0, 1].plot(np.arange(tree.grid.n[9])[45:], P_slice_p1_r_5_15_25_s9[45:], '^')\n",
    "axs[0, 1].set_ylabel(\"$P_\\\\mathrm{{S}}(x_9)$\")\n",
    "axs[0, 1].set_yscale(\"log\")\n",
    "\n",
    "axs[1, 1].plot(np.arange(tree.grid.n[9])[45:], P_slice_full[9][45:], '.-')\n",
    "axs[1, 1].plot(np.arange(tree.grid.n[9])[45:], P_slice_p1_r_5_10_10_s9[45:], 'v')\n",
    "axs[1, 1].plot(np.arange(tree.grid.n[9])[45:], P_slice_p1_r_5_15_25_s9[45:], '^')\n",
    "axs[1, 1].set_xlabel(xlabel=\"$x_9$\")\n",
    "axs[1, 1].set_ylabel(\"$P_\\\\mathrm{{S}}(x_9)$\")\n",
    "axs[1, 1].set_xticks(np.arange(45, 55+2, 2))\n",
    "\n",
    "axs[0, 1].yaxis.tick_right()\n",
    "axs[0, 1].yaxis.set_ticks_position(\"both\")\n",
    "axs[0, 1].yaxis.set_label_position(\"right\")\n",
    "axs[1, 1].yaxis.tick_right()\n",
    "axs[1, 1].yaxis.set_ticks_position(\"both\")\n",
    "axs[1, 1].yaxis.set_label_position(\"right\")\n",
    "fig.legend(*axs[0, 0].get_legend_handles_labels(), ncols=3, loc=\"upper center\")\n",
    "plt.subplots_adjust(hspace=.0, wspace=.0)\n",
    "\n",
    "plt.savefig(\"plots/sliced_ttn.pdf\");"
   ]
  },
  {
   "cell_type": "markdown",
   "metadata": {},
   "source": [
    "### SSA"
   ]
  },
  {
   "cell_type": "code",
   "execution_count": null,
   "metadata": {},
   "outputs": [],
   "source": [
    "fig, axs = plt.subplots(2, 2, figsize=(7, 5), sharex='col', sharey='row')\n",
    "axs[0, 0].plot(np.arange(tree.grid.n[0])[11:26], P_slice_full[0][11:26], '.-', label=\"$P_\\\\mathrm{{S}}^\\\\mathrm{{TTN,ref}}$\")\n",
    "axs[0, 0].plot((np.arange(ssa_1e7_sol.n[0])+ssa_1e7_sol.n_min[0]), P_slice_ssa_1e7[-1][0], 'v', label=\"$10^7$ runs\")\n",
    "axs[0, 0].plot((np.arange(ssa_1e6_sol.n[0])+ssa_1e6_sol.n_min[0]), P_slice_ssa_1e6[-1][0], '<', label=\"$10^6$ runs\")\n",
    "axs[0, 0].plot((np.arange(ssa_1e5_sol.n[0])+ssa_1e5_sol.n_min[0]), P_slice_ssa_1e5[-1][0], '^', label=\"$10^5$ runs\")\n",
    "axs[0, 0].plot((np.arange(ssa_1e4_sol.n[0])+ssa_1e4_sol.n_min[0]), P_slice_ssa_1e4[-1][0], '>', label=\"$10^4$ runs\")\n",
    "axs[0, 0].set_ylabel(\"$P_\\\\mathrm{{S}}(x_0)$\")\n",
    "axs[0, 0].set_yscale(\"log\")\n",
    "\n",
    "axs[1, 0].plot(np.arange(tree.grid.n[0])[11:26], P_slice_full[0][11:26], '.-')\n",
    "axs[1, 0].plot((np.arange(ssa_1e7_sol.n[0])+ssa_1e7_sol.n_min[0]), P_slice_ssa_1e7[-1][0], 'v')\n",
    "axs[1, 0].plot((np.arange(ssa_1e6_sol.n[0])+ssa_1e6_sol.n_min[0]), P_slice_ssa_1e6[-1][0], '<')\n",
    "axs[1, 0].plot((np.arange(ssa_1e5_sol.n[0])+ssa_1e5_sol.n_min[0]), P_slice_ssa_1e5[-1][0], '^')\n",
    "axs[1, 0].plot((np.arange(ssa_1e4_sol.n[0])+ssa_1e4_sol.n_min[0]), P_slice_ssa_1e4[-1][0], '>')\n",
    "axs[1, 0].set_xlabel(xlabel=\"$x_0$\")\n",
    "axs[1, 0].set_ylabel(\"$P_\\\\mathrm{{S}}(x_0)$\")\n",
    "axs[1, 0].set_xticks(np.arange(11, 25+2, 2))\n",
    "axs[1, 0].set_xlim([10, 26])\n",
    "\n",
    "axs[0, 1].plot(np.arange(tree.grid.n[9])[45:], P_slice_full[9][45:], '.-')\n",
    "axs[0, 1].plot((np.arange(ssa_1e7_sol.n[9])+ssa_1e7_sol.n_min[9]), P_slice_ssa_1e7[-1][9], 'v')\n",
    "axs[0, 1].plot((np.arange(ssa_1e6_sol.n[9])+ssa_1e6_sol.n_min[9]), P_slice_ssa_1e6[-1][9], '<')\n",
    "axs[0, 1].plot((np.arange(ssa_1e5_sol.n[9])+ssa_1e5_sol.n_min[9]), P_slice_ssa_1e5[-1][9], '^')\n",
    "axs[0, 1].plot((np.arange(ssa_1e4_sol.n[9])+ssa_1e4_sol.n_min[9]), P_slice_ssa_1e4[-1][9], '>')\n",
    "axs[0, 1].set_ylabel(\"$P_\\\\mathrm{{S}}(x_9)$\")\n",
    "axs[0, 1].set_yscale(\"log\")\n",
    "\n",
    "axs[1, 1].plot(np.arange(tree.grid.n[9])[45:], P_slice_full[9][45:], '.-')\n",
    "axs[1, 1].plot((np.arange(ssa_1e7_sol.n[9])+ssa_1e7_sol.n_min[9]), P_slice_ssa_1e7[-1][9], 'v')\n",
    "axs[1, 1].plot((np.arange(ssa_1e6_sol.n[9])+ssa_1e6_sol.n_min[9]), P_slice_ssa_1e6[-1][9], '<')\n",
    "axs[1, 1].plot((np.arange(ssa_1e5_sol.n[9])+ssa_1e5_sol.n_min[9]), P_slice_ssa_1e5[-1][9], '^')\n",
    "axs[1, 1].plot((np.arange(ssa_1e4_sol.n[9])+ssa_1e4_sol.n_min[9]), P_slice_ssa_1e4[-1][9], '>')\n",
    "axs[1, 1].set_xlabel(xlabel=\"$x_9$\")\n",
    "axs[1, 1].set_ylabel(\"$P_\\\\mathrm{{S}}(x_9)$\")\n",
    "# axs[1, 1].set_xticks(np.arange(8, 15))\n",
    "# axs[1, 1].set_xlim([7, 15])\n",
    "\n",
    "axs[0, 1].yaxis.tick_right()\n",
    "axs[0, 1].yaxis.set_ticks_position(\"both\")\n",
    "axs[0, 1].yaxis.set_label_position(\"right\")\n",
    "axs[1, 1].yaxis.tick_right()\n",
    "axs[1, 1].yaxis.set_ticks_position(\"both\")\n",
    "axs[1, 1].yaxis.set_label_position(\"right\")\n",
    "fig.legend(*axs[0, 0].get_legend_handles_labels(), loc=\"upper center\", ncols=5)\n",
    "plt.subplots_adjust(hspace=.0, wspace=.0)\n",
    "\n",
    "plt.savefig(\"plots/sliced_ssa.pdf\");"
   ]
  },
  {
   "cell_type": "markdown",
   "metadata": {},
   "source": [
    "## Comparison of sliced distribution between TTN integrator and SSA"
   ]
  },
  {
   "cell_type": "code",
   "execution_count": null,
   "metadata": {},
   "outputs": [],
   "source": [
    "fig, axs = plt.subplots(2, 2, figsize=(9, 6), sharex='col', sharey='row')\n",
    "nn = 0\n",
    "lim = [11, 26]\n",
    "\n",
    "intvl = slice(lim[0], lim[1])\n",
    "axs[0, 0].plot(np.arange(tree.grid.n[nn])[intvl], P_slice_full[nn][intvl], '.-', label=\"$P_\\\\mathrm{{S}}^\\\\mathrm{{TTN,ref}}$\")\n",
    "axs[0, 0].plot(np.arange(tree.grid.n[nn])[intvl], P_slice_p1_r_5_10_10_s0[intvl], 'v', label=\"$\\mathcal{{P}}_1$, $r = (5, 10, 10)$\")\n",
    "axs[0, 0].plot(np.arange(tree.grid.n[nn])[intvl], P_slice_p1_r_5_15_25_s0[intvl], '^', label=\"$\\mathcal{{P}}_1$, $r = (5, 15, 25)$\")\n",
    "axs[0, 0].set_ylabel(\"$P_\\\\mathrm{{S}}(x_{})$\".format(nn))\n",
    "axs[0, 0].set_yscale(\"log\")\n",
    "axs[0, 0].set_title(\"PS-TTN integrator\")\n",
    "axs[0, 0].legend()\n",
    "\n",
    "axs[1, 0].plot(np.arange(tree.grid.n[nn])[intvl], P_slice_full[nn][intvl], '.-')\n",
    "axs[1, 0].plot(np.arange(tree.grid.n[nn])[intvl], P_slice_p1_r_5_10_10_s0[intvl], 'v')\n",
    "axs[1, 0].plot(np.arange(tree.grid.n[nn])[intvl], P_slice_p1_r_5_15_25_s0[intvl], '^')\n",
    "axs[1, 0].set_xlabel(xlabel=\"$x_{}$\".format(nn))\n",
    "axs[1, 0].set_ylabel(\"$P_\\\\mathrm{{S}}(x_{})$\".format(nn))\n",
    "axs[1, 0].set_xticks(np.arange(11, 25+2, 2))\n",
    "axs[1, 0].set_xlim([10, 26])\n",
    "\n",
    "axs[0, 1].plot(np.arange(tree.grid.n[nn])[intvl], P_slice_full[nn][intvl], '.-', label=\"$P_\\\\mathrm{{S}}^\\\\mathrm{{TTN,ref}}$\")\n",
    "axs[0, 1].plot((np.arange(ssa_1e7_sol.n[nn])+ssa_1e7_sol.n_min[nn]), P_slice_ssa_1e7[-1][nn], 'v', label=\"$10^7$ runs\")\n",
    "axs[0, 1].plot((np.arange(ssa_1e6_sol.n[nn])+ssa_1e6_sol.n_min[nn]), P_slice_ssa_1e6[-1][nn], '<', label=\"$10^6$ runs\")\n",
    "axs[0, 1].plot((np.arange(ssa_1e5_sol.n[nn])+ssa_1e5_sol.n_min[nn]), P_slice_ssa_1e5[-1][nn], '^', label=\"$10^5$ runs\")\n",
    "axs[0, 1].plot((np.arange(ssa_1e4_sol.n[nn])+ssa_1e4_sol.n_min[nn]), P_slice_ssa_1e4[-1][nn], '>', label=\"$10^4$ runs\")\n",
    "axs[0, 1].set_ylabel(\"$P_\\\\mathrm{{S}}(x_{})$\".format(nn))\n",
    "axs[0, 1].set_yscale(\"log\")\n",
    "axs[0, 1].set_title(\"SSA\")\n",
    "axs[0, 1].legend()\n",
    "\n",
    "axs[1, 1].plot(np.arange(tree.grid.n[nn])[intvl], P_slice_full[nn][intvl], '.-')\n",
    "axs[1, 1].plot((np.arange(ssa_1e7_sol.n[nn])+ssa_1e7_sol.n_min[nn]), P_slice_ssa_1e7[-1][nn], 'v')\n",
    "axs[1, 1].plot((np.arange(ssa_1e6_sol.n[nn])+ssa_1e6_sol.n_min[nn]), P_slice_ssa_1e6[-1][nn], '<')\n",
    "axs[1, 1].plot((np.arange(ssa_1e5_sol.n[nn])+ssa_1e5_sol.n_min[nn]), P_slice_ssa_1e5[-1][nn], '^')\n",
    "axs[1, 1].plot((np.arange(ssa_1e4_sol.n[nn])+ssa_1e4_sol.n_min[nn]), P_slice_ssa_1e4[-1][nn], '>')\n",
    "axs[1, 1].set_xlabel(xlabel=\"$x_{}$\".format(nn))\n",
    "axs[1, 1].set_ylabel(\"$P_\\\\mathrm{{S}}(x_{})$\".format(nn))\n",
    "axs[1, 1].set_xticks(np.arange(11, 25+2, 2))\n",
    "axs[1, 1].set_xlim([10, 26])\n",
    "\n",
    "axs[0, 1].yaxis.tick_right()\n",
    "axs[0, 1].yaxis.set_ticks_position(\"both\")\n",
    "axs[0, 1].yaxis.set_label_position(\"right\")\n",
    "axs[1, 1].yaxis.tick_right()\n",
    "axs[1, 1].yaxis.set_ticks_position(\"both\")\n",
    "axs[1, 1].yaxis.set_label_position(\"right\")\n",
    "\n",
    "plt.subplots_adjust(hspace=.0, wspace=.2)\n",
    "\n",
    "plt.savefig(\"plots/sliced_ttn_ssa.pdf\");"
   ]
  },
  {
   "cell_type": "markdown",
   "metadata": {},
   "source": [
    "## Marginal distributions"
   ]
  },
  {
   "cell_type": "markdown",
   "metadata": {},
   "source": [
    "### TTN integrator"
   ]
  },
  {
   "cell_type": "code",
   "execution_count": null,
   "metadata": {},
   "outputs": [],
   "source": [
    "nn = 0\n",
    "fig, (ax1, ax2) = plt.subplots(1, 2, figsize=(9, 4))\n",
    "ax1.plot(np.arange(grid.n[nn]), P_sum_matrix[nn], '.-', label=\"2 partitions\")\n",
    "ax1.plot(np.arange(tree.grid.n[nn]), P_sum_p1_r_5_10_10_s0, 'v', label=\"$\\mathcal{{P}}_1$, $r = (5, 10, 10)$\")\n",
    "ax1.plot(np.arange(tree.grid.n[nn]), P_sum_p1_r_5_15_25_s0, '^', label=\"$\\mathcal{{P}}_1$, $r = (5, 15, 25)$\")\n",
    "# ax1.plot((np.arange(ssa_1e7_sol.n[nn])+ssa_1e7_sol.n_min[nn]), P_sum_ssa_1e7[-1][nn], 'v', label=\"SSA ($10^7$ runs)\")\n",
    "ax1.set_xlabel(\"$x_0$\")\n",
    "ax1.set_ylabel(\"$P_\\\\mathrm{{M}}(x_{})$\".format(nn))\n",
    "\n",
    "nn = 9\n",
    "ax2.plot(np.arange(grid.n[nn])[45:], P_sum_full[nn][45:], '.-')\n",
    "ax2.plot(np.arange(tree.grid.n[nn])[45:], P_sum_p1_r_5_10_10_s9[45:], 'v')\n",
    "ax2.plot(np.arange(tree.grid.n[nn])[45:], P_sum_p1_r_5_15_25_s9[45:], '^')\n",
    "# ax2.plot((np.arange(ssa1e7_sol.n[nn])+ssa_1e7_sol.n_min[nn]), P_sum_ssa_1e7[-1][nn], 'v')\n",
    "ax2.set_xlabel(\"$x_1$\")\n",
    "ax2.yaxis.tick_right()\n",
    "ax2.yaxis.set_ticks_position(\"both\")\n",
    "ax2.yaxis.set_label_position(\"right\")\n",
    "ax2.set_ylabel(\"$P_\\\\mathrm{{M}}(x_{})$\".format(nn))\n",
    "fig.legend(*ax1.get_legend_handles_labels(), ncols=3, loc=\"upper center\")\n",
    "\n",
    "plt.savefig(\"plots/marginal_ttn.pdf\");"
   ]
  },
  {
   "cell_type": "markdown",
   "metadata": {},
   "source": [
    "### SSA"
   ]
  },
  {
   "cell_type": "code",
   "execution_count": null,
   "metadata": {},
   "outputs": [],
   "source": [
    "nn = 0\n",
    "fig, (ax1, ax2) = plt.subplots(1, 2, figsize=(9, 4))\n",
    "ax1.plot(np.arange(grid.n[nn]), P_sum_matrix[nn], '.-', label=\"$P_\\\\mathrm{{M}}^\\\\mathrm{TTN,ref}$\")\n",
    "ax1.plot((np.arange(ssa_1e7_sol.n[nn])+ssa_1e7_sol.n_min[nn]), P_sum_ssa_1e7[-1][nn], 'v', label=\"$10^7$ runs\")\n",
    "ax1.plot((np.arange(ssa_1e6_sol.n[nn])+ssa_1e6_sol.n_min[nn]), P_sum_ssa_1e6[-1][nn], '<', label=\"$10^6$ runs\")\n",
    "ax1.plot((np.arange(ssa_1e5_sol.n[nn])+ssa_1e5_sol.n_min[nn]), P_sum_ssa_1e5[-1][nn], '^', label=\"$10^5$ runs\")\n",
    "ax1.plot((np.arange(ssa_1e4_sol.n[nn])+ssa_1e4_sol.n_min[nn]), P_sum_ssa_1e4[-1][nn], '>', label=\"$10^4$ runs\")\n",
    "ax1.set_xlabel(\"$x_0$\")\n",
    "ax1.set_ylabel(\"$P_\\\\mathrm{{M}}(x_{})$\".format(nn))\n",
    "\n",
    "nn = 9\n",
    "ax2.plot(np.arange(grid.n[nn])[45:], P_sum_full[nn][45:], '.-')\n",
    "ax2.plot((np.arange(ssa_1e7_sol.n[nn])+ssa_1e7_sol.n_min[nn]), P_sum_ssa_1e7[-1][nn], 'v')\n",
    "ax2.plot((np.arange(ssa_1e6_sol.n[nn])+ssa_1e6_sol.n_min[nn]), P_sum_ssa_1e6[-1][nn], '<')\n",
    "ax2.plot((np.arange(ssa_1e5_sol.n[nn])+ssa_1e5_sol.n_min[nn]), P_sum_ssa_1e5[-1][nn], '^')\n",
    "ax2.plot((np.arange(ssa_1e4_sol.n[nn])+ssa_1e4_sol.n_min[nn]), P_sum_ssa_1e4[-1][nn], '>')\n",
    "ax2.set_xlabel(\"$x_1$\")\n",
    "ax2.yaxis.tick_right()\n",
    "ax2.yaxis.set_ticks_position(\"both\")\n",
    "ax2.yaxis.set_label_position(\"right\")\n",
    "ax2.set_ylabel(\"$P_\\\\mathrm{{M}}(x_{})$\".format(nn))\n",
    "fig.legend(*ax1.get_legend_handles_labels(), ncols=5, loc=\"upper center\")\n",
    "\n",
    "plt.savefig(\"plots/ssa_ttn.pdf\");"
   ]
  },
  {
   "cell_type": "markdown",
   "metadata": {},
   "source": [
    "## Comparison of TTN and SSA results with matrix integrator"
   ]
  },
  {
   "cell_type": "markdown",
   "metadata": {},
   "source": [
    "### Load data"
   ]
  },
  {
   "cell_type": "markdown",
   "metadata": {},
   "source": [
    "#### Get walltimes"
   ]
  },
  {
   "cell_type": "code",
   "execution_count": null,
   "metadata": {},
   "outputs": [],
   "source": [
    "time_series = TimeSeries(\"output/bax_p1_r5-10-10_i_tau5e-2\")\n",
    "walltime_p1_r_5_10_10 = time_series.getWallTime()"
   ]
  },
  {
   "cell_type": "code",
   "execution_count": null,
   "metadata": {},
   "outputs": [],
   "source": [
    "time_series = TimeSeries(\"output/bax_p1_r5-15-25_i_tau5e-2\")\n",
    "walltime_p1_r_5_15_25 = time_series.getWallTime()"
   ]
  },
  {
   "cell_type": "code",
   "execution_count": null,
   "metadata": {},
   "outputs": [],
   "source": [
    "time_series = TimeSeries(\"output/bax_pfull_r5_i_tau5e-2\")\n",
    "walltime_pfull = time_series.getWallTime()"
   ]
  },
  {
   "cell_type": "code",
   "execution_count": null,
   "metadata": {},
   "outputs": [],
   "source": [
    "walltime_ssa_1e6 = 358\n",
    "walltime_ssa_2e6 = 660\n",
    "walltime_ssa_1e7 = 2898\n",
    "walltime_matrix = 1.3e5"
   ]
  },
  {
   "cell_type": "code",
   "execution_count": null,
   "metadata": {},
   "outputs": [],
   "source": [
    "walltimes = [walltime_pfull, walltime_p1_r_5_15_25, walltime_p1_r_5_10_10, walltime_ssa_1e7, walltime_ssa_2e6, walltime_ssa_1e6]\n",
    "labels = [\"2 partitions\", \"$\\mathcal{{P}}_1$\\n$r = (5, 15, 25)$\", \"$\\mathcal{{P}}_1$\\n$r = (5, 10, 10)$\", \"$10^7$ runs\", \"$2 \\\\times 10^6$ runs\", \"$10^6$ runs\"]\n",
    "colors = plt.rcParams['axes.prop_cycle'].by_key()['color']\n",
    "color = [colors[0], colors[0], colors[0], colors[1], colors[1], colors[1]]\n",
    "bar_labels = ['PS-TTN integrator', '_PS-TTN integrator', '_PS-TTN integrator', 'SSA', '_SSA', '_SSA']"
   ]
  },
  {
   "cell_type": "markdown",
   "metadata": {},
   "source": [
    "#### Error between TTN integrator and the matrix integrator reference solution"
   ]
  },
  {
   "cell_type": "code",
   "execution_count": null,
   "metadata": {},
   "outputs": [],
   "source": [
    "DLR_marginal_err_r_5_5_5, _ = calculateMarginalDistributionError(\"output/bax_p1_r5-5-5_i_tau5e-2/output_t2900.nc\", P_sum_full, P_sum_ssa_1e7[-1], ssa_1e7_sol)\n",
    "\n",
    "DLR_marginal_err_r_5_10_10, _ = calculateMarginalDistributionError(\"output/bax_p1_r5-10-10_i_tau5e-2/output_t2900.nc\", P_sum_full, P_sum_ssa_1e7[-1], ssa_1e7_sol)\n",
    "\n",
    "DLR_marginal_err_r_5_15_15, _ = calculateMarginalDistributionError(\"output/bax_p1_r5-15-15_i_tau5e-2/output_t2900.nc\", P_sum_full, P_sum_ssa_1e7[-1], ssa_1e7_sol)\n",
    "\n",
    "DLR_marginal_err_r_5_15_25, _ = calculateMarginalDistributionError(\"output/bax_p1_r5-15-25_i_tau5e-2/output_t2900.nc\", P_sum_full, P_sum_ssa_1e7[-1], ssa_1e7_sol)"
   ]
  },
  {
   "cell_type": "markdown",
   "metadata": {},
   "source": [
    "#### Error between SSA and the SSA reference solution"
   ]
  },
  {
   "cell_type": "code",
   "execution_count": null,
   "metadata": {},
   "outputs": [],
   "source": [
    "d = len(ssa_1e7_sol.n)\n",
    "SSA_marginal_err_1e4 = np.zeros(d)\n",
    "SSA_marginal_err_1e5 = np.zeros(d)\n",
    "SSA_marginal_err_1e6 = np.zeros(d)\n",
    "SSA_marginal_err_2e6 = np.zeros(d)\n",
    "\n",
    "for i in range(d):\n",
    "    n_start_1e4 = ssa_1e4_sol.n_min[i] - ssa_1e7_sol.n_min[i]\n",
    "    n_start_1e5 = ssa_1e5_sol.n_min[i] - ssa_1e7_sol.n_min[i]\n",
    "    n_start_1e6 = ssa_1e6_sol.n_min[i] - ssa_1e7_sol.n_min[i]\n",
    "    n_start_2e6 = ssa_2e6_sol.n_min[i] - ssa_1e7_sol.n_min[i]\n",
    "\n",
    "    SSA_marginal_err_1e4[i] = np.linalg.norm(P_sum_ssa_1e7[-1][i][n_start_1e4 : n_start_1e4+ssa_1e4_sol.n[i]] - P_sum_ssa_1e4[-1][i][:ssa_1e7_sol.n[i]], np.inf)\n",
    "    SSA_marginal_err_1e5[i] = np.linalg.norm(P_sum_ssa_1e7[-1][i][n_start_1e5 : n_start_1e5+ssa_1e5_sol.n[i]] - P_sum_ssa_1e5[-1][i][:ssa_1e7_sol.n[i]], np.inf)\n",
    "    SSA_marginal_err_1e6[i] = np.linalg.norm(P_sum_ssa_1e7[-1][i][n_start_1e6 : n_start_1e6+ssa_1e6_sol.n[i]] - P_sum_ssa_1e6[-1][i][:ssa_1e7_sol.n[i]], np.inf)\n",
    "    SSA_marginal_err_2e6[i] = np.linalg.norm(P_sum_ssa_1e7[-1][i][n_start_2e6 : n_start_2e6+ssa_2e6_sol.n[i]] - P_sum_ssa_2e6[-1][i][:ssa_1e7_sol.n[i]], np.inf)"
   ]
  },
  {
   "cell_type": "markdown",
   "metadata": {},
   "source": [
    "#### Error between the matrix integrator reference solution and the SSA reference solution"
   ]
  },
  {
   "cell_type": "code",
   "execution_count": null,
   "metadata": {},
   "outputs": [],
   "source": [
    "d = len(ssa_1e7_sol.n)\n",
    "SSA_DLR_marginal_err_ref_1e6 = np.zeros(d)\n",
    "SSA_DLR_marginal_err_ref_2e6 = np.zeros(d)\n",
    "SSA_DLR_marginal_err_ref_1e7 = np.zeros(d)\n",
    "for i in range(d):\n",
    "    SSA_DLR_marginal_err_ref_1e6[i] = np.linalg.norm(P_sum_full[i][ssa_1e6_sol.n_min[i] : ssa_1e6_sol.n_min[i]+ssa_1e6_sol.n[i]] - P_sum_ssa_1e6[-1][i][:grid.n[i]], np.inf)\n",
    "    SSA_DLR_marginal_err_ref_2e6[i] = np.linalg.norm(P_sum_full[i][ssa_2e6_sol.n_min[i] : ssa_2e6_sol.n_min[i]+ssa_2e6_sol.n[i]] - P_sum_ssa_2e6[-1][i][:grid.n[i]], np.inf)\n",
    "    SSA_DLR_marginal_err_ref_1e7[i] = np.linalg.norm(P_sum_full[i][ssa_1e7_sol.n_min[i] : ssa_1e7_sol.n_min[i]+ssa_1e7_sol.n[i]] - P_sum_ssa_1e7[-1][i][:grid.n[i]], np.inf)"
   ]
  },
  {
   "cell_type": "markdown",
   "metadata": {},
   "source": [
    "### Plots"
   ]
  },
  {
   "cell_type": "code",
   "execution_count": null,
   "metadata": {},
   "outputs": [],
   "source": [
    "time_series = TimeSeries(\"output/bax_p1_r5-15-25_i_tau5e-2\")\n",
    "mass_err = np.abs(time_series.getMassErr())\n",
    "fig, ax = plt.subplots()\n",
    "ax.plot(time_series.time, mass_err, '-')\n",
    "ax.set_xlabel(\"time $t$\")\n",
    "ax.set_ylabel(\"$\\Delta m$\")\n",
    "ax.set_yscale(\"log\")\n",
    "ax.set_ylim([8e-9, 1e-2])\n",
    "\n",
    "plt.savefig(\"plots/mass_err_ttn_r5-15-25.pdf\");"
   ]
  },
  {
   "cell_type": "code",
   "execution_count": null,
   "metadata": {},
   "outputs": [],
   "source": [
    "fig, axs = plt.subplots(2, 2, figsize=(12, 8))\n",
    "axs[0, 0].plot(np.arange(grid.d), DLR_marginal_err_r_5_5_5, '.-', label=\"$r = (5, 5, 5)$\")\n",
    "axs[0, 0].plot(np.arange(grid.d), DLR_marginal_err_r_5_10_10, '.-', label=\"$r = (5, 10, 10)$\")\n",
    "axs[0, 0].plot(np.arange(grid.d), DLR_marginal_err_r_5_15_15, '.-', label=\"$r = (5, 15, 15)$\")\n",
    "axs[0, 0].plot(np.arange(grid.d), DLR_marginal_err_r_5_15_25, '.-', label=\"$r = (5, 15, 25)$\")\n",
    "axs[0, 0].set_yscale(\"log\")\n",
    "axs[0, 0].set_xlabel(\"species $S_i$\")\n",
    "axs[0, 0].legend()\n",
    "axs[0, 0].set_ylabel(\"$\\max_{{x_i}}|P_M(x_i)-P_M(x_i)^\\mathrm{{TTN,ref}}|$\")\n",
    "axs[0, 0].set_ylim([1e-7, 1e-1])\n",
    "\n",
    "axs[0, 1].plot(np.arange(grid.d), SSA_marginal_err_1e4, '.-', label=\"$10^4$ runs\")\n",
    "axs[0, 1].plot(np.arange(grid.d), SSA_marginal_err_1e5, '.-', label=\"$10^5$ runs\")\n",
    "axs[0, 1].plot(np.arange(grid.d), SSA_marginal_err_1e6, '.-', label=\"$10^6$ runs\")\n",
    "axs[0, 1].plot(np.arange(grid.d), SSA_marginal_err_2e6, '.-', label=\"$2 \\\\times 10^6$ runs\")\n",
    "axs[0, 1].set_yscale(\"log\")\n",
    "axs[0, 1].set_xlabel(\"species $S_i$\")\n",
    "axs[0, 1].legend()\n",
    "axs[0, 1].set_ylabel(\"$\\max_{{x_i}}|P_M(x_i)-P_M(x_i)^\\mathrm{{SSA,ref}}|$\")\n",
    "axs[0, 1].set_ylim([1e-7, 1e-1])\n",
    "\n",
    "axs[1, 0].plot(np.arange(grid.d), SSA_DLR_marginal_err_ref_1e6, '.-')\n",
    "axs[1, 0].plot(np.arange(grid.d), SSA_DLR_marginal_err_ref_2e6, '.-')\n",
    "axs[1, 0].plot(np.arange(grid.d), SSA_DLR_marginal_err_ref_1e7, '.-')\n",
    "axs[1, 0].set_yscale(\"log\")\n",
    "axs[1, 0].set_xlabel(\"species $S_i$\")\n",
    "axs[1, 0].set_ylabel(\"$\\max_{{x_i}}|P_M(x_i)^\\mathrm{{TTN,ref}}-P_M(x_i)^\\mathrm{{SSA,ref}}|$\")\n",
    "\n",
    "axs[1, 1].barh(labels, walltimes, label=bar_labels, color=color)\n",
    "axs[1, 1].set_xscale(\"log\")\n",
    "axs[1, 1].set_xlabel(\"wall time [$\\mathrm{{s}}$]\")\n",
    "axs[1, 1].legend()\n",
    "plt.subplots_adjust(wspace=.3, hspace=.3)\n",
    "\n",
    "plt.savefig(\"plots/comparison_ttn_ssa.pdf\");"
   ]
  },
  {
   "cell_type": "markdown",
   "metadata": {},
   "source": [
    "## Error depending on time step size"
   ]
  },
  {
   "cell_type": "code",
   "execution_count": null,
   "metadata": {},
   "outputs": [],
   "source": [
    "dm_max_r_5_15_25 = []\n",
    "dm_max_r_5_15_15 = []\n",
    "tau = []\n",
    "\n",
    "time_series = TimeSeries(\"output/bax_p1_r5-15-25_i_tau5e-1\")\n",
    "dm_max_r_5_15_25.append(np.abs(time_series.getMaxMassErr()))\n",
    "time_series = TimeSeries(\"output/bax_p1_r5-15-15_i_tau5e-1\")\n",
    "dm_max_r_5_15_15.append(np.abs(time_series.getMaxMassErr()))\n",
    "tau.append(time_series.getTau())\n",
    "\n",
    "time_series = TimeSeries(\"output/bax_p1_r5-15-25_i_tau2e-1\")\n",
    "dm_max_r_5_15_25.append(np.abs(time_series.getMaxMassErr()))\n",
    "time_series = TimeSeries(\"output/bax_p1_r5-15-15_i_tau2e-1\")\n",
    "dm_max_r_5_15_15.append(np.abs(time_series.getMaxMassErr()))\n",
    "tau.append(time_series.getTau())\n",
    "\n",
    "time_series = TimeSeries(\"output/bax_p1_r5-15-25_i_tau1e-1\")\n",
    "dm_max_r_5_15_25.append(np.abs(time_series.getMaxMassErr()))\n",
    "time_series = TimeSeries(\"output/bax_p1_r5-15-15_i_tau1e-1\")\n",
    "dm_max_r_5_15_15.append(np.abs(time_series.getMaxMassErr()))\n",
    "tau.append(time_series.getTau())\n",
    "\n",
    "time_series = TimeSeries(\"output/bax_p1_r5-15-25_i_tau5e-2\")\n",
    "dm_max_r_5_15_25.append(np.abs(time_series.getMaxMassErr()))\n",
    "time_series = TimeSeries(\"output/bax_p1_r5-15-15_i_tau5e-2\")\n",
    "dm_max_r_5_15_15.append(np.abs(time_series.getMaxMassErr()))\n",
    "tau.append(time_series.getTau())\n",
    "\n",
    "time_series = TimeSeries(\"output/bax_p1_r5-15-25_i_tau2e-2\")\n",
    "dm_max_r_5_15_25.append(np.abs(time_series.getMaxMassErr()))\n",
    "time_series = TimeSeries(\"output/bax_p1_r5-15-15_i_tau2e-2\")\n",
    "dm_max_r_5_15_15.append(np.abs(time_series.getMaxMassErr()))\n",
    "tau.append(time_series.getTau())\n",
    "\n",
    "time_series = TimeSeries(\"output/bax_p1_r5-15-25_i_tau1e-2\")\n",
    "dm_max_r_5_15_25.append(np.abs(time_series.getMaxMassErr()))\n",
    "time_series = TimeSeries(\"output/bax_p1_r5-15-15_i_tau1e-2\")\n",
    "dm_max_r_5_15_15.append(np.abs(time_series.getMaxMassErr()))\n",
    "tau.append(time_series.getTau())"
   ]
  },
  {
   "cell_type": "markdown",
   "metadata": {},
   "source": [
    "### Plot"
   ]
  },
  {
   "cell_type": "code",
   "execution_count": null,
   "metadata": {},
   "outputs": [],
   "source": [
    "fig, ax = plt.subplots()\n",
    "t = np.linspace(0.01, 0.5)\n",
    "\n",
    "ax.loglog(tau, dm_max_r_5_15_15, '.-', label=\"$r=(5, 15, 15)$\")\n",
    "ax.loglog(tau, dm_max_r_5_15_25, '.-', label=\"$r=(5, 15, 25)$\")\n",
    "ax.loglog(t, t**3*10, 'k:', label=\"$\\\\tau^3$\")\n",
    "ax.set_xlabel(\"time step size $\\\\tau$\")\n",
    "ax.set_ylabel(\"$\\max(\\Delta m)$\")\n",
    "fig.legend(loc=\"upper center\", ncols=3)\n",
    "\n",
    "plt.savefig(\"plots/time_mass_err_ttn.pdf\");"
   ]
  },
  {
   "cell_type": "markdown",
   "metadata": {},
   "source": [
    "## Comparison with deterministic solution"
   ]
  },
  {
   "cell_type": "code",
   "execution_count": null,
   "metadata": {},
   "outputs": [],
   "source": [
    "time_series = TimeSeries(\"output/bax_p1_r5-15-25_i_tau5e-2\")\n",
    "concentrations = time_series.calculateMoments()\n",
    "t = time_series.time"
   ]
  },
  {
   "cell_type": "code",
   "execution_count": null,
   "metadata": {},
   "outputs": [],
   "source": [
    "from pysb.integrate import odesolve\n",
    "from scripts.models.bax_pysb import model\n",
    "concentrations_ode = odesolve(model, t)"
   ]
  },
  {
   "cell_type": "code",
   "execution_count": null,
   "metadata": {},
   "outputs": [],
   "source": [
    "fig, (ax1, ax2) = plt.subplots(1, 2, figsize=(7, 4))\n",
    "deviation = np.sqrt(concentrations[1]-concentrations[0]**2)\n",
    "observables = [\"oBax1\", \"oBax2\"]\n",
    "observables_alt = [\"$S_0$\", \"$S_1$\", \"$S_2$\"]\n",
    "colors = plt.rcParams['axes.prop_cycle'].by_key()['color']\n",
    "for i, (o, o_alt) in enumerate(zip(observables, observables_alt)):\n",
    "    ax1.plot(t, concentrations[0][:, i], '-', label=o_alt, color=colors[i], alpha=0.7)\n",
    "    ax1.fill_between(t, concentrations[0][:, i]-deviation[:, i], concentrations[0][:, i]+deviation[:, i], color=colors[i], alpha=.2)\n",
    "    ax1.plot(t, concentrations_ode[o], '--', color=colors[i], alpha=1.0)\n",
    "ax1.set_ylabel(\"$\\langle x_i(t) \\\\rangle$\")\n",
    "ax1.set_ylim([0.0, 45.0])\n",
    "\n",
    "observables = [\"oBax3\", \"oBax4\", \"oBax5\"]\n",
    "observables_alt = [\"$S_2$\", \"$S_3$\", \"$S_4$\"]\n",
    "for idx_o, (o, o_alt) in enumerate(zip(observables, observables_alt)):\n",
    "    i = idx_o + 2\n",
    "    ax2.plot(t, concentrations[0][:, i], '-', label=o_alt, color=colors[i], alpha=0.7)\n",
    "    ax2.fill_between(t, concentrations[0][:, i]-deviation[:, i], concentrations[0][:, i]+deviation[:, i], color=colors[i], alpha=.2)\n",
    "    ax2.plot(t, concentrations_ode[o], '--', color=colors[i], alpha=1.0)\n",
    "ax2.set_ylim([0.0, 4])\n",
    "ax2.yaxis.tick_right()\n",
    "ax2.yaxis.set_ticks_position(\"both\")\n",
    "ax2.yaxis.set_label_position(\"right\")\n",
    "plt.setp((ax1, ax2), xlabel=\"$t$\", xlim=[0.0, 145.0], xticks=[0.0, 50.0, 100.0, 145.0]);\n",
    "\n",
    "lines_labels = [ax.get_legend_handles_labels() for ax in fig.axes]\n",
    "lines, labels = [sum(ll, []) for ll in zip(*lines_labels)]\n",
    "fig.legend(lines, labels, ncols=5, loc=\"upper center\")\n",
    "\n",
    "plt.savefig(\"plots/concentrations.pdf\");"
   ]
  },
  {
   "cell_type": "code",
   "execution_count": null,
   "metadata": {},
   "outputs": [],
   "source": [
    "fig, ax = plt.subplots(figsize=(6, 4), layout='constrained')\n",
    "for i, o in enumerate(model.observables):\n",
    "    ax.plot(t, np.abs((concentrations[0][:, i]-concentrations_ode[o.name])), '-', label=\"$S_{{{}}}$\".format(i))\n",
    "ax.set_xlabel(\"$t$\")\n",
    "ax.set_ylabel(\"$|c_i^\\mathrm{{CME}}(t) - c_i^\\mathrm{{ODE}}(t)|$\");\n",
    "for line in ax.get_lines()[0:4]:\n",
    "    line.set_linestyle('-')\n",
    "for line in ax.get_lines()[4:8]:\n",
    "    line.set_linestyle('--')\n",
    "for line in ax.get_lines()[8:]:\n",
    "    line.set_linestyle('-.')\n",
    "fig.legend(*ax.get_legend_handles_labels(), loc=\"outside center right\")\n",
    "\n",
    "plt.savefig(\"plots/concentrations_err.pdf\");"
   ]
  },
  {
   "cell_type": "markdown",
   "metadata": {},
   "source": [
    "## Error depending on rank and partition"
   ]
  },
  {
   "cell_type": "markdown",
   "metadata": {},
   "source": [
    "### Load data"
   ]
  },
  {
   "cell_type": "markdown",
   "metadata": {},
   "source": [
    "#### Partition 0"
   ]
  },
  {
   "cell_type": "code",
   "execution_count": null,
   "metadata": {},
   "outputs": [],
   "source": [
    "DLR_marginal_err00, SSA_marginal_err00 = calculateMarginalDistributionError(\"output/bax_p0_r5-5-5_i_tau5e-2/output_t2900.nc\", P_sum_full, P_sum_ssa_1e7[-1], ssa_1e7_sol)\n",
    "\n",
    "DLR_marginal_err10, SSA_marginal_err10 = calculateMarginalDistributionError(\"output/bax_p0_r5-10-10_i_tau5e-2/output_t2900.nc\", P_sum_full, P_sum_ssa_1e7[-1], ssa_1e7_sol)\n",
    "\n",
    "DLR_marginal_err20, SSA_marginal_err20 = calculateMarginalDistributionError(\"output/bax_p0_r5-15-15_i_tau5e-2/output_t2900.nc\", P_sum_full, P_sum_ssa_1e7[-1], ssa_1e7_sol)\n",
    "\n",
    "DLR_marginal_err30, SSA_marginal_err30 = calculateMarginalDistributionError(\"output/bax_p0_r5-20-20_i_tau5e-2/output_t2900.nc\", P_sum_full, P_sum_ssa_1e7[-1], ssa_1e7_sol)"
   ]
  },
  {
   "cell_type": "markdown",
   "metadata": {},
   "source": [
    "#### Partition 1"
   ]
  },
  {
   "cell_type": "code",
   "execution_count": null,
   "metadata": {},
   "outputs": [],
   "source": [
    "DLR_marginal_err01, SSA_marginal_err01 = calculateMarginalDistributionError(\"output/bax_p1_r5-5-5_i_tau5e-2/output_t2900.nc\", P_sum_full, P_sum_ssa_1e7[-1], ssa_1e7_sol)\n",
    "\n",
    "DLR_marginal_err11, SSA_marginal_err11 = calculateMarginalDistributionError(\"output/bax_p1_r5-10-10_i_tau5e-2/output_t2900.nc\", P_sum_full, P_sum_ssa_1e7[-1], ssa_1e7_sol)\n",
    "\n",
    "DLR_marginal_err21, SSA_marginal_err21 = calculateMarginalDistributionError(\"output/bax_p1_r5-15-15_i_tau5e-2/output_t2900.nc\", P_sum_full, P_sum_ssa_1e7[-1], ssa_1e7_sol)\n",
    "\n",
    "DLR_marginal_err31, SSA_marginal_err31 = calculateMarginalDistributionError(\"output/bax_p1_r5-20-20_i_tau5e-2/output_t2900.nc\", P_sum_full, P_sum_ssa_1e7[-1], ssa_1e7_sol)"
   ]
  },
  {
   "cell_type": "markdown",
   "metadata": {},
   "source": [
    "#### Partition 2"
   ]
  },
  {
   "cell_type": "code",
   "execution_count": null,
   "metadata": {},
   "outputs": [],
   "source": [
    "DLR_marginal_err02, SSA_marginal_err02 = calculateMarginalDistributionError(\"output/bax_p2_r5-5-5_i_tau5e-2/output_t2900.nc\", P_sum_full, P_sum_ssa_1e7[-1], ssa_1e7_sol)\n",
    "\n",
    "DLR_marginal_err12, SSA_marginal_err12 = calculateMarginalDistributionError(\"output/bax_p2_r5-10-10_i_tau5e-2/output_t2900.nc\", P_sum_full, P_sum_ssa_1e7[-1], ssa_1e7_sol)\n",
    "\n",
    "DLR_marginal_err22, SSA_marginal_err22 = calculateMarginalDistributionError(\"output/bax_p2_r5-15-15_i_tau5e-2/output_t2900.nc\", P_sum_full, P_sum_ssa_1e7[-1], ssa_1e7_sol)\n",
    "\n",
    "DLR_marginal_err32, SSA_marginal_err32 = calculateMarginalDistributionError(\"output/bax_p2_r5-20-20_i_tau5e-2/output_t2900.nc\", P_sum_full, P_sum_ssa_1e7[-1], ssa_1e7_sol)"
   ]
  },
  {
   "cell_type": "markdown",
   "metadata": {},
   "source": [
    "#### Inset"
   ]
  },
  {
   "cell_type": "code",
   "execution_count": null,
   "metadata": {},
   "outputs": [],
   "source": [
    "DLR_marginal_err_r_5_15_25, SSA_marginal_err_r_5_15_25 = calculateMarginalDistributionError(\"output/bax_p1_r10-15-25_i_tau1e-2/output_t14500.nc\", P_sum_matrix, P_sum_ssa_1e7[-1], ssa_1e7_sol)"
   ]
  },
  {
   "cell_type": "markdown",
   "metadata": {},
   "source": [
    "### Plot"
   ]
  },
  {
   "cell_type": "code",
   "execution_count": null,
   "metadata": {},
   "outputs": [],
   "source": [
    "# from mpl_toolkits.axes_grid1.inset_locator import inset_axes\n",
    "colors = plt.rcParams['axes.prop_cycle'].by_key()['color']\n",
    "cols = [\"$\\mathcal{{P}}_0$\", \"$\\mathcal{{P}}_1$\", \"$\\mathcal{{P}}_2$\"]\n",
    "rows = [\"$r = (5, 5, 5)$\", \"$r = (5, 10, 10)$\", \"$r = (5, 15, 15)$\", \"$r = (5, 20, 20)$\"]\n",
    "labels = [\"$\\max_{{x_i}}|P_M(x_i)-P_M(x_i)^\\mathrm{{SSA,ref}}|$\", \n",
    "          \"$\\max_{{x_i}}|P_M(x_i)-P_M(x_i)^\\mathrm{{TTN,ref}}|$\"]\n",
    "\n",
    "fig, axs = plt.subplots(4, 3, figsize=(10, 8), sharex='col', sharey='row')\n",
    "\n",
    "line0, = axs[0, 0].plot(np.arange(tree.grid.d()), SSA_marginal_err00, '--', color=colors[0])\n",
    "line1, = axs[0, 0].plot(np.arange(tree.grid.d()), DLR_marginal_err00, '.-', color=colors[0])\n",
    "axs[1, 0].plot(np.arange(tree.grid.d()), SSA_marginal_err10, '--', color=colors[0])\n",
    "axs[1, 0].plot(np.arange(tree.grid.d()), DLR_marginal_err10, '.-', color=colors[0])\n",
    "axs[2, 0].plot(np.arange(tree.grid.d()), SSA_marginal_err20, '--', color=colors[0])\n",
    "axs[2, 0].plot(np.arange(tree.grid.d()), DLR_marginal_err20, '.-', color=colors[0])\n",
    "axs[3, 0].plot(np.arange(tree.grid.d()), SSA_marginal_err30, '--', color=colors[0])\n",
    "axs[3, 0].plot(np.arange(tree.grid.d()), DLR_marginal_err30, '.-', color=colors[0])\n",
    "\n",
    "axs[0, 1].plot(np.arange(tree.grid.d()), SSA_marginal_err01, '--', color=colors[1])\n",
    "axs[0, 1].plot(np.arange(tree.grid.d()), DLR_marginal_err01, '.-', color=colors[1])\n",
    "axs[1, 1].plot(np.arange(tree.grid.d()), SSA_marginal_err11, '--', color=colors[1])\n",
    "axs[1, 1].plot(np.arange(tree.grid.d()), DLR_marginal_err11, '.-', color=colors[1])\n",
    "axs[2, 1].plot(np.arange(tree.grid.d()), SSA_marginal_err21, '--', color=colors[1])\n",
    "axs[2, 1].plot(np.arange(tree.grid.d()), DLR_marginal_err21, '.-', color=colors[1])\n",
    "axs[3, 1].plot(np.arange(tree.grid.d()), SSA_marginal_err31, '--', color=colors[1])\n",
    "axs[3, 1].plot(np.arange(tree.grid.d()), DLR_marginal_err31, '.-', color=colors[1])\n",
    "\n",
    "axs[0, 2].plot(np.arange(tree.grid.d()), SSA_marginal_err02, '--', color=colors[2])\n",
    "axs[0, 2].plot(np.arange(tree.grid.d()), DLR_marginal_err02, '.-', color=colors[2])\n",
    "axs[1, 2].plot(np.arange(tree.grid.d()), SSA_marginal_err12, '--', color=colors[2])\n",
    "axs[1, 2].plot(np.arange(tree.grid.d()), DLR_marginal_err12, '.-', color=colors[2])\n",
    "axs[2, 2].plot(np.arange(tree.grid.d()), SSA_marginal_err22, '--', color=colors[2])\n",
    "axs[2, 2].plot(np.arange(tree.grid.d()), DLR_marginal_err22, '.-', color=colors[2])\n",
    "axs[3, 2].plot(np.arange(tree.grid.d()), SSA_marginal_err32, '--', color=colors[2])\n",
    "axs[3, 2].plot(np.arange(tree.grid.d()), DLR_marginal_err32, '.-', color=colors[2])\n",
    "\n",
    "# axins = inset_axes(axs[-1, 1], width='65%', height='65%', loc='upper center')\n",
    "# axins.plot(np.arange(tree.grid.d()), SSA_marginal_err_r_5_15_25, '--')\n",
    "# axins.plot(np.arange(tree.grid.d()), DLR_marginal_err_r_5_15_25, '.-')\n",
    "# axins.set_ylim([-0.02*0.6, 0.42*0.6])\n",
    "# axins.annotate(\"TTN with 2 partitions\\n($r=5$)\", xy=(0.5, 1), xytext=(0, -30),\n",
    "#                 xycoords='axes fraction', textcoords='offset points',\n",
    "#                 size=11, ha='center', va='baseline')\n",
    "\n",
    "plt.setp(axs, ylim=[-0.02, 0.42])\n",
    "# plt.setp(axs[:, 0], ylim=[-0.02, 0.22])\n",
    "# plt.setp(axs[:, 1], ylim=[-0.02, 0.47])\n",
    "# plt.setp(axs[:, 2], ylim=[-0.02, 0.34])\n",
    "\n",
    "pad = 5 # in points\n",
    "\n",
    "for ax, col in zip(axs[0], cols):\n",
    "    ax.annotate(col, xy=(0.5, 1), xytext=(0, pad+5),\n",
    "                xycoords='axes fraction', textcoords='offset points',\n",
    "                size=14, ha='center', va='baseline')\n",
    "\n",
    "for ax, row in zip(axs[:,0], rows):\n",
    "    ax.annotate(row, xy=(0, 0.5), xytext=(-ax.yaxis.labelpad-pad, 0),\n",
    "                xycoords=ax.yaxis.label, textcoords='offset points',\n",
    "                size=14, ha='right', va='center')\n",
    "\n",
    "plt.setp(axs[-1, :], xlabel=\"species $S_i$\", xticks=[0, 2, 4, 6, 8, 10])\n",
    "# fig.suptitle(labels[1])\n",
    "fig.legend([line0, line1], labels, ncols=2, loc=\"upper center\");\n",
    "plt.subplots_adjust(hspace=.0, wspace=.0)\n",
    "\n",
    "plt.savefig(\"plots/comparison_ttn.pdf\");"
   ]
  },
  {
   "cell_type": "markdown",
   "metadata": {},
   "source": [
    "## Mass error"
   ]
  },
  {
   "cell_type": "markdown",
   "metadata": {},
   "source": [
    "### Load data"
   ]
  },
  {
   "cell_type": "markdown",
   "metadata": {},
   "source": [
    "#### Partition 0"
   ]
  },
  {
   "cell_type": "code",
   "execution_count": null,
   "metadata": {},
   "outputs": [],
   "source": [
    "time_series = TimeSeries(\"output/bax_p0_r5-5-5_i_tau5e-2\")\n",
    "mass_err00 = np.abs(time_series.getMassErr())\n",
    "time = time_series.time\n",
    "\n",
    "time_series = TimeSeries(\"output/bax_p0_r5-10-10_i_tau5e-2\")\n",
    "mass_err10 = np.abs(time_series.getMassErr())\n",
    "\n",
    "time_series = TimeSeries(\"output/bax_p0_r5-15-15_i_tau5e-2\")\n",
    "mass_err20 = np.abs(time_series.getMassErr())\n",
    "\n",
    "time_series = TimeSeries(\"output/bax_p0_r5-20-20_i_tau5e-2\")\n",
    "mass_err30 = np.abs(time_series.getMassErr())"
   ]
  },
  {
   "cell_type": "markdown",
   "metadata": {},
   "source": [
    "#### Partition 1"
   ]
  },
  {
   "cell_type": "code",
   "execution_count": null,
   "metadata": {},
   "outputs": [],
   "source": [
    "time_series = TimeSeries(\"output/bax_p1_r5-5-5_i_tau5e-2\")\n",
    "mass_err01 = np.abs(time_series.getMassErr())\n",
    "\n",
    "time_series = TimeSeries(\"output/bax_p1_r5-10-10_i_tau5e-2\")\n",
    "mass_err11 = np.abs(time_series.getMassErr())\n",
    "\n",
    "time_series = TimeSeries(\"output/bax_p1_r5-15-25_i_tau5e-2\")\n",
    "mass_err21 = np.abs(time_series.getMassErr())\n",
    "\n",
    "time_series = TimeSeries(\"output/bax_p1_r5-20-20_i_tau5e-2\")\n",
    "mass_err31 = np.abs(time_series.getMassErr())"
   ]
  },
  {
   "cell_type": "markdown",
   "metadata": {},
   "source": [
    "#### Partition 2"
   ]
  },
  {
   "cell_type": "code",
   "execution_count": null,
   "metadata": {},
   "outputs": [],
   "source": [
    "time_series = TimeSeries(\"output/bax_p2_r5-5-5_i_tau5e-2\")\n",
    "mass_err02 = np.abs(time_series.getMassErr())\n",
    "\n",
    "time_series = TimeSeries(\"output/bax_p2_r5-10-10_i_tau5e-2\")\n",
    "mass_err12 = np.abs(time_series.getMassErr())\n",
    "\n",
    "time_series = TimeSeries(\"output/bax_p2_r5-15-15_i_tau5e-2\")\n",
    "mass_err22 = np.abs(time_series.getMassErr())\n",
    "\n",
    "time_series = TimeSeries(\"output/bax_p2_r5-20-20_i_tau5e-2\")\n",
    "mass_err32 = np.abs(time_series.getMassErr())"
   ]
  },
  {
   "cell_type": "markdown",
   "metadata": {},
   "source": [
    "### Plot"
   ]
  },
  {
   "cell_type": "code",
   "execution_count": null,
   "metadata": {},
   "outputs": [],
   "source": [
    "fig, axs = plt.subplots(2, 2, figsize=(7, 5))\n",
    "\n",
    "axs[0, 0].plot(time, mass_err00, label=\"$\\mathcal{{P}}_0$\")\n",
    "axs[0, 0].plot(time, mass_err01, label=\"$\\mathcal{{P}}_1$\")\n",
    "axs[0, 0].plot(time, mass_err02, label=\"$\\mathcal{{P}}_2$\")\n",
    "axs[0, 0].set_title(\"$r = (5, 5, 5)$\")\n",
    "\n",
    "axs[0, 1].plot(time, mass_err10)\n",
    "axs[0, 1].plot(time, mass_err11)\n",
    "axs[0, 1].plot(time, mass_err12)\n",
    "axs[0, 1].set_title(\"$r = (5, 10, 10)$\")\n",
    "axs[0, 1].yaxis.tick_right()\n",
    "axs[0, 1].yaxis.set_ticks_position(\"both\")\n",
    "axs[0, 1].yaxis.set_label_position(\"right\")\n",
    "\n",
    "axs[1, 0].plot(time, mass_err20)\n",
    "axs[1, 0].plot(time, mass_err21)\n",
    "axs[1, 0].plot(time, mass_err22)\n",
    "axs[1, 0].set_title(\"$r = (5, 15, 15)$\")\n",
    "\n",
    "axs[1, 1].plot(time, mass_err30)\n",
    "axs[1, 1].plot(time, mass_err31)\n",
    "axs[1, 1].plot(time, mass_err32)\n",
    "axs[1, 1].set_title(\"$r = (5, 20, 20)$\")\n",
    "axs[1, 1].yaxis.tick_right()\n",
    "axs[1, 1].yaxis.set_ticks_position(\"both\")\n",
    "axs[1, 1].yaxis.set_label_position(\"right\")\n",
    "\n",
    "plt.setp(axs, xlabel=\"time $t$\", ylabel=\"$\\Delta m$\", xlim=[0.0, 145.0], xticks=[0.0, 50.0, 100.0, 145.0], ylim=[8e-9, 1e-2], yscale=\"log\")\n",
    "plt.subplots_adjust(hspace=0.5)\n",
    "fig.legend(*axs[0, 0].get_legend_handles_labels(), ncols=3, loc=\"upper center\")\n",
    "\n",
    "plt.savefig(\"plots/mass_err_comparison_ttn.pdf\");"
   ]
  },
  {
   "cell_type": "markdown",
   "metadata": {},
   "source": [
    "## Wall time"
   ]
  },
  {
   "cell_type": "markdown",
   "metadata": {},
   "source": [
    "### Load data"
   ]
  },
  {
   "cell_type": "markdown",
   "metadata": {},
   "source": [
    "#### Partition 0"
   ]
  },
  {
   "cell_type": "code",
   "execution_count": null,
   "metadata": {},
   "outputs": [],
   "source": [
    "time_series = TimeSeries(\"output/bax_p0_r5-5-5_i_tau5e-2\")\n",
    "walltime00 = time_series.getWallTime()\n",
    "\n",
    "time_series = TimeSeries(\"output/bax_p0_r5-10-10_i_tau5e-2\")\n",
    "walltime10 = time_series.getWallTime()\n",
    "\n",
    "time_series = TimeSeries(\"output/bax_p0_r5-15-15_i_tau5e-2\")\n",
    "walltime20 = time_series.getWallTime()\n",
    "\n",
    "time_series = TimeSeries(\"output/bax_p0_r5-20-20_i_tau5e-2\")\n",
    "walltime30 = time_series.getWallTime()"
   ]
  },
  {
   "cell_type": "markdown",
   "metadata": {},
   "source": [
    "#### Partition 1"
   ]
  },
  {
   "cell_type": "code",
   "execution_count": null,
   "metadata": {},
   "outputs": [],
   "source": [
    "time_series = TimeSeries(\"output/bax_p1_r5-5-5_i_tau5e-2\")\n",
    "walltime01 = time_series.getWallTime()\n",
    "\n",
    "time_series = TimeSeries(\"output/bax_p1_r5-10-10_i_tau5e-2\")\n",
    "walltime11 = time_series.getWallTime()\n",
    "\n",
    "time_series = TimeSeries(\"output/bax_p1_r5-15-15_i_tau5e-2\")\n",
    "walltime21 = time_series.getWallTime()\n",
    "\n",
    "time_series = TimeSeries(\"output/bax_p1_r5-20-20_i_tau5e-2\")\n",
    "walltime31 = time_series.getWallTime()"
   ]
  },
  {
   "cell_type": "markdown",
   "metadata": {},
   "source": [
    "#### Partition 2"
   ]
  },
  {
   "cell_type": "code",
   "execution_count": null,
   "metadata": {},
   "outputs": [],
   "source": [
    "time_series = TimeSeries(\"output/bax_p2_r5-5-5_i_tau5e-2\")\n",
    "walltime02 = time_series.getWallTime()\n",
    "\n",
    "time_series = TimeSeries(\"output/bax_p2_r5-10-10_i_tau5e-2\")\n",
    "walltime12 = time_series.getWallTime()\n",
    "\n",
    "time_series = TimeSeries(\"output/bax_p2_r5-15-15_i_tau5e-2\")\n",
    "walltime22 = time_series.getWallTime()\n",
    "\n",
    "time_series = TimeSeries(\"output/bax_p2_r5-20-20_i_tau5e-2\")\n",
    "walltime32 = time_series.getWallTime()"
   ]
  },
  {
   "cell_type": "markdown",
   "metadata": {},
   "source": [
    "### Plot"
   ]
  },
  {
   "cell_type": "code",
   "execution_count": null,
   "metadata": {},
   "outputs": [],
   "source": [
    "fig, axs = plt.subplots(2, 2, figsize=(7, 5))\n",
    "labels = [\"$\\mathcal{{P}}_{}$\".format(i) for i in range(3)]\n",
    "colors = plt.rcParams['axes.prop_cycle'].by_key()['color']\n",
    "walltime0 = [walltime00, walltime01, walltime02]\n",
    "axs[0, 0].bar(labels, walltime0, color=colors)\n",
    "axs[0, 0].set_title(\"$r = (5, 5, 5)$\")\n",
    "\n",
    "walltime1 = [walltime10, walltime11, walltime12]\n",
    "axs[0, 1].bar(labels, walltime1, color=colors)\n",
    "axs[0, 1].set_title(\"$r = (5, 10, 10)$\")\n",
    "axs[0, 1].yaxis.tick_right()\n",
    "axs[0, 1].yaxis.set_ticks_position(\"both\")\n",
    "axs[0, 1].yaxis.set_label_position(\"right\")\n",
    "\n",
    "walltime2 = [walltime20, walltime21, walltime22]\n",
    "axs[1, 0].bar(labels, walltime2, color=colors)\n",
    "axs[1, 0].set_title(\"$r = (5, 15, 15)$\")\n",
    "\n",
    "walltime3 = [walltime30, walltime31, walltime32]\n",
    "axs[1, 1].bar(labels, walltime3, color=colors)\n",
    "axs[1, 1].set_title(\"$r = (5, 20, 20)$\")\n",
    "axs[1, 1].yaxis.tick_right()\n",
    "axs[1, 1].yaxis.set_ticks_position(\"both\")\n",
    "axs[1, 1].yaxis.set_label_position(\"right\")\n",
    "\n",
    "plt.setp(axs[:, 0], ylabel=\"wall time [$\\mathrm{s}$]\")\n",
    "# plt.setp(axs, ylim=[1e0, 1e6], yscale=\"log\")\n",
    "plt.subplots_adjust(hspace=0.3)\n",
    "\n",
    "plt.savefig(\"plots/wall_time_comparison_ttn.pdf\");"
   ]
  }
 ],
 "metadata": {
  "kernelspec": {
   "display_name": "base",
   "language": "python",
   "name": "python3"
  },
  "language_info": {
   "codemirror_mode": {
    "name": "ipython",
    "version": 3
   },
   "file_extension": ".py",
   "mimetype": "text/x-python",
   "name": "python",
   "nbconvert_exporter": "python",
   "pygments_lexer": "ipython3",
   "version": "3.9.18"
  }
 },
 "nbformat": 4,
 "nbformat_minor": 2
}
