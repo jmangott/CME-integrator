{
 "cells": [
  {
   "cell_type": "markdown",
   "metadata": {},
   "source": [
    "# BAX pore assembly"
   ]
  },
  {
   "cell_type": "code",
   "execution_count": null,
   "metadata": {},
   "outputs": [],
   "source": [
    "import numpy as np\n",
    "import matplotlib.pyplot as plt\n",
    "import xarray as xr\n",
    "\n",
    "from scripts.grid_class import GridParms\n",
    "from scripts.tree_class import Tree\n",
    "from scripts.output.output_helper import *\n",
    "from scripts.reference_solutions.ssa_helper import SSASol\n",
    "\n",
    "%matplotlib inline"
   ]
  },
  {
   "cell_type": "code",
   "execution_count": null,
   "metadata": {},
   "outputs": [],
   "source": [
    "slice_vec = np.array([12, 9, 2, 1, 0, 0, 0, 0, 0, 50, 0])"
   ]
  },
  {
   "cell_type": "markdown",
   "metadata": {},
   "source": [
    "## Load data"
   ]
  },
  {
   "cell_type": "markdown",
   "metadata": {},
   "source": [
    "### Tree tensor integrator"
   ]
  },
  {
   "cell_type": "markdown",
   "metadata": {},
   "source": [
    "#### Partition 0\n",
    "(0 1 2)(((3 4 6 7)(5 8))(9 10))"
   ]
  },
  {
   "cell_type": "code",
   "execution_count": null,
   "metadata": {},
   "outputs": [],
   "source": [
    "tree = readTree(\"output/bax_p0_r5-10-20_i_tau5e-2/output_t2900.nc\")\n",
    "P_slice_tensor0, P_sum_tensor0 = tree.calculateObservables(0, slice_vec)"
   ]
  },
  {
   "cell_type": "markdown",
   "metadata": {},
   "source": [
    "#### Partition 1\n",
    "((0 1 2)(3 4 5))((6 7 9)(8 10))"
   ]
  },
  {
   "cell_type": "code",
   "execution_count": null,
   "metadata": {},
   "outputs": [],
   "source": [
    "tree = readTree(\"output/bax_p1_r5-15-15_i_tau5e-2/output_t2900.nc\")\n",
    "P_slice_tensor1, P_sum_tensor1 = tree.calculateObservables(0, slice_vec)"
   ]
  },
  {
   "cell_type": "markdown",
   "metadata": {},
   "source": [
    "#### Partition 2\n",
    "((0 1)(2 3 4))((5 6 7 8)(9 10))"
   ]
  },
  {
   "cell_type": "code",
   "execution_count": null,
   "metadata": {},
   "outputs": [],
   "source": [
    "tree = readTree(\"output/bax_p2_r5-25-25_i_tau5e-2/output_t2900.nc\")\n",
    "P_slice_tensor2, P_sum_tensor2 = tree.calculateObservables(0, slice_vec)"
   ]
  },
  {
   "cell_type": "markdown",
   "metadata": {},
   "source": [
    "#### Two partitions\n",
    "(0 1 2 3 4)(5 6 7 8 9 10)"
   ]
  },
  {
   "cell_type": "code",
   "execution_count": null,
   "metadata": {},
   "outputs": [],
   "source": [
    "tree = readTree(\"output/bax_pfull_r5_i_tau5e-2/output_t2900.nc\")\n",
    "P_slice_tensor_full, P_sum_tensor_full = tree.calculateObservables(0, slice_vec)"
   ]
  },
  {
   "cell_type": "markdown",
   "metadata": {},
   "source": [
    "### Matrix integrator"
   ]
  },
  {
   "cell_type": "code",
   "execution_count": null,
   "metadata": {},
   "outputs": [],
   "source": [
    "with xr.open_dataset(\"output/bax_general_230730_r5_so_tau1e0_ss100/output_t100.nc\") as ds:\n",
    "    grid = GridInfo(ds)\n",
    "    lr_sol = LRSol(ds, grid)\n",
    "    idx_2D = np.array([0, 1])\n",
    "    P_sum_matrix = lr_sol.marginalDistributions()\n",
    "    P_slice_matrix = lr_sol.slicedDistributions(slice_vec)"
   ]
  },
  {
   "cell_type": "markdown",
   "metadata": {},
   "source": [
    "### SSA"
   ]
  },
  {
   "cell_type": "code",
   "execution_count": null,
   "metadata": {},
   "outputs": [],
   "source": [
    "result = np.load(\"scripts/reference_solutions/bax_ssa_general_ref_1e6.npy\")\n",
    "ssa_sol = SSASol(result)\n",
    "P_sum_ssa, _, P_slice_ssa, _ = ssa_sol.calculateObservables(slice_vec, idx_2D)"
   ]
  },
  {
   "cell_type": "markdown",
   "metadata": {},
   "source": [
    "## Comparison of the sliced distributions"
   ]
  },
  {
   "cell_type": "markdown",
   "metadata": {},
   "source": [
    "### Logarithmic plot"
   ]
  },
  {
   "cell_type": "code",
   "execution_count": null,
   "metadata": {},
   "outputs": [],
   "source": [
    "plt.figure(1)\n",
    "plt.plot(np.arange(grid.n[0])[11:26], P_slice_matrix[0][11:26], 'o', fillstyle=\"none\", label=\"DLRA\")\n",
    "plt.plot(np.arange(tree.root.child[0].grid.n[0])[11:26], P_slice_tensor1[11:26], 'x:', fillstyle=\"none\", label=\"hDLRA ($P_1$)\")\n",
    "plt.plot((np.arange(ssa_sol.n[0])+ssa_sol.n_min[0])[8:23], P_slice_ssa[-1][0][8:23], 's', fillstyle=\"none\", label=\"SSA ($10^7$ runs)\")\n",
    "plt.legend()\n",
    "plt.yscale(\"log\")\n",
    "plt.xlabel(\"$x_0$\")\n",
    "plt.ylabel(\"$P_\\\\mathrm{{S}}(x_0)$\")\n",
    "plt.xlim([10, 26]);"
   ]
  },
  {
   "cell_type": "markdown",
   "metadata": {},
   "source": [
    "### Ordinary plot"
   ]
  },
  {
   "cell_type": "code",
   "execution_count": null,
   "metadata": {},
   "outputs": [],
   "source": [
    "plt.figure(2)\n",
    "plt.plot(np.arange(grid.n[0])[11:26], P_slice_matrix[0][11:26], 'o', fillstyle=\"none\", label=\"DLRA\")\n",
    "plt.plot(np.arange(tree.root.child[0].grid.n[0])[11:26], P_slice_tensor1[11:26], 'x:', fillstyle=\"none\", label=\"hDLRA ($P_1$)\")\n",
    "plt.plot((np.arange(ssa_sol.n[0])+ssa_sol.n_min[0])[8:23], P_slice_ssa[-1][0][8:23], 's', fillstyle=\"none\", label=\"SSA ($10^7$ runs)\")\n",
    "plt.legend()\n",
    "plt.xlabel(\"$x_0$\")\n",
    "plt.ylabel(\"$P_\\\\mathrm{{S}}(x_0)$\")\n",
    "plt.xlim([10, 26]);"
   ]
  },
  {
   "cell_type": "code",
   "execution_count": null,
   "metadata": {},
   "outputs": [],
   "source": [
    "plt.figure(3)\n",
    "plt.plot(np.arange(grid.n[0]), P_sum_matrix[0], 'o', fillstyle=\"none\", label=\"DLRA\")\n",
    "plt.plot(np.arange(tree.root.child[0].grid.n[0]), P_sum_tensor1, 'x:', fillstyle=\"none\", label=\"hDLRA (P_1)\")\n",
    "plt.plot((np.arange(ssa_sol.n[0])+ssa_sol.n_min[0]), P_sum_ssa[-1][0], 's', fillstyle=\"none\", label=\"SSA ($10^7$ runs)\")\n",
    "plt.legend()\n",
    "plt.xlabel(\"$x_0$\")\n",
    "plt.ylabel(\"$P_\\\\mathrm{{M}}(x_0)$\");"
   ]
  },
  {
   "cell_type": "markdown",
   "metadata": {},
   "source": [
    "## Comparison with deterministic solution"
   ]
  },
  {
   "cell_type": "code",
   "execution_count": null,
   "metadata": {},
   "outputs": [],
   "source": [
    "time_series = TimeSeries(\"output/bax_p1_r5-15-15_i_tau5e-2\")\n",
    "wall_time = time_series.getWallTime()\n",
    "t, concentrations = time_series.calculateConcentrations()"
   ]
  },
  {
   "cell_type": "code",
   "execution_count": null,
   "metadata": {},
   "outputs": [],
   "source": [
    "from pysb.integrate import odesolve\n",
    "\n",
    "from scripts.models.bax_pysb import model"
   ]
  },
  {
   "cell_type": "code",
   "execution_count": null,
   "metadata": {},
   "outputs": [],
   "source": [
    "concentrations_ode = odesolve(model, t)"
   ]
  },
  {
   "cell_type": "code",
   "execution_count": null,
   "metadata": {},
   "outputs": [],
   "source": [
    "fig, (ax1, ax2) = plt.subplots(1, 2)\n",
    "ax1.plot(t, concentrations, '-')\n",
    "ax1.set_title(\"CME\")\n",
    "ax1.set_ylabel(\"$c_i(t)$\")\n",
    "\n",
    "for o in model.observables:\n",
    "    ax2.plot(t, concentrations_ode[o.name], '-', label=o.name[1:])\n",
    "ax2.set_title(\"ODE\")\n",
    "ax2.legend()\n",
    "plt.setp((ax1, ax2), ylim=[0.0, 52.0], xlabel=\"$t$\");"
   ]
  },
  {
   "cell_type": "code",
   "execution_count": null,
   "metadata": {},
   "outputs": [],
   "source": [
    "plt.figure(5)\n",
    "for i, o in enumerate(model.observables):\n",
    "    plt.plot(t, np.abs((concentrations[:, i]-concentrations_ode[o.name])), '-')\n",
    "plt.xlabel(\"$t$\")\n",
    "plt.ylabel(\"$|c_i^\\mathrm{{CME}}(t) - c_i^\\mathrm{{ODE}}(t)|$\");"
   ]
  },
  {
   "cell_type": "code",
   "execution_count": null,
   "metadata": {},
   "outputs": [],
   "source": [
    "time_series = TimeSeries(\"output/bax_p0_r5-10-20_i_tau5e-2\")\n",
    "t_p0, concentrations_p0 = time_series.calculateConcentrations()"
   ]
  },
  {
   "cell_type": "code",
   "execution_count": null,
   "metadata": {},
   "outputs": [],
   "source": [
    "time_series = TimeSeries(\"output/bax_p2_r5-25-25_i_tau5e-2\")\n",
    "t_p2, concentrations_p2 = time_series.calculateConcentrations()"
   ]
  },
  {
   "cell_type": "code",
   "execution_count": null,
   "metadata": {},
   "outputs": [],
   "source": [
    "time_series = TimeSeries(\"output/bax_pfull_r5_i_tau5e-2\")\n",
    "t_full, concentrations_full = time_series.calculateConcentrations()"
   ]
  },
  {
   "cell_type": "code",
   "execution_count": null,
   "metadata": {},
   "outputs": [],
   "source": [
    "concentrations_ssa = np.zeros(ssa_sol.n_time)\n",
    "for i in range(ssa_sol.n_time):\n",
    "    concentrations_ssa[i] = np.dot(P_sum_ssa[i][-2], np.arange(ssa_sol.n[-2]) + ssa_sol.n_min[-2])"
   ]
  },
  {
   "cell_type": "code",
   "execution_count": null,
   "metadata": {},
   "outputs": [],
   "source": [
    "fig, (ax1, ax2) = plt.subplots(1, 2)\n",
    "ax1.plot(t_p0, concentrations_p0[:, -2], '-', label=\"hDLRA ($P_0$)\")\n",
    "ax1.plot(t, concentrations[:, -2], '-', label=\"hDLRA ($P_1$)\")\n",
    "ax1.plot(t_p2, concentrations_p2[:, -2], '-', label=\"hDLRA ($P_2$)\")\n",
    "ax1.plot(t_full, concentrations_full[:, -2], 'x', label=\"hDLRA (2 partitions)\")\n",
    "ax1.plot([0.0, 145.0], concentrations_ssa, 's', label=\"SSA ($10^7$ runs)\")\n",
    "ax1.set_title(\"CME\")\n",
    "ax1.legend()\n",
    "\n",
    "ax2.plot(t, concentrations_ode[\"omSmac\"], '-')\n",
    "ax2.set_title(\"ODE\")\n",
    "plt.setp((ax1, ax2), ylim=[49.6, 50.6], xlabel=\"$t$\");"
   ]
  }
 ],
 "metadata": {
  "kernelspec": {
   "display_name": "base",
   "language": "python",
   "name": "python3"
  },
  "language_info": {
   "codemirror_mode": {
    "name": "ipython",
    "version": 3
   },
   "file_extension": ".py",
   "mimetype": "text/x-python",
   "name": "python",
   "nbconvert_exporter": "python",
   "pygments_lexer": "ipython3",
   "version": "3.9.18"
  }
 },
 "nbformat": 4,
 "nbformat_minor": 2
}
