{
 "cells": [
  {
   "cell_type": "markdown",
   "metadata": {},
   "source": [
    "# Diffusive toggle switch"
   ]
  },
  {
   "cell_type": "code",
   "execution_count": null,
   "metadata": {},
   "outputs": [],
   "source": [
    "import matplotlib.gridspec as gridspec\n",
    "import matplotlib.pyplot as plt\n",
    "import numpy as np\n",
    "from pysb.integrate import odesolve\n",
    "from scripts.models.enzymatic_futile_cycle_pysb import model\n",
    "\n",
    "from scripts.grid_class import GridParms\n",
    "from scripts.tree_class import Tree\n",
    "from scripts.output.output_helper import *\n",
    "from scripts.reference_solutions.ssa_helper import SSASol\n",
    "\n",
    "plt.style.use(\"./scripts/output/notebooks/custom_style.mplstyle\")\n",
    "%matplotlib inline"
   ]
  },
  {
   "cell_type": "code",
   "execution_count": null,
   "metadata": {},
   "outputs": [],
   "source": [
    "concentrations_ode = odesolve(model, np.arange(1.0))\n",
    "slice_vec = []\n",
    "for o in model.observables:\n",
    "    slice_vec.append(int(np.round(concentrations_ode[o.name][-1])))\n",
    "slice_vec = np.array(slice_vec)"
   ]
  },
  {
   "cell_type": "markdown",
   "metadata": {},
   "source": [
    "## Load initial data"
   ]
  },
  {
   "cell_type": "markdown",
   "metadata": {},
   "source": [
    "Matrix integrator"
   ]
  },
  {
   "cell_type": "code",
   "execution_count": null,
   "metadata": {},
   "outputs": [],
   "source": []
  },
  {
   "cell_type": "markdown",
   "metadata": {},
   "source": [
    "### TTN integrator"
   ]
  },
  {
   "cell_type": "markdown",
   "metadata": {},
   "source": [
    "#### Matrix"
   ]
  },
  {
   "cell_type": "code",
   "execution_count": null,
   "metadata": {},
   "outputs": [],
   "source": [
    "tree = readTree(\"output/efc_r5_e_tau1e-4/output_t100000.nc\")\n",
    "_, ttn_marginal_r_5 = tree.calculateObservables(np.zeros(6, dtype=\"int\"))\n",
    "\n",
    "tree = readTree(\"output/efc_r8_e_tau1e-4/output_t100000.nc\")\n",
    "_, ttn_marginal_r_8 = tree.calculateObservables(np.zeros(6, dtype=\"int\"))\n",
    "\n",
    "tree = readTree(\"output/efc_r15_e_tau1e-4/output_t100000.nc\")\n",
    "_, ttn_marginal_r_15 = tree.calculateObservables(np.zeros(6, dtype=\"int\"))\n",
    "\n",
    "tree = readTree(\"output/efc_r17_e_tau1e-4/output_t100000.nc\")\n",
    "_, ttn_marginal_r_17 = tree.calculateObservables(np.zeros(6, dtype=\"int\"))"
   ]
  },
  {
   "cell_type": "markdown",
   "metadata": {},
   "source": [
    "### SSA"
   ]
  },
  {
   "cell_type": "code",
   "execution_count": null,
   "metadata": {},
   "outputs": [],
   "source": [
    "idx_2D = np.array([0, 1])"
   ]
  },
  {
   "cell_type": "code",
   "execution_count": null,
   "metadata": {},
   "outputs": [],
   "source": [
    "ssa_1e5 = np.load(\"scripts/reference_solutions/enzymatic_futile_cycle_ssa_1e+05.npy\")\n",
    "ssa_1e5_sol = SSASol(ssa_1e5)\n",
    "ssa_marginal_1e5, _, _, _ = ssa_1e5_sol.calculateObservables(slice_vec, idx_2D)\n",
    "ssa_wall_time = 136.4"
   ]
  },
  {
   "cell_type": "markdown",
   "metadata": {},
   "source": [
    "## Convergence with increasing rank"
   ]
  },
  {
   "cell_type": "code",
   "execution_count": null,
   "metadata": {},
   "outputs": [],
   "source": [
    "fig, (ax1, ax2) = plt.subplots(2, 1, figsize=(6,8))\n",
    "# ax1.plot(np.arange(tree.grid.n[0]), ttn_marginal_r_5[0], \"v\", label=\"TTN, $r=5$\")\n",
    "ax1.plot(np.arange(tree.grid.n[0]), ttn_marginal_r_8[0], \"v\", label=\"TTN, $r=8$\")\n",
    "# ax1.plot(np.arange(tree.grid.n[0]), ttn_marginal_r_15[0], \"v\", label=\"TTN, $r=15$\")\n",
    "ax1.plot(np.arange(tree.grid.n[0]), ttn_marginal_r_17[0], \"v\", label=\"TTN, $r=17$\")\n",
    "ax1.plot(np.arange(ssa_1e5_sol.n[0])+ssa_1e5_sol.n_min[0], ssa_marginal_1e5[-1][0], \"v\", label=\"SSA, $10^5$ runs\")\n",
    "ax1.set_xlabel(\"$x_0$\")\n",
    "\n",
    "# ax2.plot(np.arange(tree.grid.n[3]), ttn_marginal_r_5[3], \"v\", label=\"TTN, $r=5$\")\n",
    "ax2.plot(np.arange(tree.grid.n[3]), ttn_marginal_r_8[3], \"v\", label=\"TTN, $r=8$\")\n",
    "ax2.plot(np.arange(tree.grid.n[3]), ttn_marginal_r_15[3], \"v\", label=\"TTN, $r=15$\")\n",
    "ax2.plot(np.arange(ssa_1e5_sol.n[1])+ssa_1e5_sol.n_min[1], ssa_marginal_1e5[-1][1], \"v\", label=\"SSA, $10^5$ runs\")\n",
    "ax2.set_xlabel(\"$x_1$\")\n",
    "\n",
    "ax2.legend()\n",
    "plt.savefig(\"plots/efc_fig1.pdf\")"
   ]
  },
  {
   "cell_type": "code",
   "execution_count": null,
   "metadata": {},
   "outputs": [],
   "source": [
    "time_series = TimeSeries(\"output/efc_r5_e_tau1e-5\")\n",
    "mass_err_r5 = time_series.getMassErr()"
   ]
  },
  {
   "cell_type": "code",
   "execution_count": null,
   "metadata": {},
   "outputs": [],
   "source": [
    "time = time_series.time"
   ]
  },
  {
   "cell_type": "code",
   "execution_count": null,
   "metadata": {},
   "outputs": [],
   "source": [
    "fig, ax = plt.subplots()\n",
    "ax.plot(time, np.abs(mass_err_r5), label=\"TTN, $r=5$\")\n",
    "ax.set_xlabel(\"$t$\")\n",
    "ax.set_ylabel(\"$|\\Delta m(t)|$\")\n",
    "ax.set_yscale(\"log\")\n",
    "ax.legend()\n",
    "plt.savefig(\"plots/efc_fig2.pdf\")"
   ]
  }
 ],
 "metadata": {
  "kernelspec": {
   "display_name": "base",
   "language": "python",
   "name": "python3"
  },
  "language_info": {
   "codemirror_mode": {
    "name": "ipython",
    "version": 3
   },
   "file_extension": ".py",
   "mimetype": "text/x-python",
   "name": "python",
   "nbconvert_exporter": "python",
   "pygments_lexer": "ipython3",
   "version": "3.10.14"
  }
 },
 "nbformat": 4,
 "nbformat_minor": 2
}
