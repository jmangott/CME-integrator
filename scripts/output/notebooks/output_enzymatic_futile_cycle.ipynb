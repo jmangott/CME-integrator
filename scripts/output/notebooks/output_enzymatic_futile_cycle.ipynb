{
 "cells": [
  {
   "cell_type": "markdown",
   "metadata": {},
   "source": [
    "# Diffusive toggle switch"
   ]
  },
  {
   "cell_type": "code",
   "execution_count": null,
   "metadata": {},
   "outputs": [],
   "source": [
    "import matplotlib.gridspec as gridspec\n",
    "import matplotlib.pyplot as plt\n",
    "import numpy as np\n",
    "from pysb.integrate import odesolve\n",
    "from scripts.models.enzymatic_futile_cycle_pysb import model\n",
    "\n",
    "from scripts.grid_class import GridParms\n",
    "from scripts.tree_class import Tree\n",
    "from scripts.output.output_helper import *\n",
    "from scripts.reference_solutions.ssa_helper import SSASol\n",
    "\n",
    "plt.style.use(\"./scripts/output/notebooks/custom_style.mplstyle\")\n",
    "%matplotlib inline"
   ]
  },
  {
   "cell_type": "code",
   "execution_count": null,
   "metadata": {},
   "outputs": [],
   "source": [
    "concentrations_ode = odesolve(model, np.arange(1.0))\n",
    "slice_vec = []\n",
    "for o in model.observables:\n",
    "    slice_vec.append(int(np.round(concentrations_ode[o.name][-1])))\n",
    "slice_vec = np.array(slice_vec)"
   ]
  },
  {
   "cell_type": "markdown",
   "metadata": {},
   "source": [
    "## Load initial data"
   ]
  },
  {
   "cell_type": "markdown",
   "metadata": {},
   "source": [
    "Exact FSP solution"
   ]
  },
  {
   "cell_type": "code",
   "execution_count": null,
   "metadata": {},
   "outputs": [],
   "source": [
    "_ = np.load(\"scripts/reference_solutions/efc_ode_ref.npy\")\n",
    "exact_marginal = np.load(\"scripts/reference_solutions/efc_ode_ref.npy\")"
   ]
  },
  {
   "cell_type": "code",
   "execution_count": null,
   "metadata": {},
   "outputs": [],
   "source": [
    "print(exact_marginal[-1])"
   ]
  },
  {
   "cell_type": "markdown",
   "metadata": {},
   "source": [
    "Matrix integrator"
   ]
  },
  {
   "cell_type": "code",
   "execution_count": null,
   "metadata": {},
   "outputs": [],
   "source": [
    "with xr.open_dataset(\"output/efc_matrix/output_t10000.nc\") as ds:\n",
    "    grid = GridInfo(ds)\n",
    "    lr_sol = LRSol(ds, grid)\n",
    "    slice_vec = np.array(np.ones(6))\n",
    "    idx_2D = np.array([0, 0])\n",
    "    matrix_marginal = lr_sol.marginalDistributions()"
   ]
  },
  {
   "cell_type": "markdown",
   "metadata": {},
   "source": [
    "### TTN integrator"
   ]
  },
  {
   "cell_type": "markdown",
   "metadata": {},
   "source": [
    "#### Matrix"
   ]
  },
  {
   "cell_type": "code",
   "execution_count": null,
   "metadata": {},
   "outputs": [],
   "source": [
    "tree_r20 = readTree(\"output/efc_r20_i_tau1e-4/output_t100000.nc\")\n",
    "_, ttn_marginal_r_20 = tree_r20.calculateObservables(np.zeros(6, dtype=\"int\"))\n",
    "tree_r25 = readTree(\"output/efc_r25_i_tau1e-3/output_t10000.nc\")\n",
    "_, ttn_marginal_r_25 = tree_r25.calculateObservables(np.zeros(6, dtype=\"int\"))\n",
    "tree_r30 = readTree(\"output/efc_r30_i_tau1e-3/output_t10000.nc\")\n",
    "_, ttn_marginal_r_30 = tree_r30.calculateObservables(np.zeros(6, dtype=\"int\"))\n",
    "tree_r35 = readTree(\"output/efc_r35_i_tau1e-3/output_t10000.nc\")\n",
    "_, ttn_marginal_r_35 = tree_r35.calculateObservables(np.zeros(6, dtype=\"int\"))\n",
    "tree_r40 = readTree(\"output/efc_r40_i_tau2e-3/output_t5000.nc\")\n",
    "_, ttn_marginal_r_40 = tree_r40.calculateObservables(np.zeros(6, dtype=\"int\"))"
   ]
  },
  {
   "cell_type": "markdown",
   "metadata": {},
   "source": [
    "# Tree"
   ]
  },
  {
   "cell_type": "code",
   "execution_count": null,
   "metadata": {},
   "outputs": [],
   "source": [
    "tree_r30_10 = readTree(\"output/efc_r30-10_i_tau1e-3_h/output_t10000.nc\")\n",
    "_, ttn_marginal_r_30_10 = tree_r30_10.calculateObservables(np.zeros(6, dtype=\"int\"))"
   ]
  },
  {
   "cell_type": "markdown",
   "metadata": {},
   "source": [
    "### SSA"
   ]
  },
  {
   "cell_type": "code",
   "execution_count": null,
   "metadata": {},
   "outputs": [],
   "source": [
    "idx_2D = np.array([0, 1])"
   ]
  },
  {
   "cell_type": "code",
   "execution_count": null,
   "metadata": {},
   "outputs": [],
   "source": [
    "ssa_1e5 = np.load(\"scripts/reference_solutions/enzymatic_futile_cycle_ssa_1e+05.npy\")\n",
    "ssa_1e5_sol = SSASol(ssa_1e5)\n",
    "ssa_marginal_1e5, _, _, _ = ssa_1e5_sol.calculateObservables(slice_vec, idx_2D)\n",
    "ssa_wall_time = 136.4"
   ]
  },
  {
   "cell_type": "code",
   "execution_count": null,
   "metadata": {},
   "outputs": [],
   "source": [
    "ssa_1e6 = np.load(\"scripts/reference_solutions/enzymatic_futile_cycle_ssa_1e+06.npy\")\n",
    "ssa_1e6_sol = SSASol(ssa_1e6)\n",
    "ssa_marginal_1e6, _, _, _ = ssa_1e6_sol.calculateObservables(slice_vec, idx_2D)\n",
    "ssa_wall_time = 1189.3"
   ]
  },
  {
   "cell_type": "markdown",
   "metadata": {},
   "source": [
    "## Convergence with increasing rank"
   ]
  },
  {
   "cell_type": "code",
   "execution_count": null,
   "metadata": {},
   "outputs": [],
   "source": [
    "fig, (ax1, ax2) = plt.subplots(2, 1, figsize=(6,8))\n",
    "ax1.plot(np.arange(tree_r20.grid.n[0]), ttn_marginal_r_20[0], \"v\", label=\"TTN, $r=20$\")\n",
    "ax1.plot(np.arange(tree_r25.grid.n[0]), ttn_marginal_r_25[0], \"<\", label=\"TTN, $r=25$\")\n",
    "ax1.plot(np.arange(tree_r30.grid.n[0]), ttn_marginal_r_30[0], \"^\", label=\"TTN, $r=30$\")\n",
    "ax1.plot(np.arange(tree_r35.grid.n[0]), ttn_marginal_r_35[0], \">\", label=\"TTN, $r=35$\")\n",
    "ax1.plot(np.arange(tree_r40.grid.n[0]), ttn_marginal_r_40[0], \">\", label=\"TTN, $r=40$\")\n",
    "ax1.plot(np.arange(ssa_1e6_sol.n[0])+ssa_1e6_sol.n_min[0], ssa_marginal_1e6[-1][0], \"k.\", label=\"SSA, $10^6$ runs\")\n",
    "ax1.set_xlabel(\"$x_0$\")\n",
    "\n",
    "ax2.plot(np.arange(tree_r20.grid.n[3]), ttn_marginal_r_20[3], \"v\", label=\"TTN, $r=20$\")\n",
    "ax2.plot(np.arange(tree_r25.grid.n[3]), ttn_marginal_r_25[3], \"<\", label=\"TTN, $r=25$\")\n",
    "ax2.plot(np.arange(tree_r30.grid.n[3]), ttn_marginal_r_30[3], \"^\", label=\"TTN, $r=30$\")\n",
    "ax2.plot(np.arange(tree_r35.grid.n[3]), ttn_marginal_r_35[3], \">\", label=\"TTN, $r=35$\")\n",
    "ax2.plot(np.arange(tree_r40.grid.n[3]), ttn_marginal_r_40[3], \">\", label=\"TTN, $r=40$\")\n",
    "ax2.plot(np.arange(ssa_1e6_sol.n[1])+ssa_1e6_sol.n_min[1], ssa_marginal_1e6[-1][1], \"k.\", label=\"SSA, $10^6$ runs\")\n",
    "ax2.set_xlabel(\"$x_1$\")\n",
    "\n",
    "ax2.legend()\n",
    "plt.savefig(\"plots/efc_fig1.pdf\")"
   ]
  },
  {
   "cell_type": "code",
   "execution_count": null,
   "metadata": {},
   "outputs": [],
   "source": [
    "time_series = TimeSeries(\"output/efc_r5_e_tau1e-5\")\n",
    "mass_err_r5 = time_series.getMassErr()"
   ]
  },
  {
   "cell_type": "code",
   "execution_count": null,
   "metadata": {},
   "outputs": [],
   "source": [
    "time = time_series.time"
   ]
  },
  {
   "cell_type": "code",
   "execution_count": null,
   "metadata": {},
   "outputs": [],
   "source": [
    "fig, ax = plt.subplots()\n",
    "ax.plot(time, np.abs(mass_err_r5), label=\"TTN, $r=5$\")\n",
    "ax.set_xlabel(\"$t$\")\n",
    "ax.set_ylabel(\"$|\\Delta m(t)|$\")\n",
    "ax.set_yscale(\"log\")\n",
    "ax.legend()\n",
    "plt.savefig(\"plots/efc_fig2.pdf\")"
   ]
  }
 ],
 "metadata": {
  "kernelspec": {
   "display_name": "base",
   "language": "python",
   "name": "python3"
  },
  "language_info": {
   "codemirror_mode": {
    "name": "ipython",
    "version": 3
   },
   "file_extension": ".py",
   "mimetype": "text/x-python",
   "name": "python",
   "nbconvert_exporter": "python",
   "pygments_lexer": "ipython3",
   "version": "3.10.14"
  }
 },
 "nbformat": 4,
 "nbformat_minor": 2
}
