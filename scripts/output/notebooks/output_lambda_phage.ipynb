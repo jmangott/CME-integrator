{
 "cells": [
  {
   "cell_type": "markdown",
   "metadata": {},
   "source": [
    "# Lambda phage"
   ]
  },
  {
   "cell_type": "code",
   "execution_count": null,
   "metadata": {},
   "outputs": [],
   "source": [
    "import matplotlib.gridspec as gridspec\n",
    "import matplotlib.pyplot as plt\n",
    "import numpy as np\n",
    "from pysb.integrate import odesolve\n",
    "from scripts.models.lambda_phage_pysb import model\n",
    "\n",
    "from scripts.grid_class import GridParms\n",
    "from scripts.tree_class import Tree\n",
    "from scripts.output.output_helper import *\n",
    "from scripts.reference_solutions.ssa_helper import SSASol\n",
    "\n",
    "plt.style.use(\"./scripts/output/notebooks/custom_style.mplstyle\")\n",
    "%matplotlib inline"
   ]
  },
  {
   "cell_type": "code",
   "execution_count": null,
   "metadata": {},
   "outputs": [],
   "source": [
    "concentrations_ode = odesolve(model, np.arange(10.0))\n",
    "slice_vec = []\n",
    "for o in model.observables:\n",
    "    slice_vec.append(int(np.round(concentrations_ode[o.name][-1])))\n",
    "slice_vec = np.array(slice_vec)"
   ]
  },
  {
   "cell_type": "markdown",
   "metadata": {},
   "source": [
    "## Load initial data"
   ]
  },
  {
   "cell_type": "code",
   "execution_count": null,
   "metadata": {},
   "outputs": [],
   "source": [
    "with np.load(\"scripts/reference_solutions/lp_ode_ref_r5.npz\") as data:\n",
    "    P_exact = data['P_full']\n",
    "    P_best_approximation_r5 = data['P_best_approximation']"
   ]
  },
  {
   "cell_type": "code",
   "execution_count": null,
   "metadata": {},
   "outputs": [],
   "source": [
    "with np.load(\"scripts/reference_solutions/lp_ode_ref_r9.npz\") as data:\n",
    "    P_exact = data['P_full']\n",
    "    P_best_approximation_r9 = data['P_best_approximation']"
   ]
  },
  {
   "cell_type": "code",
   "execution_count": null,
   "metadata": {},
   "outputs": [],
   "source": [
    "ssa_1e4 = np.load(\"scripts/reference_solutions/lp_ssa_1e4.npy\")\n",
    "ssa_1e4_sol = SSASol(ssa_1e4)\n",
    "P_ssa_1e4 = ssa_1e4_sol.calculateFullDistribution()"
   ]
  },
  {
   "cell_type": "code",
   "execution_count": null,
   "metadata": {},
   "outputs": [],
   "source": [
    "ssa_1e5 = np.load(\"scripts/reference_solutions/lp_ssa_1e5.npy\")\n",
    "ssa_1e5_sol = SSASol(ssa_1e5)\n",
    "P_ssa_1e5 = ssa_1e5_sol.calculateFullDistribution()"
   ]
  },
  {
   "cell_type": "code",
   "execution_count": null,
   "metadata": {},
   "outputs": [],
   "source": [
    "ssa_1e6 = np.load(\"scripts/reference_solutions/lp_ssa_1e6.npy\")\n",
    "ssa_1e6_sol = SSASol(ssa_1e6)\n",
    "P_ssa_1e6 = ssa_1e6_sol.calculateFullDistribution()"
   ]
  },
  {
   "cell_type": "markdown",
   "metadata": {},
   "source": [
    "## Comparison of TTN and SSA results with matrix integrator"
   ]
  },
  {
   "cell_type": "markdown",
   "metadata": {},
   "source": [
    "### Load data"
   ]
  },
  {
   "cell_type": "markdown",
   "metadata": {},
   "source": [
    "#### Get walltimes"
   ]
  },
  {
   "cell_type": "code",
   "execution_count": null,
   "metadata": {},
   "outputs": [],
   "source": [
    "time_series = TimeSeries(\"output/lambda_phage_p0_r5-3_e_tau1e-3\")\n",
    "walltime_p0_r_5_3 = time_series.getWallTime()"
   ]
  },
  {
   "cell_type": "code",
   "execution_count": null,
   "metadata": {},
   "outputs": [],
   "source": [
    "time_series = TimeSeries(\"output/lambda_phage_p0_r5-4_e_tau1e-3\")\n",
    "walltime_p0_r_5_4 = time_series.getWallTime()"
   ]
  },
  {
   "cell_type": "code",
   "execution_count": null,
   "metadata": {},
   "outputs": [],
   "source": [
    "time_series = TimeSeries(\"output/lambda_phage_p0_r5-5_e_tau1e-3\")\n",
    "walltime_p0_r_5_5 = time_series.getWallTime()"
   ]
  },
  {
   "cell_type": "code",
   "execution_count": null,
   "metadata": {},
   "outputs": [],
   "source": [
    "time_series = TimeSeries(\"output/lambda_phage_p0_r9-5_e_tau1e-3\")\n",
    "walltime_p0_r_9_5 = time_series.getWallTime()"
   ]
  },
  {
   "cell_type": "code",
   "execution_count": null,
   "metadata": {},
   "outputs": [],
   "source": [
    "time_series = TimeSeries(\"output/lambda_phage_p0_r9-9_e_tau1e-3\")\n",
    "walltime_p0_r_9_9 = time_series.getWallTime()"
   ]
  },
  {
   "cell_type": "code",
   "execution_count": null,
   "metadata": {},
   "outputs": [],
   "source": [
    "time_series = TimeSeries(\"output/lambda_phage_pfull_r5_e_tau1e-3\")\n",
    "walltime_pfull = time_series.getWallTime()"
   ]
  },
  {
   "cell_type": "code",
   "execution_count": null,
   "metadata": {},
   "outputs": [],
   "source": [
    "walltime_exact = 1164"
   ]
  },
  {
   "cell_type": "code",
   "execution_count": null,
   "metadata": {},
   "outputs": [],
   "source": [
    "walltime_ssa_1e4 = 855\n",
    "walltime_ssa_1e5 = 905\n",
    "walltime_ssa_1e6 = 2319"
   ]
  },
  {
   "cell_type": "code",
   "execution_count": null,
   "metadata": {},
   "outputs": [],
   "source": [
    "walltimes = [walltime_exact, walltime_ssa_1e6, walltime_ssa_1e5, walltime_ssa_1e4, walltime_p0_r_9_9, walltime_p0_r_5_5, walltime_p0_r_5_4, walltime_p0_r_5_3]\n",
    "labels = [\"exact\", \"$10^6$ runs\", \"$10^5$ runs\", \"$10^4$ runs\", \"$r = (9, 9)$\", \"$r = (5, 5)$\", \"$r = (5, 4)$\", \"$r = (5, 3)$\"]\n",
    "colors = plt.rcParams['axes.prop_cycle'].by_key()['color']\n",
    "color = [\"grey\", colors[1], colors[1], colors[1], colors[0], colors[0], colors[0], colors[0]]\n",
    "bar_labels = ['_exact', 'SSA', '_SSA', '_SSA', 'PS-TTN integrator', '_PS-TTN integrator', '_PS-TTN integrator', '_PS-TTN integrator']"
   ]
  },
  {
   "cell_type": "markdown",
   "metadata": {},
   "source": [
    "### Plots"
   ]
  },
  {
   "cell_type": "markdown",
   "metadata": {},
   "source": [
    "#### Error between TTN integrator and the matrix integrator reference solution"
   ]
  },
  {
   "cell_type": "code",
   "execution_count": null,
   "metadata": {},
   "outputs": [],
   "source": [
    "time_series = TimeSeries(\"output/lambda_phage_p0_r5-3_e_tau1e-3\")\n",
    "time = time_series.time\n",
    "P_p0_r5_3_tau_1e3 = time_series.calculateFullDistribution()\n",
    "err_r_5_3 = np.linalg.norm(P_p0_r5_3_tau_1e3 - P_exact, axis=1)\n",
    "\n",
    "time_series = TimeSeries(\"output/lambda_phage_p0_r5-4_e_tau1e-3\")\n",
    "P_p0_r5_4_tau_1e3 = time_series.calculateFullDistribution()\n",
    "err_r_5_4 = np.linalg.norm(P_p0_r5_4_tau_1e3 - P_exact, axis=1)\n",
    "\n",
    "time_series = TimeSeries(\"output/lambda_phage_p0_r5-5_e_tau1e-3\")\n",
    "P_p0_r5_5_tau_1e3 = time_series.calculateFullDistribution()\n",
    "err_r_5_5 = np.linalg.norm(P_p0_r5_5_tau_1e3 - P_exact, axis=1)\n",
    "\n",
    "time_series = TimeSeries(\"output/lambda_phage_p0_r9-5_e_tau1e-3\")\n",
    "P_p0_r9_5_tau_1e3 = time_series.calculateFullDistribution()\n",
    "err_r_9_5 = np.linalg.norm(P_p0_r9_5_tau_1e3 - P_exact, axis=1)\n",
    "\n",
    "time_series = TimeSeries(\"output/lambda_phage_p0_r9-9_e_tau1e-3\")\n",
    "P_p0_r9_9_tau_1e3 = time_series.calculateFullDistribution()\n",
    "err_r_9_9 = np.linalg.norm(P_p0_r9_9_tau_1e3 - P_exact, axis=1)"
   ]
  },
  {
   "cell_type": "code",
   "execution_count": null,
   "metadata": {},
   "outputs": [],
   "source": [
    "def calculateSSAError(P_ssa, P_exact, ssa_sol):\n",
    "    grid_liml = np.array([0, 0, 0, 0 ,0], dtype=\"int64\")\n",
    "    grid_n = np.array([16, 41, 11, 11, 11], dtype=\"int64\")\n",
    "\n",
    "    n_min = np.amax(np.stack((grid_liml, ssa_sol.n_min)), axis=0)\n",
    "    n_max = np.amin(np.stack((grid_n + grid_liml, ssa_sol.n_max)), axis=0)\n",
    "    n = n_max - n_min\n",
    "    dx = np.prod(n)\n",
    "    t = P_ssa.shape[0]\n",
    "    P_ssa_red = np.zeros((t, dx))\n",
    "    P_exact_red = np.zeros((t, dx))\n",
    "\n",
    "    vec_index = np.zeros(n.size, dtype=\"int64\")\n",
    "    for i in range(P_exact.shape[1]):\n",
    "        if np.all(vec_index < n):\n",
    "            new_index = vecIndexToCombIndex(vec_index, n)\n",
    "            P_exact_red[:, new_index] = P_exact[:, i]\n",
    "        incrVecIndex(vec_index, grid_n, grid_n.size)\n",
    "\n",
    "    vec_index = np.zeros(n.size, dtype=\"int64\")\n",
    "    for i in range(P_ssa.shape[1]):\n",
    "        if np.all(vec_index < n):\n",
    "            new_index = vecIndexToCombIndex(vec_index, n)\n",
    "            P_ssa_red[:, new_index] = P_ssa[:, i]\n",
    "        incrVecIndex(vec_index, ssa_sol.n, ssa_sol.n.size)\n",
    "\n",
    "    return np.linalg.norm(P_ssa_red - P_exact_red, axis=1)"
   ]
  },
  {
   "cell_type": "code",
   "execution_count": null,
   "metadata": {},
   "outputs": [],
   "source": [
    "err_ssa_1e4 = calculateSSAError(P_ssa_1e4, P_exact, ssa_1e4_sol)\n",
    "err_ssa_1e5 = calculateSSAError(P_ssa_1e5, P_exact, ssa_1e5_sol)\n",
    "err_ssa_1e6 = calculateSSAError(P_ssa_1e6, P_exact, ssa_1e6_sol)"
   ]
  },
  {
   "cell_type": "code",
   "execution_count": null,
   "metadata": {},
   "outputs": [],
   "source": [
    "err_best_approximation_r5 = np.linalg.norm(P_best_approximation_r5 - P_exact, axis=1)\n",
    "err_best_approximation_r9 = np.linalg.norm(P_best_approximation_r9 - P_exact, axis=1)"
   ]
  },
  {
   "cell_type": "markdown",
   "metadata": {},
   "source": [
    "### Plots"
   ]
  },
  {
   "cell_type": "code",
   "execution_count": null,
   "metadata": {},
   "outputs": [],
   "source": [
    "gs = gridspec.GridSpec(10, 8)\n",
    "\n",
    "fig = plt.figure(figsize=(7, 9))\n",
    "\n",
    "general_labels = [\"best-approximation ($r=5$)\", \"best-approximation ($r=9$)\"]\n",
    "\n",
    "ax0 = plt.subplot(gs[0:5, :4])\n",
    "ax0.plot(time[1:], err_r_5_3[1:], '.-', label=\"$r = (5, 3)$\")\n",
    "ax0.plot(time[1:], err_r_5_4[1:], '.-', label=\"$r = (5, 4)$\")\n",
    "ax0.plot(time[1:], err_r_5_5[1:], '.-', label=\"$r = (5, 5)$\")\n",
    "# axs[0].plot(time[1:], err_r_9_5[1:], '.-', label=\"$r = (9, 5)$\")\n",
    "ax0.plot(time[1:], err_r_9_9[1:], '.-', label=\"$r = (9, 9)$\")\n",
    "l1, = ax0.plot(time[1:], err_best_approximation_r5[1:], 'k:')\n",
    "l2, = ax0.plot(time[1:], err_best_approximation_r9[1:], 'k-.')\n",
    "\n",
    "ax0.set_yscale(\"log\")\n",
    "ax0.set_xlabel(\"$t$\")\n",
    "ax0.legend(ncols=1)\n",
    "ax0.set_title(\"$\\Vert P^\\mathrm{{TTN}}(t,\\mathbf{{x}})-P^\\mathrm{{ref}}(t,\\mathbf{{x}}) \\Vert$\")\n",
    "\n",
    "ax1 = plt.subplot(gs[0:5, 4:])\n",
    "ax1.plot(time[1:], err_ssa_1e4[1:], 'x-', label=\"$10^4$ runs\")\n",
    "ax1.plot(time[1:], err_ssa_1e5[1:], 'x-', label=\"$10^5$ runs\")\n",
    "ax1.plot(time[1:], err_ssa_1e6[1:], 'x-', label=\"$10^6$ runs\")\n",
    "ax1.plot(time[1:], err_best_approximation_r5[1:], 'k:')\n",
    "ax1.plot(time[1:], err_best_approximation_r9[1:], 'k-.')\n",
    "\n",
    "ax1.set_yscale(\"log\")\n",
    "ax1.set_xlabel(\"$t$\")\n",
    "ax1.legend(ncols=1)\n",
    "ax1.set_title(\"$\\Vert P^\\mathrm{{SSA}}(t,\\mathbf{{x}})-P^\\mathrm{{ref}}(t,\\mathbf{{x}}) \\Vert$\")\n",
    "ax1.yaxis.tick_right()\n",
    "ax1.yaxis.set_ticks_position(\"both\")\n",
    "ax1.yaxis.set_label_position(\"right\")\n",
    "\n",
    "plt.setp((ax0, ax1), ylim=[2e-5, 2e-1], xticks=[1, 4, 7, 10])\n",
    "\n",
    "ax2 = plt.subplot(gs[6:, 2:7])\n",
    "ax2.barh(labels, walltimes, label=bar_labels, color=color)\n",
    "ax2.set_xscale(\"log\")\n",
    "ax2.set_xlabel(\"wall time [$\\mathrm{{s}}$]\")\n",
    "ax2.legend()\n",
    "\n",
    "plt.subplots_adjust(hspace=0.5, wspace=0.0)\n",
    "\n",
    "fig.legend([l1, l2], general_labels, loc=\"center\", ncols=2, bbox_to_anchor=(0.5, 0.45))\n",
    "plt.tight_layout()\n",
    "plt.savefig(\"plots/comparison_ttn_ssa.pdf\");"
   ]
  },
  {
   "cell_type": "markdown",
   "metadata": {},
   "source": [
    "## Error depending on time step size"
   ]
  },
  {
   "cell_type": "code",
   "execution_count": null,
   "metadata": {},
   "outputs": [],
   "source": [
    "dm_max_r_5_6 = []\n",
    "dm_max_r_5_5 = []\n",
    "dm_max_r_5_4 = []\n",
    "dm_max_r_5_3 = []\n",
    "dm_max_r_9_9 = []\n",
    "dm_max_r_9_9_i = []\n",
    "\n",
    "err_r_5_6 = []\n",
    "err_r_5_5 = []\n",
    "err_r_5_4 = []\n",
    "err_r_5_3 = []\n",
    "err_r_9_9 = []\n",
    "err_r_9_9_i = []\n",
    "\n",
    "tau = []\n",
    "\n",
    "time_series = TimeSeries(\"output/lambda_phage_p0_r5-6_e_tau5e-1\")\n",
    "dm_max_r_5_6.append(np.abs(time_series.getMaxMassErr()))\n",
    "P_ttn = time_series.calculateFullDistribution()\n",
    "err_r_5_6.append(np.linalg.norm(P_ttn[-1] - P_exact[-1], ord=None))\n",
    "\n",
    "time_series = TimeSeries(\"output/lambda_phage_p0_r5-5_e_tau5e-1\")\n",
    "dm_max_r_5_5.append(np.abs(time_series.getMaxMassErr()))\n",
    "P_ttn = time_series.calculateFullDistribution()\n",
    "err_r_5_5.append(np.linalg.norm(P_ttn[-1] - P_exact[-1], ord=None))\n",
    "\n",
    "time_series = TimeSeries(\"output/lambda_phage_p0_r5-4_e_tau5e-1\")\n",
    "dm_max_r_5_4.append(np.abs(time_series.getMaxMassErr()))\n",
    "P_ttn = time_series.calculateFullDistribution()\n",
    "err_r_5_4.append(np.linalg.norm(P_ttn[-1] - P_exact[-1], ord=None))\n",
    "\n",
    "time_series = TimeSeries(\"output/lambda_phage_p0_r5-3_e_tau5e-1\")\n",
    "dm_max_r_5_3.append(np.abs(time_series.getMaxMassErr()))\n",
    "P_ttn = time_series.calculateFullDistribution()\n",
    "err_r_5_3.append(np.linalg.norm(P_ttn[-1] - P_exact[-1], ord=None))\n",
    "\n",
    "time_series = TimeSeries(\"output/lambda_phage_p0_r9-9_e_tau5e-1\")\n",
    "dm_max_r_9_9.append(np.abs(time_series.getMaxMassErr()))\n",
    "P_ttn = time_series.calculateFullDistribution()\n",
    "err_r_9_9.append(np.linalg.norm(P_ttn[-1] - P_exact[-1], ord=None))\n",
    "\n",
    "time_series = TimeSeries(\"output/lambda_phage_p0_r9-9_i_tau5e-1\")\n",
    "dm_max_r_9_9_i.append(np.abs(time_series.getMaxMassErr()))\n",
    "P_ttn = time_series.calculateFullDistribution()\n",
    "err_r_9_9_i.append(np.linalg.norm(P_ttn[-1] - P_exact[-1], ord=None))\n",
    "tau.append(time_series.getTau())\n",
    "\n",
    "\n",
    "time_series = TimeSeries(\"output/lambda_phage_p0_r5-6_e_tau2e-1\")\n",
    "dm_max_r_5_6.append(np.abs(time_series.getMaxMassErr()))\n",
    "P_ttn = time_series.calculateFullDistribution()\n",
    "err_r_5_6.append(np.linalg.norm(P_ttn[-1] - P_exact[-1], ord=None))\n",
    "\n",
    "time_series = TimeSeries(\"output/lambda_phage_p0_r5-5_e_tau2e-1\")\n",
    "dm_max_r_5_5.append(np.abs(time_series.getMaxMassErr()))\n",
    "P_ttn = time_series.calculateFullDistribution()\n",
    "err_r_5_5.append(np.linalg.norm(P_ttn[-1] - P_exact[-1], ord=None))\n",
    "\n",
    "time_series = TimeSeries(\"output/lambda_phage_p0_r5-4_e_tau2e-1\")\n",
    "dm_max_r_5_4.append(np.abs(time_series.getMaxMassErr()))\n",
    "P_ttn = time_series.calculateFullDistribution()\n",
    "err_r_5_4.append(np.linalg.norm(P_ttn[-1] - P_exact[-1], ord=None))\n",
    "\n",
    "time_series = TimeSeries(\"output/lambda_phage_p0_r5-3_e_tau2e-1\")\n",
    "dm_max_r_5_3.append(np.abs(time_series.getMaxMassErr()))\n",
    "P_ttn = time_series.calculateFullDistribution()\n",
    "err_r_5_3.append(np.linalg.norm(P_ttn[-1] - P_exact[-1], ord=None))\n",
    "\n",
    "time_series = TimeSeries(\"output/lambda_phage_p0_r9-9_e_tau2e-1\")\n",
    "dm_max_r_9_9.append(np.abs(time_series.getMaxMassErr()))\n",
    "P_ttn = time_series.calculateFullDistribution()\n",
    "err_r_9_9.append(np.linalg.norm(P_ttn[-1] - P_exact[-1], ord=None))\n",
    "\n",
    "time_series = TimeSeries(\"output/lambda_phage_p0_r9-9_i_tau2e-1\")\n",
    "dm_max_r_9_9_i.append(np.abs(time_series.getMaxMassErr()))\n",
    "P_ttn = time_series.calculateFullDistribution()\n",
    "err_r_9_9_i.append(np.linalg.norm(P_ttn[-1] - P_exact[-1], ord=None))\n",
    "tau.append(time_series.getTau())\n",
    "\n",
    "\n",
    "time_series = TimeSeries(\"output/lambda_phage_p0_r5-6_e_tau1e-1\")\n",
    "dm_max_r_5_6.append(np.abs(time_series.getMaxMassErr()))\n",
    "P_ttn = time_series.calculateFullDistribution()\n",
    "err_r_5_6.append(np.linalg.norm(P_ttn[-1] - P_exact[-1], ord=None))\n",
    "\n",
    "time_series = TimeSeries(\"output/lambda_phage_p0_r5-5_e_tau1e-1\")\n",
    "dm_max_r_5_5.append(np.abs(time_series.getMaxMassErr()))\n",
    "P_ttn = time_series.calculateFullDistribution()\n",
    "err_r_5_5.append(np.linalg.norm(P_ttn[-1] - P_exact[-1], ord=None))\n",
    "\n",
    "time_series = TimeSeries(\"output/lambda_phage_p0_r5-4_e_tau1e-1\")\n",
    "dm_max_r_5_4.append(np.abs(time_series.getMaxMassErr()))\n",
    "P_ttn = time_series.calculateFullDistribution()\n",
    "err_r_5_4.append(np.linalg.norm(P_ttn[-1] - P_exact[-1], ord=None))\n",
    "\n",
    "time_series = TimeSeries(\"output/lambda_phage_p0_r5-3_e_tau1e-1\")\n",
    "dm_max_r_5_3.append(np.abs(time_series.getMaxMassErr()))\n",
    "P_ttn = time_series.calculateFullDistribution()\n",
    "err_r_5_3.append(np.linalg.norm(P_ttn[-1] - P_exact[-1], ord=None))\n",
    "\n",
    "time_series = TimeSeries(\"output/lambda_phage_p0_r9-9_e_tau1e-1\")\n",
    "dm_max_r_9_9.append(np.abs(time_series.getMaxMassErr()))\n",
    "P_ttn = time_series.calculateFullDistribution()\n",
    "err_r_9_9.append(np.linalg.norm(P_ttn[-1] - P_exact[-1], ord=None))\n",
    "\n",
    "time_series = TimeSeries(\"output/lambda_phage_p0_r9-9_i_tau1e-1\")\n",
    "dm_max_r_9_9_i.append(np.abs(time_series.getMaxMassErr()))\n",
    "P_ttn = time_series.calculateFullDistribution()\n",
    "err_r_9_9_i.append(np.linalg.norm(P_ttn[-1] - P_exact[-1], ord=None))\n",
    "tau.append(time_series.getTau())\n",
    "\n",
    "\n",
    "time_series = TimeSeries(\"output/lambda_phage_p0_r5-6_e_tau5e-2\")\n",
    "dm_max_r_5_6.append(np.abs(time_series.getMaxMassErr()))\n",
    "P_ttn = time_series.calculateFullDistribution()\n",
    "err_r_5_6.append(np.linalg.norm(P_ttn[-1] - P_exact[-1], ord=None))\n",
    "\n",
    "time_series = TimeSeries(\"output/lambda_phage_p0_r5-5_e_tau5e-2\")\n",
    "dm_max_r_5_5.append(np.abs(time_series.getMaxMassErr()))\n",
    "P_ttn = time_series.calculateFullDistribution()\n",
    "err_r_5_5.append(np.linalg.norm(P_ttn[-1] - P_exact[-1], ord=None))\n",
    "\n",
    "time_series = TimeSeries(\"output/lambda_phage_p0_r5-4_e_tau5e-2\")\n",
    "dm_max_r_5_4.append(np.abs(time_series.getMaxMassErr()))\n",
    "P_ttn = time_series.calculateFullDistribution()\n",
    "err_r_5_4.append(np.linalg.norm(P_ttn[-1] - P_exact[-1], ord=None))\n",
    "\n",
    "time_series = TimeSeries(\"output/lambda_phage_p0_r5-3_e_tau5e-2\")\n",
    "dm_max_r_5_3.append(np.abs(time_series.getMaxMassErr()))\n",
    "P_ttn = time_series.calculateFullDistribution()\n",
    "err_r_5_3.append(np.linalg.norm(P_ttn[-1] - P_exact[-1], ord=None))\n",
    "\n",
    "time_series = TimeSeries(\"output/lambda_phage_p0_r9-9_e_tau5e-2\")\n",
    "dm_max_r_9_9.append(np.abs(time_series.getMaxMassErr()))\n",
    "P_ttn = time_series.calculateFullDistribution()\n",
    "err_r_9_9.append(np.linalg.norm(P_ttn[-1] - P_exact[-1], ord=None))\n",
    "\n",
    "time_series = TimeSeries(\"output/lambda_phage_p0_r9-9_i_tau5e-2\")\n",
    "dm_max_r_9_9_i.append(np.abs(time_series.getMaxMassErr()))\n",
    "P_ttn = time_series.calculateFullDistribution()\n",
    "err_r_9_9_i.append(np.linalg.norm(P_ttn[-1] - P_exact[-1], ord=None))\n",
    "tau.append(time_series.getTau())\n",
    "\n",
    "\n",
    "time_series = TimeSeries(\"output/lambda_phage_p0_r5-6_e_tau2e-2\")\n",
    "dm_max_r_5_6.append(np.abs(time_series.getMaxMassErr()))\n",
    "P_ttn = time_series.calculateFullDistribution()\n",
    "err_r_5_6.append(np.linalg.norm(P_ttn[-1] - P_exact[-1], ord=None))\n",
    "\n",
    "time_series = TimeSeries(\"output/lambda_phage_p0_r5-5_e_tau2e-2\")\n",
    "dm_max_r_5_5.append(np.abs(time_series.getMaxMassErr()))\n",
    "P_ttn = time_series.calculateFullDistribution()\n",
    "err_r_5_5.append(np.linalg.norm(P_ttn[-1] - P_exact[-1], ord=None))\n",
    "\n",
    "time_series = TimeSeries(\"output/lambda_phage_p0_r5-4_e_tau2e-2\")\n",
    "dm_max_r_5_4.append(np.abs(time_series.getMaxMassErr()))\n",
    "P_ttn = time_series.calculateFullDistribution()\n",
    "err_r_5_4.append(np.linalg.norm(P_ttn[-1] - P_exact[-1], ord=None))\n",
    "\n",
    "time_series = TimeSeries(\"output/lambda_phage_p0_r5-3_e_tau2e-2\")\n",
    "dm_max_r_5_3.append(np.abs(time_series.getMaxMassErr()))\n",
    "P_ttn = time_series.calculateFullDistribution()\n",
    "err_r_5_3.append(np.linalg.norm(P_ttn[-1] - P_exact[-1], ord=None))\n",
    "\n",
    "time_series = TimeSeries(\"output/lambda_phage_p0_r9-9_e_tau2e-2\")\n",
    "dm_max_r_9_9.append(np.abs(time_series.getMaxMassErr()))\n",
    "P_ttn = time_series.calculateFullDistribution()\n",
    "err_r_9_9.append(np.linalg.norm(P_ttn[-1] - P_exact[-1], ord=None))\n",
    "\n",
    "time_series = TimeSeries(\"output/lambda_phage_p0_r9-9_i_tau2e-2\")\n",
    "dm_max_r_9_9_i.append(np.abs(time_series.getMaxMassErr()))\n",
    "P_ttn = time_series.calculateFullDistribution()\n",
    "err_r_9_9_i.append(np.linalg.norm(P_ttn[-1] - P_exact[-1], ord=None))\n",
    "tau.append(time_series.getTau())\n",
    "\n",
    "\n",
    "time_series = TimeSeries(\"output/lambda_phage_p0_r5-6_e_tau1e-2\")\n",
    "dm_max_r_5_6.append(np.abs(time_series.getMaxMassErr()))\n",
    "P_ttn = time_series.calculateFullDistribution()\n",
    "err_r_5_6.append(np.linalg.norm(P_ttn[-1] - P_exact[-1], ord=None))\n",
    "\n",
    "time_series = TimeSeries(\"output/lambda_phage_p0_r5-5_e_tau1e-2\")\n",
    "dm_max_r_5_5.append(np.abs(time_series.getMaxMassErr()))\n",
    "P_ttn = time_series.calculateFullDistribution()\n",
    "err_r_5_5.append(np.linalg.norm(P_ttn[-1] - P_exact[-1], ord=None))\n",
    "\n",
    "time_series = TimeSeries(\"output/lambda_phage_p0_r5-4_e_tau1e-2\")\n",
    "dm_max_r_5_4.append(np.abs(time_series.getMaxMassErr()))\n",
    "P_ttn = time_series.calculateFullDistribution()\n",
    "err_r_5_4.append(np.linalg.norm(P_ttn[-1] - P_exact[-1], ord=None))\n",
    "\n",
    "time_series = TimeSeries(\"output/lambda_phage_p0_r5-3_e_tau1e-2\")\n",
    "dm_max_r_5_3.append(np.abs(time_series.getMaxMassErr()))\n",
    "P_ttn = time_series.calculateFullDistribution()\n",
    "err_r_5_3.append(np.linalg.norm(P_ttn[-1] - P_exact[-1], ord=None))\n",
    "\n",
    "time_series = TimeSeries(\"output/lambda_phage_p0_r9-9_e_tau1e-2\")\n",
    "dm_max_r_9_9.append(np.abs(time_series.getMaxMassErr()))\n",
    "P_ttn = time_series.calculateFullDistribution()\n",
    "err_r_9_9.append(np.linalg.norm(P_ttn[-1] - P_exact[-1], ord=None))\n",
    "\n",
    "time_series = TimeSeries(\"output/lambda_phage_p0_r9-9_i_tau1e-2\")\n",
    "dm_max_r_9_9_i.append(np.abs(time_series.getMaxMassErr()))\n",
    "P_ttn = time_series.calculateFullDistribution()\n",
    "err_r_9_9_i.append(np.linalg.norm(P_ttn[-1] - P_exact[-1], ord=None))\n",
    "tau.append(time_series.getTau())\n",
    "\n",
    "\n",
    "time_series = TimeSeries(\"output/lambda_phage_p0_r5-6_e_tau5e-3\")\n",
    "dm_max_r_5_6.append(np.abs(time_series.getMaxMassErr()))\n",
    "P_ttn = time_series.calculateFullDistribution()\n",
    "err_r_5_6.append(np.linalg.norm(P_ttn[-1] - P_exact[-1], ord=None))\n",
    "\n",
    "time_series = TimeSeries(\"output/lambda_phage_p0_r5-5_e_tau5e-3\")\n",
    "dm_max_r_5_5.append(np.abs(time_series.getMaxMassErr()))\n",
    "P_ttn = time_series.calculateFullDistribution()\n",
    "err_r_5_5.append(np.linalg.norm(P_ttn[-1] - P_exact[-1], ord=None))\n",
    "\n",
    "time_series = TimeSeries(\"output/lambda_phage_p0_r5-4_e_tau5e-3\")\n",
    "dm_max_r_5_4.append(np.abs(time_series.getMaxMassErr()))\n",
    "P_ttn = time_series.calculateFullDistribution()\n",
    "err_r_5_4.append(np.linalg.norm(P_ttn[-1] - P_exact[-1], ord=None))\n",
    "\n",
    "time_series = TimeSeries(\"output/lambda_phage_p0_r5-3_e_tau5e-3\")\n",
    "dm_max_r_5_3.append(np.abs(time_series.getMaxMassErr()))\n",
    "P_ttn = time_series.calculateFullDistribution()\n",
    "err_r_5_3.append(np.linalg.norm(P_ttn[-1] - P_exact[-1], ord=None))\n",
    "\n",
    "time_series = TimeSeries(\"output/lambda_phage_p0_r9-9_e_tau5e-3\")\n",
    "dm_max_r_9_9.append(np.abs(time_series.getMaxMassErr()))\n",
    "P_ttn = time_series.calculateFullDistribution()\n",
    "err_r_9_9.append(np.linalg.norm(P_ttn[-1] - P_exact[-1], ord=None))\n",
    "\n",
    "time_series = TimeSeries(\"output/lambda_phage_p0_r9-9_i_tau5e-3\")\n",
    "dm_max_r_9_9_i.append(np.abs(time_series.getMaxMassErr()))\n",
    "P_ttn = time_series.calculateFullDistribution()\n",
    "err_r_9_9_i.append(np.linalg.norm(P_ttn[-1] - P_exact[-1], ord=None))\n",
    "tau.append(time_series.getTau())\n",
    "\n",
    "\n",
    "time_series = TimeSeries(\"output/lambda_phage_p0_r5-6_e_tau2e-3\")\n",
    "dm_max_r_5_6.append(np.abs(time_series.getMaxMassErr()))\n",
    "P_ttn = time_series.calculateFullDistribution()\n",
    "err_r_5_6.append(np.linalg.norm(P_ttn[-1] - P_exact[-1], ord=None))\n",
    "\n",
    "time_series = TimeSeries(\"output/lambda_phage_p0_r5-5_e_tau2e-3\")\n",
    "dm_max_r_5_5.append(np.abs(time_series.getMaxMassErr()))\n",
    "P_ttn = time_series.calculateFullDistribution()\n",
    "err_r_5_5.append(np.linalg.norm(P_ttn[-1] - P_exact[-1], ord=None))\n",
    "\n",
    "time_series = TimeSeries(\"output/lambda_phage_p0_r5-4_e_tau2e-3\")\n",
    "dm_max_r_5_4.append(np.abs(time_series.getMaxMassErr()))\n",
    "P_ttn = time_series.calculateFullDistribution()\n",
    "err_r_5_4.append(np.linalg.norm(P_ttn[-1] - P_exact[-1], ord=None))\n",
    "\n",
    "time_series = TimeSeries(\"output/lambda_phage_p0_r5-3_e_tau2e-3\")\n",
    "dm_max_r_5_3.append(np.abs(time_series.getMaxMassErr()))\n",
    "P_ttn = time_series.calculateFullDistribution()\n",
    "err_r_5_3.append(np.linalg.norm(P_ttn[-1] - P_exact[-1], ord=None))\n",
    "\n",
    "time_series = TimeSeries(\"output/lambda_phage_p0_r9-9_e_tau2e-3\")\n",
    "dm_max_r_9_9.append(np.abs(time_series.getMaxMassErr()))\n",
    "P_ttn = time_series.calculateFullDistribution()\n",
    "err_r_9_9.append(np.linalg.norm(P_ttn[-1] - P_exact[-1], ord=None))\n",
    "\n",
    "time_series = TimeSeries(\"output/lambda_phage_p0_r9-9_i_tau2e-3\")\n",
    "dm_max_r_9_9_i.append(np.abs(time_series.getMaxMassErr()))\n",
    "P_ttn = time_series.calculateFullDistribution()\n",
    "err_r_9_9_i.append(np.linalg.norm(P_ttn[-1] - P_exact[-1], ord=None))\n",
    "tau.append(time_series.getTau())\n",
    "\n",
    "\n",
    "time_series = TimeSeries(\"output/lambda_phage_p0_r5-6_e_tau1e-3\")\n",
    "dm_max_r_5_6.append(np.abs(time_series.getMaxMassErr()))\n",
    "P_ttn = time_series.calculateFullDistribution()\n",
    "err_r_5_6.append(np.linalg.norm(P_ttn[-1] - P_exact[-1], ord=None))\n",
    "\n",
    "time_series = TimeSeries(\"output/lambda_phage_p0_r5-5_e_tau1e-3\")\n",
    "dm_max_r_5_5.append(np.abs(time_series.getMaxMassErr()))\n",
    "P_ttn = time_series.calculateFullDistribution()\n",
    "err_r_5_5.append(np.linalg.norm(P_ttn[-1] - P_exact[-1], ord=None))\n",
    "\n",
    "time_series = TimeSeries(\"output/lambda_phage_p0_r5-4_e_tau1e-3\")\n",
    "dm_max_r_5_4.append(np.abs(time_series.getMaxMassErr()))\n",
    "P_ttn = time_series.calculateFullDistribution()\n",
    "err_r_5_4.append(np.linalg.norm(P_ttn[-1] - P_exact[-1], ord=None))\n",
    "\n",
    "time_series = TimeSeries(\"output/lambda_phage_p0_r5-3_e_tau1e-3\")\n",
    "dm_max_r_5_3.append(np.abs(time_series.getMaxMassErr()))\n",
    "P_ttn = time_series.calculateFullDistribution()\n",
    "err_r_5_3.append(np.linalg.norm(P_ttn[-1] - P_exact[-1], ord=None))\n",
    "\n",
    "time_series = TimeSeries(\"output/lambda_phage_p0_r9-9_e_tau1e-3\")\n",
    "dm_max_r_9_9.append(np.abs(time_series.getMaxMassErr()))\n",
    "P_ttn = time_series.calculateFullDistribution()\n",
    "err_r_9_9.append(np.linalg.norm(P_ttn[-1] - P_exact[-1], ord=None))\n",
    "\n",
    "time_series = TimeSeries(\"output/lambda_phage_p0_r9-9_i_tau1e-3\")\n",
    "dm_max_r_9_9_i.append(np.abs(time_series.getMaxMassErr()))\n",
    "P_ttn = time_series.calculateFullDistribution()\n",
    "err_r_9_9_i.append(np.linalg.norm(P_ttn[-1] - P_exact[-1], ord=None))\n",
    "tau.append(time_series.getTau())"
   ]
  },
  {
   "cell_type": "markdown",
   "metadata": {},
   "source": [
    "### Plot"
   ]
  },
  {
   "cell_type": "code",
   "execution_count": null,
   "metadata": {},
   "outputs": [],
   "source": [
    "fig, (ax1, ax2) = plt.subplots(1, 2, figsize=(8, 4), sharex=\"row\")\n",
    "t = np.linspace(0.005, 0.5)\n",
    "\n",
    "general_labels = [\"$r=(5, 3)$\", \"$r=(5, 4)$\", \"$r=(5, 5)$\", \"$r=(9, 9)$\"]\n",
    "\n",
    "l1, = ax1.loglog(tau, err_r_5_3, '.-')\n",
    "l2, = ax1.loglog(tau, err_r_5_4, '.-')\n",
    "l3, = ax1.loglog(tau, err_r_5_5, '.-')\n",
    "l4, = ax1.loglog(tau, err_r_9_9, '.-')\n",
    "ax1.loglog(tau, err_r_9_9_i, '-.', color=plt.rcParams['axes.prop_cycle'].by_key()['color'][3])\n",
    "# ax1.loglog(tau[:-2], err_r_9_9[:-2], '.-', label=\"$r=(6, 6)$\")\n",
    "ax1.loglog(t, t**1*0.02, 'k:', label=\"$\\Delta t$\")\n",
    "ax1.set_xlabel(\"$\\Delta t$\")\n",
    "ax1.set_ylabel(\"$\\Vert P^\\mathrm{{TTN}}(10,\\mathbf{{x}})-P^\\mathrm{{ref}}(10,\\mathbf{{x}}) \\Vert$\")\n",
    "ax1.set_ylim([5e-5, 5e1])\n",
    "ax1.legend()\n",
    "\n",
    "ax2.loglog(tau, dm_max_r_5_3, '.-')\n",
    "ax2.loglog(tau, dm_max_r_5_4, '.-')\n",
    "ax2.loglog(tau, dm_max_r_5_5, '.-')\n",
    "ax2.loglog(tau, dm_max_r_9_9, '.-')\n",
    "ax2.loglog(tau, dm_max_r_9_9_i, '-.', color=plt.rcParams['axes.prop_cycle'].by_key()['color'][3])\n",
    "# ax2.loglog(tau[:-2], dm_max_r_9_9[:-2], '.-', label=\"$r=(6, 4)$\")\n",
    "ax2.loglog(t, t**2*0.05, 'k--', label=\"$(\\Delta t)^2$\")\n",
    "ax2.set_xlabel(\"$\\Delta t$\")\n",
    "ax2.set_ylabel(\"$\\max_t(|\\Delta m(t)|)$\")\n",
    "ax2.set_ylim([5e-7, 5e1])\n",
    "ax2.legend()\n",
    "\n",
    "fig.legend([l1, l2, l3, l4], general_labels, loc=\"upper center\", ncol=5)\n",
    "plt.subplots_adjust(wspace=0.4)\n",
    "# plt.tight_layout()\n",
    "plt.savefig(\"plots/time_err_ttn.pdf\", bbox_inches=\"tight\");"
   ]
  },
  {
   "cell_type": "markdown",
   "metadata": {},
   "source": [
    "## Comparison with deterministic solution"
   ]
  },
  {
   "cell_type": "code",
   "execution_count": null,
   "metadata": {},
   "outputs": [],
   "source": [
    "time_series = TimeSeries(\"output/lambda_phage_p0_r5-5_e_tau1e-3\")\n",
    "concentrations = time_series.calculateMoments()\n",
    "t = time_series.time"
   ]
  },
  {
   "cell_type": "code",
   "execution_count": null,
   "metadata": {},
   "outputs": [],
   "source": [
    "concentrations_ode = odesolve(model, t)"
   ]
  },
  {
   "cell_type": "code",
   "execution_count": null,
   "metadata": {},
   "outputs": [],
   "source": [
    "fig, (ax1, ax2) = plt.subplots(1, 2, figsize=(7, 4))\n",
    "deviation = np.sqrt(concentrations[1]-concentrations[0]**2)\n",
    "observables = [\"x1\", \"x2\"]\n",
    "observables_alt = [\"$S_0$\", \"$S_1$\", \"$S_2$\"]\n",
    "colors = plt.rcParams['axes.prop_cycle'].by_key()['color']\n",
    "for i, (o, o_alt) in enumerate(zip(observables, observables_alt)):\n",
    "    ax1.plot(t, concentrations[0][:, i], '-', label=o_alt, color=colors[i], alpha=0.7)\n",
    "    ax1.fill_between(t, concentrations[0][:, i]-deviation[:, i], concentrations[0][:, i]+deviation[:, i], color=colors[i], alpha=.2)\n",
    "    ax1.plot(t, concentrations_ode[o], '--', color=colors[i], alpha=1.0)\n",
    "ax1.set_ylabel(\"$\\langle x_i(t) \\\\rangle$\")\n",
    "ax1.set_ylim([0.0, 20.0])\n",
    "\n",
    "observables = [\"x3\", \"x4\", \"x5\"]\n",
    "observables_alt = [\"$S_2$\", \"$S_3$\", \"$S_4$\"]\n",
    "for idx_o, (o, o_alt) in enumerate(zip(observables, observables_alt)):\n",
    "    i = idx_o + 2\n",
    "    ax2.plot(t, concentrations[0][:, i], '-', label=o_alt, color=colors[i], alpha=0.7)\n",
    "    ax2.fill_between(t, concentrations[0][:, i]-deviation[:, i], concentrations[0][:, i]+deviation[:, i], color=colors[i], alpha=.2)\n",
    "    ax2.plot(t, concentrations_ode[o], '--', color=colors[i], alpha=1.0)\n",
    "ax2.set_ylabel(\"$\\langle x_i(t) \\\\rangle$\")\n",
    "ax2.set_ylim([0, 2.5])\n",
    "ax2.yaxis.tick_right()\n",
    "ax2.yaxis.set_ticks_position(\"both\")\n",
    "ax2.yaxis.set_label_position(\"right\")\n",
    "plt.setp((ax1, ax2), xlabel=\"$t$\", xlim=[0.0, 10.0], xticks=[0.0, 2.5, 5.0, 7.5, 10.0]);\n",
    "\n",
    "lines_labels = [ax.get_legend_handles_labels() for ax in fig.axes]\n",
    "lines, labels = [sum(ll, []) for ll in zip(*lines_labels)]\n",
    "fig.legend(lines, labels, ncols=5, loc=\"upper center\")\n",
    "\n",
    "plt.savefig(\"plots/concentrations.pdf\");"
   ]
  },
  {
   "cell_type": "code",
   "execution_count": null,
   "metadata": {},
   "outputs": [],
   "source": [
    "fig, ax = plt.subplots(figsize=(6, 4), layout='constrained')\n",
    "for i, o in enumerate(model.observables):\n",
    "    ax.plot(t, np.abs((concentrations[0][:, i]-concentrations_ode[o.name])), '-', label=\"$S_{{{}}}$\".format(i))\n",
    "ax.set_xlabel(\"$t$\")\n",
    "ax.set_ylabel(\"$|c_i^\\mathrm{{CME}}(t) - c_i^\\mathrm{{ODE}}(t)|$\");\n",
    "fig.legend(*ax.get_legend_handles_labels(), loc=\"outside center right\")\n",
    "\n",
    "plt.savefig(\"plots/concentrations_err.pdf\");"
   ]
  },
  {
   "cell_type": "markdown",
   "metadata": {},
   "source": [
    "## Error depending on rank and partition"
   ]
  },
  {
   "cell_type": "markdown",
   "metadata": {},
   "source": [
    "### Load data"
   ]
  },
  {
   "cell_type": "markdown",
   "metadata": {},
   "source": [
    "#### Partition 0"
   ]
  },
  {
   "cell_type": "code",
   "execution_count": null,
   "metadata": {},
   "outputs": [],
   "source": [
    "time_series = TimeSeries(\"output/lambda_phage_p0_r5-3_e_tau1e-3\")\n",
    "P = time_series.calculateFullDistribution()\n",
    "err_00 = np.linalg.norm(P - P_exact, axis=1, ord=None)\n",
    "\n",
    "time_series = TimeSeries(\"output/lambda_phage_p0_r5-4_e_tau1e-3\")\n",
    "P = time_series.calculateFullDistribution()\n",
    "err_10 = np.linalg.norm(P - P_exact, axis=1, ord=None)\n",
    "\n",
    "time_series = TimeSeries(\"output/lambda_phage_p0_r5-5_e_tau1e-3\")\n",
    "P = time_series.calculateFullDistribution()\n",
    "err_20 = np.linalg.norm(P - P_exact, axis=1, ord=None)\n",
    "\n",
    "time_series = TimeSeries(\"output/lambda_phage_p0_r9-9_e_tau1e-3\")\n",
    "P = time_series.calculateFullDistribution()\n",
    "err_30 = np.linalg.norm(P - P_exact, axis=1, ord=None)"
   ]
  },
  {
   "cell_type": "markdown",
   "metadata": {},
   "source": [
    "#### Partition 1"
   ]
  },
  {
   "cell_type": "code",
   "execution_count": null,
   "metadata": {},
   "outputs": [],
   "source": [
    "time_series = TimeSeries(\"output/lambda_phage_p1_r5-3_e_tau1e-3\")\n",
    "P = time_series.calculateFullDistribution()\n",
    "err_01 = np.linalg.norm(P - P_exact, axis=1, ord=None)\n",
    "\n",
    "time_series = TimeSeries(\"output/lambda_phage_p1_r5-4_e_tau1e-3\")\n",
    "P = time_series.calculateFullDistribution()\n",
    "err_11 = np.linalg.norm(P - P_exact, axis=1, ord=None)\n",
    "\n",
    "time_series = TimeSeries(\"output/lambda_phage_p1_r5-5_e_tau1e-3\")\n",
    "P = time_series.calculateFullDistribution()\n",
    "err_21 = np.linalg.norm(P - P_exact, axis=1, ord=None)\n",
    "\n",
    "time_series = TimeSeries(\"output/lambda_phage_p1_r9-9_e_tau1e-3\")\n",
    "P = time_series.calculateFullDistribution()\n",
    "err_31 = np.linalg.norm(P - P_exact, axis=1, ord=None)"
   ]
  },
  {
   "cell_type": "markdown",
   "metadata": {},
   "source": [
    "#### Partition 2"
   ]
  },
  {
   "cell_type": "code",
   "execution_count": null,
   "metadata": {},
   "outputs": [],
   "source": [
    "time_series = TimeSeries(\"output/lambda_phage_p2_r5-3_e_tau1e-3\")\n",
    "P = time_series.calculateFullDistribution()\n",
    "err_02 = np.linalg.norm(P - P_exact, axis=1, ord=None)\n",
    "\n",
    "time_series = TimeSeries(\"output/lambda_phage_p2_r5-4_e_tau1e-3\")\n",
    "P = time_series.calculateFullDistribution()\n",
    "err_12 = np.linalg.norm(P - P_exact, axis=1, ord=None)\n",
    "\n",
    "time_series = TimeSeries(\"output/lambda_phage_p2_r5-5_e_tau1e-3\")\n",
    "P = time_series.calculateFullDistribution()\n",
    "err_22 = np.linalg.norm(P - P_exact, axis=1, ord=None)\n",
    "\n",
    "time_series = TimeSeries(\"output/lambda_phage_p2_r9-9_e_tau1e-3\")\n",
    "P = time_series.calculateFullDistribution()\n",
    "err_32 = np.linalg.norm(P - P_exact, axis=1, ord=None)"
   ]
  },
  {
   "cell_type": "markdown",
   "metadata": {},
   "source": [
    "### Plot"
   ]
  },
  {
   "cell_type": "code",
   "execution_count": null,
   "metadata": {},
   "outputs": [],
   "source": [
    "# from mpl_toolkits.axes_grid1.inset_locator import inset_axes\n",
    "colors = plt.rcParams['axes.prop_cycle'].by_key()['color']\n",
    "cols = [\"$\\mathcal{{P}}_0$\", \"$\\mathcal{{P}}_1$\", \"$\\mathcal{{P}}_2$\"]\n",
    "rows = [\"$r = (5, 3)$\", \"$r = (5, 4)$\", \"$r = (5, 5)$\", \"$r = (5, 6)$\"]\n",
    "label = \"$\\Vert P^\\mathrm{{TTN}}(t,\\mathbf{{x}})-P^\\mathrm{{ref}}(t,\\mathbf{{x}}) \\Vert$\"\n",
    "\n",
    "fig, axs = plt.subplots(4, 3, figsize=(10, 8), sharex='col', sharey='row')\n",
    "\n",
    "line, = axs[0, 0].plot(time[1:], err_00[1:], '.-', color=colors[0])\n",
    "axs[1, 0].plot(time[1:], err_10[1:], '.-', color=colors[0])\n",
    "axs[2, 0].plot(time[1:], err_20[1:], '.-', color=colors[0])\n",
    "axs[3, 0].plot(time[1:], err_30[1:], '.-', color=colors[0])\n",
    "\n",
    "axs[0, 1].plot(time[1:], err_01[1:], '.-', color=colors[1])\n",
    "axs[1, 1].plot(time[1:], err_11[1:], '.-', color=colors[1])\n",
    "axs[2, 1].plot(time[1:], err_21[1:], '.-', color=colors[1])\n",
    "axs[3, 1].plot(time[1:], err_31[1:], '.-', color=colors[1])\n",
    "\n",
    "axs[0, 2].plot(time[1:], err_02[1:], '.-', color=colors[2])\n",
    "axs[1, 2].plot(time[1:], err_12[1:], '.-', color=colors[2])\n",
    "axs[2, 2].plot(time[1:], err_22[1:], '.-', color=colors[2])\n",
    "axs[3, 2].plot(time[1:], err_32[1:], '.-', color=colors[2])\n",
    "\n",
    "\n",
    "plt.setp(axs, ylim=[5e-5, 2e-2], yscale=\"log\")\n",
    "\n",
    "pad = 5 # in points\n",
    "\n",
    "for ax, col in zip(axs[0], cols):\n",
    "    ax.annotate(col, xy=(0.5, 1), xytext=(0, pad+5),\n",
    "                xycoords='axes fraction', textcoords='offset points',\n",
    "                size=14, ha='center', va='baseline')\n",
    "\n",
    "for ax, row in zip(axs[:,0], rows):\n",
    "    ax.annotate(row, xy=(0, 0.5), xytext=(-ax.yaxis.labelpad-pad, 0),\n",
    "                xycoords=ax.yaxis.label, textcoords='offset points',\n",
    "                size=14, ha='right', va='center')\n",
    "\n",
    "plt.setp(axs[-1, :], xlabel=\"$t$\", xticks=[1, 4, 7, 10])\n",
    "fig.suptitle(label, fontsize=16)\n",
    "plt.subplots_adjust(hspace=.0, wspace=.0)\n",
    "plt.tight_layout()\n",
    "plt.savefig(\"plots/comparison_err_ttn.pdf\");"
   ]
  },
  {
   "cell_type": "code",
   "execution_count": null,
   "metadata": {},
   "outputs": [],
   "source": [
    "fig, axs = plt.subplots(2, 2, figsize=(6, 5))\n",
    "\n",
    "axs[0, 0].plot(time[1:], err_00[1:], '.-', label=\"$\\mathcal{{P}}_0$\")\n",
    "axs[0, 0].plot(time[1:], err_01[1:], '.-', label=\"$\\mathcal{{P}}_1$\")\n",
    "axs[0, 0].plot(time[1:], err_02[1:], '.-', label=\"$\\mathcal{{P}}_2$\")\n",
    "axs[0, 0].set_title(\"$r = (5, 3)$\")\n",
    "\n",
    "axs[0, 1].plot(time[1:], err_10[1:], '.-')\n",
    "axs[0, 1].plot(time[1:], err_11[1:], '.-')\n",
    "axs[0, 1].plot(time[1:], err_12[1:], '.-')\n",
    "axs[0, 1].set_title(\"$r = (5, 4)$\")\n",
    "axs[0, 1].yaxis.tick_right()\n",
    "axs[0, 1].yaxis.set_ticks_position(\"both\")\n",
    "axs[0, 1].yaxis.set_label_position(\"right\")\n",
    "\n",
    "axs[1, 0].plot(time[1:], err_20[1:], '.-')\n",
    "axs[1, 0].plot(time[1:], err_21[1:], '.-')\n",
    "axs[1, 0].plot(time[1:], err_22[1:], '.-')\n",
    "axs[1, 0].set_title(\"$r = (5, 5)$\")\n",
    "\n",
    "axs[1, 1].plot(time[1:], err_30[1:], '.-')\n",
    "axs[1, 1].plot(time[1:], err_31[1:], '.-')\n",
    "axs[1, 1].plot(time[1:], err_32[1:], '.-')\n",
    "axs[1, 1].set_title(\"$r = (9, 9)$\")\n",
    "axs[1, 1].yaxis.tick_right()\n",
    "axs[1, 1].yaxis.set_ticks_position(\"both\")\n",
    "axs[1, 1].yaxis.set_label_position(\"right\")\n",
    "\n",
    "plt.setp(axs, xlabel=\"$t$\", xticks=[1.0, 4.0, 7.0, 10.0], ylim=[3e-4, 2e-2], yscale=\"log\")\n",
    "plt.subplots_adjust(hspace=0.4)\n",
    "fig.suptitle(\"$\\Vert P^\\mathrm{{TTN}}(t,\\mathbf{{x}})-P^\\mathrm{{ref}}(t,\\mathbf{{x}}) \\Vert$\", fontsize=16, y=1.03)\n",
    "fig.legend(*axs[0, 0].get_legend_handles_labels(), ncols=3, loc=\"center\", bbox_to_anchor=(0.5, 0.93))\n",
    "plt.tight_layout()\n",
    "plt.savefig(\"plots/err_comparison_ttn_alt.pdf\", bbox_inches=\"tight\");"
   ]
  },
  {
   "cell_type": "markdown",
   "metadata": {},
   "source": [
    "## Mass error"
   ]
  },
  {
   "cell_type": "markdown",
   "metadata": {},
   "source": [
    "### Load data"
   ]
  },
  {
   "cell_type": "markdown",
   "metadata": {},
   "source": [
    "#### Partition 0"
   ]
  },
  {
   "cell_type": "code",
   "execution_count": null,
   "metadata": {},
   "outputs": [],
   "source": [
    "time_series = TimeSeries(\"output/lambda_phage_p0_r5-3_e_tau1e-3\")\n",
    "mass_err00 = np.abs(time_series.getMassErr())\n",
    "time = time_series.time\n",
    "\n",
    "time_series = TimeSeries(\"output/lambda_phage_p0_r5-4_e_tau1e-3\")\n",
    "mass_err10 = np.abs(time_series.getMassErr())\n",
    "\n",
    "time_series = TimeSeries(\"output/lambda_phage_p0_r5-5_e_tau1e-3\")\n",
    "mass_err20 = np.abs(time_series.getMassErr())\n",
    "\n",
    "time_series = TimeSeries(\"output/lambda_phage_p0_r5-6_e_tau1e-3\")\n",
    "mass_err30 = np.abs(time_series.getMassErr())"
   ]
  },
  {
   "cell_type": "markdown",
   "metadata": {},
   "source": [
    "#### Partition 1"
   ]
  },
  {
   "cell_type": "code",
   "execution_count": null,
   "metadata": {},
   "outputs": [],
   "source": [
    "time_series = TimeSeries(\"output/lambda_phage_p1_r5-3_e_tau1e-3\")\n",
    "mass_err01 = np.abs(time_series.getMassErr())\n",
    "\n",
    "time_series = TimeSeries(\"output/lambda_phage_p1_r5-4_e_tau1e-3\")\n",
    "mass_err11 = np.abs(time_series.getMassErr())\n",
    "\n",
    "time_series = TimeSeries(\"output/lambda_phage_p1_r5-5_e_tau1e-3\")\n",
    "mass_err21 = np.abs(time_series.getMassErr())\n",
    "\n",
    "time_series = TimeSeries(\"output/lambda_phage_p1_r5-6_e_tau1e-3\")\n",
    "mass_err31 = np.abs(time_series.getMassErr())"
   ]
  },
  {
   "cell_type": "markdown",
   "metadata": {},
   "source": [
    "#### Partition 2"
   ]
  },
  {
   "cell_type": "code",
   "execution_count": null,
   "metadata": {},
   "outputs": [],
   "source": [
    "time_series = TimeSeries(\"output/lambda_phage_p2_r5-3_e_tau1e-3\")\n",
    "mass_err02 = np.abs(time_series.getMassErr())\n",
    "\n",
    "time_series = TimeSeries(\"output/lambda_phage_p2_r5-4_e_tau1e-3\")\n",
    "mass_err12 = np.abs(time_series.getMassErr())\n",
    "\n",
    "time_series = TimeSeries(\"output/lambda_phage_p2_r5-5_e_tau1e-3\")\n",
    "mass_err22 = np.abs(time_series.getMassErr())\n",
    "\n",
    "time_series = TimeSeries(\"output/lambda_phage_p2_r5-6_e_tau1e-3\")\n",
    "mass_err32 = np.abs(time_series.getMassErr())"
   ]
  },
  {
   "cell_type": "markdown",
   "metadata": {},
   "source": [
    "### Plot"
   ]
  },
  {
   "cell_type": "code",
   "execution_count": null,
   "metadata": {},
   "outputs": [],
   "source": [
    "fig, axs = plt.subplots(2, 2, figsize=(7, 6))\n",
    "\n",
    "axs[0, 0].plot(time[1:], mass_err00[1:], \".-\", label=\"$\\mathcal{{P}}_0$\")\n",
    "axs[0, 0].plot(time[1:], mass_err01[1:], \".-\", label=\"$\\mathcal{{P}}_1$\")\n",
    "axs[0, 0].plot(time[1:], mass_err02[1:], \".-\", label=\"$\\mathcal{{P}}_2$\")\n",
    "axs[0, 0].set_title(\"$r = (5, 3)$\")\n",
    "\n",
    "axs[0, 1].plot(time[1:], mass_err10[1:], \".-\")\n",
    "axs[0, 1].plot(time[1:], mass_err11[1:], \".-\")\n",
    "axs[0, 1].plot(time[1:], mass_err12[1:], \".-\")\n",
    "axs[0, 1].set_title(\"$r = (5, 4)$\")\n",
    "axs[0, 1].yaxis.tick_right()\n",
    "axs[0, 1].yaxis.set_ticks_position(\"both\")\n",
    "axs[0, 1].yaxis.set_label_position(\"right\")\n",
    "\n",
    "axs[1, 0].plot(time[1:], mass_err20[1:], \".-\")\n",
    "axs[1, 0].plot(time[1:], mass_err21[1:], \".-\")\n",
    "axs[1, 0].plot(time[1:], mass_err22[1:], \".-\")\n",
    "axs[1, 0].set_title(\"$r = (5, 5)$\")\n",
    "\n",
    "axs[1, 1].plot(time[1:], mass_err30[1:], \".-\")\n",
    "axs[1, 1].plot(time[1:], mass_err31[1:], \".-\")\n",
    "axs[1, 1].plot(time[1:], mass_err32[1:], \".-\")\n",
    "axs[1, 1].set_title(\"$r = (5, 6)$\")\n",
    "axs[1, 1].yaxis.tick_right()\n",
    "axs[1, 1].yaxis.set_ticks_position(\"both\")\n",
    "axs[1, 1].yaxis.set_label_position(\"right\")\n",
    "\n",
    "plt.setp(axs, xlabel=\"$t$\", xticks=[1.0, 4.0, 7.0, 10.0], ylim=[3e-8, 5e-5], yscale=\"log\")\n",
    "plt.subplots_adjust(hspace=0.5)\n",
    "fig.suptitle(\"$|\\Delta m(t)|$\", fontsize=16, y=1.05)\n",
    "fig.legend(*axs[0, 0].get_legend_handles_labels(), ncols=3, loc=\"center\", bbox_to_anchor=(0.5, 0.95))\n",
    "plt.tight_layout()\n",
    "plt.savefig(\"plots/mass_err_comparison_ttn.pdf\");"
   ]
  },
  {
   "cell_type": "code",
   "execution_count": null,
   "metadata": {},
   "outputs": [],
   "source": [
    "fig, ax = plt.subplots()\n",
    "ax.plot(time[1:], mass_err01[1:], \".-\", label=\"$r = (5, 3)$\")\n",
    "ax.plot(time[1:], mass_err11[1:], \".-\", label=\"$r = (5, 4)$\")\n",
    "ax.plot(time[1:], mass_err21[1:], \".-\", label=\"$r = (5, 5)$\")\n",
    "ax.plot(time[1:], mass_err31[1:], \".-\", label=\"$r = (5, 6)$\")\n",
    "ax.legend()\n",
    "ax.ticklabel_format(style='sci', axis='y', scilimits=(-2,2))\n",
    "plt.setp(ax, xlabel=\"$t$\", ylabel=\"$|\\Delta m(t)|$\", xticks=[1.0, 4.0, 7.0, 10.0])\n",
    "plt.savefig(\"plots/mass_err_comparison_ttn_rank.pdf\");"
   ]
  },
  {
   "cell_type": "markdown",
   "metadata": {},
   "source": [
    "## Wall time"
   ]
  },
  {
   "cell_type": "markdown",
   "metadata": {},
   "source": [
    "### Load data"
   ]
  },
  {
   "cell_type": "markdown",
   "metadata": {},
   "source": [
    "#### Partition 0"
   ]
  },
  {
   "cell_type": "code",
   "execution_count": null,
   "metadata": {},
   "outputs": [],
   "source": [
    "time_series = TimeSeries(\"output/lambda_phage_p0_r5-3_e_tau1e-3\")\n",
    "walltime00 = time_series.getWallTime()\n",
    "\n",
    "time_series = TimeSeries(\"output/lambda_phage_p0_r5-4_e_tau1e-3\")\n",
    "walltime10 = time_series.getWallTime()\n",
    "\n",
    "time_series = TimeSeries(\"output/lambda_phage_p0_r5-5_e_tau1e-3\")\n",
    "walltime20 = time_series.getWallTime()\n",
    "\n",
    "time_series = TimeSeries(\"output/lambda_phage_p0_r9-9_e_tau1e-3\")\n",
    "walltime30 = time_series.getWallTime()"
   ]
  },
  {
   "cell_type": "markdown",
   "metadata": {},
   "source": [
    "#### Partition 1"
   ]
  },
  {
   "cell_type": "code",
   "execution_count": null,
   "metadata": {},
   "outputs": [],
   "source": [
    "time_series = TimeSeries(\"output/lambda_phage_p1_r5-3_e_tau1e-3\")\n",
    "walltime01 = time_series.getWallTime()\n",
    "\n",
    "time_series = TimeSeries(\"output/lambda_phage_p1_r5-4_e_tau1e-3\")\n",
    "walltime11 = time_series.getWallTime()\n",
    "\n",
    "time_series = TimeSeries(\"output/lambda_phage_p1_r5-5_e_tau1e-3\")\n",
    "walltime21 = time_series.getWallTime()\n",
    "\n",
    "time_series = TimeSeries(\"output/lambda_phage_p1_r9-9_e_tau1e-3\")\n",
    "walltime31 = time_series.getWallTime()"
   ]
  },
  {
   "cell_type": "markdown",
   "metadata": {},
   "source": [
    "#### Partition 2"
   ]
  },
  {
   "cell_type": "code",
   "execution_count": null,
   "metadata": {},
   "outputs": [],
   "source": [
    "time_series = TimeSeries(\"output/lambda_phage_p2_r5-3_e_tau1e-3\")\n",
    "walltime02 = time_series.getWallTime()\n",
    "\n",
    "time_series = TimeSeries(\"output/lambda_phage_p2_r5-4_e_tau1e-3\")\n",
    "walltime12 = time_series.getWallTime()\n",
    "\n",
    "time_series = TimeSeries(\"output/lambda_phage_p2_r5-5_e_tau1e-3\")\n",
    "walltime22 = time_series.getWallTime()\n",
    "\n",
    "time_series = TimeSeries(\"output/lambda_phage_p2_r9-9_e_tau1e-3\")\n",
    "walltime32 = time_series.getWallTime()"
   ]
  },
  {
   "cell_type": "markdown",
   "metadata": {},
   "source": [
    "### Plot"
   ]
  },
  {
   "cell_type": "code",
   "execution_count": null,
   "metadata": {},
   "outputs": [],
   "source": [
    "fig, axs = plt.subplots(2, 2, figsize=(6, 4.5))\n",
    "labels = [\"$\\mathcal{{P}}_{}$\".format(i) for i in range(3)]\n",
    "colors = plt.rcParams['axes.prop_cycle'].by_key()['color']\n",
    "walltime0 = [walltime00, walltime01, walltime02]\n",
    "axs[0, 0].bar(labels, walltime0, color=colors)\n",
    "axs[0, 0].set_title(\"$r = (5, 3)$\")\n",
    "\n",
    "walltime1 = [walltime10, walltime11, walltime12]\n",
    "axs[0, 1].bar(labels, walltime1, color=colors)\n",
    "axs[0, 1].set_title(\"$r = (5, 4)$\")\n",
    "axs[0, 1].yaxis.tick_right()\n",
    "axs[0, 1].yaxis.set_ticks_position(\"both\")\n",
    "axs[0, 1].yaxis.set_label_position(\"right\")\n",
    "\n",
    "walltime2 = [walltime20, walltime21, walltime22]\n",
    "axs[1, 0].bar(labels, walltime2, color=colors)\n",
    "axs[1, 0].set_title(\"$r = (5, 5)$\")\n",
    "\n",
    "walltime3 = [walltime30, walltime31, walltime32]\n",
    "axs[1, 1].bar(labels, walltime3, color=colors)\n",
    "axs[1, 1].set_title(\"$r = (9, 9)$\")\n",
    "axs[1, 1].yaxis.tick_right()\n",
    "axs[1, 1].yaxis.set_ticks_position(\"both\")\n",
    "axs[1, 1].yaxis.set_label_position(\"right\")\n",
    "\n",
    "# plt.setp(axs, ylim=[1e0, 1e6], yscale=\"log\")\n",
    "plt.subplots_adjust(wspace=0.06, hspace=0.5)\n",
    "# fig.tight_layout()\n",
    "fig.suptitle(\"wall time [$\\mathrm{s}$]\", fontsize=16)\n",
    "\n",
    "plt.savefig(\"plots/wall_time_comparison_ttn.pdf\", bbox_inches=\"tight\");"
   ]
  },
  {
   "cell_type": "markdown",
   "metadata": {},
   "source": [
    "## Memory requirements"
   ]
  },
  {
   "cell_type": "code",
   "execution_count": null,
   "metadata": {},
   "outputs": [],
   "source": [
    "def memoryRequirementsP0(rank):\n",
    "    x0 = rank[0] * 656\n",
    "    x10 = rank[1] * 121\n",
    "    x11 = rank[1] * 11\n",
    "    q = 1 * rank[0] ** 2\n",
    "    q1 = rank[0] * rank[1] ** 2\n",
    "    return (x0 + x10 + x11 + q + q1) * 8 * 1e-3\n",
    "\n",
    "def memoryRequirementsP1(rank):\n",
    "    x00 = rank[1] * 656\n",
    "    x01 = rank[1] * 121\n",
    "    x1 = rank[0] * 11\n",
    "    q = 1 * rank[0] ** 2\n",
    "    q0 = rank[0] * rank[1] ** 2\n",
    "    return (x00 + x01 + x1 + q + q0) * 8 * 1e-3\n",
    "\n",
    "def memoryRequirementsP2(rank):\n",
    "    x00 = rank[1] * 656\n",
    "    x01 = rank[1] * 11\n",
    "    x1 = rank[0] * 121\n",
    "    q = 1 * rank[0] ** 2\n",
    "    q0 = rank[0] * rank[1] ** 2\n",
    "    return (x00 + x01 + x1 + q + q0) * 8 * 1e-3\n",
    "\n",
    "def memoryRequirementsPfull(rank):\n",
    "    x0 = rank[0] * 656\n",
    "    x1 = rank[0] * 1331\n",
    "    q = 1 * rank[0] ** 2\n",
    "    return (x0 + x1 + q) * 8 * 1e-3"
   ]
  },
  {
   "cell_type": "code",
   "execution_count": null,
   "metadata": {},
   "outputs": [],
   "source": [
    "rank = [5, 3]\n",
    "fig, axs = plt.subplots(2, 2, figsize=(6, 4))\n",
    "labels = [\"$\\mathcal{{P}}_{}$\".format(i) for i in range(3)]\n",
    "colors = plt.rcParams['axes.prop_cycle'].by_key()['color']\n",
    "memory_req = [memoryRequirementsP0(rank), memoryRequirementsP1(rank), memoryRequirementsP2(rank)]\n",
    "axs[0, 0].bar(labels, memory_req, color=colors)\n",
    "axs[0, 0].set_title(\"$r = (5, 3)$\")\n",
    "\n",
    "rank = [5, 4]\n",
    "memory_req = [memoryRequirementsP0(rank), memoryRequirementsP1(rank), memoryRequirementsP2(rank)]\n",
    "axs[0, 1].bar(labels, memory_req, color=colors)\n",
    "axs[0, 1].set_title(\"$r = (5, 4)$\")\n",
    "axs[0, 1].yaxis.tick_right()\n",
    "axs[0, 1].yaxis.set_ticks_position(\"both\")\n",
    "axs[0, 1].yaxis.set_label_position(\"right\")\n",
    "\n",
    "rank = [5, 5]\n",
    "memory_req = [memoryRequirementsP0(rank), memoryRequirementsP1(rank), memoryRequirementsP2(rank)]\n",
    "print(\"r=(5,5)\", memoryRequirementsP0(rank))\n",
    "axs[1, 0].bar(labels, memory_req, color=colors)\n",
    "axs[1, 0].set_title(\"$r = (5, 5)$\")\n",
    "\n",
    "rank = [9, 9]\n",
    "memory_req = [memoryRequirementsP0(rank), memoryRequirementsP1(rank), memoryRequirementsP2(rank)]\n",
    "print(\"r=(9,9)\", memoryRequirementsP0(rank))\n",
    "\n",
    "axs[1, 1].bar(labels, memory_req, color=colors)\n",
    "axs[1, 1].set_title(\"$r = (9, 9)$\")\n",
    "axs[1, 1].yaxis.tick_right()\n",
    "axs[1, 1].yaxis.set_ticks_position(\"both\")\n",
    "axs[1, 1].yaxis.set_label_position(\"right\")\n",
    "\n",
    "# plt.setp(axs, ylim=[1e0, 1e6], yscale=\"log\")\n",
    "plt.subplots_adjust(hspace=0.5)\n",
    "# fig.tight_layout()\n",
    "fig.suptitle(\"memory [$\\mathrm{kB}$]\", fontsize=16)\n",
    "\n",
    "plt.savefig(\"plots/memory_comparison_ttn.pdf\");"
   ]
  },
  {
   "cell_type": "code",
   "execution_count": null,
   "metadata": {},
   "outputs": [],
   "source": [
    "tree = readTree(\"output/lambda_phage_p0_r10-10_i_tau2e-2/output_t500.nc\")\n",
    "P_slice_p0_r_10_10, P_marginal_p0_r_10_10 = tree.calculateObservables(slice_vec)"
   ]
  },
  {
   "cell_type": "code",
   "execution_count": null,
   "metadata": {},
   "outputs": [],
   "source": [
    "tree = readTree(\"output/lambda_phage_p0_r10-10_e_tau1e-3/output_t10000.nc\")\n",
    "P_slice_p0_r_10_10_e, P_marginal_p0_r_10_10_e = tree.calculateObservables(slice_vec)"
   ]
  },
  {
   "cell_type": "code",
   "execution_count": null,
   "metadata": {},
   "outputs": [],
   "source": [
    "with np.load(\"scripts/reference_solutions/lp_ode_ref_r5.npz\") as data:\n",
    "    P_exact = data['P_full']"
   ]
  },
  {
   "cell_type": "code",
   "execution_count": null,
   "metadata": {},
   "outputs": [],
   "source": [
    "from scripts.reference_solutions.ode_helper import calculateObservables"
   ]
  },
  {
   "cell_type": "code",
   "execution_count": null,
   "metadata": {},
   "outputs": [],
   "source": [
    "tree = readTree(\"output/lambda_phage_test_p0_r5_i_tau2e-2/output_t500.nc\")\n",
    "P_test_slice_p0_r_5, P_test_marginal_p0_r_5 = tree.calculateObservables(slice_vec)"
   ]
  },
  {
   "cell_type": "code",
   "execution_count": null,
   "metadata": {},
   "outputs": [],
   "source": [
    "tree = readTree(\"output/lambda_phage_test_p0_r7_e_tau1e-3_householder/output_t10000.nc\")\n",
    "P_test_new_slice_p0_r_7_householder, P_test_new_marginal_p0_r_7_householder = tree.calculateObservables(slice_vec)"
   ]
  },
  {
   "cell_type": "code",
   "execution_count": null,
   "metadata": {},
   "outputs": [],
   "source": [
    "tree = readTree(\"output/lambda_phage_test_p0_r10_e_tau1e-3_householder/output_t10000.nc\")\n",
    "P_test_new_slice_p0_r_10_householder, P_test_new_marginal_p0_r_10_householder = tree.calculateObservables(slice_vec)"
   ]
  },
  {
   "cell_type": "code",
   "execution_count": null,
   "metadata": {},
   "outputs": [],
   "source": [
    "tree = readTree(\"output/lambda_phage_test_p1_r10_e_tau1e-3_householder/output_t10000.nc\")\n",
    "P_test_new_slice_p1_r_10_householder, P_test_new_marginal_p1_r_10_householder = tree.calculateObservables(slice_vec)"
   ]
  },
  {
   "cell_type": "code",
   "execution_count": null,
   "metadata": {},
   "outputs": [],
   "source": [
    "tree = readTree(\"output/lambda_phage_test_p0_r10_i_tau1e-3_householder/output_t10000.nc\")\n",
    "P_test_new_slice_p0_r_10_householder_i, P_test_new_marginal_p0_r_10_householder_i = tree.calculateObservables(slice_vec)"
   ]
  },
  {
   "cell_type": "code",
   "execution_count": null,
   "metadata": {},
   "outputs": [],
   "source": [
    "tree = readTree(\"output/lambda_phage_test_p0_r12_e_tau1e-3_householder/output_t10000.nc\")\n",
    "P_test_new_slice_p0_r_12_householder, P_test_new_marginal_p0_r_12_householder = tree.calculateObservables(slice_vec)"
   ]
  },
  {
   "cell_type": "code",
   "execution_count": null,
   "metadata": {},
   "outputs": [],
   "source": [
    "with np.load(\"scripts/reference_solutions/lp_test_ode_ref.npz\") as data:\n",
    "    P_test_marginal0 = data['P_marginal0']\n",
    "    P_test_marginal1 = data['P_marginal1']\n",
    "    n = data['n']"
   ]
  },
  {
   "cell_type": "code",
   "execution_count": null,
   "metadata": {},
   "outputs": [],
   "source": [
    "fig, (ax1, ax2) = plt.subplots(1, 2, figsize=(8, 3))\n",
    "# ax1.plot(np.arange(tree.grid.n[0]), P_test_marginal_p0_r_5[0])\n",
    "ax1.plot(np.arange(tree.grid.n[0]), P_test_new_marginal_p0_r_7_householder[0])\n",
    "ax1.plot(np.arange(tree.grid.n[0]), P_test_new_marginal_p0_r_10_householder_i[0])\n",
    "ax1.plot(np.arange(tree.grid.n[0]), P_test_new_marginal_p0_r_10_householder[0])\n",
    "ax1.plot(np.arange(tree.grid.n[0]), P_test_new_marginal_p0_r_12_householder[0])\n",
    "ax1.plot(np.arange(tree.grid.n[0]), P_test_new_marginal_p1_r_10_householder[0])\n",
    "ax1.plot(np.arange(n[0]), P_test_marginal0)\n",
    "\n",
    "# ax2.plot(np.arange(tree.grid.n[1]), P_test_marginal_p0_r_5[1])\n",
    "ax2.plot(np.arange(tree.grid.n[1]), P_test_new_marginal_p0_r_7_householder[1])\n",
    "ax2.plot(np.arange(tree.grid.n[1]), P_test_new_marginal_p0_r_10_householder_i[1])\n",
    "ax2.plot(np.arange(tree.grid.n[1]), P_test_new_marginal_p0_r_10_householder[1])\n",
    "ax2.plot(np.arange(tree.grid.n[1]), P_test_new_marginal_p0_r_12_householder[1])\n",
    "ax2.plot(np.arange(tree.grid.n[1]), P_test_new_marginal_p1_r_10_householder[1])\n",
    "ax2.plot(np.arange(n[1]), P_test_marginal1)"
   ]
  }
 ],
 "metadata": {
  "kernelspec": {
   "display_name": "base",
   "language": "python",
   "name": "python3"
  },
  "language_info": {
   "codemirror_mode": {
    "name": "ipython",
    "version": 3
   },
   "file_extension": ".py",
   "mimetype": "text/x-python",
   "name": "python",
   "nbconvert_exporter": "python",
   "pygments_lexer": "ipython3",
   "version": "3.10.14"
  }
 },
 "nbformat": 4,
 "nbformat_minor": 2
}
