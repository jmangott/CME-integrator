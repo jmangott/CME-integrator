{
 "cells": [
  {
   "cell_type": "markdown",
   "metadata": {},
   "source": [
    "# Lambda phage"
   ]
  },
  {
   "cell_type": "code",
   "execution_count": null,
   "metadata": {},
   "outputs": [],
   "source": [
    "import matplotlib.pyplot as plt\n",
    "import numpy as np\n",
    "from pysb.integrate import odesolve\n",
    "from scripts.models.lambda_phage_pysb import model\n",
    "import xarray as xr\n",
    "\n",
    "from scripts.grid_class import GridParms\n",
    "from scripts.tree_class import Tree\n",
    "from scripts.output.output_helper import *\n",
    "from scripts.reference_solutions.ssa_helper import SSASol\n",
    "\n",
    "plt.style.use(\"./scripts/output/notebooks/custom_style.mplstyle\")\n",
    "%matplotlib inline"
   ]
  },
  {
   "cell_type": "code",
   "execution_count": null,
   "metadata": {},
   "outputs": [],
   "source": [
    "concentrations_ode = odesolve(model, np.arange(10.0))\n",
    "slice_vec = []\n",
    "for o in model.observables:\n",
    "    slice_vec.append(int(np.round(concentrations_ode[o.name][-1])))\n",
    "slice_vec = np.array(slice_vec)"
   ]
  },
  {
   "cell_type": "markdown",
   "metadata": {},
   "source": [
    "## Load initial data"
   ]
  },
  {
   "cell_type": "code",
   "execution_count": null,
   "metadata": {},
   "outputs": [],
   "source": [
    "with np.load(\"scripts/reference_solutions/lp_ode_ref.npz\") as data:\n",
    "    P_exact = data['P_full']\n",
    "    P_best_approximation = data['P_best_approximation']"
   ]
  },
  {
   "cell_type": "code",
   "execution_count": null,
   "metadata": {},
   "outputs": [],
   "source": [
    "ssa_1e4 = np.load(\"scripts/reference_solutions/lp_ssa_1e4.npy\")\n",
    "ssa_1e4_sol = SSASol(ssa_1e4)\n",
    "P_ssa_1e4 = ssa_1e4_sol.calculateFullDistribution()"
   ]
  },
  {
   "cell_type": "code",
   "execution_count": null,
   "metadata": {},
   "outputs": [],
   "source": [
    "ssa_1e5 = np.load(\"scripts/reference_solutions/lp_ssa_1e5.npy\")\n",
    "ssa_1e5_sol = SSASol(ssa_1e5)\n",
    "P_ssa_1e5 = ssa_1e5_sol.calculateFullDistribution()"
   ]
  },
  {
   "cell_type": "code",
   "execution_count": null,
   "metadata": {},
   "outputs": [],
   "source": [
    "# ssa_1e6 = np.load(\"scripts/reference_solutions/lp_ssa_1e6.npy\")\n",
    "# ssa_1e6_sol = SSASol(ssa_1e6)\n",
    "# P_ssa_1e6 = ssa_1e6_sol.calculateFullDistribution()"
   ]
  },
  {
   "cell_type": "markdown",
   "metadata": {},
   "source": [
    "## Comparison of TTN and SSA results with matrix integrator"
   ]
  },
  {
   "cell_type": "markdown",
   "metadata": {},
   "source": [
    "### Load data"
   ]
  },
  {
   "cell_type": "markdown",
   "metadata": {},
   "source": [
    "#### Get walltimes"
   ]
  },
  {
   "cell_type": "code",
   "execution_count": null,
   "metadata": {},
   "outputs": [],
   "source": [
    "time_series = TimeSeries(\"output/lambda_phage_p0_r5-3_e_tau1e-3\")\n",
    "walltime_p0_r_5_3 = time_series.getWallTime()"
   ]
  },
  {
   "cell_type": "code",
   "execution_count": null,
   "metadata": {},
   "outputs": [],
   "source": [
    "time_series = TimeSeries(\"output/lambda_phage_p0_r5-4_e_tau1e-3\")\n",
    "walltime_p0_r_5_4 = time_series.getWallTime()"
   ]
  },
  {
   "cell_type": "code",
   "execution_count": null,
   "metadata": {},
   "outputs": [],
   "source": [
    "time_series = TimeSeries(\"output/lambda_phage_p0_r5-5_e_tau1e-3\")\n",
    "walltime_p0_r_5_5 = time_series.getWallTime()"
   ]
  },
  {
   "cell_type": "code",
   "execution_count": null,
   "metadata": {},
   "outputs": [],
   "source": [
    "time_series = TimeSeries(\"output/lambda_phage_p0_r5-6_e_tau1e-3\")\n",
    "walltime_p0_r_5_10 = time_series.getWallTime()"
   ]
  },
  {
   "cell_type": "code",
   "execution_count": null,
   "metadata": {},
   "outputs": [],
   "source": [
    "time_series = TimeSeries(\"output/lambda_phage_pfull_r5_e_tau1e-3\")\n",
    "walltime_pfull = time_series.getWallTime()"
   ]
  },
  {
   "cell_type": "code",
   "execution_count": null,
   "metadata": {},
   "outputs": [],
   "source": [
    "walltime_exact = 1164"
   ]
  },
  {
   "cell_type": "code",
   "execution_count": null,
   "metadata": {},
   "outputs": [],
   "source": [
    "walltime_ssa_1e4 = 855\n",
    "walltime_ssa_1e5 = 905\n",
    "# walltime_ssa_1e6 = 2319"
   ]
  },
  {
   "cell_type": "code",
   "execution_count": null,
   "metadata": {},
   "outputs": [],
   "source": [
    "walltimes = [walltime_pfull, walltime_p0_r_5_10, walltime_p0_r_5_5, walltime_p0_r_5_3, walltime_exact]\n",
    "walltimes_ssa = [walltime_ssa_1e4, walltime_ssa_1e5, walltime_exact]\n",
    "labels = [\"2 partitions\", \"$r = (5, 6)$\", \"$r = (5, 5)$\", \"$r = (5, 3)$\", \"exact\"]\n",
    "labels_ssa = [\"$10^4$ runs\", \"$10^5$ runs\", \"exact\"]"
   ]
  },
  {
   "cell_type": "markdown",
   "metadata": {},
   "source": [
    "#### Error between TTN integrator and the matrix integrator reference solution"
   ]
  },
  {
   "cell_type": "code",
   "execution_count": null,
   "metadata": {},
   "outputs": [],
   "source": [
    "time_series = TimeSeries(\"output/lambda_phage_p0_r5-3_e_tau1e-3\")\n",
    "time = time_series.time\n",
    "P_p0_r5_3_tau_1e3 = time_series.calculateFullDistribution()\n",
    "err_r_5_3 = np.linalg.norm(P_p0_r5_3_tau_1e3 - P_exact, axis=1, ord=np.inf)\n",
    "\n",
    "time_series = TimeSeries(\"output/lambda_phage_p0_r5-4_e_tau1e-3\")\n",
    "P_p0_r5_4_tau_1e3 = time_series.calculateFullDistribution()\n",
    "err_r_5_4 = np.linalg.norm(P_p0_r5_4_tau_1e3 - P_exact, axis=1, ord=np.inf)\n",
    "\n",
    "time_series = TimeSeries(\"output/lambda_phage_p0_r5-5_e_tau1e-3\")\n",
    "P_p0_r5_5_tau_1e3 = time_series.calculateFullDistribution()\n",
    "err_r_5_5 = np.linalg.norm(P_p0_r5_5_tau_1e3 - P_exact, axis=1, ord=np.inf)\n",
    "\n",
    "time_series = TimeSeries(\"output/lambda_phage_p0_r5-6_e_tau1e-3\")\n",
    "P_p0_r5_10_tau_1e3 = time_series.calculateFullDistribution()\n",
    "err_r_5_10 = np.linalg.norm(P_p0_r5_10_tau_1e3 - P_exact, axis=1, ord=np.inf)\n",
    "\n",
    "time_series = TimeSeries(\"output/lambda_phage_pfull_r5_e_tau1e-3\")\n",
    "P_pfull_r5_tau_1e3 = time_series.calculateFullDistribution()\n",
    "err_r_5 = np.linalg.norm(P_pfull_r5_tau_1e3 - P_exact, axis=1, ord=np.inf)"
   ]
  },
  {
   "cell_type": "code",
   "execution_count": null,
   "metadata": {},
   "outputs": [],
   "source": [
    "err_ssa_1e4 = np.linalg.norm(P_ssa_1e4 - P_exact, axis=1, ord=np.inf)\n",
    "err_ssa_1e5 = np.linalg.norm(P_ssa_1e5 - P_exact, axis=1, ord=np.inf)"
   ]
  },
  {
   "cell_type": "code",
   "execution_count": null,
   "metadata": {},
   "outputs": [],
   "source": [
    "err_best_approximation = np.linalg.norm(P_best_approximation - P_exact, axis=1, ord=np.inf)"
   ]
  },
  {
   "cell_type": "markdown",
   "metadata": {},
   "source": [
    "### Plots"
   ]
  },
  {
   "cell_type": "code",
   "execution_count": null,
   "metadata": {},
   "outputs": [],
   "source": [
    "fig, axs = plt.subplots(2, 2, figsize=(5, 7), layout=\"constrained\")\n",
    "\n",
    "general_labels = [\"2 partitions\", \"best-approximation\"]\n",
    "axs[0].plot(time[1:], err_r_5_3[1:], '.-', label=\"$r = (5, 3)$\")\n",
    "axs[0].plot(time[1:], err_r_5_4[1:], '.-', label=\"$r = (5, 4)$\")\n",
    "axs[0].plot(time[1:], err_r_5_5[1:], '.-', label=\"$r = (5, 5)$\")\n",
    "axs[0].plot(time[1:], err_r_5_10[1:], '.-', label=\"$r = (5, 6)$\")\n",
    "l1, = axs[0].plot(time[1:], err_r_5[1:], 'k:')\n",
    "l2, = axs[0].plot(time[1:], err_best_approximation[1:], 'k-.')\n",
    "\n",
    "axs[0].set_yscale(\"log\")\n",
    "axs[0].set_xlabel(\"$t$\")\n",
    "axs[0].legend()\n",
    "axs[0].set_ylabel(\"$\\max_{{x}}|P^\\mathrm{{TTN}}(t,x)-P^\\mathrm{{ref}}(t,x)|$\")\n",
    "\n",
    "axs[1].barh(labels, walltimes)\n",
    "axs[1].set_xscale(\"log\")\n",
    "axs[1].set_xlabel(\"wall time [$\\mathrm{{s}}$]\")\n",
    "plt.subplots_adjust(wspace=.3, hspace=.3)\n",
    "fig.legend([l1, l2], general_labels, loc=\"outside upper center\", ncols=2)\n",
    "\n",
    "plt.savefig(\"plots/comparison_marginal_ttn_ssa.pdf\");"
   ]
  },
  {
   "cell_type": "markdown",
   "metadata": {},
   "source": [
    "## Error depending on time step size"
   ]
  },
  {
   "cell_type": "code",
   "execution_count": null,
   "metadata": {},
   "outputs": [],
   "source": [
    "dm_max_r_5_10 = []\n",
    "dm_max_r_5_5 = []\n",
    "dm_max_r_5_3 = []\n",
    "tau = []\n",
    "\n",
    "time_series = TimeSeries(\"output/lambda_phage_p0_r5-10_i_tau5e-1\")\n",
    "dm_max_r_5_10.append(np.abs(time_series.getMaxMassErr()))\n",
    "time_series = TimeSeries(\"output/lambda_phage_p0_r5-5_i_tau5e-1\")\n",
    "dm_max_r_5_5.append(np.abs(time_series.getMaxMassErr()))\n",
    "time_series = TimeSeries(\"output/lambda_phage_p0_r5-3_i_tau5e-1\")\n",
    "dm_max_r_5_3.append(np.abs(time_series.getMaxMassErr()))\n",
    "tau.append(time_series.getTau())\n",
    "\n",
    "time_series = TimeSeries(\"output/lambda_phage_p0_r5-10_i_tau2e-1\")\n",
    "dm_max_r_5_10.append(np.abs(time_series.getMaxMassErr()))\n",
    "time_series = TimeSeries(\"output/lambda_phage_p0_r5-5_i_tau2e-1\")\n",
    "dm_max_r_5_5.append(np.abs(time_series.getMaxMassErr()))\n",
    "time_series = TimeSeries(\"output/lambda_phage_p0_r5-3_i_tau2e-1\")\n",
    "dm_max_r_5_3.append(np.abs(time_series.getMaxMassErr()))\n",
    "tau.append(time_series.getTau())\n",
    "\n",
    "time_series = TimeSeries(\"output/lambda_phage_p0_r5-10_i_tau1e-1\")\n",
    "dm_max_r_5_10.append(np.abs(time_series.getMaxMassErr()))\n",
    "time_series = TimeSeries(\"output/lambda_phage_p0_r5-5_i_tau1e-1\")\n",
    "dm_max_r_5_5.append(np.abs(time_series.getMaxMassErr()))\n",
    "time_series = TimeSeries(\"output/lambda_phage_p0_r5-3_i_tau1e-1\")\n",
    "dm_max_r_5_3.append(np.abs(time_series.getMaxMassErr()))\n",
    "tau.append(time_series.getTau())\n",
    "\n",
    "time_series = TimeSeries(\"output/lambda_phage_p0_r5-10_i_tau5e-2\")\n",
    "dm_max_r_5_10.append(np.abs(time_series.getMaxMassErr()))\n",
    "time_series = TimeSeries(\"output/lambda_phage_p0_r5-5_i_tau5e-2\")\n",
    "dm_max_r_5_5.append(np.abs(time_series.getMaxMassErr()))\n",
    "time_series = TimeSeries(\"output/lambda_phage_p0_r5-3_i_tau5e-2\")\n",
    "dm_max_r_5_3.append(np.abs(time_series.getMaxMassErr()))\n",
    "tau.append(time_series.getTau())\n",
    "\n",
    "time_series = TimeSeries(\"output/lambda_phage_p0_r5-10_i_tau2e-2\")\n",
    "dm_max_r_5_10.append(np.abs(time_series.getMaxMassErr()))\n",
    "time_series = TimeSeries(\"output/lambda_phage_p0_r5-5_i_tau2e-2\")\n",
    "dm_max_r_5_5.append(np.abs(time_series.getMaxMassErr()))\n",
    "time_series = TimeSeries(\"output/lambda_phage_p0_r5-3_i_tau2e-2\")\n",
    "dm_max_r_5_3.append(np.abs(time_series.getMaxMassErr()))\n",
    "tau.append(time_series.getTau())\n",
    "\n",
    "time_series = TimeSeries(\"output/lambda_phage_p0_r5-10_i_tau1e-2\")\n",
    "dm_max_r_5_10.append(np.abs(time_series.getMaxMassErr()))\n",
    "time_series = TimeSeries(\"output/lambda_phage_p0_r5-5_i_tau1e-2\")\n",
    "dm_max_r_5_5.append(np.abs(time_series.getMaxMassErr()))\n",
    "time_series = TimeSeries(\"output/lambda_phage_p0_r5-3_i_tau1e-2\")\n",
    "dm_max_r_5_3.append(np.abs(time_series.getMaxMassErr()))\n",
    "tau.append(time_series.getTau())"
   ]
  },
  {
   "cell_type": "markdown",
   "metadata": {},
   "source": [
    "### Plot"
   ]
  },
  {
   "cell_type": "code",
   "execution_count": null,
   "metadata": {},
   "outputs": [],
   "source": [
    "fig, ax = plt.subplots()\n",
    "t = np.linspace(0.01, 0.5)\n",
    "\n",
    "ax.loglog(tau, dm_max_r_5_3, '.-', label=\"$r=(5, 3)$\")\n",
    "ax.loglog(tau, dm_max_r_5_5, '.-', label=\"$r=(5, 5)$\")\n",
    "ax.loglog(tau, dm_max_r_5_10, '.-', label=\"$r=(5, 10)$\")\n",
    "ax.loglog(t, t**2*0.1, 'k:', label=\"$\\\\tau^2$\")\n",
    "ax.set_xlabel(\"time step size $\\\\tau$\")\n",
    "ax.set_ylabel(\"$\\max(\\Delta m)$\")\n",
    "fig.legend(loc=\"upper center\", ncols=5)\n",
    "\n",
    "plt.savefig(\"plots/time_mass_err_ttn.pdf\");"
   ]
  },
  {
   "cell_type": "markdown",
   "metadata": {},
   "source": [
    "## Comparison with deterministic solution"
   ]
  },
  {
   "cell_type": "code",
   "execution_count": null,
   "metadata": {},
   "outputs": [],
   "source": [
    "time_series = TimeSeries(\"output/lambda_phage_p0_r5-5_i_tau5e-2\")\n",
    "concentrations = time_series.calculateMoments()\n",
    "t = time_series.time"
   ]
  },
  {
   "cell_type": "code",
   "execution_count": null,
   "metadata": {},
   "outputs": [],
   "source": [
    "concentrations_ode = odesolve(model, t)"
   ]
  },
  {
   "cell_type": "code",
   "execution_count": null,
   "metadata": {},
   "outputs": [],
   "source": [
    "fig, (ax1, ax2) = plt.subplots(1, 2, figsize=(7, 4))\n",
    "deviation = np.sqrt(concentrations[1]-concentrations[0]**2)\n",
    "observables = [\"x1\", \"x2\"]\n",
    "observables_alt = [\"$S_0$\", \"$S_1$\", \"$S_2$\"]\n",
    "colors = plt.rcParams['axes.prop_cycle'].by_key()['color']\n",
    "for i, (o, o_alt) in enumerate(zip(observables, observables_alt)):\n",
    "    ax1.plot(t, concentrations[0][:, i], '-', label=o_alt, color=colors[i], alpha=0.7)\n",
    "    ax1.fill_between(t, concentrations[0][:, i]-deviation[:, i], concentrations[0][:, i]+deviation[:, i], color=colors[i], alpha=.2)\n",
    "    ax1.plot(t, concentrations_ode[o], '--', color=colors[i], alpha=1.0)\n",
    "ax1.set_ylabel(\"$\\langle x_i(t) \\\\rangle$\")\n",
    "ax1.set_ylim([0.0, 20.0])\n",
    "\n",
    "observables = [\"x3\", \"x4\", \"x5\"]\n",
    "observables_alt = [\"$S_2$\", \"$S_3$\", \"$S_4$\"]\n",
    "for idx_o, (o, o_alt) in enumerate(zip(observables, observables_alt)):\n",
    "    i = idx_o + 2\n",
    "    ax2.plot(t, concentrations[0][:, i], '-', label=o_alt, color=colors[i], alpha=0.7)\n",
    "    ax2.fill_between(t, concentrations[0][:, i]-deviation[:, i], concentrations[0][:, i]+deviation[:, i], color=colors[i], alpha=.2)\n",
    "    ax2.plot(t, concentrations_ode[o], '--', color=colors[i], alpha=1.0)\n",
    "ax2.set_ylabel(\"$\\langle x_i(t) \\\\rangle$\")\n",
    "ax2.set_ylim([0, 2.5])\n",
    "ax2.yaxis.tick_right()\n",
    "ax2.yaxis.set_ticks_position(\"both\")\n",
    "ax2.yaxis.set_label_position(\"right\")\n",
    "plt.setp((ax1, ax2), xlabel=\"$t$\", xlim=[0.0, 10.0], xticks=[0.0, 2.5, 5.0, 7.5, 10.0]);\n",
    "\n",
    "lines_labels = [ax.get_legend_handles_labels() for ax in fig.axes]\n",
    "lines, labels = [sum(ll, []) for ll in zip(*lines_labels)]\n",
    "fig.legend(lines, labels, ncols=5, loc=\"upper center\")\n",
    "\n",
    "plt.savefig(\"plots/concentrations.pdf\");"
   ]
  },
  {
   "cell_type": "code",
   "execution_count": null,
   "metadata": {},
   "outputs": [],
   "source": [
    "fig, ax = plt.subplots(figsize=(6, 4), layout='constrained')\n",
    "for i, o in enumerate(model.observables):\n",
    "    ax.plot(t, np.abs((concentrations[0][:, i]-concentrations_ode[o.name])), '-', label=\"$S_{{{}}}$\".format(i))\n",
    "ax.set_xlabel(\"$t$\")\n",
    "ax.set_ylabel(\"$|c_i^\\mathrm{{CME}}(t) - c_i^\\mathrm{{ODE}}(t)|$\");\n",
    "fig.legend(*ax.get_legend_handles_labels(), loc=\"outside center right\")\n",
    "\n",
    "plt.savefig(\"plots/concentrations_err.pdf\");"
   ]
  },
  {
   "cell_type": "markdown",
   "metadata": {},
   "source": [
    "## Error depending on rank and partition"
   ]
  },
  {
   "cell_type": "markdown",
   "metadata": {},
   "source": [
    "### Load data"
   ]
  },
  {
   "cell_type": "markdown",
   "metadata": {},
   "source": [
    "#### Partition 0"
   ]
  },
  {
   "cell_type": "code",
   "execution_count": null,
   "metadata": {},
   "outputs": [],
   "source": [
    "sliced_err00, marginal_err00 = calculateDistributionError(\"output/lambda_phage_p0_r5-5-5_i_tau2e-2/output_t7250.nc\", P_slice_full, P_sum_full, slice_vec)\n",
    "\n",
    "sliced_err10, marginal_err10 = calculateDistributionError(\"output/lambda_phage_p0_r5-10-10_i_tau2e-2/output_t7250.nc\", P_slice_full, P_sum_full, slice_vec)\n",
    "\n",
    "sliced_err20, marginal_err20 = calculateDistributionError(\"output/lambda_phage_p0_r5-15-15_i_tau2e-2/output_t7250.nc\", P_slice_full, P_sum_full, slice_vec)\n",
    "\n",
    "sliced_err30, marginal_err30 = calculateDistributionError(\"output/lambda_phage_p0_r5-20-20_i_tau2e-2/output_t7250.nc\", P_slice_full, P_sum_full, slice_vec)"
   ]
  },
  {
   "cell_type": "markdown",
   "metadata": {},
   "source": [
    "#### Partition 1"
   ]
  },
  {
   "cell_type": "code",
   "execution_count": null,
   "metadata": {},
   "outputs": [],
   "source": [
    "sliced_err01, marginal_err01 = calculateDistributionError(\"output/lambda_phage_p1_r5-5-5_i_tau2e-2/output_t7250.nc\", P_slice_full, P_sum_full, slice_vec)\n",
    "\n",
    "sliced_err11, marginal_err11 = calculateDistributionError(\"output/lambda_phage_p1_r5-10-10_i_tau2e-2/output_t7250.nc\", P_slice_full, P_sum_full, slice_vec)\n",
    "\n",
    "sliced_err21, marginal_err21 = calculateDistributionError(\"output/lambda_phage_p1_r5-15-15_i_tau2e-2/output_t7250.nc\", P_slice_full, P_sum_full, slice_vec)\n",
    "\n",
    "sliced_err31, marginal_err31 = calculateDistributionError(\"output/lambda_phage_p1_r5-20-20_i_tau2e-2/output_t7250.nc\", P_slice_full, P_sum_full, slice_vec)"
   ]
  },
  {
   "cell_type": "markdown",
   "metadata": {},
   "source": [
    "#### Partition 2"
   ]
  },
  {
   "cell_type": "code",
   "execution_count": null,
   "metadata": {},
   "outputs": [],
   "source": [
    "sliced_err02, marginal_err02 = calculateDistributionError(\"output/lambda_phage_p2_r5-5-5_i_tau2e-2/output_t7250.nc\", P_slice_full, P_sum_full, slice_vec)\n",
    "\n",
    "sliced_err12, marginal_err12 = calculateDistributionError(\"output/lambda_phage_p2_r5-10-10_i_tau2e-2/output_t7250.nc\", P_slice_full, P_sum_full, slice_vec)\n",
    "\n",
    "sliced_err22, marginal_err22 = calculateDistributionError(\"output/lambda_phage_p2_r5-15-15_i_tau2e-2/output_t7250.nc\", P_slice_full, P_sum_full, slice_vec)\n",
    "\n",
    "sliced_err32, marginal_err32 = calculateDistributionError(\"output/lambda_phage_p2_r5-20-20_i_tau2e-2/output_t7250.nc\", P_slice_full, P_sum_full, slice_vec)"
   ]
  },
  {
   "cell_type": "markdown",
   "metadata": {},
   "source": [
    "#### Inset"
   ]
  },
  {
   "cell_type": "code",
   "execution_count": null,
   "metadata": {},
   "outputs": [],
   "source": [
    "sliced_err_r_5_15_25, marginal_err_r_5_15_25 = calculateDistributionError(\"output/lambda_phage_p1_r10-15-25_i_tau1e-2/output_t14500.nc\", P_slice_matrix, P_sum_matrix, slice_vec)"
   ]
  },
  {
   "cell_type": "markdown",
   "metadata": {},
   "source": [
    "### Plot"
   ]
  },
  {
   "cell_type": "code",
   "execution_count": null,
   "metadata": {},
   "outputs": [],
   "source": [
    "# from mpl_toolkits.axes_grid1.inset_locator import inset_axes\n",
    "colors = plt.rcParams['axes.prop_cycle'].by_key()['color']\n",
    "cols = [\"$\\mathcal{{P}}_0$\", \"$\\mathcal{{P}}_1$\", \"$\\mathcal{{P}}_2$\"]\n",
    "rows = [\"$r = (5, 5, 5)$\", \"$r = (5, 10, 10)$\", \"$r = (5, 15, 15)$\", \"$r = (5, 20, 20)$\"]\n",
    "label = \"$\\max_{{x_i}}|P_M(x_i)-P_M(x_i)^\\mathrm{{TTN,ref}}|$\"\n",
    "\n",
    "fig, axs = plt.subplots(4, 3, figsize=(10, 8), sharex='col', sharey='row')\n",
    "\n",
    "line, = axs[0, 0].plot(np.arange(tree.grid.d()), marginal_err00, '.-', color=colors[0])\n",
    "axs[1, 0].plot(np.arange(tree.grid.d()), marginal_err10, '.-', color=colors[0])\n",
    "axs[2, 0].plot(np.arange(tree.grid.d()), marginal_err20, '.-', color=colors[0])\n",
    "axs[3, 0].plot(np.arange(tree.grid.d()), marginal_err30, '.-', color=colors[0])\n",
    "\n",
    "axs[0, 1].plot(np.arange(tree.grid.d()), marginal_err01, '.-', color=colors[1])\n",
    "axs[1, 1].plot(np.arange(tree.grid.d()), marginal_err11, '.-', color=colors[1])\n",
    "axs[2, 1].plot(np.arange(tree.grid.d()), marginal_err21, '.-', color=colors[1])\n",
    "axs[3, 1].plot(np.arange(tree.grid.d()), marginal_err31, '.-', color=colors[1])\n",
    "\n",
    "axs[0, 2].plot(np.arange(tree.grid.d()), marginal_err02, '.-', color=colors[2])\n",
    "axs[1, 2].plot(np.arange(tree.grid.d()), marginal_err12, '.-', color=colors[2])\n",
    "axs[2, 2].plot(np.arange(tree.grid.d()), marginal_err22, '.-', color=colors[2])\n",
    "axs[3, 2].plot(np.arange(tree.grid.d()), marginal_err32, '.-', color=colors[2])\n",
    "\n",
    "# axins = inset_axes(axs[-1, 1], width='65%', height='65%', loc='upper center')\n",
    "# axins.plot(np.arange(tree.grid.d()), SSA_marginal_err_r_5_15_25, '--')\n",
    "# axins.plot(np.arange(tree.grid.d()), DLR_marginal_err_r_5_15_25, '.-')\n",
    "# axins.set_ylim([-0.02*0.6, 0.42*0.6])\n",
    "# axins.annotate(\"TTN with 2 partitions\\n($r=5$)\", xy=(0.5, 1), xytext=(0, -30),\n",
    "#                 xycoords='axes fraction', textcoords='offset points',\n",
    "#                 size=11, ha='center', va='baseline')\n",
    "\n",
    "plt.setp(axs, ylim=[-0.02, 0.22])\n",
    "# plt.setp(axs[:, 0], ylim=[-0.02, 0.22])\n",
    "# plt.setp(axs[:, 1], ylim=[-0.02, 0.47])\n",
    "# plt.setp(axs[:, 2], ylim=[-0.02, 0.34])\n",
    "\n",
    "pad = 5 # in points\n",
    "\n",
    "for ax, col in zip(axs[0], cols):\n",
    "    ax.annotate(col, xy=(0.5, 1), xytext=(0, pad+5),\n",
    "                xycoords='axes fraction', textcoords='offset points',\n",
    "                size=14, ha='center', va='baseline')\n",
    "\n",
    "for ax, row in zip(axs[:,0], rows):\n",
    "    ax.annotate(row, xy=(0, 0.5), xytext=(-ax.yaxis.labelpad-pad, 0),\n",
    "                xycoords=ax.yaxis.label, textcoords='offset points',\n",
    "                size=14, ha='right', va='center')\n",
    "\n",
    "plt.setp(axs[-1, :], xlabel=\"species $S_i$\", xticks=[0, 2, 4, 6, 8, 10])\n",
    "fig.suptitle(label, fontsize=16)\n",
    "plt.subplots_adjust(hspace=.0, wspace=.0)\n",
    "\n",
    "plt.savefig(\"plots/comparison_marginal_ttn.pdf\", bbox_inches=\"tight\");"
   ]
  },
  {
   "cell_type": "markdown",
   "metadata": {},
   "source": [
    "## Mass error"
   ]
  },
  {
   "cell_type": "markdown",
   "metadata": {},
   "source": [
    "### Load data"
   ]
  },
  {
   "cell_type": "markdown",
   "metadata": {},
   "source": [
    "#### Partition 0"
   ]
  },
  {
   "cell_type": "code",
   "execution_count": null,
   "metadata": {},
   "outputs": [],
   "source": [
    "time_series = TimeSeries(\"output/lambda_phage_p0_r5-3_i_tau2e-2\")\n",
    "mass_err00 = np.abs(time_series.getMassErr())\n",
    "time = time_series.time\n",
    "\n",
    "time_series = TimeSeries(\"output/lambda_phage_p0_r5-4_i_tau2e-2\")\n",
    "mass_err10 = np.abs(time_series.getMassErr())\n",
    "\n",
    "time_series = TimeSeries(\"output/lambda_phage_p0_r5-5_i_tau2e-2\")\n",
    "mass_err20 = np.abs(time_series.getMassErr())\n",
    "\n",
    "time_series = TimeSeries(\"output/lambda_phage_p0_r5-10_i_tau2e-2\")\n",
    "mass_err30 = np.abs(time_series.getMassErr())"
   ]
  },
  {
   "cell_type": "markdown",
   "metadata": {},
   "source": [
    "#### Partition 1"
   ]
  },
  {
   "cell_type": "code",
   "execution_count": null,
   "metadata": {},
   "outputs": [],
   "source": [
    "time_series = TimeSeries(\"output/lambda_phage_p1_r5-3_i_tau2e-2\")\n",
    "mass_err01 = np.abs(time_series.getMassErr())\n",
    "\n",
    "time_series = TimeSeries(\"output/lambda_phage_p1_r5-4_i_tau2e-2\")\n",
    "mass_err11 = np.abs(time_series.getMassErr())\n",
    "\n",
    "time_series = TimeSeries(\"output/lambda_phage_p1_r5-5_i_tau2e-2\")\n",
    "mass_err21 = np.abs(time_series.getMassErr())\n",
    "\n",
    "time_series = TimeSeries(\"output/lambda_phage_p1_r5-10_i_tau2e-2\")\n",
    "mass_err31 = np.abs(time_series.getMassErr())"
   ]
  },
  {
   "cell_type": "markdown",
   "metadata": {},
   "source": [
    "#### Partition 2"
   ]
  },
  {
   "cell_type": "code",
   "execution_count": null,
   "metadata": {},
   "outputs": [],
   "source": [
    "time_series = TimeSeries(\"output/lambda_phage_p2_r5-3_i_tau2e-2\")\n",
    "mass_err02 = np.abs(time_series.getMassErr())\n",
    "\n",
    "time_series = TimeSeries(\"output/lambda_phage_p2_r5-4_i_tau2e-2\")\n",
    "mass_err12 = np.abs(time_series.getMassErr())\n",
    "\n",
    "time_series = TimeSeries(\"output/lambda_phage_p2_r5-5_i_tau2e-2\")\n",
    "mass_err22 = np.abs(time_series.getMassErr())\n",
    "\n",
    "time_series = TimeSeries(\"output/lambda_phage_p2_r5-10_i_tau2e-2\")\n",
    "mass_err32 = np.abs(time_series.getMassErr())"
   ]
  },
  {
   "cell_type": "markdown",
   "metadata": {},
   "source": [
    "### Plot"
   ]
  },
  {
   "cell_type": "code",
   "execution_count": null,
   "metadata": {},
   "outputs": [],
   "source": [
    "fig, axs = plt.subplots(2, 2, figsize=(7, 5))\n",
    "\n",
    "axs[0, 0].plot(time[1:], mass_err00[1:], label=\"$\\mathcal{{P}}_0$\")\n",
    "axs[0, 0].plot(time[1:], mass_err01[1:], label=\"$\\mathcal{{P}}_1$\")\n",
    "axs[0, 0].plot(time[1:], mass_err02[1:], label=\"$\\mathcal{{P}}_2$\")\n",
    "axs[0, 0].set_title(\"$r = (5, 3)$\")\n",
    "\n",
    "axs[0, 1].plot(time[1:], mass_err10[1:])\n",
    "axs[0, 1].plot(time[1:], mass_err11[1:])\n",
    "axs[0, 1].plot(time[1:], mass_err12[1:])\n",
    "axs[0, 1].set_title(\"$r = (5, 4)$\")\n",
    "axs[0, 1].yaxis.tick_right()\n",
    "axs[0, 1].yaxis.set_ticks_position(\"both\")\n",
    "axs[0, 1].yaxis.set_label_position(\"right\")\n",
    "\n",
    "axs[1, 0].plot(time[1:], mass_err20[1:])\n",
    "axs[1, 0].plot(time[1:], mass_err21[1:])\n",
    "axs[1, 0].plot(time[1:], mass_err22[1:])\n",
    "axs[1, 0].set_title(\"$r = (5, 5)$\")\n",
    "\n",
    "axs[1, 1].plot(time[1:], mass_err30[1:])\n",
    "axs[1, 1].plot(time[1:], mass_err31[1:])\n",
    "axs[1, 1].plot(time[1:], mass_err32[1:])\n",
    "axs[1, 1].set_title(\"$r = (5, 10)$\")\n",
    "axs[1, 1].yaxis.tick_right()\n",
    "axs[1, 1].yaxis.set_ticks_position(\"both\")\n",
    "axs[1, 1].yaxis.set_label_position(\"right\")\n",
    "\n",
    "plt.setp(axs, xlabel=\"$t$\", ylabel=\"$\\Delta m(t)$\", xticks=[1.0, 4.0, 7.0, 10.0], ylim=[5e-7, 5e-4], yscale=\"log\")\n",
    "plt.subplots_adjust(hspace=0.5)\n",
    "fig.legend(*axs[0, 0].get_legend_handles_labels(), ncols=3, loc=\"upper center\")\n",
    "\n",
    "plt.savefig(\"plots/mass_err_comparison_ttn.pdf\");"
   ]
  },
  {
   "cell_type": "code",
   "execution_count": null,
   "metadata": {},
   "outputs": [],
   "source": [
    "fig, ax = plt.subplots()\n",
    "ax.plot(time[1:], mass_err01[1:], label=\"$r = (5, 3)$\")\n",
    "ax.plot(time[1:], mass_err11[1:], label=\"$r = (5, 4)$\")\n",
    "ax.plot(time[1:], mass_err21[1:], label=\"$r = (5, 5)$\")\n",
    "ax.plot(time[1:], mass_err31[1:], label=\"$r = (5, 10)$\")\n",
    "ax.legend()\n",
    "ax.ticklabel_format(style='sci', axis='y', scilimits=(-2,2))\n",
    "plt.setp(ax, xlabel=\"$t$\", ylabel=\"$\\Delta m(t)$\", xticks=[1.0, 4.0, 7.0, 10.0])\n",
    "plt.savefig(\"plots/mass_err_comparison_ttn_rank.pdf\");"
   ]
  },
  {
   "cell_type": "markdown",
   "metadata": {},
   "source": [
    "## Wall time"
   ]
  },
  {
   "cell_type": "markdown",
   "metadata": {},
   "source": [
    "### Load data"
   ]
  },
  {
   "cell_type": "markdown",
   "metadata": {},
   "source": [
    "#### Partition 0"
   ]
  },
  {
   "cell_type": "code",
   "execution_count": null,
   "metadata": {},
   "outputs": [],
   "source": [
    "time_series = TimeSeries(\"output/lambda_phage_p0_r5-3_i_tau2e-2\")\n",
    "walltime00 = time_series.getWallTime()\n",
    "\n",
    "time_series = TimeSeries(\"output/lambda_phage_p0_r5-4_i_tau2e-2\")\n",
    "walltime10 = time_series.getWallTime()\n",
    "\n",
    "time_series = TimeSeries(\"output/lambda_phage_p0_r5-5_i_tau2e-2\")\n",
    "walltime20 = time_series.getWallTime()\n",
    "\n",
    "time_series = TimeSeries(\"output/lambda_phage_p0_r5-10_i_tau2e-2\")\n",
    "walltime30 = time_series.getWallTime()"
   ]
  },
  {
   "cell_type": "markdown",
   "metadata": {},
   "source": [
    "#### Partition 1"
   ]
  },
  {
   "cell_type": "code",
   "execution_count": null,
   "metadata": {},
   "outputs": [],
   "source": [
    "time_series = TimeSeries(\"output/lambda_phage_p1_r5-3_i_tau2e-2\")\n",
    "walltime01 = time_series.getWallTime()\n",
    "\n",
    "time_series = TimeSeries(\"output/lambda_phage_p1_r5-4_i_tau2e-2\")\n",
    "walltime11 = time_series.getWallTime()\n",
    "\n",
    "time_series = TimeSeries(\"output/lambda_phage_p1_r5-5_i_tau2e-2\")\n",
    "walltime21 = time_series.getWallTime()\n",
    "\n",
    "time_series = TimeSeries(\"output/lambda_phage_p1_r5-10_i_tau2e-2\")\n",
    "walltime31 = time_series.getWallTime()"
   ]
  },
  {
   "cell_type": "markdown",
   "metadata": {},
   "source": [
    "#### Partition 2"
   ]
  },
  {
   "cell_type": "code",
   "execution_count": null,
   "metadata": {},
   "outputs": [],
   "source": [
    "time_series = TimeSeries(\"output/lambda_phage_p2_r5-3_i_tau2e-2\")\n",
    "walltime02 = time_series.getWallTime()\n",
    "\n",
    "time_series = TimeSeries(\"output/lambda_phage_p2_r5-4_i_tau2e-2\")\n",
    "walltime12 = time_series.getWallTime()\n",
    "\n",
    "time_series = TimeSeries(\"output/lambda_phage_p2_r5-5_i_tau2e-2\")\n",
    "walltime22 = time_series.getWallTime()\n",
    "\n",
    "time_series = TimeSeries(\"output/lambda_phage_p2_r5-10_i_tau2e-2\")\n",
    "walltime32 = time_series.getWallTime()"
   ]
  },
  {
   "cell_type": "markdown",
   "metadata": {},
   "source": [
    "### Plot"
   ]
  },
  {
   "cell_type": "code",
   "execution_count": null,
   "metadata": {},
   "outputs": [],
   "source": [
    "fig, axs = plt.subplots(2, 2, figsize=(7, 5))\n",
    "labels = [\"$\\mathcal{{P}}_{}$\".format(i) for i in range(3)]\n",
    "colors = plt.rcParams['axes.prop_cycle'].by_key()['color']\n",
    "walltime0 = [walltime00, walltime01, walltime02]\n",
    "axs[0, 0].bar(labels, walltime0, color=colors)\n",
    "axs[0, 0].set_title(\"$r = (5, 3)$\")\n",
    "\n",
    "walltime1 = [walltime10, walltime11, walltime12]\n",
    "axs[0, 1].bar(labels, walltime1, color=colors)\n",
    "axs[0, 1].set_title(\"$r = (5, 4)$\")\n",
    "axs[0, 1].yaxis.tick_right()\n",
    "axs[0, 1].yaxis.set_ticks_position(\"both\")\n",
    "axs[0, 1].yaxis.set_label_position(\"right\")\n",
    "\n",
    "walltime2 = [walltime20, walltime21, walltime22]\n",
    "axs[1, 0].bar(labels, walltime2, color=colors)\n",
    "axs[1, 0].set_title(\"$r = (5, 5)$\")\n",
    "\n",
    "walltime3 = [walltime30, walltime31, walltime32]\n",
    "axs[1, 1].bar(labels, walltime3, color=colors)\n",
    "axs[1, 1].set_title(\"$r = (5, 10)$\")\n",
    "axs[1, 1].yaxis.tick_right()\n",
    "axs[1, 1].yaxis.set_ticks_position(\"both\")\n",
    "axs[1, 1].yaxis.set_label_position(\"right\")\n",
    "\n",
    "plt.setp(axs[:, 0], ylabel=\"wall time [$\\mathrm{s}$]\")\n",
    "# plt.setp(axs, ylim=[1e0, 1e6], yscale=\"log\")\n",
    "plt.subplots_adjust(hspace=0.3)\n",
    "\n",
    "plt.savefig(\"plots/wall_time_comparison_ttn.pdf\");"
   ]
  },
  {
   "cell_type": "markdown",
   "metadata": {},
   "source": [
    "## Memory requirements"
   ]
  },
  {
   "cell_type": "code",
   "execution_count": null,
   "metadata": {},
   "outputs": [],
   "source": [
    "def memoryRequirementsP0(rank):\n",
    "    x00 = rank[1] * 656\n",
    "    x01 = rank[1] * 121\n",
    "    x1 = rank[0] * 11\n",
    "    q = 1 * rank[0] ** 2\n",
    "    q0 = rank[0] * rank[1] ** 2\n",
    "    return (x00 + x01 + x1 + q + q0) * 8 * 1e-3\n",
    "\n",
    "def memoryRequirementsP1(rank):\n",
    "    x0 = rank[0] * 656\n",
    "    x10 = rank[1] * 121\n",
    "    x11 = rank[1] * 11\n",
    "    q = 1 * rank[0] ** 2\n",
    "    q1 = rank[0] * rank[1] ** 2\n",
    "    return (x0 + x10 + x11 + q + q1) * 8 * 1e-3\n",
    "\n",
    "def memoryRequirementsP2(rank):\n",
    "    x00 = rank[1] * 656\n",
    "    x01 = rank[1] * 11\n",
    "    x1 = rank[0] * 121\n",
    "    q = 1 * rank[0] ** 2\n",
    "    q0 = rank[0] * rank[1] ** 2\n",
    "    return (x00 + x01 + x1 + q + q0) * 8 * 1e-3\n",
    "\n",
    "def memoryRequirementsPfull(rank):\n",
    "    x0 = rank[0] * 656\n",
    "    x1 = rank[0] * 1331\n",
    "    q = 1 * rank[0] ** 2\n",
    "    return (x0 + x1 + q) * 8 * 1e-3"
   ]
  },
  {
   "cell_type": "code",
   "execution_count": null,
   "metadata": {},
   "outputs": [],
   "source": [
    "rank = [5, 3]\n",
    "fig, axs = plt.subplots(2, 2, figsize=(7, 5))\n",
    "labels = [\"$\\mathcal{{P}}_{}$\".format(i) for i in range(3)]\n",
    "colors = plt.rcParams['axes.prop_cycle'].by_key()['color']\n",
    "memory_req = [memoryRequirementsP0(rank), memoryRequirementsP1(rank), memoryRequirementsP2(rank)]\n",
    "axs[0, 0].bar(labels, memory_req, color=colors)\n",
    "axs[0, 0].set_title(\"$r = (5, 3)$\")\n",
    "\n",
    "rank = [5, 4]\n",
    "memory_req = [memoryRequirementsP0(rank), memoryRequirementsP1(rank), memoryRequirementsP2(rank)]\n",
    "axs[0, 1].bar(labels, memory_req, color=colors)\n",
    "axs[0, 1].set_title(\"$r = (5, 4)$\")\n",
    "axs[0, 1].yaxis.tick_right()\n",
    "axs[0, 1].yaxis.set_ticks_position(\"both\")\n",
    "axs[0, 1].yaxis.set_label_position(\"right\")\n",
    "\n",
    "rank = [5, 5]\n",
    "memory_req = [memoryRequirementsP0(rank), memoryRequirementsP1(rank), memoryRequirementsP2(rank)]\n",
    "axs[1, 0].bar(labels, memory_req, color=colors)\n",
    "axs[1, 0].set_title(\"$r = (5, 5)$\")\n",
    "\n",
    "rank = [5, 10]\n",
    "memory_req = [memoryRequirementsP0(rank), memoryRequirementsP1(rank), memoryRequirementsP2(rank)]\n",
    "axs[1, 1].bar(labels, memory_req, color=colors)\n",
    "axs[1, 1].set_title(\"$r = (5, 10)$\")\n",
    "axs[1, 1].yaxis.tick_right()\n",
    "axs[1, 1].yaxis.set_ticks_position(\"both\")\n",
    "axs[1, 1].yaxis.set_label_position(\"right\")\n",
    "\n",
    "plt.setp(axs, ylabel=\"memory [$\\mathrm{kB}$]\")\n",
    "# plt.setp(axs, ylim=[1e0, 1e6], yscale=\"log\")\n",
    "plt.subplots_adjust(hspace=0.3)\n",
    "\n",
    "plt.savefig(\"plots/memory_comparison_ttn.pdf\");"
   ]
  }
 ],
 "metadata": {
  "kernelspec": {
   "display_name": "base",
   "language": "python",
   "name": "python3"
  },
  "language_info": {
   "codemirror_mode": {
    "name": "ipython",
    "version": 3
   },
   "file_extension": ".py",
   "mimetype": "text/x-python",
   "name": "python",
   "nbconvert_exporter": "python",
   "pygments_lexer": "ipython3",
   "version": "3.9.18"
  }
 },
 "nbformat": 4,
 "nbformat_minor": 2
}
