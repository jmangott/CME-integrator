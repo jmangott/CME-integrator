{
 "cells": [
  {
   "cell_type": "markdown",
   "metadata": {},
   "source": [
    "# Diffusive toggle switch"
   ]
  },
  {
   "cell_type": "code",
   "execution_count": null,
   "metadata": {},
   "outputs": [],
   "source": [
    "import matplotlib.gridspec as gridspec\n",
    "import matplotlib.pyplot as plt\n",
    "import numpy as np\n",
    "from pysb.integrate import odesolve\n",
    "# from scripts.models.cascade_pysb import model\n",
    "\n",
    "from scripts.grid_class import GridParms\n",
    "from scripts.tree_class import Tree\n",
    "from scripts.output.output_helper import *\n",
    "from scripts.reference_solutions.ssa_helper import SSASol\n",
    "\n",
    "plt.style.use(\"./scripts/output/notebooks/custom_style.mplstyle\")\n",
    "%matplotlib inline"
   ]
  },
  {
   "cell_type": "code",
   "execution_count": null,
   "metadata": {},
   "outputs": [],
   "source": [
    "# concentrations_ode = odesolve(model, np.arange(1.0))\n",
    "# slice_vec = []\n",
    "# for o in model.observables:\n",
    "#     slice_vec.append(int(np.round(concentrations_ode[o.name][-1])))\n",
    "# slice_vec = np.array(slice_vec)"
   ]
  },
  {
   "cell_type": "markdown",
   "metadata": {},
   "source": [
    "## Load initial data"
   ]
  },
  {
   "cell_type": "markdown",
   "metadata": {},
   "source": [
    "# Tree"
   ]
  },
  {
   "cell_type": "code",
   "execution_count": null,
   "metadata": {},
   "outputs": [],
   "source": [
    "tree_r5 = readTree(\"output/cascade_r5_e_tau1e-1/output_t3500.nc\")\n",
    "_, ttn_marginal_r_5 = tree_r5.calculateObservables(np.zeros(20, dtype=\"int\"))\n",
    "\n",
    "tree_r7 = readTree(\"output/cascade_r7_e_tau1e-1/output_t3500.nc\")\n",
    "_, ttn_marginal_r_7 = tree_r7.calculateObservables(np.zeros(20, dtype=\"int\"))\n",
    "\n",
    "# tree_r12 = readTree(\"output/cascade_r12_e_tau1e-1/output_t3500.nc\")\n",
    "# _, ttn_marginal_r_12 = tree_r12.calculateObservables(np.zeros(20, dtype=\"int\"))"
   ]
  },
  {
   "cell_type": "markdown",
   "metadata": {},
   "source": [
    "### SSA"
   ]
  },
  {
   "cell_type": "code",
   "execution_count": null,
   "metadata": {},
   "outputs": [],
   "source": [
    "idx_2D = np.array([0, 1])\n",
    "slice_vec = np.zeros(20, dtype=\"int\")"
   ]
  },
  {
   "cell_type": "code",
   "execution_count": null,
   "metadata": {},
   "outputs": [],
   "source": [
    "ssa_1e4 = np.load(\"scripts/reference_solutions/cascade_ssa_1e+04.npy\")\n",
    "ssa_1e4_sol = SSASol(ssa_1e4)\n",
    "ssa_marginal_1e4, _, _, _ = ssa_1e4_sol.calculateObservables(slice_vec, idx_2D)\n",
    "ssa_wall_time = 50.3"
   ]
  },
  {
   "cell_type": "code",
   "execution_count": null,
   "metadata": {},
   "outputs": [],
   "source": [
    "ssa_1e5 = np.load(\"scripts/reference_solutions/cascade_ssa_1e+05.npy\")\n",
    "ssa_1e5_sol = SSASol(ssa_1e5)\n",
    "ssa_marginal_1e5, _, _, _ = ssa_1e5_sol.calculateObservables(slice_vec, idx_2D)\n",
    "ssa_wall_time = 505.6"
   ]
  },
  {
   "cell_type": "code",
   "execution_count": null,
   "metadata": {},
   "outputs": [],
   "source": [
    "ssa_1e6 = np.load(\"scripts/reference_solutions/cascade_ssa_1e+06.npy\")\n",
    "ssa_1e6_sol = SSASol(ssa_1e6)\n",
    "ssa_marginal_1e6, _, _, _ = ssa_1e6_sol.calculateObservables(slice_vec, idx_2D)\n",
    "ssa_wall_time = 4504.3"
   ]
  },
  {
   "cell_type": "code",
   "execution_count": null,
   "metadata": {},
   "outputs": [],
   "source": [
    "ssa_1e7 = np.load(\"scripts/reference_solutions/cascade_ssa_1e+07.npy\")\n",
    "ssa_1e7_sol = SSASol(ssa_1e7)\n",
    "ssa_marginal_1e7, _, _, _ = ssa_1e7_sol.calculateObservables(slice_vec, idx_2D)\n",
    "ssa_wall_time = 43828.32"
   ]
  },
  {
   "cell_type": "markdown",
   "metadata": {},
   "source": [
    "## Convergence with increasing rank"
   ]
  },
  {
   "cell_type": "code",
   "execution_count": null,
   "metadata": {},
   "outputs": [],
   "source": [
    "fig, (ax1, ax2) = plt.subplots(2, 1, figsize=(6,8))\n",
    "ax1.plot(np.arange(tree_r5.grid.n[18]), ttn_marginal_r_5[18], \"v\", label=\"TTN, $r=5$\")\n",
    "ax1.plot(np.arange(tree_r7.grid.n[18]), ttn_marginal_r_7[18], \"v\", label=\"TTN, $r=7$\")\n",
    "# ax1.plot(np.arange(tree_r12.grid.n[0]), ttn_marginal_r_12[0], \"v\", label=\"TTN, $r=12$\")\n",
    "\n",
    "# ax1.plot(np.arange(ssa_1e5_sol.n[0])+ssa_1e5_sol.n_min[0], ssa_marginal_1e5[-1][0], \"rx\", label=\"SSA, $10^5$ runs\")\n",
    "ax1.plot(np.arange(ssa_1e7_sol.n[18])+ssa_1e7_sol.n_min[18], ssa_marginal_1e7[-1][18], \"k.\", label=\"SSA, $10^7$ runs\")\n",
    "ax1.set_xlabel(\"$x_0$\")\n",
    "\n",
    "ax2.plot(np.arange(tree_r5.grid.n[19]), ttn_marginal_r_5[19], \"v\", label=\"TTN, $r=5$\")\n",
    "ax2.plot(np.arange(tree_r7.grid.n[19]), ttn_marginal_r_7[19], \"v\", label=\"TTN, $r=7$\")\n",
    "# ax2.plot(np.arange(tree_r12.grid.n[1]), ttn_marginal_r_12[1], \"v\", label=\"TTN, $r=12$\")\n",
    "# ax2.plot(np.arange(ssa_1e5_sol.n[1])+ssa_1e5_sol.n_min[1], ssa_marginal_1e5[-1][1], \"rx\", label=\"SSA, $10^5$ runs\")\n",
    "ax2.plot(np.arange(ssa_1e7_sol.n[19])+ssa_1e7_sol.n_min[19], ssa_marginal_1e7[-1][19], \"k.\", label=\"SSA, $10^7$ runs\")\n",
    "ax2.set_xlabel(\"$x_1$\")\n",
    "\n",
    "ax2.legend()\n",
    "plt.savefig(\"plots/cascade_fig1.pdf\")"
   ]
  }
 ],
 "metadata": {
  "kernelspec": {
   "display_name": "base",
   "language": "python",
   "name": "python3"
  },
  "language_info": {
   "codemirror_mode": {
    "name": "ipython",
    "version": 3
   },
   "file_extension": ".py",
   "mimetype": "text/x-python",
   "name": "python",
   "nbconvert_exporter": "python",
   "pygments_lexer": "ipython3",
   "version": "3.10.14"
  }
 },
 "nbformat": 4,
 "nbformat_minor": 2
}
