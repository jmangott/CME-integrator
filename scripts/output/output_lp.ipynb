{
 "cells": [
  {
   "attachments": {},
   "cell_type": "markdown",
   "metadata": {},
   "source": [
    "# Lambda phage"
   ]
  },
  {
   "cell_type": "code",
   "execution_count": null,
   "metadata": {},
   "outputs": [],
   "source": [
    "from output_helper import *\n",
    "from scripts.reference_solutions.ssa_helper import SSASol\n",
    "%matplotlib inline"
   ]
  },
  {
   "cell_type": "code",
   "execution_count": null,
   "metadata": {},
   "outputs": [],
   "source": [
    "with xr.open_dataset(\"output/lp/output_t1000.nc\") as ds:\n",
    "    grid = GridInfo(ds)\n",
    "    lr_sol = LRSol(ds, grid)\n",
    "    slice_vec = np.array([0, 0, 0, 0, 0])\n",
    "    idx_2D = np.array([0, 1])\n",
    "    P_marginal = lr_sol.marginalDistributions()\n",
    "    P_sliced = lr_sol.slicedDistributions(slice_vec)\n",
    "    P_marginal2D = lr_sol.marginalDistribution2D(idx_2D)"
   ]
  },
  {
   "cell_type": "code",
   "execution_count": null,
   "metadata": {},
   "outputs": [],
   "source": [
    "result = np.load(\"scripts/reference_solutions/lp_ssa_ref.npy\")\n",
    "ssa_sol = SSASol(result)\n",
    "P_full_ssa = ssa_sol.calculateFullDistribution()\n",
    "P_marginal_ssa, P_marginal2D_ssa, P_sliced_ssa, P_sliced2D_ssa = ssa_sol.calculateObservables(slice_vec, idx_2D)"
   ]
  },
  {
   "attachments": {},
   "cell_type": "markdown",
   "metadata": {},
   "source": [
    "Additional parameters:"
   ]
  },
  {
   "cell_type": "code",
   "execution_count": null,
   "metadata": {},
   "outputs": [],
   "source": [
    "idx = np.arange(5)\n",
    "mesh = [grid.bin[j] * np.arange(n_el) + grid.liml[j] for j, n_el in enumerate(grid.n)]\n",
    "mesh_ssa = [np.arange(el) + ssa_sol.n_min[j] for j, el in enumerate(ssa_sol.n)]\n",
    "\n",
    "t = 10\n",
    "time_step = 1\n",
    "snapshot = 100"
   ]
  },
  {
   "attachments": {},
   "cell_type": "markdown",
   "metadata": {},
   "source": [
    "## Figure 1\n",
    "One-dimensional marginal distributions for $t = 10$"
   ]
  },
  {
   "cell_type": "code",
   "execution_count": null,
   "metadata": {},
   "outputs": [],
   "source": [
    "fig, axs = plt.subplots(3, 2, figsize=(6, 6))\n",
    "plotP1Dmult(axs, [P_marginal, P_marginal_ssa[-1]], [mesh, mesh_ssa], [\"DLR approx.\", \"SSA\"], idx, \"MD\")\n",
    "axs.flat[0].legend()\n",
    "fig.tight_layout()\n",
    "fig.delaxes(axs[-1, -1])\n",
    "fig.savefig('plots/lp_fig1.pgf')"
   ]
  },
  {
   "attachments": {},
   "cell_type": "markdown",
   "metadata": {},
   "source": [
    "## Figure 2\n",
    "Sliced distributions for $x_0 = (0,\\,0,\\,0,\\,0,\\,0)$, $t = 10$"
   ]
  },
  {
   "cell_type": "code",
   "execution_count": null,
   "metadata": {},
   "outputs": [],
   "source": [
    "fig, axs = plt.subplots(1, 2, figsize=(6, 2))\n",
    "plotP1Dmult(axs, [P_sliced, P_sliced_ssa[-1]], [mesh, mesh_ssa], [\"DLR approx.\", \"SSA\"], idx, \"S\")\n",
    "axs.flat[0].legend()\n",
    "plt.setp(axs.flat, yscale=\"log\")\n",
    "fig.tight_layout()\n",
    "fig.savefig('plots/lp_fig2.pdf')"
   ]
  },
  {
   "attachments": {},
   "cell_type": "markdown",
   "metadata": {},
   "source": [
    "## Figure 3\n",
    "Two-dimensional marginal distribution of the $S_1$-$S_2$ plane for $t = 10$"
   ]
  },
  {
   "attachments": {},
   "cell_type": "markdown",
   "metadata": {},
   "source": [
    "Reshape `P_marginal2D` and `P_marginal2D_ssa` such that they are on the same domain:"
   ]
  },
  {
   "cell_type": "code",
   "execution_count": null,
   "metadata": {},
   "outputs": [],
   "source": [
    "n_min = np.array([max(grid.liml[i], ssa_sol.n_min[i])\n",
    "                 for i in [0, 1]], dtype=\"int64\")\n",
    "n_max = np.array([min(grid.n[i] + grid.liml[i], ssa_sol.n_max[i])\n",
    "                  for i in [0, 1]], dtype=\"int64\")\n",
    "n = n_max - n_min\n",
    "Pred = np.zeros(n[:2])\n",
    "Pred_ssa = np.zeros(n[:2])\n",
    "\n",
    "liml_red = np.array([n_min[i] - grid.liml[i]\n",
    "                     for i in [0, 1]], dtype=\"int64\")\n",
    "liml_red_ssa = np.array([n_min[i] - ssa_sol.n_min[i]\n",
    "                         for i in [0, 1]], dtype=\"int64\")\n",
    "\n",
    "for i in range(n[0]):\n",
    "    for j in range(n[1]):\n",
    "        Pred[i, j] = P_marginal2D[i + liml_red[0], j + liml_red[1]]\n",
    "        Pred_ssa[i, j] = P_marginal2D_ssa[-1][(i + liml_red_ssa[0]) + ssa_sol.n[0] * (j + liml_red_ssa[1])]"
   ]
  },
  {
   "cell_type": "code",
   "execution_count": null,
   "metadata": {},
   "outputs": [],
   "source": [
    "xx1, xx2 = np.meshgrid(\n",
    "    np.arange(n[0]) + n_min[0], np.arange(n[1]) + n_min[1], indexing='ij')\n",
    "fig, axs = plt.subplots(1, 2, figsize=(4, 4))\n",
    "plotP2D(axs, [Pred, Pred_ssa], [xx1, xx2], [\"DLR approximation\", \"SSA\"])\n",
    "plt.setp(axs.flat, xlim=[0, 8], ylim=[0, 20])\n",
    "fig.tight_layout()"
   ]
  },
  {
   "attachments": {},
   "cell_type": "markdown",
   "metadata": {},
   "source": [
    "Maximal difference for the two-dimensional marginal distribution:"
   ]
  },
  {
   "cell_type": "code",
   "execution_count": null,
   "metadata": {},
   "outputs": [],
   "source": [
    "print(np.amax(np.abs(Pred - Pred_ssa)))"
   ]
  }
 ],
 "metadata": {
  "kernelspec": {
   "display_name": "base",
   "language": "python",
   "name": "python3"
  },
  "language_info": {
   "codemirror_mode": {
    "name": "ipython",
    "version": 3
   },
   "file_extension": ".py",
   "mimetype": "text/x-python",
   "name": "python",
   "nbconvert_exporter": "python",
   "pygments_lexer": "ipython3",
   "version": "3.9.5"
  },
  "orig_nbformat": 4
 },
 "nbformat": 4,
 "nbformat_minor": 2
}
