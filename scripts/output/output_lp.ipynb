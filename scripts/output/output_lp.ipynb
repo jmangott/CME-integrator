{
 "cells": [
  {
   "attachments": {},
   "cell_type": "markdown",
   "metadata": {},
   "source": [
    "# Lambda phage"
   ]
  },
  {
   "cell_type": "code",
   "execution_count": null,
   "metadata": {},
   "outputs": [],
   "source": [
    "from output_helper import *\n",
    "%matplotlib inline"
   ]
  },
  {
   "cell_type": "code",
   "execution_count": null,
   "metadata": {},
   "outputs": [],
   "source": [
    "with nc.Dataset(\"output/lp/output_t1000.nc\", \"r\") as ds:\n",
    "    grid = grid_info(ds)\n",
    "    slice_vec = np.array([0, 0, 0, 0, 0])\n",
    "    P_marginal = marginalDistributions(ds, grid)\n",
    "    P_sliced = slicedDistributions(ds, grid, slice_vec)\n",
    "    P_marginal2D = marginalDistribution2D(ds, grid)"
   ]
  },
  {
   "cell_type": "code",
   "execution_count": null,
   "metadata": {},
   "outputs": [],
   "source": [
    "with open(\"scripts/reference_solutions/lp_ssa_ref.npy\", \"rb\") as f:\n",
    "    P_marginal_ssa = np.load(f, allow_pickle=True)\n",
    "    P_sliced_ssa = np.load(f, allow_pickle=True)\n",
    "    P_marginal2D_ssa = np.load(f, allow_pickle=True)\n",
    "    nssa = np.load(f)\n",
    "    nssa_min = np.load(f)\n",
    "    nssa_max = np.load(f)"
   ]
  },
  {
   "attachments": {},
   "cell_type": "markdown",
   "metadata": {},
   "source": [
    "Parameters for Figure 5:"
   ]
  },
  {
   "cell_type": "code",
   "execution_count": null,
   "metadata": {},
   "outputs": [],
   "source": [
    "t = 10\n",
    "time_step = 1\n",
    "snapshot = 100"
   ]
  },
  {
   "attachments": {},
   "cell_type": "markdown",
   "metadata": {},
   "source": [
    "## Figure 1\n",
    "One-dimensional marginal distributions for $t = 10$"
   ]
  },
  {
   "cell_type": "code",
   "execution_count": null,
   "metadata": {},
   "outputs": [],
   "source": [
    "fig, axs = plt.subplots(3, 2, figsize=(6, 6))\n",
    "grid_ref = [range(el) + nssa_min[i] for i, el in enumerate(nssa)]\n",
    "axs = plotP1Dmult(\n",
    "    axs, P_marginal, P_marginal_ssa[-1], grid, grid_ref, [\"DLR approx.\", \"SSA\"], range(5), \"MD\")\n",
    "axs.flat[0].legend()\n",
    "fig.tight_layout()\n",
    "fig.delaxes(axs[-1, -1])\n",
    "fig.savefig('plots/lp_fig1.pgf')"
   ]
  },
  {
   "attachments": {},
   "cell_type": "markdown",
   "metadata": {},
   "source": [
    "## Figure 2\n",
    "Sliced distributions for $x_0 = (0,\\,0,\\,0,\\,0,\\,0)$, $t = 10$"
   ]
  },
  {
   "cell_type": "code",
   "execution_count": null,
   "metadata": {},
   "outputs": [],
   "source": [
    "fig, axs = plt.subplots(1, 2, figsize=(6, 2))\n",
    "grid_ref = [range(el) + nssa_min[i] for i, el in enumerate(nssa)]\n",
    "axs = plotP1Dmult(\n",
    "    axs, P_sliced, P_sliced_ssa[-1], grid, grid_ref, [\"DLR approx.\", \"SSA\"], range(2), \"S\")\n",
    "axs.flat[1].legend()\n",
    "fig.tight_layout()\n",
    "fig.savefig('plots/lp_fig2.pgf')"
   ]
  },
  {
   "attachments": {},
   "cell_type": "markdown",
   "metadata": {},
   "source": [
    "## Figure 3\n",
    "Two-dimensional marginal distribution of the $S_1$-$S_2$ plane for $t = 10$"
   ]
  },
  {
   "attachments": {},
   "cell_type": "markdown",
   "metadata": {},
   "source": [
    "Reshape `P_marginal2D` and `P_marginal2D_ssa` such that they are on the same domain:"
   ]
  },
  {
   "cell_type": "code",
   "execution_count": null,
   "metadata": {},
   "outputs": [],
   "source": [
    "n_min = np.array([max(grid.liml[i], nssa_min[i])\n",
    "                 for i in [0, 1]], dtype=\"int64\")\n",
    "n_max = np.array([min(grid.n[i] + grid.liml[i], nssa_max[i])\n",
    "                  for i in [0, 1]], dtype=\"int64\")\n",
    "n = n_max - n_min\n",
    "Pred = np.zeros(n[:2])\n",
    "Pred_ssa = np.zeros(n[:2])\n",
    "\n",
    "liml_red = np.array([n_min[i] - grid.liml[i]\n",
    "                     for i in [0, 1]], dtype=\"int64\")\n",
    "liml_red_ssa = np.array([n_min[i] - nssa_min[i]\n",
    "                         for i in [0, 1]], dtype=\"int64\")\n",
    "\n",
    "for i in range(n[0]):\n",
    "    for j in range(n[1]):\n",
    "        Pred[i, j] = P_marginal2D[i + liml_red[0], j + liml_red[1]]\n",
    "        Pred_ssa[i, j] = P_marginal2D_ssa[-1][i + liml_red_ssa[0], j + liml_red_ssa[1]]"
   ]
  },
  {
   "cell_type": "code",
   "execution_count": null,
   "metadata": {},
   "outputs": [],
   "source": [
    "xx1, xx2 = np.meshgrid(\n",
    "    np.arange(n[0]) + n_min[0], np.arange(n[1]) + n_min[1], indexing='ij')\n",
    "fig, ax = plotP2D(\n",
    "    Pred, Pred_ssa, [xx1, xx2], [\"DLR approximation\", \"SSA\"])\n",
    "plt.setp(ax.flat, xlim=[0, 8], ylim=[0, 20])\n",
    "fig.tight_layout()"
   ]
  },
  {
   "attachments": {},
   "cell_type": "markdown",
   "metadata": {},
   "source": [
    "Maximal difference for the two-dimensional marginal distribution:"
   ]
  },
  {
   "cell_type": "code",
   "execution_count": null,
   "metadata": {},
   "outputs": [],
   "source": [
    "print(np.amax(np.abs(Pred - Pred_ssa)))"
   ]
  }
 ],
 "metadata": {
  "kernelspec": {
   "display_name": "base",
   "language": "python",
   "name": "python3"
  },
  "language_info": {
   "codemirror_mode": {
    "name": "ipython",
    "version": 3
   },
   "file_extension": ".py",
   "mimetype": "text/x-python",
   "name": "python",
   "nbconvert_exporter": "python",
   "pygments_lexer": "ipython3",
   "version": "3.9.5"
  },
  "orig_nbformat": 4
 },
 "nbformat": 4,
 "nbformat_minor": 2
}
