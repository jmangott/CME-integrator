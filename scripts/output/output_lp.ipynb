{
 "cells": [
  {
   "attachments": {},
   "cell_type": "markdown",
   "metadata": {},
   "source": [
    "# Lambda phage"
   ]
  },
  {
   "cell_type": "code",
   "execution_count": null,
   "metadata": {},
   "outputs": [],
   "source": [
    "from output_helper import *\n",
    "%matplotlib inline"
   ]
  },
  {
   "cell_type": "code",
   "execution_count": null,
   "metadata": {},
   "outputs": [],
   "source": [
    "with nc.Dataset(\"output/lp/output_t1000.nc\", \"r\") as ds:\n",
    "    grid = grid_info(ds)\n",
    "    slice_vec = np.array([0, 0, 0, 0, 0])\n",
    "    P_marginal = marginalDistributions(ds, grid)\n",
    "    P_sliced = slicedDistributions(ds, grid, slice_vec)\n",
    "    P_marginal2D = marginalDistribution2D(ds, grid)"
   ]
  },
  {
   "cell_type": "code",
   "execution_count": null,
   "metadata": {},
   "outputs": [],
   "source": [
    "with open(\"scripts/reference_solutions/lp_ssa_ref.npy\", \"rb\") as f:\n",
    "    P_marginal_ssa = np.load(f, allow_pickle=True)\n",
    "    P_sliced_ssa = np.load(f, allow_pickle=True)\n",
    "    P_marginal2D_ssa = np.load(f, allow_pickle=True)\n",
    "    nssa = np.load(f)\n",
    "    nssa_min = np.load(f)\n",
    "    nssa_max = np.load(f)\n"
   ]
  },
  {
   "attachments": {},
   "cell_type": "markdown",
   "metadata": {},
   "source": [
    "## Figure 1\n",
    "One-dimensional marginal distributions for $t = 10$"
   ]
  },
  {
   "cell_type": "code",
   "execution_count": null,
   "metadata": {},
   "outputs": [],
   "source": [
    "fig, axs = plt.subplots(3, 2, figsize=(6, 6))\n",
    "grid_ref = [range(el) + nssa_min[i] for i, el in enumerate(nssa)]\n",
    "axs = plotP1Dmult(\n",
    "    axs, P_marginal, P_marginal_ssa[-1], grid, grid_ref, [\"DLR approx.\", \"SSA\"], range(5), \"MD\")\n",
    "axs.flat[0].legend()\n",
    "fig.tight_layout()\n",
    "fig.delaxes(axs[-1, -1])\n",
    "fig.savefig('plots/lp_fig1.pgf')"
   ]
  },
  {
   "attachments": {},
   "cell_type": "markdown",
   "metadata": {},
   "source": [
    "## Figure 2\n",
    "Sliced distributions for $x_0 = (0,\\,0,\\,0,\\,0,\\,0)$, $t = 10$"
   ]
  },
  {
   "cell_type": "code",
   "execution_count": null,
   "metadata": {},
   "outputs": [],
   "source": [
    "fig, axs = plt.subplots(1, 2, figsize=(6, 2))\n",
    "grid_ref = [range(el) + nssa_min[i] for i, el in enumerate(nssa)]\n",
    "axs = plotP1Dmult(\n",
    "    axs, P_sliced, P_sliced_ssa[-1], grid, grid_ref, [\"DLR approx.\", \"SSA\"], range(2), \"S\")\n",
    "axs.flat[1].legend()\n",
    "fig.tight_layout()\n",
    "fig.savefig('plots/lp_fig2.pgf')"
   ]
  },
  {
   "attachments": {},
   "cell_type": "markdown",
   "metadata": {},
   "source": [
    "## Figure 3\n",
    "Two-dimensional marginal distribution of the $S_1$-$S_2$ plane for $t = 10$"
   ]
  },
  {
   "cell_type": "code",
   "execution_count": null,
   "metadata": {},
   "outputs": [],
   "source": [
    "xx1, xx2 = np.meshgrid(\n",
    "    np.arange(grid.n1[0]) + grid.liml[0], np.arange(grid.n1[1]) + grid.liml[1], indexing='ij')\n",
    "xx1_ssa, xx2_ssa = np.meshgrid(np.arange(\n",
    "    nssa[0]) + nssa_min[0], np.arange(nssa[1]) + nssa_min[1], indexing='ij')\n",
    "fig, ax = plotP2D(\n",
    "    P_marginal2D, P_marginal2D_ssa[-1], [xx1, xx2], [xx1_ssa, xx2_ssa], [\"DLR approximation\", \"SSA\"])\n",
    "plt.setp(ax.flat, xlim=[0, 8], ylim=[0, 20])\n",
    "fig.tight_layout()\n",
    "fig.savefig('plots/lp_fig3.pgf')"
   ]
  }
 ],
 "metadata": {
  "kernelspec": {
   "display_name": "base",
   "language": "python",
   "name": "python3"
  },
  "language_info": {
   "codemirror_mode": {
    "name": "ipython",
    "version": 3
   },
   "file_extension": ".py",
   "mimetype": "text/x-python",
   "name": "python",
   "nbconvert_exporter": "python",
   "pygments_lexer": "ipython3",
   "version": "3.9.5"
  },
  "orig_nbformat": 4
 },
 "nbformat": 4,
 "nbformat_minor": 2
}
