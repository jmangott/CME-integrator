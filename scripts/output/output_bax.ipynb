{
 "cells": [
  {
   "attachments": {},
   "cell_type": "markdown",
   "metadata": {},
   "source": [
    "# BAX pore aggregation"
   ]
  },
  {
   "cell_type": "code",
   "execution_count": null,
   "metadata": {},
   "outputs": [],
   "source": [
    "from output_helper import *\n",
    "%matplotlib inline"
   ]
  },
  {
   "cell_type": "code",
   "execution_count": null,
   "metadata": {},
   "outputs": [],
   "source": [
    "with nc.Dataset(\"output/bax_230602_so_tau1e-2_ss1/output_t1900.nc\", \"r\") as ds:\n",
    "    grid = grid_info(ds)\n",
    "    slice_vec = np.array([0, 0, 0, 0, 0, 100, 0, 80, 0, 0, 0])\n",
    "    P_marginal = marginalDistributions(ds, grid)\n",
    "    P_sliced = slicedDistributions(ds, grid, slice_vec)"
   ]
  },
  {
   "cell_type": "code",
   "execution_count": null,
   "metadata": {},
   "outputs": [],
   "source": [
    "with open(\"scripts/reference_solutions/bax_ssa_ref.npy\", \"rb\") as f:\n",
    "    P_marginal_ssa = np.load(f, allow_pickle=True)\n",
    "    P_sliced_ssa = np.load(f, allow_pickle=True)\n",
    "    nssa = np.load(f)\n",
    "    nssa_min = np.load(f)\n",
    "    nssa_max = np.load(f)\n"
   ]
  },
  {
   "attachments": {},
   "cell_type": "markdown",
   "metadata": {},
   "source": [
    "## Figure 1\n",
    "One-dimensional marginal distributions for $t = 19$"
   ]
  },
  {
   "cell_type": "code",
   "execution_count": null,
   "metadata": {},
   "outputs": [],
   "source": [
    "fig, axs = plt.subplots(2, 2, figsize=(6, 4))\n",
    "grid_ref = [range(el) + nssa_min[i] for i, el in enumerate(nssa)]\n",
    "axs = plotP1Dmult(\n",
    "    axs, P_marginal, P_marginal_ssa[-1], grid, grid_ref, [\"DLR approx.\", \"SSA\"], [7, 8, 9, 10], \"MD\")\n",
    "axs.flat[-1].legend()\n",
    "fig.tight_layout()\n",
    "fig.savefig('plots/bax_fig1.pgf')"
   ]
  },
  {
   "attachments": {},
   "cell_type": "markdown",
   "metadata": {},
   "source": [
    "## Figure 2\n",
    "Sliced distributions for $x_0 = (0,\\,0,\\,0,\\,0,\\,0,\\,100,\\,0,\\,80,\\,0,\\,0,\\,0)$, $t = 19$"
   ]
  },
  {
   "cell_type": "code",
   "execution_count": null,
   "metadata": {},
   "outputs": [],
   "source": [
    "fig, axs = plt.subplots(2, 2, figsize=(6, 4))\n",
    "grid_ref = [range(el) + nssa_min[i] for i, el in enumerate(nssa)]\n",
    "axs = plotP1Dmult(\n",
    "    axs, P_sliced, P_sliced_ssa[-1], grid, grid_ref, [\"DLR approx.\", \"SSA\"], [7, 8, 9, 10], \"S\")\n",
    "fig.tight_layout()\n",
    "fig.savefig('plots/bax_fig2.pgf')"
   ]
  }
 ],
 "metadata": {
  "kernelspec": {
   "display_name": "base",
   "language": "python",
   "name": "python3"
  },
  "language_info": {
   "codemirror_mode": {
    "name": "ipython",
    "version": 3
   },
   "file_extension": ".py",
   "mimetype": "text/x-python",
   "name": "python",
   "nbconvert_exporter": "python",
   "pygments_lexer": "ipython3",
   "version": "3.9.5"
  },
  "orig_nbformat": 4
 },
 "nbformat": 4,
 "nbformat_minor": 2
}
