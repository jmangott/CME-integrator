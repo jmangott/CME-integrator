{
 "cells": [
  {
   "attachments": {},
   "cell_type": "markdown",
   "metadata": {},
   "source": [
    "# Toggle switch"
   ]
  },
  {
   "cell_type": "code",
   "execution_count": null,
   "metadata": {},
   "outputs": [],
   "source": [
    "from output_helper import *\n",
    "%matplotlib inline"
   ]
  },
  {
   "cell_type": "code",
   "execution_count": null,
   "metadata": {},
   "outputs": [],
   "source": [
    "with nc.Dataset(\"output/ts/output_t50000.nc\", \"r\") as ds:\n",
    "    grid = grid_info(ds)\n",
    "    slice_vec = np.array([0, 0])\n",
    "    P_full = fullDistribution(ds, grid)\n",
    "    P_marginal = marginalDistributions(ds, grid)\n",
    "    P_sliced = slicedDistributions(ds, grid, slice_vec)"
   ]
  },
  {
   "cell_type": "code",
   "execution_count": null,
   "metadata": {},
   "outputs": [],
   "source": [
    "with open(\"scripts/reference_solutions/ts_ode_ref.npy\", \"rb\") as f:\n",
    "    P_full_ode = np.load(f, allow_pickle=True)\n",
    "    P_marginal_ode = np.load(f, allow_pickle=True)\n",
    "    P_sliced_ode = np.load(f, allow_pickle=True)\n",
    "    P_best_approximation_ode = np.load(f, allow_pickle=True)\n",
    "    n_ode = np.load(f)"
   ]
  },
  {
   "attachments": {},
   "cell_type": "markdown",
   "metadata": {},
   "source": [
    "Parameters for Figure 4:"
   ]
  },
  {
   "cell_type": "code",
   "execution_count": null,
   "metadata": {},
   "outputs": [],
   "source": [
    "t = 500\n",
    "time_step = 10\n",
    "snapshot = 100"
   ]
  },
  {
   "attachments": {},
   "cell_type": "markdown",
   "metadata": {},
   "source": [
    "## Figure 1\n",
    "One-dimensional marginal distributions for $t = 500$"
   ]
  },
  {
   "cell_type": "code",
   "execution_count": null,
   "metadata": {},
   "outputs": [],
   "source": [
    "fig, axs = plt.subplots(1, 2, figsize=(6, 2))\n",
    "grid_ref = [range(el.shape[0]) for el in P_marginal_ode[-1]]\n",
    "axs = plotP1Dmult(\n",
    "    axs, P_marginal, P_marginal_ode[-1], grid, grid_ref, [\"DLR approx.\", \"exact\"], range(2), \"MD\")\n",
    "axs.flat[0].legend()\n",
    "fig.tight_layout()\n",
    "fig.savefig('plots/ts_fig1.pgf')"
   ]
  },
  {
   "attachments": {},
   "cell_type": "markdown",
   "metadata": {},
   "source": [
    "## Figure 2\n",
    "Sliced distributions for $x_0 = (0,\\,0)$, $t = 500$"
   ]
  },
  {
   "cell_type": "code",
   "execution_count": null,
   "metadata": {},
   "outputs": [],
   "source": [
    "fig, axs = plt.subplots(1, 2, figsize=(6, 2))\n",
    "grid_ref = [range(el.shape[0]) for el in P_sliced_ode[-1]]\n",
    "axs = plotP1Dmult(\n",
    "    axs, P_sliced, P_sliced_ode[-1], grid, grid_ref, [\"DLR approx.\", \"exact\"], range(2), \"S\")\n",
    "fig.tight_layout()\n",
    "fig.savefig('plots/ts_fig2.pgf')"
   ]
  },
  {
   "attachments": {},
   "cell_type": "markdown",
   "metadata": {},
   "source": [
    "## Figure 3\n",
    "Full probability distribution for $t = 500$"
   ]
  },
  {
   "cell_type": "code",
   "execution_count": null,
   "metadata": {},
   "outputs": [],
   "source": [
    "xx1, xx2 = np.meshgrid(\n",
    "    np.arange(grid.n1[0]), np.arange(grid.n2[0]), indexing='ij')\n",
    "fig, ax = plotP2D(\n",
    "    P_full, P_full_ode[-1], [xx1, xx2], [\"DLR approximation\", \"exact\"])\n",
    "plt.setp(ax.flat, xlim=[0, 30], ylim=[0, 30], aspect=\"equal\")\n",
    "fig.tight_layout()\n",
    "fig.savefig('plots/ts_fig3.pgf')"
   ]
  },
  {
   "attachments": {},
   "cell_type": "markdown",
   "metadata": {},
   "source": [
    "Maximal error for the full probability distribution:"
   ]
  },
  {
   "cell_type": "code",
   "execution_count": null,
   "metadata": {},
   "outputs": [],
   "source": [
    "print(np.amax(P_full - P_full_ode[-1]))"
   ]
  },
  {
   "attachments": {},
   "cell_type": "markdown",
   "metadata": {},
   "source": [
    "## Figure 4\n",
    "Calculate the 2-norm error for the DLR approximation and for the truncated SVD of the reference solution ('best approximation')"
   ]
  },
  {
   "cell_type": "code",
   "execution_count": null,
   "metadata": {},
   "outputs": [],
   "source": [
    "times = np.arange(0, t + time_step, time_step)\n",
    "err = np.zeros(times.size)\n",
    "errba = np.zeros(times.size)\n",
    "\n",
    "for ts, tp in enumerate(times):\n",
    "    filename = \"output/ts/output_t\" + str(int(tp * snapshot)) + \".nc\"\n",
    "    with nc.Dataset(filename, \"r\") as ds:\n",
    "        P = fullDistribution(ds, grid)\n",
    "    err[ts] = np.linalg.norm(P - P_full_ode[ts], ord=2)\n",
    "    errba[ts] = np.linalg.norm(\n",
    "        P_best_approximation_ode[ts] - P_full_ode[ts], ord=2)\n",
    "\n",
    "fig, ax = plt.subplots(figsize=(5, 3))\n",
    "plotP1D(ax, err, errba, times, [\n",
    "        \"DLR approximation\", \"best-approximation\"], xlabel=\"$t$\", ylabel=\"2-norm error\")\n",
    "ax.legend()\n",
    "fig.tight_layout()\n",
    "fig.savefig('plots/ts_fig4.pgf')"
   ]
  }
 ],
 "metadata": {
  "kernelspec": {
   "display_name": "base",
   "language": "python",
   "name": "python3"
  },
  "language_info": {
   "codemirror_mode": {
    "name": "ipython",
    "version": 3
   },
   "file_extension": ".py",
   "mimetype": "text/x-python",
   "name": "python",
   "nbconvert_exporter": "python",
   "pygments_lexer": "ipython3",
   "version": "3.9.5"
  },
  "orig_nbformat": 4
 },
 "nbformat": 4,
 "nbformat_minor": 2
}
