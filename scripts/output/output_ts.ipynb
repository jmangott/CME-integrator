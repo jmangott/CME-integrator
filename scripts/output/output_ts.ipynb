{
 "cells": [
  {
   "attachments": {},
   "cell_type": "markdown",
   "metadata": {},
   "source": [
    "# Toggle switch"
   ]
  },
  {
   "cell_type": "code",
   "execution_count": null,
   "metadata": {},
   "outputs": [],
   "source": [
    "from output_helper import *\n",
    "%matplotlib inline"
   ]
  },
  {
   "cell_type": "code",
   "execution_count": null,
   "metadata": {},
   "outputs": [],
   "source": [
    "with xr.open_dataset(\"output/ts/output_t50000.nc\") as ds:\n",
    "    grid = GridInfo(ds)\n",
    "    lr_sol = LRSol(ds, grid)\n",
    "    slice_vec = np.array([0, 0])\n",
    "    P_full = lr_sol.fullDistribution()\n",
    "    P_marginal = lr_sol.marginalDistributions()\n",
    "    P_sliced = lr_sol.slicedDistributions(slice_vec)"
   ]
  },
  {
   "cell_type": "code",
   "execution_count": null,
   "metadata": {},
   "outputs": [],
   "source": [
    "with open(\"scripts/reference_solutions/ts_ode_ref.npy\", \"rb\") as f:\n",
    "    P_full_ode = np.load(f, allow_pickle=True)\n",
    "    P_marginal_ode = np.load(f, allow_pickle=True)\n",
    "    P_sliced_ode = np.load(f, allow_pickle=True)\n",
    "    P_best_approximation_ode = np.load(f, allow_pickle=True)\n",
    "    n_ode = np.load(f, allow_pickle=True)"
   ]
  },
  {
   "attachments": {},
   "cell_type": "markdown",
   "metadata": {},
   "source": [
    "Additional parameters:"
   ]
  },
  {
   "cell_type": "code",
   "execution_count": null,
   "metadata": {},
   "outputs": [],
   "source": [
    "# Figure 1 and 2\n",
    "idx = np.arange(2)\n",
    "mesh = [grid.bin[j] * np.arange(grid.n[j]) + grid.liml[j] for j in idx]\n",
    "mesh_ode = [np.arange(el.shape[0]) for el in P_marginal_ode[-1]]\n",
    "\n",
    "# Figure 4\n",
    "t = 500\n",
    "time_step = 10\n",
    "snapshot = 100"
   ]
  },
  {
   "attachments": {},
   "cell_type": "markdown",
   "metadata": {},
   "source": [
    "## Figure 1\n",
    "One-dimensional marginal distributions for $t = 500$"
   ]
  },
  {
   "cell_type": "code",
   "execution_count": null,
   "metadata": {},
   "outputs": [],
   "source": [
    "fig, axs = plt.subplots(1, 2, figsize=(6, 2.5))\n",
    "plotP1Dmult(axs, [P_marginal, P_marginal_ode[-1]], [mesh, mesh_ode], [\"DLR approx.\", \"exact\"], idx, \"MD\", stats=True)\n",
    "# axs.flat[0].legend()\n",
    "fig.suptitle(\"\\\\textbf{{rank \\\\textit{{r}}}} $\\mathbf{{=5}}$\", y=0.92, fontsize=\"medium\")\n",
    "fig.tight_layout()\n",
    "fig.savefig('plots/ts_fig1.pgf')"
   ]
  },
  {
   "attachments": {},
   "cell_type": "markdown",
   "metadata": {},
   "source": [
    "## Figure 2\n",
    "Sliced distributions for $x_0 = (0,\\,0)$, $t = 500$"
   ]
  },
  {
   "cell_type": "code",
   "execution_count": null,
   "metadata": {},
   "outputs": [],
   "source": [
    "fig, axs = plt.subplots(1, 2, figsize=(6, 2))\n",
    "grid_ref = [range(el.shape[0]) for el in P_sliced_ode[-1]]\n",
    "plotP1Dmult(axs, [P_sliced, P_sliced_ode[-1]], [mesh, mesh_ode], [\"DLR approx.\", \"exact\"], idx, \"S\", stats=True)\n",
    "fig.tight_layout()"
   ]
  },
  {
   "attachments": {},
   "cell_type": "markdown",
   "metadata": {},
   "source": [
    "## Figure 3\n",
    "Full probability distribution for $t = 500$"
   ]
  },
  {
   "cell_type": "code",
   "execution_count": null,
   "metadata": {},
   "outputs": [],
   "source": [
    "xx1, xx2 = np.meshgrid(\n",
    "    np.arange(grid.n1[0]), np.arange(grid.n2[0]))\n",
    "fig, axs = plt.subplots(1, 2, figsize=(6, 3))\n",
    "plt.setp(axs.flat, xlim=[0, 30], ylim=[0, 30], xlabel=\"$x_1$\", ylabel=\"$x_2$\", aspect=\"equal\")\n",
    "plotP2D(axs, [P_full.reshape((grid.n1[0], grid.n2[0])), P_full_ode[-1].reshape(n_ode)], [xx1, xx2], [\"DLR approximation\", \"exact\"])\n",
    "fig.tight_layout()\n",
    "fig.savefig('plots/ts_fig2.pgf')"
   ]
  },
  {
   "attachments": {},
   "cell_type": "markdown",
   "metadata": {},
   "source": [
    "Maximal error for the full probability distribution:"
   ]
  },
  {
   "cell_type": "code",
   "execution_count": null,
   "metadata": {},
   "outputs": [],
   "source": [
    "print(np.amax(np.abs(P_full - P_full_ode[-1])))"
   ]
  },
  {
   "attachments": {},
   "cell_type": "markdown",
   "metadata": {},
   "source": [
    "## Figure 4\n",
    "Calculate the 2-norm error for the DLR approximation and for the truncated SVD of the reference solution ('best approximation')"
   ]
  },
  {
   "cell_type": "code",
   "execution_count": null,
   "metadata": {},
   "outputs": [],
   "source": [
    "times = np.arange(0, t + time_step, time_step)\n",
    "err = np.zeros((times.size, 2))\n",
    "\n",
    "for ts, tp in enumerate(times):\n",
    "    filename = \"output/ts/output_t\" + str(int(tp * snapshot)) + \".nc\"\n",
    "    with xr.open_dataset(filename) as ds:\n",
    "        grid = GridInfo(ds)\n",
    "        lr_sol = LRSol(ds, grid)\n",
    "        P_full = lr_sol.fullDistribution()\n",
    "    # err[ts, 2] = np.linalg.norm((P_full - P_full_ode[ts]))\n",
    "    # filename = \"output/ts_tau0.02/output_t\" + str(int(10 * tp * snapshot)) + \".nc\"\n",
    "    # with ds.open_dataset(filename, \"r\") as ds:\n",
    "    #     grid = GridInfo(ds)\n",
    "    #     lr_sol = LRSol(ds, grid)\n",
    "    #     P_full = lr_sol.fullDistribution()\n",
    "    err[ts, 0] = np.linalg.norm((P_full - P_full_ode[ts]))\n",
    "    err[ts, 1] = np.linalg.norm((P_best_approximation_ode[ts] - P_full_ode[ts]))\n",
    "\n",
    "fig, ax = plt.subplots(figsize=(5, 3))\n",
    "# ax.plot(times, err[:, 2], 'r-', label=\"DLR approx., $\\\\tau=0.2$\")\n",
    "ax.plot(times, err[:, 0], 'b-.', label=\"DLR approx., $\\\\tau=0.01$\")\n",
    "ax.plot(times, err[:, 1], 'k--', label=\"best-approximation\")\n",
    "ax.set_xlabel(\"$t$\")\n",
    "ax.set_ylabel(\"2-norm error\")\n",
    "ax.legend()\n",
    "fig.tight_layout()\n",
    "fig.savefig('plots/ts_fig3.pgf')"
   ]
  }
 ],
 "metadata": {
  "kernelspec": {
   "display_name": "base",
   "language": "python",
   "name": "python3"
  },
  "language_info": {
   "codemirror_mode": {
    "name": "ipython",
    "version": 3
   },
   "file_extension": ".py",
   "mimetype": "text/x-python",
   "name": "python",
   "nbconvert_exporter": "python",
   "pygments_lexer": "ipython3",
   "version": "3.9.5"
  },
  "orig_nbformat": 4
 },
 "nbformat": 4,
 "nbformat_minor": 2
}
