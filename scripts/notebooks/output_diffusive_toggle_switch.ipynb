{
 "cells": [
  {
   "cell_type": "markdown",
   "metadata": {},
   "source": [
    "# Diffusive toggle switch"
   ]
  },
  {
   "cell_type": "code",
   "execution_count": null,
   "metadata": {},
   "outputs": [],
   "source": [
    "import matplotlib.gridspec as gridspec\n",
    "import matplotlib.pyplot as plt\n",
    "import numpy as np\n",
    "\n",
    "from scripts.grid_class import GridParms\n",
    "from scripts.tree_class import Tree\n",
    "from scripts.notebooks.output_helper import *\n",
    "from scripts.reference_solutions.ssa_helper import SSASol\n",
    "\n",
    "plt.style.use(\"./scripts/notebooks/custom_style.mplstyle\")\n",
    "%matplotlib inline"
   ]
  },
  {
   "cell_type": "markdown",
   "metadata": {},
   "source": [
    "## Load initial data"
   ]
  },
  {
   "cell_type": "markdown",
   "metadata": {},
   "source": [
    "### TTN integrator"
   ]
  },
  {
   "cell_type": "markdown",
   "metadata": {},
   "source": [
    "#### Partition 0, TTF"
   ]
  },
  {
   "cell_type": "code",
   "execution_count": null,
   "metadata": {},
   "outputs": [],
   "source": [
    "tree = readTree(\"output/dts_p0_r5_e_tau1e-3/output_t500000.nc\")\n",
    "slice_vec = np.zeros(tree.grid.d())\n",
    "ttn_slice_p0_r_5, ttn_marginal_p0_r_5 = tree.calculateObservables(slice_vec)\n",
    "\n",
    "tree = readTree(\"output/dts_p0_r6_e_tau1e-3/output_t500000.nc\")\n",
    "ttn_slice_p0_r_6, ttn_marginal_p0_r_6 = tree.calculateObservables(slice_vec)\n",
    "\n",
    "tree = readTree(\"output/dts_p0_r6_e_tau5e-3_householder/output_t100000.nc\")\n",
    "ttn_slice_p0_r_6_hh, ttn_marginal_p0_r_6_hh= tree.calculateObservables(slice_vec)\n",
    "\n",
    "tree = readTree(\"output/dts_p0_r7_e_tau1e-2/output_t50000.nc\")\n",
    "ttn_slice_p0_r_7_1e2, ttn_marginal_p0_r_7_1e2 = tree.calculateObservables(slice_vec)\n",
    "\n",
    "tree = readTree(\"output/dts_p0_r7_e_tau1e-3/output_t500000.nc\")\n",
    "ttn_slice_p0_r_7, ttn_marginal_p0_r_7 = tree.calculateObservables(slice_vec)\n",
    "\n",
    "tree = readTree(\"output/dts_p0_r7_e_tau5e-2_householder/output_t10000.nc\")\n",
    "ttn_slice_p0_r_7_hh, ttn_marginal_p0_r_7_hh = tree.calculateObservables(slice_vec)\n",
    "\n",
    "tree = readTree(\"output/dts_p0_r8_e_tau1e-3/output_t500000.nc\")\n",
    "ttn_slice_p0_r_8, ttn_marginal_p0_r_8 = tree.calculateObservables(slice_vec)\n",
    "\n",
    "tree = readTree(\"output/dts_p0_r9_e_tau1e-3/output_t500000.nc\")\n",
    "ttn_slice_p0_r_9, ttn_marginal_p0_r_9 = tree.calculateObservables(slice_vec)\n",
    "\n",
    "tree = readTree(\"output/dts_p0_r9_e_tau5e-2_householder/output_t10000.nc\")\n",
    "ttn_slice_p0_r_9_hh, ttn_marginal_p0_r_9_hh = tree.calculateObservables(slice_vec)\n",
    "\n",
    "tree = readTree(\"output/dts_p0_r10_e_tau5e-2_householder/output_t10000.nc\")\n",
    "ttn_slice_p0_r_10_hh, ttn_marginal_p0_r_10_hh = tree.calculateObservables(slice_vec)\n",
    "\n",
    "# tree = readTree(\"output/dts_p0_r9_e_tau5e-2/output_t10000.nc\")\n",
    "# ttn_slice_p0_r_9_tau5e2, ttn_marginal_p0_r_9_tau5e2 = tree.calculateObservables(slice_vec)\n",
    "\n",
    "tree = readTree(\"output/dts_p0_r10_e_tau1e-2/output_t50000.nc\")\n",
    "ttn_slice_p0_r_10, ttn_marginal_p0_r_10 = tree.calculateObservables(slice_vec)\n",
    "\n",
    "tree = readTree(\"output/dts_p0_r10_e_tau2e-2/output_t25000.nc\")\n",
    "ttn_slice_p0_r_10_tau2e2, ttn_marginal_p0_r_10_tau2e2 = tree.calculateObservables(slice_vec)\n",
    "\n",
    "tree = readTree(\"output/dts_p0_r10_e_tau5e-2/output_t10000.nc\")\n",
    "ttn_slice_p0_r_10_tau5e2, ttn_marginal_p0_r_10_tau5e2 = tree.calculateObservables(slice_vec)\n",
    "\n",
    "tree = readTree(\"output/dts_p0_r11_e_tau1e-2/output_t50000.nc\")\n",
    "ttn_slice_p0_r_11, ttn_marginal_p0_r_11 = tree.calculateObservables(slice_vec)"
   ]
  },
  {
   "cell_type": "code",
   "execution_count": null,
   "metadata": {},
   "outputs": [],
   "source": [
    "tree = readTree(\"output/dts_p1_r5_e_tau1e-3/output_t500000.nc\")\n",
    "ttn_slice_p1_r_5, ttn_marginal_p1_r_5 = tree.calculateObservables(slice_vec)"
   ]
  },
  {
   "cell_type": "markdown",
   "metadata": {},
   "source": [
    "### Matrix integrator"
   ]
  },
  {
   "cell_type": "code",
   "execution_count": null,
   "metadata": {},
   "outputs": [],
   "source": [
    "mat = readTree(\"output/ts_r5_e_tau1e-3/output_t500000.nc\")\n",
    "ts_slice_p0_r_5, ts_marginal_p0_r_5 = mat.calculateObservables(slice_vec[:2])\n",
    "\n",
    "mat = readTree(\"output/ts_r20_e_tau1e-2/output_t50000.nc\")\n",
    "ts_slice_p0_r_20, ts_marginal_p0_r_20 = mat.calculateObservables(slice_vec[:2])"
   ]
  },
  {
   "cell_type": "markdown",
   "metadata": {},
   "source": [
    "### SSA"
   ]
  },
  {
   "cell_type": "code",
   "execution_count": null,
   "metadata": {},
   "outputs": [],
   "source": [
    "idx_2D = np.array([0, 1])"
   ]
  },
  {
   "cell_type": "code",
   "execution_count": null,
   "metadata": {},
   "outputs": [],
   "source": [
    "ssa_1e4 = np.load(\"scripts/reference_solutions/diffusive_toggle_switch_ssa_1e+04.npy\")\n",
    "ssa_1e4_sol = SSASol(ssa_1e4)\n",
    "ssa_marginal_1e4, _, ssa_slice_1e4, _ = ssa_1e4_sol.calculateObservables(slice_vec, idx_2D)\n",
    "ssa_wall_time = 867.1"
   ]
  },
  {
   "cell_type": "code",
   "execution_count": null,
   "metadata": {},
   "outputs": [],
   "source": [
    "ssa_1e5 = np.load(\"scripts/reference_solutions/diffusive_toggle_switch_ssa_1e+05.npy\")\n",
    "ssa_1e5_sol = SSASol(ssa_1e5)\n",
    "ssa_marginal_1e5, _, ssa_slice_1e5, _ = ssa_1e5_sol.calculateObservables(slice_vec, idx_2D)\n",
    "ssa_wall_time = 1866.7"
   ]
  },
  {
   "cell_type": "code",
   "execution_count": null,
   "metadata": {},
   "outputs": [],
   "source": [
    "ssa_1e6 = np.load(\"scripts/reference_solutions/diffusive_toggle_switch_ssa_1e+06.npy\")\n",
    "ssa_1e6_sol = SSASol(ssa_1e6)\n",
    "ssa_marginal_1e6, _, ssa_slice_1e6, _ = ssa_1e6_sol.calculateObservables(slice_vec, idx_2D)\n",
    "ssa_wall_time = 4353.9"
   ]
  },
  {
   "cell_type": "code",
   "execution_count": null,
   "metadata": {},
   "outputs": [],
   "source": [
    "ssa_1e7 = np.load(\"scripts/reference_solutions/diffusive_toggle_switch_ssa_1e+07.npy\")\n",
    "ssa_1e7_sol = SSASol(ssa_1e7)\n",
    "ssa_marginal_1e7, ssa_marginal2D_1e7, ssa_slice_1e7, ssa_slice2D_1e7 = ssa_1e7_sol.calculateObservables(slice_vec, idx_2D)\n",
    "ssa_wall_time = 1e5"
   ]
  },
  {
   "cell_type": "code",
   "execution_count": null,
   "metadata": {},
   "outputs": [],
   "source": [
    "print(ssa_marginal2D_1e7.reshape(ssa_1e7_sol.n[0], ssa_1e7_sol.n[1]))"
   ]
  },
  {
   "cell_type": "code",
   "execution_count": null,
   "metadata": {},
   "outputs": [],
   "source": []
  },
  {
   "cell_type": "markdown",
   "metadata": {},
   "source": [
    "## Convergence with increasing rank"
   ]
  },
  {
   "cell_type": "code",
   "execution_count": null,
   "metadata": {},
   "outputs": [],
   "source": [
    "fig, (ax1, ax2) = plt.subplots(2, 1, figsize=(6,8))\n",
    "ax1.plot(np.arange(tree.grid.n[0]), ttn_marginal_p0_r_7[0], \"v\", label=\"TTN, $r=7$\")\n",
    "ax1.plot(np.arange(tree.grid.n[0]), ttn_marginal_p0_r_8[0], \"<\", label=\"TTN, $r=8$\")\n",
    "ax1.plot(np.arange(tree.grid.n[0]), ttn_marginal_p0_r_9[0], \"^\", label=\"TTN, $r=9$\")\n",
    "ax1.plot(np.arange(tree.grid.n[0]), ttn_marginal_p0_r_10[0], \">\", label=\"TTN, $r=10$\")\n",
    "ax1.plot(np.arange(tree.grid.n[0]), ttn_marginal_p1_r_5[0], \"k--\", label=\"TT, $r=5$\")\n",
    "ax1.set_xlabel(\"$x_0$\")\n",
    "\n",
    "ax2.plot(np.arange(tree.grid.n[1]), ttn_marginal_p0_r_7[1], \"v\", label=\"TTN, $r=7$\")\n",
    "ax2.plot(np.arange(tree.grid.n[1]), ttn_marginal_p0_r_8[1], \"<\", label=\"TTN, $r=8$\")\n",
    "ax2.plot(np.arange(tree.grid.n[1]), ttn_marginal_p0_r_9[1], \"^\", label=\"TTN, $r=9$\")\n",
    "ax2.plot(np.arange(tree.grid.n[1]), ttn_marginal_p0_r_10[1], \">\", label=\"TTN, $r=10$\")\n",
    "ax2.plot(np.arange(tree.grid.n[1]), ttn_marginal_p1_r_5[1], \"k--\", label=\"TT, $r=5$\")\n",
    "ax2.set_xlabel(\"$x_1$\")\n",
    "\n",
    "ax2.legend()\n",
    "plt.savefig(\"plots/dts_fig1.pdf\")"
   ]
  },
  {
   "cell_type": "markdown",
   "metadata": {},
   "source": [
    "## Householder orthogonalization"
   ]
  },
  {
   "cell_type": "code",
   "execution_count": null,
   "metadata": {},
   "outputs": [],
   "source": [
    "fig, (ax1, ax2) = plt.subplots(2, 1, figsize=(6,8))\n",
    "ax1.plot(np.arange(tree.grid.n[0]), ttn_slice_p0_r_7_hh[0], \"^\", label=\"TTN, $r=7$, Householder\")\n",
    "ax1.plot(np.arange(tree.grid.n[0]), ttn_slice_p0_r_9[0], \"^\", label=\"TTN, $r=9$\")\n",
    "ax1.plot(np.arange(tree.grid.n[0]), ttn_slice_p0_r_9_hh[0], \">\", label=\"TTN, $r=9$, Householder\")\n",
    "ax1.plot(np.arange(tree.grid.n[0]), ttn_slice_p0_r_10_hh[0], \">\", label=\"TTN, $r=10$, Householder\")\n",
    "ax1.plot(np.arange(ssa_1e7_sol.n[0])+ssa_1e7_sol.n_min[0], ssa_slice_1e7[-1][0], \".-\", label=\"SSA, $10^7$ runs\")\n",
    "ax1.set_xlabel(\"$x_0$\")\n",
    "\n",
    "ax2.plot(np.arange(tree.grid.n[1]), ttn_slice_p0_r_7_hh[1], \"^\", label=\"TTN, $r=7$, Householder\")\n",
    "ax2.plot(np.arange(tree.grid.n[1]), ttn_slice_p0_r_9[1], \"^\", label=\"TTN, $r=9$\")\n",
    "ax2.plot(np.arange(tree.grid.n[1]), ttn_slice_p0_r_9_hh[1], \">\", label=\"TTN, $r=9$, Householder\")\n",
    "ax2.plot(np.arange(tree.grid.n[1]), ttn_slice_p0_r_10_hh[1], \">\", label=\"TTN, $r=10$, Householder\")\n",
    "ax2.plot(np.arange(ssa_1e7_sol.n[1])+ssa_1e7_sol.n_min[1], ssa_slice_1e7[-1][1], \".-\", label=\"SSA, $10^7$ runs\")\n",
    "ax2.set_xlabel(\"$x_1$\")\n",
    "\n",
    "ax2.legend()\n",
    "plt.savefig(\"plots/dts_fig1a.pdf\")"
   ]
  },
  {
   "cell_type": "markdown",
   "metadata": {},
   "source": [
    "## Comparison with one-site solution"
   ]
  },
  {
   "cell_type": "code",
   "execution_count": null,
   "metadata": {},
   "outputs": [],
   "source": [
    "fig, (ax1, ax2) = plt.subplots(2, 1, figsize=(6,8))\n",
    "# ax1.plot(np.arange(tree.grid.n[0]), ttn_marginal_p0_r_8[0], \"k.\", label=\"$r=8$\")\n",
    "ax1.plot(np.arange(tree.grid.n[0]), ttn_marginal_p0_r_9[0], \"v\", label=\"$r=9$\")\n",
    "ax1.plot(np.arange(tree.grid.n[0]), ttn_marginal_p0_r_10[0], \"<\", label=\"$r=10$\")\n",
    "ax1.plot(np.arange(mat.grid.n[0]), ts_marginal_p0_r_5[0], \"k--\", label=\"one-site toggle switch, $r=5$\")\n",
    "ax1.plot(np.arange(mat.grid.n[0]), ts_marginal_p0_r_20[0], \"k:\", label=\"one-site toggle switch, $r=10$\")\n",
    "ax2.set_xlabel(\"$x_0$\")\n",
    "\n",
    "# ax2.plot(np.arange(tree.grid.n[1]), ttn_marginal_p0_r_8[1], \"k.\", label=\"$r=8$\")\n",
    "ax2.plot(np.arange(tree.grid.n[1]), ttn_marginal_p0_r_9[1], \"v\", label=\"$r=9$\")\n",
    "ax2.plot(np.arange(tree.grid.n[1]), ttn_marginal_p0_r_10[1], \"<\", label=\"$r=10$\")\n",
    "ax2.plot(np.arange(mat.grid.n[1]), ts_marginal_p0_r_5[1], \"k--\", label=\"one-site toggle switch, $r=5$\")\n",
    "ax2.plot(np.arange(mat.grid.n[1]), ts_marginal_p0_r_20[1], \"k:\", label=\"one-site toggle switch, $r=10$\")\n",
    "ax2.set_xlabel(\"$x_1$\")\n",
    "\n",
    "ax2.legend()\n",
    "plt.savefig(\"plots/dts_fig2.pdf\")"
   ]
  },
  {
   "cell_type": "markdown",
   "metadata": {},
   "source": [
    "## Comparison of different time step sizes"
   ]
  },
  {
   "cell_type": "code",
   "execution_count": null,
   "metadata": {},
   "outputs": [],
   "source": [
    "fig, (ax1, ax2) = plt.subplots(2, 1, figsize=(6, 8))\n",
    "ax1.plot(np.arange(tree.grid.n[0]), ttn_marginal_p0_r_7_1e2[0], label=\"TTN, $r=7$, $\\\\tau=0.01$\")\n",
    "ax1.plot(np.arange(tree.grid.n[0]), ttn_marginal_p0_r_7[0], label=\"TTN, $r=7$, $\\\\tau=0.001$\")\n",
    "ax1.set_xlabel(\"$x_0$\")\n",
    "\n",
    "ax2.plot(np.arange(tree.grid.n[1]), ttn_marginal_p0_r_7_1e2[1], label=\"TTN, $r=7$, $\\\\tau=0.01$\")\n",
    "ax2.plot(np.arange(tree.grid.n[1]), ttn_marginal_p0_r_7[1], label=\"TTN, $r=7$, $\\\\tau=0.001$\")\n",
    "ax2.set_xlabel(\"$x_1$\")\n",
    "\n",
    "ax2.legend()\n",
    "plt.savefig(\"plots/dts_fig3.pdf\")"
   ]
  },
  {
   "cell_type": "code",
   "execution_count": null,
   "metadata": {},
   "outputs": [],
   "source": [
    "fig, (ax1, ax2) = plt.subplots(2, 1, figsize=(6, 8))\n",
    "ax1.plot(np.arange(tree.grid.n[0]), ttn_marginal_p0_r_10_tau5e2[0], label=\"TTN, $r=10$, $\\\\tau=0.05$\")\n",
    "ax1.plot(np.arange(tree.grid.n[0]), ttn_marginal_p0_r_10_tau2e2[0], label=\"TTN, $r=10$, $\\\\tau=0.02$\")\n",
    "ax1.plot(np.arange(tree.grid.n[0]), ttn_marginal_p0_r_10[0], label=\"TTN, $r=10$, $\\\\tau=0.01$\")\n",
    "ax1.set_xlabel(\"$x_0$\")\n",
    "\n",
    "ax2.plot(np.arange(tree.grid.n[1]), ttn_marginal_p0_r_10_tau5e2[1], label=\"TTN, $r=10$, $\\\\tau=0.05$\")\n",
    "ax2.plot(np.arange(tree.grid.n[1]), ttn_marginal_p0_r_10_tau2e2[1], label=\"TTN, $r=10$, $\\\\tau=0.02$\")\n",
    "ax2.plot(np.arange(tree.grid.n[1]), ttn_marginal_p0_r_10[1], label=\"TTN, $r=10$, $\\\\tau=0.01$\")\n",
    "ax2.set_xlabel(\"$x_1$\")\n",
    "\n",
    "ax2.legend()\n",
    "plt.savefig(\"plots/dts_fig3a.pdf\")"
   ]
  },
  {
   "cell_type": "markdown",
   "metadata": {},
   "source": [
    "## Comparison with SSA"
   ]
  },
  {
   "cell_type": "code",
   "execution_count": null,
   "metadata": {},
   "outputs": [],
   "source": [
    "fig, (ax1, ax2) = plt.subplots(2, 1, figsize=(6,8))\n",
    "# ax1.plot(np.arange(tree.grid.n[0]), ttn_marginal_p0_r_11[0], \".-\", label=\"TTN, $r=11$\")\n",
    "# ax1.plot(np.arange(tree.grid.n[0]), ttn_marginal_p0_r_7[0], \".-\", label=\"TTN, $r=7$\")\n",
    "# ax1.plot(np.arange(tree.grid.n[0]), ttn_marginal_p0_r_8[0], \".-\", label=\"TTN, $r=8$\")\n",
    "# ax1.plot(np.arange(tree.grid.n[0]), ttn_marginal_p0_r_9[0], \".-\", label=\"TTN, $r=9$\")\n",
    "ax1.plot(np.arange(tree.grid.n[0]), ttn_marginal_p0_r_9_hh[0], \"v\", label=\"TTN, $r=9$, Householder\")\n",
    "ax1.plot(np.arange(tree.grid.n[0]), ttn_marginal_p0_r_10_hh[0], \"<\", label=\"TTN, $r=10$, Householder\")\n",
    "ax1.plot(np.arange(tree.grid.n[0]), ttn_marginal_p0_r_10[0], \"^\", label=\"TTN, $r=10$\")\n",
    "# ax1.plot(np.arange(tree.grid.n[0]), ttn_marginal_p0_r_11[0], \"k--\", label=\"TTN, $r=11$\")\n",
    "# ax1.plot(np.arange(ssa_1e4_sol.n[0])+ssa_1e4_sol.n_min[0], ssa_marginal_1e4[-1][0], \"x\", label=\"SSA, $10^4$ runs\")\n",
    "# ax1.plot(np.arange(ssa_1e5_sol.n[0])+ssa_1e5_sol.n_min[0], ssa_marginal_1e5[-1][0], \"x\", label=\"SSA, $10^5$ runs\")\n",
    "ax1.plot(np.arange(ssa_1e5_sol.n[0])+ssa_1e5_sol.n_min[0], ssa_marginal_1e5[-1][0], \".-\", label=\"SSA, $10^5$ runs\")\n",
    "ax1.plot(np.arange(ssa_1e6_sol.n[0])+ssa_1e6_sol.n_min[0], ssa_marginal_1e6[-1][0], \".-\", label=\"SSA, $10^6$ runs\")\n",
    "ax1.plot(np.arange(ssa_1e7_sol.n[0])+ssa_1e7_sol.n_min[0], ssa_marginal_1e7[-1][0], \".-\", label=\"SSA, $10^7$ runs\")\n",
    "ax1.set_xlabel(\"$x_0$\")\n",
    "\n",
    "# ax2.plot(np.arange(tree.grid.n[1]), ttn_marginal_p0_r_11[1], \".-\", label=\"TTN, $r=11$\")\n",
    "# ax2.plot(np.arange(tree.grid.n[1]), ttn_marginal_p0_r_7[1], \".-\", label=\"TTN, $r=7$\")\n",
    "# ax2.plot(np.arange(tree.grid.n[1]), ttn_marginal_p0_r_8[1], \".-\", label=\"TTN, $r=8$\")\n",
    "# ax2.plot(np.arange(tree.grid.n[1]), ttn_marginal_p0_r_9[1], \".-\", label=\"TTN, $r=9$\")\n",
    "ax2.plot(np.arange(tree.grid.n[1]), ttn_marginal_p0_r_9_hh[1], \"v\", label=\"TTN, $r=9$, Householder\")\n",
    "ax2.plot(np.arange(tree.grid.n[1]), ttn_marginal_p0_r_10_hh[1], \"<\", label=\"TTN, $r=10$, Householder\")\n",
    "ax2.plot(np.arange(tree.grid.n[1]), ttn_marginal_p0_r_10[1], \"^\", label=\"TTN, $r=10$\")\n",
    "# ax2.plot(np.arange(tree.grid.n[1]), ttn_marginal_p0_r_11[1], \"k:\", label=\"TTN, $r=11$\")\n",
    "# ax2.plot(np.arange(ssa_1e4_sol.n[1])+ssa_1e4_sol.n_min[1], ssa_marginal_1e4[-1][1], \"x\", label=\"SSA, $10^4$ runs\")\n",
    "# ax2.plot(np.arange(ssa_1e5_sol.n[1])+ssa_1e5_sol.n_min[1], ssa_marginal_1e5[-1][1], \"x\", label=\"SSA, $10^5$ runs\")\n",
    "ax2.plot(np.arange(ssa_1e5_sol.n[1])+ssa_1e5_sol.n_min[1], ssa_marginal_1e5[-1][1], \".-\", label=\"SSA, $10^5$ runs\")\n",
    "ax2.plot(np.arange(ssa_1e6_sol.n[1])+ssa_1e6_sol.n_min[1], ssa_marginal_1e6[-1][1], \".-\", label=\"SSA, $10^6$ runs\")\n",
    "ax2.plot(np.arange(ssa_1e7_sol.n[1])+ssa_1e7_sol.n_min[1], ssa_marginal_1e7[-1][1], \".-\", label=\"SSA, $10^7$ runs\")\n",
    "ax2.set_xlabel(\"$x_1$\")\n",
    "\n",
    "ax2.legend()\n",
    "plt.savefig(\"plots/dts_fig4.pdf\")"
   ]
  },
  {
   "cell_type": "markdown",
   "metadata": {},
   "source": [
    "## Check symmetry"
   ]
  },
  {
   "cell_type": "code",
   "execution_count": null,
   "metadata": {},
   "outputs": [],
   "source": [
    "print(\"|A0-A3| =\", np.linalg.norm(ttn_marginal_p0_r_10[0] - ttn_marginal_p0_r_10[6]))\n",
    "print(\"|B0-B3| =\", np.linalg.norm(ttn_marginal_p0_r_10[1] - ttn_marginal_p0_r_10[7]))\n",
    "\n",
    "print(\"|A1-A2| =\", np.linalg.norm(ttn_marginal_p0_r_10[2] - ttn_marginal_p0_r_10[4]))\n",
    "print(\"|B1-B2| =\", np.linalg.norm(ttn_marginal_p0_r_10[3] - ttn_marginal_p0_r_10[5]))"
   ]
  },
  {
   "cell_type": "code",
   "execution_count": null,
   "metadata": {},
   "outputs": [],
   "source": [
    "fig, (ax1, ax2) = plt.subplots(2, 1)\n",
    "ax1.plot(np.arange(tree.grid.n[0]), ttn_marginal_p0_r_9[0], \"k.\", label=\"A, compartment 0\")\n",
    "ax1.plot(np.arange(tree.grid.n[6]), ttn_marginal_p0_r_9[6], \"rx\", label=\"A, compartment 3\")\n",
    "ax1.legend()\n",
    "\n",
    "ax2.plot(np.arange(tree.grid.n[2]), ttn_marginal_p0_r_9[2], \"k.\", label=\"A, compartment 1\")\n",
    "ax2.plot(np.arange(tree.grid.n[4]), ttn_marginal_p0_r_9[4], \"rx\", label=\"A, compartment 2\")\n",
    "ax2.legend()"
   ]
  },
  {
   "cell_type": "code",
   "execution_count": null,
   "metadata": {},
   "outputs": [],
   "source": [
    "fig, (ax1, ax2) = plt.subplots(2, 1)\n",
    "ax1.plot(np.arange(ssa_1e5_sol.n[0])+ssa_1e5_sol.n_min[0], ssa_marginal_1e5[-1][0], \"k.\", label=\"A, compartment 0\")\n",
    "ax1.plot(np.arange(ssa_1e5_sol.n[6])+ssa_1e5_sol.n_min[6], ssa_marginal_1e5[-1][6], \"rx\", label=\"A, compartment 3\")\n",
    "ax1.legend()\n",
    "\n",
    "ax2.plot(np.arange(ssa_1e5_sol.n[2])+ssa_1e5_sol.n_min[2], ssa_marginal_1e5[-1][2], \"k.\", label=\"B, compartment 1\")\n",
    "ax2.plot(np.arange(ssa_1e5_sol.n[4])+ssa_1e5_sol.n_min[4], ssa_marginal_1e5[-1][4], \"rx\", label=\"B, compartment 2\")\n",
    "ax2.legend()"
   ]
  },
  {
   "cell_type": "markdown",
   "metadata": {},
   "source": [
    "#### Partition 1, QTT"
   ]
  },
  {
   "cell_type": "code",
   "execution_count": null,
   "metadata": {},
   "outputs": [],
   "source": [
    "tree = readTree(\"output/dts_p1_r5_e_tau1e-3/output_t500000.nc\")\n",
    "ttn_slice_p0_r_11, ttn_marginal_p0_r_11 = tree.calculateObservables(slice_vec)"
   ]
  },
  {
   "cell_type": "markdown",
   "metadata": {},
   "source": [
    "## Mass error"
   ]
  },
  {
   "cell_type": "code",
   "execution_count": null,
   "metadata": {},
   "outputs": [],
   "source": [
    "time_series = TimeSeries(\"output/dts_p0_r10_e_tau1e-2\")\n",
    "mass_err_p0_r10 = time_series.getMassErr()\n",
    "time_series = TimeSeries(\"output/dts_p0_r11_e_tau1e-2\")\n",
    "mass_err_p0_r11 = time_series.getMassErr()"
   ]
  },
  {
   "cell_type": "code",
   "execution_count": null,
   "metadata": {},
   "outputs": [],
   "source": [
    "time_series = TimeSeries(\"output/dts_p0_r10_e_tau1e-2\")\n",
    "print(\"r = 10:\", time_series.getMaxMassErr())\n",
    "time_series = TimeSeries(\"output/dts_p0_r11_e_tau1e-2\")\n",
    "print(\"r = 11:\", time_series.getMaxMassErr())"
   ]
  },
  {
   "cell_type": "code",
   "execution_count": null,
   "metadata": {},
   "outputs": [],
   "source": [
    "time = time_series.time"
   ]
  },
  {
   "cell_type": "code",
   "execution_count": null,
   "metadata": {},
   "outputs": [],
   "source": [
    "fig, ax = plt.subplots()\n",
    "ax.plot(time, np.abs(mass_err_p0_r10), label=\"TTN, $r=10$\")\n",
    "ax.plot(time, np.abs(mass_err_p0_r11), label=\"TTN, $r=11$\")\n",
    "ax.set_xlabel(\"$t$\")\n",
    "ax.set_ylabel(\"$|\\Delta m(t)|$\")\n",
    "ax.set_yscale(\"log\")\n",
    "ax.legend()\n",
    "plt.savefig(\"plots/dts_fig5.pdf\")"
   ]
  }
 ],
 "metadata": {
  "kernelspec": {
   "display_name": "base",
   "language": "python",
   "name": "python3"
  },
  "language_info": {
   "codemirror_mode": {
    "name": "ipython",
    "version": 3
   },
   "file_extension": ".py",
   "mimetype": "text/x-python",
   "name": "python",
   "nbconvert_exporter": "python",
   "pygments_lexer": "ipython3",
   "version": "3.10.14"
  }
 },
 "nbformat": 4,
 "nbformat_minor": 2
}
