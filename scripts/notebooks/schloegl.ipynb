{
 "cells": [
  {
   "cell_type": "markdown",
   "metadata": {},
   "source": [
    "# Schlögl model"
   ]
  },
  {
   "cell_type": "code",
   "execution_count": null,
   "metadata": {},
   "outputs": [],
   "source": [
    "import matplotlib.gridspec as gridspec\n",
    "import matplotlib.pyplot as plt\n",
    "import numpy as np\n",
    "import scipy.integrate\n",
    "from scripts.notebooks.custom_ssa import *\n",
    "\n",
    "plt.style.use(\"./scripts/notebooks/custom_style.mplstyle\")\n",
    "%matplotlib inline"
   ]
  },
  {
   "cell_type": "markdown",
   "metadata": {},
   "source": [
    "## Reaction system"
   ]
  },
  {
   "cell_type": "code",
   "execution_count": null,
   "metadata": {},
   "outputs": [],
   "source": [
    "from scripts.reaction_class import Reaction, ReactionSystem\n",
    "\n",
    "k1 = 2.5e-4\n",
    "k2 = 0.18\n",
    "k3 = 37.5\n",
    "k4 = 2200\n",
    "\n",
    "reactions = [None] * 4\n",
    "reactions[0] = Reaction({0: lambda x: k1 * x * (x - 1) * (x - 2)}, [-1])\n",
    "reactions[1] = Reaction({0: lambda x: k2 * x * (x - 1)}, [1])\n",
    "reactions[2] = Reaction({0: lambda x: k3 * x}, [-1])\n",
    "reactions[3] = Reaction({0: lambda x: k4}, [1])\n",
    "species_names = [\"A\"]\n",
    "reaction_system = ReactionSystem(reactions, species_names)"
   ]
  },
  {
   "cell_type": "markdown",
   "metadata": {},
   "source": [
    "## Deterministic ODEs"
   ]
  },
  {
   "cell_type": "code",
   "execution_count": null,
   "metadata": {},
   "outputs": [],
   "source": [
    "rhs = lambda t, y: (-k1 * y**3 + k2 * y**2 - k3 * y + k4)\n",
    "\n",
    "t_span = (0, 1)\n",
    "t_eval = np.linspace(0, 1, 100)\n",
    "sol0 = scipy.integrate.solve_ivp(rhs, t_span, [0.0], t_eval=t_eval)\n",
    "sol200 = scipy.integrate.solve_ivp(rhs, t_span, [200.0], t_eval=t_eval)\n",
    "sol300 = scipy.integrate.solve_ivp(rhs, t_span, [300.0], t_eval=t_eval)\n",
    "sol500 = scipy.integrate.solve_ivp(rhs, t_span, [500.0], t_eval=t_eval)"
   ]
  },
  {
   "cell_type": "markdown",
   "metadata": {},
   "source": [
    "## Stochastic Simulation Algorithm"
   ]
  },
  {
   "cell_type": "code",
   "execution_count": null,
   "metadata": {},
   "outputs": [],
   "source": [
    "initial_state = np.array([0])\n",
    "sample_times = np.linspace(0, 100, 1000, endpoint=True)\n",
    "trajectory = runSimulation(sample_times, 110.0, initial_state, 1, reaction_system)"
   ]
  },
  {
   "cell_type": "code",
   "execution_count": null,
   "metadata": {},
   "outputs": [],
   "source": [
    "t_span_100 = (0, 100)\n",
    "sol0_100 = scipy.integrate.solve_ivp(rhs, t_span_100, [0.0])"
   ]
  },
  {
   "cell_type": "markdown",
   "metadata": {},
   "source": [
    "## Stationary probability distribution"
   ]
  },
  {
   "cell_type": "code",
   "execution_count": null,
   "metadata": {},
   "outputs": [],
   "source": [
    "def phi(n):\n",
    "    result = 1\n",
    "    for i in range(n):\n",
    "        result *= (k2 * i * (i - 1) + k4) / (k1 * (i + 1) * i * (i - 1) + k3 * (i + 1))\n",
    "    return result"
   ]
  },
  {
   "cell_type": "code",
   "execution_count": null,
   "metadata": {},
   "outputs": [],
   "source": [
    "gs = gridspec.GridSpec(2, 4)\n",
    "\n",
    "fig = plt.figure(figsize=(6, 6))\n",
    "\n",
    "ax1 = plt.subplot(gs[0, :])\n",
    "ax1.plot(t_eval, 100 * np.ones(t_eval.size), 'k:')\n",
    "ax1.plot(t_eval[:72], 220 * np.ones(t_eval.size)[:72], 'k:')\n",
    "ax1.plot(t_eval, 400 * np.ones(t_eval.size), 'k:')\n",
    "ax1.plot(sol0.t, sol0.y[0], label=\"$x(0)=0$\")\n",
    "ax1.plot(sol200.t, sol200.y[0], label=\"$x(0)=200$\")\n",
    "ax1.plot(sol300.t, sol300.y[0], label=\"$x(0)=300$\")\n",
    "ax1.plot(sol500.t, sol500.y[0], label=\"$x(0)=500$\")\n",
    "\n",
    "ax1.set_xlabel(\"$t$\")\n",
    "ax1.set_ylabel(\"$x(t)$\")\n",
    "ax1.legend()\n",
    "\n",
    "ax2 = plt.subplot(gs[1, :3])\n",
    "ax2.plot(sample_times, trajectory[:, :, 0].T, label=\"SSA\");\n",
    "ax2.plot(sol0_100.t, sol0_100.y[0], label=\"ODE\")\n",
    "ax2.set_xlabel(\"$t$\")\n",
    "ax2.set_ylabel(\"$x(t)$\")\n",
    "ax2.legend()\n",
    "\n",
    "n = np.arange(600+1)\n",
    "phi_tot = np.array([phi(i) for i in n])\n",
    "phi_tot /= np.sum(phi_tot)\n",
    "mean = phi_tot @ n\n",
    "print(mean)\n",
    "ax3 = plt.subplot(gs[1, 3], sharey=ax2)\n",
    "ax3.plot(phi_tot, n)\n",
    "ax3.plot([0, np.max(phi_tot)], mean * np.ones(2), \"k:\")\n",
    "ax3.annotate(\"$\\langle x \\\\rangle$\",\n",
    "            xy=(0.85, 0.225), xycoords='figure fraction',\n",
    "            fontsize=12)\n",
    "ax3.set_xlabel(\"$\\Phi(x)$\")\n",
    "ax3.tick_params('y', labelleft=False)\n",
    "\n",
    "plt.subplots_adjust(hspace=0.3, wspace=0.1);\n",
    "plt.savefig(\"plots/schloegl.pdf\")"
   ]
  }
 ],
 "metadata": {
  "kernelspec": {
   "display_name": "base",
   "language": "python",
   "name": "python3"
  },
  "language_info": {
   "codemirror_mode": {
    "name": "ipython",
    "version": 3
   },
   "file_extension": ".py",
   "mimetype": "text/x-python",
   "name": "python",
   "nbconvert_exporter": "python",
   "pygments_lexer": "ipython3",
   "version": "3.10.14"
  }
 },
 "nbformat": 4,
 "nbformat_minor": 2
}
