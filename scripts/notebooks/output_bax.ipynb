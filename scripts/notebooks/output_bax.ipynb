{
 "cells": [
  {
   "cell_type": "markdown",
   "metadata": {},
   "source": [
    "# BAX pore assembly"
   ]
  },
  {
   "cell_type": "code",
   "execution_count": null,
   "metadata": {},
   "outputs": [],
   "source": [
    "import matplotlib.gridspec as gridspec\n",
    "import matplotlib.pyplot as plt\n",
    "import numpy as np\n",
    "\n",
    "from scripts.grid_class import GridParms\n",
    "from scripts.tree_class import Tree\n",
    "from scripts.notebooks.output_helper import *\n",
    "from scripts.reference_solutions.ssa_helper import SSASol\n",
    "\n",
    "plt.style.use(\"./scripts/notebooks/custom_style.mplstyle\")\n",
    "%matplotlib inline"
   ]
  },
  {
   "cell_type": "code",
   "execution_count": null,
   "metadata": {},
   "outputs": [],
   "source": [
    "slice_vec = np.array([12, 9, 2, 1, 0, 0, 0, 0, 0, 50, 0])"
   ]
  },
  {
   "cell_type": "markdown",
   "metadata": {},
   "source": [
    "## Load initial data"
   ]
  },
  {
   "cell_type": "markdown",
   "metadata": {},
   "source": [
    "### Tree tensor integrator"
   ]
  },
  {
   "cell_type": "markdown",
   "metadata": {},
   "source": [
    "#### Partition 0\n",
    "(0 1 2)(((3 4 6 7)(5 8))(9 10))"
   ]
  },
  {
   "cell_type": "markdown",
   "metadata": {},
   "source": [
    "#### Partition 1\n",
    "((0 1 2)(3 4 5))((6 7 9)(8 10))"
   ]
  },
  {
   "cell_type": "code",
   "execution_count": null,
   "metadata": {},
   "outputs": [],
   "source": [
    "tree = readTree(\"output/bax_p1_r5-5-5_i_tau2e-2/output_t7250.nc\")\n",
    "P_slice_p1_r_5_5_5, P_sum_p1_r_5_5_5 = tree.calculateObservables(slice_vec)"
   ]
  },
  {
   "cell_type": "code",
   "execution_count": null,
   "metadata": {},
   "outputs": [],
   "source": [
    "tree = readTree(\"output/bax_p1_r5-10-10_i_tau2e-2/output_t7250.nc\")\n",
    "P_slice_p1_r_5_10_10, P_sum_p1_r_5_10_10 = tree.calculateObservables(slice_vec)"
   ]
  },
  {
   "cell_type": "code",
   "execution_count": null,
   "metadata": {},
   "outputs": [],
   "source": [
    "tree = readTree(\"output/bax_p1_r5-15-15_i_tau2e-2/output_t7250.nc\")\n",
    "P_slice_p1_r_5_15_15, P_sum_p1_r_5_15_15 = tree.calculateObservables(slice_vec)"
   ]
  },
  {
   "cell_type": "markdown",
   "metadata": {},
   "source": [
    "#### Partition 2\n",
    "((0 1)(2 3 4))((5 6 7 8)(9 10))"
   ]
  },
  {
   "cell_type": "markdown",
   "metadata": {},
   "source": [
    "#### Two partitions\n",
    "(0 1 2 3 4)(5 6 7 8 9 10)"
   ]
  },
  {
   "cell_type": "code",
   "execution_count": null,
   "metadata": {},
   "outputs": [],
   "source": [
    "tree = readTree(\"output/bax_pfull_r5_i_tau2e-2/output_t7250.nc\")\n",
    "P_slice_full, P_sum_full = tree.calculateObservables(slice_vec)"
   ]
  },
  {
   "cell_type": "markdown",
   "metadata": {},
   "source": [
    "### Matrix integrator\n",
    "Two partitions, $r=5$, explicit Euler with variable time step size ($\\min_i({{\\tau_i}})=1.0$) and 100 substeps"
   ]
  },
  {
   "cell_type": "code",
   "execution_count": null,
   "metadata": {},
   "outputs": [],
   "source": [
    "with xr.open_dataset(\"output/bax_matrix/output_t100.nc\") as ds:\n",
    "    grid = GridInfo(ds)\n",
    "    lr_sol = LRSol(ds, grid)\n",
    "    idx_2D = np.array([0, 1])\n",
    "    P_sum_matrix = lr_sol.marginalDistributions()\n",
    "    P_slice_matrix = lr_sol.slicedDistributions(slice_vec)"
   ]
  },
  {
   "cell_type": "markdown",
   "metadata": {},
   "source": [
    "### SSA"
   ]
  },
  {
   "cell_type": "code",
   "execution_count": null,
   "metadata": {},
   "outputs": [],
   "source": [
    "ssa_1e7 = np.load(\"scripts/reference_solutions/bax_ssa_1e7.npy\")\n",
    "ssa_1e7_sol = SSASol(ssa_1e7)\n",
    "P_sum_ssa_1e7, _, P_slice_ssa_1e7, _ = ssa_1e7_sol.calculateObservables(slice_vec, idx_2D)"
   ]
  },
  {
   "cell_type": "code",
   "execution_count": null,
   "metadata": {},
   "outputs": [],
   "source": [
    "ssa_2e6 = np.load(\"scripts/reference_solutions/bax_ssa_2e6.npy\")\n",
    "ssa_2e6_sol = SSASol(ssa_2e6)\n",
    "P_sum_ssa_2e6, _, P_slice_ssa_2e6, _ = ssa_2e6_sol.calculateObservables(slice_vec, idx_2D)"
   ]
  },
  {
   "cell_type": "code",
   "execution_count": null,
   "metadata": {},
   "outputs": [],
   "source": [
    "ssa_1e6 = np.load(\"scripts/reference_solutions/bax_ssa_1e6.npy\")\n",
    "ssa_1e6_sol = SSASol(ssa_1e6)\n",
    "P_sum_ssa_1e6, _, P_slice_ssa_1e6, _ = ssa_1e6_sol.calculateObservables(slice_vec, idx_2D)"
   ]
  },
  {
   "cell_type": "code",
   "execution_count": null,
   "metadata": {},
   "outputs": [],
   "source": [
    "ssa_1e5 = np.load(\"scripts/reference_solutions/bax_ssa_1e5.npy\")\n",
    "ssa_1e5_sol = SSASol(ssa_1e5)\n",
    "P_sum_ssa_1e5, _, P_slice_ssa_1e5, _ = ssa_1e5_sol.calculateObservables(slice_vec, idx_2D)"
   ]
  },
  {
   "cell_type": "code",
   "execution_count": null,
   "metadata": {},
   "outputs": [],
   "source": [
    "ssa_1e4 = np.load(\"scripts/reference_solutions/bax_ssa_1e4.npy\")\n",
    "ssa_1e4_sol = SSASol(ssa_1e4)\n",
    "P_sum_ssa_1e4, _, P_slice_ssa_1e4, _ = ssa_1e4_sol.calculateObservables(slice_vec, idx_2D)"
   ]
  },
  {
   "cell_type": "markdown",
   "metadata": {},
   "source": [
    "## Sliced distributions"
   ]
  },
  {
   "cell_type": "markdown",
   "metadata": {},
   "source": [
    "### TTN integrator"
   ]
  },
  {
   "cell_type": "code",
   "execution_count": null,
   "metadata": {},
   "outputs": [],
   "source": [
    "fig, axs = plt.subplots(2, 2, figsize=(7, 5), sharex='col')\n",
    "axs[0, 0].plot(np.arange(tree.grid.n[0])[11:26], P_slice_full[0][11:26], '.-', label=\"2 partitions\")\n",
    "axs[0, 0].plot(np.arange(tree.grid.n[0])[11:26], P_slice_p1_r_5_10_10[0][11:26], 'v', label=\"$\\mathcal{{P}}_1$, $r = (5, 10, 10)$\")\n",
    "axs[0, 0].plot(np.arange(tree.grid.n[0])[11:26], P_slice_p1_r_5_15_15[0][11:26], '^', label=\"$\\mathcal{{P}}_1$, $r = (5, 15, 15)$\")\n",
    "\n",
    "axs[1, 0].plot(np.arange(tree.grid.n[0])[11:26], P_slice_full[0][11:26], '.-')\n",
    "axs[1, 0].plot(np.arange(tree.grid.n[0])[11:26], P_slice_p1_r_5_10_10[0][11:26], 'v')\n",
    "axs[1, 0].plot(np.arange(tree.grid.n[0])[11:26], P_slice_p1_r_5_15_15[0][11:26], '^')\n",
    "\n",
    "axs[0, 1].plot(np.arange(tree.grid.n[9])[45:], P_slice_full[9][45:], '.-')\n",
    "axs[0, 1].plot(np.arange(tree.grid.n[9])[45:], P_slice_p1_r_5_10_10[9][45:], 'v')\n",
    "axs[0, 1].plot(np.arange(tree.grid.n[9])[45:], P_slice_p1_r_5_15_15[9][45:], '^')\n",
    "\n",
    "axs[1, 1].plot(np.arange(tree.grid.n[9])[45:], P_slice_full[9][45:], '.-')\n",
    "axs[1, 1].plot(np.arange(tree.grid.n[9])[45:], P_slice_p1_r_5_10_10[9][45:], 'v')\n",
    "axs[1, 1].plot(np.arange(tree.grid.n[9])[45:], P_slice_p1_r_5_15_15[9][45:], '^')\n",
    "\n",
    "axs[0, 0].set_ylabel(\"$P_\\\\mathrm{{S}}(x_0)$\")\n",
    "axs[0, 0].set_yscale(\"log\")\n",
    "axs[0, 0].minorticks_off()\n",
    "\n",
    "axs[1, 0].set_xlabel(xlabel=\"$x_0$\")\n",
    "axs[1, 0].set_ylabel(\"$P_\\\\mathrm{{S}}(x_0)$\")\n",
    "axs[1, 0].set_xticks(np.arange(11, 25+2, 2))\n",
    "axs[1, 0].set_xlim([10, 26])\n",
    "\n",
    "axs[0, 1].set_ylabel(\"$P_\\\\mathrm{{S}}(x_9)$\")\n",
    "axs[0, 1].set_yscale(\"log\")\n",
    "axs[0, 1].yaxis.tick_right()\n",
    "axs[0, 1].yaxis.set_ticks_position(\"both\")\n",
    "axs[0, 1].yaxis.set_label_position(\"right\")\n",
    "\n",
    "axs[1, 1].set_xlabel(xlabel=\"$x_9$\")\n",
    "axs[1, 1].set_ylabel(\"$P_\\\\mathrm{{S}}(x_9)$\")\n",
    "axs[1, 1].set_xticks(np.arange(45, 55+2, 2))\n",
    "axs[1, 1].yaxis.tick_right()\n",
    "axs[1, 1].yaxis.set_ticks_position(\"both\")\n",
    "axs[1, 1].yaxis.set_label_position(\"right\")\n",
    "fig.legend(*axs[0, 0].get_legend_handles_labels(), ncols=3, loc=\"upper center\")\n",
    "plt.subplots_adjust(hspace=.0)\n",
    "\n",
    "plt.savefig(\"plots/sliced_ttn.pdf\");"
   ]
  },
  {
   "cell_type": "code",
   "execution_count": null,
   "metadata": {},
   "outputs": [],
   "source": [
    "tree = readTree(\"output/bax_p1_r5-5-5_i_tau2e-2/output_t7250.nc\")\n",
    "P_slice_p1_r_5_5_5, P_sum_p1_r_5_5_5 = tree.calculateObservables(slice_vec)\n",
    "\n",
    "tree = readTree(\"output/bax_p1_r5-10-10_i_tau2e-2/output_t7250.nc\")\n",
    "P_slice_p1_r_5_10_10, P_sum_p1_r_5_10_10 = tree.calculateObservables(slice_vec)\n",
    "\n",
    "tree = readTree(\"output/bax_p1_r5-15-15_i_tau2e-2/output_t7250.nc\")\n",
    "P_slice_p1_r_5_15_15, P_sum_p1_r_5_15_15 = tree.calculateObservables(slice_vec)"
   ]
  },
  {
   "cell_type": "markdown",
   "metadata": {},
   "source": [
    "### SSA"
   ]
  },
  {
   "cell_type": "code",
   "execution_count": null,
   "metadata": {},
   "outputs": [],
   "source": [
    "fig, axs = plt.subplots(2, 2, figsize=(7, 5), sharex='col')\n",
    "axs[0, 0].plot(np.arange(tree.grid.n[0])[17:33], P_slice_full[0][17:33], '.-', label=\"$P_\\\\mathrm{{S}}^\\\\mathrm{{TTN,ref}}$\")\n",
    "axs[0, 0].plot((np.arange(ssa_1e7_sol.n[0])+ssa_1e7_sol.n_min[0])[16:31], P_slice_ssa_1e7[-1][0][16:31], 'v', label=\"$10^7$ runs\")\n",
    "axs[0, 0].plot((np.arange(ssa_1e6_sol.n[0])+ssa_1e6_sol.n_min[0])[15:30], P_slice_ssa_1e6[-1][0][15:30], '<', label=\"$10^6$ runs\")\n",
    "axs[0, 0].plot((np.arange(ssa_1e5_sol.n[0])+ssa_1e5_sol.n_min[0])[14:29], P_slice_ssa_1e5[-1][0][14:29], '^', label=\"$10^5$ runs\")\n",
    "axs[0, 0].plot((np.arange(ssa_1e4_sol.n[0])+ssa_1e4_sol.n_min[0])[14:29], P_slice_ssa_1e4[-1][0][14:29], '>', label=\"$10^4$ runs\")\n",
    "axs[0, 0].set_ylabel(\"$P_\\\\mathrm{{S}}(x_0)$\")\n",
    "axs[0, 0].set_yscale(\"log\")\n",
    "\n",
    "axs[1, 0].plot(np.arange(tree.grid.n[0])[17:33], P_slice_full[0][17:33], '.-')\n",
    "axs[1, 0].plot((np.arange(ssa_1e7_sol.n[0])+ssa_1e7_sol.n_min[0])[16:31], P_slice_ssa_1e7[-1][0][16:31], 'v')\n",
    "axs[1, 0].plot((np.arange(ssa_1e6_sol.n[0])+ssa_1e6_sol.n_min[0])[15:30], P_slice_ssa_1e6[-1][0][15:30], '<')\n",
    "axs[1, 0].plot((np.arange(ssa_1e5_sol.n[0])+ssa_1e5_sol.n_min[0])[14:29], P_slice_ssa_1e5[-1][0][14:29], '^')\n",
    "axs[1, 0].plot((np.arange(ssa_1e4_sol.n[0])+ssa_1e4_sol.n_min[0])[14:29], P_slice_ssa_1e4[-1][0][14:29], '>')\n",
    "axs[1, 0].set_xlabel(xlabel=\"$x_0$\")\n",
    "axs[1, 0].set_ylabel(\"$P_\\\\mathrm{{S}}(x_0)$\")\n",
    "axs[1, 0].set_xticks(np.arange(17, 33+2, 2))\n",
    "axs[1, 0].set_xlim([16, 33])\n",
    "\n",
    "axs[0, 1].plot(np.arange(tree.grid.n[9])[46:], P_slice_full[9][46:], '.-')\n",
    "axs[0, 1].plot((np.arange(ssa_1e7_sol.n[9])+ssa_1e7_sol.n_min[9]), P_slice_ssa_1e7[-1][9], 'v')\n",
    "axs[0, 1].plot((np.arange(ssa_1e6_sol.n[9])+ssa_1e6_sol.n_min[9]), P_slice_ssa_1e6[-1][9], '<')\n",
    "axs[0, 1].plot((np.arange(ssa_1e5_sol.n[9])+ssa_1e5_sol.n_min[9]), P_slice_ssa_1e5[-1][9], '^')\n",
    "axs[0, 1].plot((np.arange(ssa_1e4_sol.n[9])+ssa_1e4_sol.n_min[9]), P_slice_ssa_1e4[-1][9], '>')\n",
    "axs[0, 1].set_ylabel(\"$P_\\\\mathrm{{S}}(x_9)$\")\n",
    "axs[0, 1].set_yscale(\"log\")\n",
    "\n",
    "axs[1, 1].plot(np.arange(tree.grid.n[9])[46:], P_slice_full[9][46:], '.-')\n",
    "axs[1, 1].plot((np.arange(ssa_1e7_sol.n[9])+ssa_1e7_sol.n_min[9]), P_slice_ssa_1e7[-1][9], 'v')\n",
    "axs[1, 1].plot((np.arange(ssa_1e6_sol.n[9])+ssa_1e6_sol.n_min[9]), P_slice_ssa_1e6[-1][9], '<')\n",
    "axs[1, 1].plot((np.arange(ssa_1e5_sol.n[9])+ssa_1e5_sol.n_min[9]), P_slice_ssa_1e5[-1][9], '^')\n",
    "axs[1, 1].plot((np.arange(ssa_1e4_sol.n[9])+ssa_1e4_sol.n_min[9]), P_slice_ssa_1e4[-1][9], '>')\n",
    "axs[1, 1].set_xlabel(xlabel=\"$x_9$\")\n",
    "axs[1, 1].set_ylabel(\"$P_\\\\mathrm{{S}}(x_9)$\")\n",
    "# axs[1, 1].set_xticks(np.arange(8, 15))\n",
    "# axs[1, 1].set_xlim([7, 15])\n",
    "\n",
    "axs[0, 1].yaxis.tick_right()\n",
    "axs[0, 1].yaxis.set_ticks_position(\"both\")\n",
    "axs[0, 1].yaxis.set_label_position(\"right\")\n",
    "axs[1, 1].yaxis.tick_right()\n",
    "axs[1, 1].yaxis.set_ticks_position(\"both\")\n",
    "axs[1, 1].yaxis.set_label_position(\"right\")\n",
    "fig.legend(*axs[0, 0].get_legend_handles_labels(), loc=\"upper center\", ncols=5)\n",
    "plt.subplots_adjust(hspace=.0)\n",
    "\n",
    "plt.savefig(\"plots/sliced_ssa.pdf\");"
   ]
  },
  {
   "cell_type": "markdown",
   "metadata": {},
   "source": [
    "## Comparison of sliced distribution between TTN integrator and SSA"
   ]
  },
  {
   "cell_type": "code",
   "execution_count": null,
   "metadata": {},
   "outputs": [],
   "source": [
    "fig, axs = plt.subplots(2, 2, figsize=(9, 6))\n",
    "nn = 0\n",
    "lim = [17, 32]\n",
    "\n",
    "intvl = slice(lim[0], lim[1])\n",
    "axs[0, 0].plot(np.arange(tree.grid.n[nn])[intvl], P_slice_full[nn][intvl], '.-', label=\"$P_\\\\mathrm{{S}}^\\\\mathrm{{TTN,ref}}$\")\n",
    "axs[0, 0].plot(np.arange(tree.grid.n[nn])[intvl], P_slice_p1_r_5_15_15[0][intvl], 'v', label=\"$r = (5, 15, 15)$\")\n",
    "axs[0, 0].plot(np.arange(tree.grid.n[nn])[intvl], P_slice_p1_r_5_10_10[0][intvl], '<', label=\"$r = (5, 10, 10)$\")\n",
    "axs[0, 0].plot(np.arange(tree.grid.n[nn])[intvl], P_slice_p1_r_5_5_5[0][intvl], '^', label=\"$r = (5, 5, 5)$\")\n",
    "axs[0, 0].set_ylabel(\"$P_\\\\mathrm{{S}}(x_{})$\".format(nn))\n",
    "axs[0, 0].set_yscale(\"log\")\n",
    "axs[0, 0].set_title(\"PS-TTN integrator\")\n",
    "axs[0, 0].legend()\n",
    "\n",
    "axs[1, 0].plot(np.arange(tree.grid.n[nn])[intvl], P_slice_full[nn][intvl], '.-')\n",
    "axs[1, 0].plot(np.arange(tree.grid.n[nn])[intvl], P_slice_p1_r_5_15_15[0][intvl], 'v')\n",
    "axs[1, 0].plot(np.arange(tree.grid.n[nn])[intvl], P_slice_p1_r_5_10_10[0][intvl], '<')\n",
    "axs[1, 0].plot(np.arange(tree.grid.n[nn])[intvl], P_slice_p1_r_5_5_5[0][intvl], '^')\n",
    "axs[1, 0].set_xlabel(xlabel=\"$x_{}$\".format(nn))\n",
    "axs[1, 0].set_ylabel(\"$P_\\\\mathrm{{S}}(x_{})$\".format(nn))\n",
    "axs[1, 0].set_xticks(np.arange(17, 32+2, 2))\n",
    "\n",
    "axs[0, 1].plot(np.arange(tree.grid.n[nn])[intvl], P_slice_full[nn][intvl], '.-', label=\"$P_\\\\mathrm{{S}}^\\\\mathrm{{TTN,ref}}$\")\n",
    "axs[0, 1].plot((np.arange(ssa_1e7_sol.n[nn])+ssa_1e7_sol.n_min[nn])[16:], P_slice_ssa_1e7[-1][nn][16:], 'v', label=\"$10^7$ runs\")\n",
    "axs[0, 1].plot((np.arange(ssa_1e6_sol.n[nn])+ssa_1e6_sol.n_min[nn]), P_slice_ssa_1e6[-1][nn], '<', label=\"$10^6$ runs\")\n",
    "axs[0, 1].plot((np.arange(ssa_1e5_sol.n[nn])+ssa_1e5_sol.n_min[nn]), P_slice_ssa_1e5[-1][nn], '^', label=\"$10^5$ runs\")\n",
    "axs[0, 1].plot((np.arange(ssa_1e4_sol.n[nn])+ssa_1e4_sol.n_min[nn]), P_slice_ssa_1e4[-1][nn], '>', label=\"$10^4$ runs\")\n",
    "axs[0, 1].set_ylabel(\"$P_\\\\mathrm{{S}}(x_{})$\".format(nn))\n",
    "axs[0, 1].set_yscale(\"log\")\n",
    "axs[0, 1].set_title(\"SSA\")\n",
    "axs[0, 1].legend()\n",
    "\n",
    "axs[1, 1].plot(np.arange(tree.grid.n[nn])[intvl], P_slice_full[nn][intvl], '.-')\n",
    "axs[1, 1].plot((np.arange(ssa_1e7_sol.n[nn])+ssa_1e7_sol.n_min[nn])[16:31], P_slice_ssa_1e7[-1][nn][16:31], 'v')\n",
    "axs[1, 1].plot((np.arange(ssa_1e6_sol.n[nn])+ssa_1e6_sol.n_min[nn])[15:30], P_slice_ssa_1e6[-1][nn][15:30], '<')\n",
    "axs[1, 1].plot((np.arange(ssa_1e5_sol.n[nn])+ssa_1e5_sol.n_min[nn])[14:29], P_slice_ssa_1e5[-1][nn][14:29], '^')\n",
    "axs[1, 1].plot((np.arange(ssa_1e4_sol.n[nn])+ssa_1e4_sol.n_min[nn])[14:29], P_slice_ssa_1e4[-1][nn][14:29], '>')\n",
    "axs[1, 1].set_xlabel(xlabel=\"$x_{}$\".format(nn))\n",
    "axs[1, 1].set_ylabel(\"$P_\\\\mathrm{{S}}(x_{})$\".format(nn))\n",
    "axs[1, 1].set_xticks(np.arange(17, 32+2, 2))\n",
    "\n",
    "axs[0, 1].yaxis.tick_right()\n",
    "axs[0, 1].yaxis.set_ticks_position(\"both\")\n",
    "axs[0, 1].yaxis.set_label_position(\"right\")\n",
    "axs[1, 1].yaxis.tick_right()\n",
    "axs[1, 1].yaxis.set_ticks_position(\"both\")\n",
    "axs[1, 1].yaxis.set_label_position(\"right\")\n",
    "\n",
    "plt.setp(axs[0, :], ylim=[5e-12, 5e-2])\n",
    "plt.setp(axs[1, :], ylim=[-0.0005, 0.0105])\n",
    "plt.setp(axs, xlim=[16, 32])\n",
    "\n",
    "plt.subplots_adjust(wspace=0.1, hspace=0.0)\n",
    "\n",
    "plt.savefig(\"plots/sliced_ttn_ssa.pdf\");"
   ]
  },
  {
   "cell_type": "code",
   "execution_count": null,
   "metadata": {},
   "outputs": [],
   "source": [
    "lim = [17, 32]\n",
    "intvl = slice(lim[0], lim[1])\n",
    "P_slice_p1_r_5_5_5_err = np.abs(P_slice_p1_r_5_5_5[0][intvl] - P_slice_full[0][intvl])\n",
    "P_slice_p1_r_5_10_10_err = np.abs(P_slice_p1_r_5_10_10[0][intvl] - P_slice_full[0][intvl])\n",
    "P_slice_p1_r_5_15_15_err = np.abs(P_slice_p1_r_5_15_15[0][intvl] - P_slice_full[0][intvl])\n",
    "\n",
    "# P_slice_ssa_1e7_err = np.abs(P_slice_ssa_1e7[-1][0][16:31] - P_slice_full[0][intvl])\n",
    "# P_slice_ssa_1e6_err = np.abs(P_slice_ssa_1e6[-1][0][15:30] - P_slice_full[0][intvl])\n",
    "# P_slice_ssa_1e5_err = np.abs(P_slice_ssa_1e5[-1][0][14:29] - P_slice_full[0][intvl])\n",
    "# P_slice_ssa_1e4_err = np.abs(P_slice_ssa_1e4[-1][0][14:29] - P_slice_full[0][intvl])\n",
    "\n",
    "P_slice_ssa_1e6_err = np.abs(P_slice_ssa_1e6[-1][0][15:30] - P_slice_ssa_1e7[-1][0][16:31])\n",
    "P_slice_ssa_1e5_err = np.abs(P_slice_ssa_1e5[-1][0][14:29] - P_slice_ssa_1e7[-1][0][16:31])\n",
    "P_slice_ssa_1e4_err = np.abs(P_slice_ssa_1e4[-1][0][14:29] - P_slice_ssa_1e7[-1][0][16:31])"
   ]
  },
  {
   "cell_type": "code",
   "execution_count": null,
   "metadata": {},
   "outputs": [],
   "source": [
    "fig, axs = plt.subplots(1, 2, sharey=\"row\")\n",
    "\n",
    "axs[0].plot(np.arange(tree.grid.n[0])[intvl], P_slice_p1_r_5_15_15_err, 'v-', label=\"$r = (5, 15, 15)$\")\n",
    "axs[0].plot(np.arange(tree.grid.n[0])[intvl], P_slice_p1_r_5_10_10_err, '<-', label=\"$r = (5, 10, 10)$\")\n",
    "axs[0].plot(np.arange(tree.grid.n[0])[intvl], P_slice_p1_r_5_5_5_err, '^-', label=\"$r = (5, 5, 5)$\")\n",
    "\n",
    "# axs[1].plot((np.arange(ssa_1e7_sol.n[0])+ssa_1e7_sol.n_min[0])[16:31], P_slice_ssa_1e7_err, 'v-', label=\"$10^7$ runs\")\n",
    "axs[1].plot((np.arange(ssa_1e6_sol.n[0])+ssa_1e6_sol.n_min[0])[15:30], P_slice_ssa_1e6_err, 'v-', label=\"$10^6$ runs\")\n",
    "axs[1].plot((np.arange(ssa_1e5_sol.n[0])+ssa_1e5_sol.n_min[0])[14:29], P_slice_ssa_1e5_err, '<-', label=\"$10^5$ runs\")\n",
    "axs[1].plot((np.arange(ssa_1e4_sol.n[0])+ssa_1e4_sol.n_min[0])[14:29], P_slice_ssa_1e4_err, '^-', label=\"$10^4$ runs\")\n",
    "\n",
    "axs[0].set_ylabel(\"$\\Vert P_\\\\mathrm{{S}}(x_0) - P_\\\\mathrm{{S}}^\\\\mathrm{{TTN,ref}}(x_0) \\Vert$\")\n",
    "# axs[0].set_yscale(\"log\")\n",
    "axs[0].set_title(\"PS-TTN integrator\")\n",
    "axs[0].legend()\n",
    "axs[0].set_xticks(np.arange(17, 32+2, 2))\n",
    "axs[0].set_xlim([16, 32])\n",
    "axs[0].set_xlabel(xlabel=\"$x_0$\")\n",
    "axs[0].ticklabel_format(style='sci', axis='y', scilimits=(-2,2))\n",
    "\n",
    "axs[1].set_title(\"SSA\", y=1.05)\n",
    "axs[1].legend()\n",
    "axs[1].set_xticks(np.arange(17, 32+2, 2))\n",
    "axs[1].set_xlim([16, 32])\n",
    "axs[1].set_xlabel(xlabel=\"$x_0$\")\n",
    "plt.subplots_adjust(wspace=.0)\n",
    "\n",
    "plt.savefig(\"plots/sliced_ttn_ssa_err.pdf\");"
   ]
  },
  {
   "cell_type": "markdown",
   "metadata": {},
   "source": [
    "## Marginal distributions"
   ]
  },
  {
   "cell_type": "markdown",
   "metadata": {},
   "source": [
    "### TTN integrator"
   ]
  },
  {
   "cell_type": "code",
   "execution_count": null,
   "metadata": {},
   "outputs": [],
   "source": [
    "nn = 0\n",
    "fig, (ax1, ax2) = plt.subplots(1, 2, figsize=(9, 4))\n",
    "ax1.plot(np.arange(grid.n[nn]), P_sum_matrix[nn], '.-', label=\"2 partitions\")\n",
    "ax1.plot(np.arange(tree.grid.n[nn]), P_sum_p1_r_5_10_10[0], 'v', label=\"$\\mathcal{{P}}_1$, $r = (5, 10, 10)$\")\n",
    "ax1.plot(np.arange(tree.grid.n[nn]), P_sum_p1_r_5_15_15[0], '^', label=\"$\\mathcal{{P}}_1$, $r = (5, 15, 25)$\")\n",
    "# ax1.plot((np.arange(ssa_1e7_sol.n[nn])+ssa_1e7_sol.n_min[nn]), P_sum_ssa_1e7[-1][nn], 'v', label=\"SSA ($10^7$ runs)\")\n",
    "ax1.set_xlabel(\"$x_0$\")\n",
    "ax1.set_ylabel(\"$P_\\\\mathrm{{M}}(x_{})$\".format(nn))\n",
    "\n",
    "nn = 9\n",
    "ax2.plot(np.arange(grid.n[nn])[45:], P_sum_full[nn][45:], '.-')\n",
    "ax2.plot(np.arange(tree.grid.n[nn])[45:], P_sum_p1_r_5_10_10[9][45:], 'v')\n",
    "ax2.plot(np.arange(tree.grid.n[nn])[45:], P_sum_p1_r_5_15_15[9][45:], '^')\n",
    "# ax2.plot((np.arange(ssa1e7_sol.n[nn])+ssa_1e7_sol.n_min[nn]), P_sum_ssa_1e7[-1][nn], 'v')\n",
    "ax2.set_xlabel(\"$x_1$\")\n",
    "ax2.yaxis.tick_right()\n",
    "ax2.yaxis.set_ticks_position(\"both\")\n",
    "ax2.yaxis.set_label_position(\"right\")\n",
    "ax2.set_ylabel(\"$P_\\\\mathrm{{M}}(x_{})$\".format(nn))\n",
    "fig.legend(*ax1.get_legend_handles_labels(), ncols=3, loc=\"upper center\")\n",
    "\n",
    "plt.savefig(\"plots/marginal_ttn.pdf\");"
   ]
  },
  {
   "cell_type": "markdown",
   "metadata": {},
   "source": [
    "### SSA"
   ]
  },
  {
   "cell_type": "code",
   "execution_count": null,
   "metadata": {},
   "outputs": [],
   "source": [
    "nn = 0\n",
    "fig, (ax1, ax2) = plt.subplots(1, 2, figsize=(9, 4))\n",
    "ax1.plot(np.arange(grid.n[nn]), P_sum_matrix[nn], '.-', label=\"$P_\\\\mathrm{{M}}^\\\\mathrm{TTN,ref}$\")\n",
    "ax1.plot((np.arange(ssa_1e7_sol.n[nn])+ssa_1e7_sol.n_min[nn]), P_sum_ssa_1e7[-1][nn], 'v', label=\"$10^7$ runs\")\n",
    "ax1.plot((np.arange(ssa_1e6_sol.n[nn])+ssa_1e6_sol.n_min[nn]), P_sum_ssa_1e6[-1][nn], '<', label=\"$10^6$ runs\")\n",
    "ax1.plot((np.arange(ssa_1e5_sol.n[nn])+ssa_1e5_sol.n_min[nn]), P_sum_ssa_1e5[-1][nn], '^', label=\"$10^5$ runs\")\n",
    "ax1.plot((np.arange(ssa_1e4_sol.n[nn])+ssa_1e4_sol.n_min[nn]), P_sum_ssa_1e4[-1][nn], '>', label=\"$10^4$ runs\")\n",
    "ax1.set_xlabel(\"$x_0$\")\n",
    "ax1.set_ylabel(\"$P_\\\\mathrm{{M}}(x_{})$\".format(nn))\n",
    "\n",
    "nn = 9\n",
    "ax2.plot(np.arange(grid.n[nn])[45:], P_sum_full[nn][45:], '.-')\n",
    "ax2.plot((np.arange(ssa_1e7_sol.n[nn])+ssa_1e7_sol.n_min[nn]), P_sum_ssa_1e7[-1][nn], 'v')\n",
    "ax2.plot((np.arange(ssa_1e6_sol.n[nn])+ssa_1e6_sol.n_min[nn]), P_sum_ssa_1e6[-1][nn], '<')\n",
    "ax2.plot((np.arange(ssa_1e5_sol.n[nn])+ssa_1e5_sol.n_min[nn]), P_sum_ssa_1e5[-1][nn], '^')\n",
    "ax2.plot((np.arange(ssa_1e4_sol.n[nn])+ssa_1e4_sol.n_min[nn]), P_sum_ssa_1e4[-1][nn], '>')\n",
    "ax2.set_xlabel(\"$x_1$\")\n",
    "ax2.yaxis.tick_right()\n",
    "ax2.yaxis.set_ticks_position(\"both\")\n",
    "ax2.yaxis.set_label_position(\"right\")\n",
    "ax2.set_ylabel(\"$P_\\\\mathrm{{M}}(x_{})$\".format(nn))\n",
    "fig.legend(*ax1.get_legend_handles_labels(), ncols=5, loc=\"upper center\")\n",
    "\n",
    "plt.savefig(\"plots/ssa_ttn.pdf\");"
   ]
  },
  {
   "cell_type": "markdown",
   "metadata": {},
   "source": [
    "## Comparison of TTN and SSA results with matrix integrator"
   ]
  },
  {
   "cell_type": "markdown",
   "metadata": {},
   "source": [
    "### Load data"
   ]
  },
  {
   "cell_type": "markdown",
   "metadata": {},
   "source": [
    "#### Get walltimes"
   ]
  },
  {
   "cell_type": "code",
   "execution_count": null,
   "metadata": {},
   "outputs": [],
   "source": [
    "time_series = TimeSeries(\"output/bax_p1_r5-5-5_i_tau2e-2\")\n",
    "walltime_p1_r_5_5_5 = time_series.getWallTime()"
   ]
  },
  {
   "cell_type": "code",
   "execution_count": null,
   "metadata": {},
   "outputs": [],
   "source": [
    "time_series = TimeSeries(\"output/bax_p1_r5-10-10_i_tau2e-2\")\n",
    "walltime_p1_r_5_10_10 = time_series.getWallTime()"
   ]
  },
  {
   "cell_type": "code",
   "execution_count": null,
   "metadata": {},
   "outputs": [],
   "source": [
    "time_series = TimeSeries(\"output/bax_p1_r5-15-15_i_tau2e-2\")\n",
    "walltime_p1_r_5_15_15 = time_series.getWallTime()"
   ]
  },
  {
   "cell_type": "code",
   "execution_count": null,
   "metadata": {},
   "outputs": [],
   "source": [
    "time_series = TimeSeries(\"output/bax_p1_r10-15-25_i_tau1e-2\")\n",
    "walltime_p1_r_10_15_25 = time_series.getWallTime()"
   ]
  },
  {
   "cell_type": "code",
   "execution_count": null,
   "metadata": {},
   "outputs": [],
   "source": [
    "time_series = TimeSeries(\"output/bax_pfull_r5_i_tau5e-2\")\n",
    "walltime_pfull = time_series.getWallTime()"
   ]
  },
  {
   "cell_type": "code",
   "execution_count": null,
   "metadata": {},
   "outputs": [],
   "source": [
    "walltime_ssa_1e4 = 84\n",
    "walltime_ssa_1e5 = 129\n",
    "walltime_ssa_1e6 = 358\n",
    "walltime_ssa_2e6 = 660\n",
    "walltime_ssa_1e7 = 2898\n",
    "walltime_matrix = 1.3e5"
   ]
  },
  {
   "cell_type": "code",
   "execution_count": null,
   "metadata": {},
   "outputs": [],
   "source": [
    "walltimes = [walltime_ssa_1e6, walltime_ssa_1e5, walltime_ssa_1e4, walltime_p1_r_10_15_25, walltime_p1_r_5_15_15, walltime_p1_r_5_10_10, walltime_p1_r_5_5_5]\n",
    "labels_walltime = [\"$10^6$ runs\", \"$10^5$ runs\", \"$10^4$ runs\", \"$r = (10, 15, 25)$\", \"$r = (5, 15, 15)$\", \"$r = (5, 10, 10)$\", \"$r = (5, 5, 5)$\"]\n",
    "colors = plt.rcParams['axes.prop_cycle'].by_key()['color']\n",
    "color = [colors[1], colors[1], colors[1], colors[0], colors[0], colors[0], colors[0]]\n",
    "bar_labels = ['SSA', '_SSA', '_SSA', 'PS-TTN integrator', '_PS-TTN integrator', '_PS-TTN integrator', '_PS-TTN integrator']"
   ]
  },
  {
   "cell_type": "code",
   "execution_count": null,
   "metadata": {},
   "outputs": [],
   "source": [
    "wt = [walltime_ssa_1e7, walltime_ssa_1e6, walltime_ssa_1e5, walltime_ssa_1e4, walltime_p1_r_5_15_15, walltime_p1_r_5_10_10, walltime_p1_r_5_5_5]\n",
    "labels_wt = [\"$10^7$ runs\", \"$10^6$ runs\", \"$10^5$ runs\", \"$10^4$ runs\", \"$r = (5, 15, 15)$\", \"$r = (5, 10, 10)$\", \"$r = (5, 5, 5)$\"]\n",
    "b_color = [colors[1], colors[1], colors[1], colors[1], colors[0], colors[0], colors[0]]\n",
    "b_labels = ['SSA', '_SSA', '_SSA', '_SSA', 'PS-TTN integrator', '_PS-TTN integrator', '_PS-TTN integrator']\n",
    "\n",
    "fig, ax = plt.subplots()\n",
    "ax.barh(labels_wt, wt, label=b_labels, color=b_color)\n",
    "ax.set_xscale(\"log\")\n",
    "ax.set_xlabel(\"wall time [$\\mathrm{{s}}$]\")\n",
    "# ax10.set_xlim([1e2, 2e4])\n",
    "fig.legend(loc=\"upper center\", ncols=2)\n",
    "\n",
    "plt.savefig(\"plots/comparison_walltime_ttn_ssa.pdf\", bbox_inches=\"tight\");"
   ]
  },
  {
   "cell_type": "markdown",
   "metadata": {},
   "source": [
    "#### Error between TTN integrator and the matrix integrator reference solution"
   ]
  },
  {
   "cell_type": "code",
   "execution_count": null,
   "metadata": {},
   "outputs": [],
   "source": [
    "tree = readTree(\"output/bax_p1_r5-5-5_i_tau2e-2/output_t7250.nc\")\n",
    "sliced_r_5_5_5, marginal_r_5_5_5 = tree.calculateObservables(slice_vec)\n",
    "\n",
    "tree = readTree(\"output/bax_p1_r5-10-10_i_tau2e-2/output_t7250.nc\")\n",
    "sliced_r_5_10_10, marginal_r_5_10_10 = tree.calculateObservables(slice_vec)\n",
    "\n",
    "tree = readTree(\"output/bax_p1_r5-15-15_i_tau2e-2/output_t7250.nc\")\n",
    "sliced_r_5_15_15, marginal_r_5_15_15 = tree.calculateObservables(slice_vec)\n",
    "\n",
    "tree = readTree(\"output/bax_p1_r10-15-25_i_tau1e-2/output_t14500.nc\")\n",
    "sliced_r_10_15_25, marginal_r_10_15_25 = tree.calculateObservables(slice_vec)"
   ]
  },
  {
   "cell_type": "code",
   "execution_count": null,
   "metadata": {},
   "outputs": [],
   "source": [
    "sliced_err_r_5_5_5 = np.zeros(len(sliced_r_5_5_5))\n",
    "marginal_err_r_5_5_5 = np.zeros(len(marginal_r_5_5_5))\n",
    "sliced_err_r_5_10_10 = np.zeros(len(sliced_r_5_5_5))\n",
    "marginal_err_r_5_10_10 = np.zeros(len(marginal_r_5_5_5))\n",
    "sliced_err_r_5_15_15 = np.zeros(len(sliced_r_5_5_5))\n",
    "marginal_err_r_5_15_15 = np.zeros(len(marginal_r_5_5_5))\n",
    "sliced_err_r_5_20_20 = np.zeros(len(sliced_r_5_5_5))\n",
    "marginal_err_r_5_20_20 = np.zeros(len(marginal_r_5_5_5))\n",
    "\n",
    "for i in range(tree.grid.d()):\n",
    "    sliced_err_r_5_5_5[i] = np.linalg.norm(sliced_r_5_5_5[i] - P_slice_full[i]) # Frobenius norm\n",
    "    marginal_err_r_5_5_5[i] = np.linalg.norm(marginal_r_5_5_5[i] - P_sum_full[i]) # Frobenius norm\n",
    "\n",
    "    sliced_err_r_5_10_10[i] = np.linalg.norm(sliced_r_5_10_10[i] - P_slice_full[i]) # Frobenius norm\n",
    "    marginal_err_r_5_10_10[i] = np.linalg.norm(marginal_r_5_10_10[i] - P_sum_full[i]) # Frobenius norm\n",
    "\n",
    "    sliced_err_r_5_15_15[i] = np.linalg.norm(sliced_r_5_15_15[i] - P_slice_full[i]) # Frobenius norm\n",
    "    marginal_err_r_5_15_15[i] = np.linalg.norm(marginal_r_5_15_15[i] - P_sum_full[i]) # Frobenius norm\n",
    "\n",
    "    sliced_err_r_5_20_20[i] = np.linalg.norm(sliced_r_10_15_25[i] - P_slice_full[i]) # Frobenius norm\n",
    "    marginal_err_r_5_20_20[i] = np.linalg.norm(marginal_r_10_15_25[i] - P_sum_full[i]) # Frobenius norm"
   ]
  },
  {
   "cell_type": "markdown",
   "metadata": {},
   "source": [
    "#### Error between SSA and the SSA reference solution"
   ]
  },
  {
   "cell_type": "code",
   "execution_count": null,
   "metadata": {},
   "outputs": [],
   "source": [
    "d = len(ssa_1e7_sol.n)\n",
    "SSA_marginal_err_1e4 = np.zeros(d)\n",
    "SSA_marginal_err_1e5 = np.zeros(d)\n",
    "SSA_marginal_err_1e6 = np.zeros(d)\n",
    "SSA_marginal_err_2e6 = np.zeros(d)\n",
    "SSA_sliced_err_1e4 = np.zeros(d)\n",
    "SSA_sliced_err_1e5 = np.zeros(d)\n",
    "SSA_sliced_err_1e6 = np.zeros(d)\n",
    "SSA_sliced_err_2e6 = np.zeros(d)\n",
    "\n",
    "for i in range(d):\n",
    "    n_start_1e4 = ssa_1e4_sol.n_min[i] - ssa_1e7_sol.n_min[i]\n",
    "    n_start_1e5 = ssa_1e5_sol.n_min[i] - ssa_1e7_sol.n_min[i]\n",
    "    n_start_1e6 = ssa_1e6_sol.n_min[i] - ssa_1e7_sol.n_min[i]\n",
    "    n_start_2e6 = ssa_2e6_sol.n_min[i] - ssa_1e7_sol.n_min[i]\n",
    "\n",
    "    SSA_marginal_err_1e4[i] = np.linalg.norm(P_sum_ssa_1e7[-1][i][n_start_1e4 : n_start_1e4+ssa_1e4_sol.n[i]] - P_sum_ssa_1e4[-1][i][:ssa_1e7_sol.n[i]])\n",
    "    SSA_marginal_err_1e5[i] = np.linalg.norm(P_sum_ssa_1e7[-1][i][n_start_1e5 : n_start_1e5+ssa_1e5_sol.n[i]] - P_sum_ssa_1e5[-1][i][:ssa_1e7_sol.n[i]])\n",
    "    SSA_marginal_err_1e6[i] = np.linalg.norm(P_sum_ssa_1e7[-1][i][n_start_1e6 : n_start_1e6+ssa_1e6_sol.n[i]] - P_sum_ssa_1e6[-1][i][:ssa_1e7_sol.n[i]])\n",
    "    SSA_marginal_err_2e6[i] = np.linalg.norm(P_sum_ssa_1e7[-1][i][n_start_2e6 : n_start_2e6+ssa_2e6_sol.n[i]] - P_sum_ssa_2e6[-1][i][:ssa_1e7_sol.n[i]])\n",
    "\n",
    "    SSA_sliced_err_1e4[i] = np.linalg.norm(P_slice_ssa_1e7[-1][i][n_start_1e4 : n_start_1e4+ssa_1e4_sol.n[i]] - P_slice_ssa_1e4[-1][i][:ssa_1e7_sol.n[i]])\n",
    "    SSA_sliced_err_1e5[i] = np.linalg.norm(P_slice_ssa_1e7[-1][i][n_start_1e5 : n_start_1e5+ssa_1e5_sol.n[i]] - P_slice_ssa_1e5[-1][i][:ssa_1e7_sol.n[i]])\n",
    "    SSA_sliced_err_1e6[i] = np.linalg.norm(P_slice_ssa_1e7[-1][i][n_start_1e6 : n_start_1e6+ssa_1e6_sol.n[i]] - P_slice_ssa_1e6[-1][i][:ssa_1e7_sol.n[i]])\n",
    "    SSA_sliced_err_2e6[i] = np.linalg.norm(P_slice_ssa_1e7[-1][i][n_start_2e6 : n_start_2e6+ssa_2e6_sol.n[i]] - P_slice_ssa_2e6[-1][i][:ssa_1e7_sol.n[i]])"
   ]
  },
  {
   "cell_type": "markdown",
   "metadata": {},
   "source": [
    "#### Error between the matrix integrator reference solution and the SSA reference solution"
   ]
  },
  {
   "cell_type": "code",
   "execution_count": null,
   "metadata": {},
   "outputs": [],
   "source": [
    "d = len(ssa_1e7_sol.n)\n",
    "SSA_DLR_marginal_err_ref_1e6 = np.zeros(d)\n",
    "SSA_DLR_marginal_err_ref_2e6 = np.zeros(d)\n",
    "SSA_DLR_marginal_err_ref_1e7 = np.zeros(d)\n",
    "SSA_DLR_sliced_err_ref_1e6 = np.zeros(d)\n",
    "SSA_DLR_sliced_err_ref_2e6 = np.zeros(d)\n",
    "SSA_DLR_sliced_err_ref_1e7 = np.zeros(d)\n",
    "for i in range(d):\n",
    "    SSA_DLR_marginal_err_ref_1e6[i] = np.linalg.norm(P_sum_full[i][ssa_1e6_sol.n_min[i] : ssa_1e6_sol.n_min[i]+ssa_1e6_sol.n[i]] - P_sum_ssa_1e6[-1][i][:grid.n[i]])\n",
    "    SSA_DLR_marginal_err_ref_2e6[i] = np.linalg.norm(P_sum_full[i][ssa_2e6_sol.n_min[i] : ssa_2e6_sol.n_min[i]+ssa_2e6_sol.n[i]] - P_sum_ssa_2e6[-1][i][:grid.n[i]])\n",
    "    SSA_DLR_marginal_err_ref_1e7[i] = np.linalg.norm(P_sum_full[i][ssa_1e7_sol.n_min[i] : ssa_1e7_sol.n_min[i]+ssa_1e7_sol.n[i]] - P_sum_ssa_1e7[-1][i][:grid.n[i]])\n",
    "    SSA_DLR_sliced_err_ref_1e6[i] = np.linalg.norm(P_slice_full[i][ssa_1e6_sol.n_min[i] : ssa_1e6_sol.n_min[i]+ssa_1e6_sol.n[i]] - P_slice_ssa_1e6[-1][i][:grid.n[i]])\n",
    "    SSA_DLR_sliced_err_ref_2e6[i] = np.linalg.norm(P_slice_full[i][ssa_2e6_sol.n_min[i] : ssa_2e6_sol.n_min[i]+ssa_2e6_sol.n[i]] - P_slice_ssa_2e6[-1][i][:grid.n[i]])\n",
    "    SSA_DLR_sliced_err_ref_1e7[i] = np.linalg.norm(P_slice_full[i][ssa_1e7_sol.n_min[i] : ssa_1e7_sol.n_min[i]+ssa_1e7_sol.n[i]] - P_slice_ssa_1e7[-1][i][:grid.n[i]])"
   ]
  },
  {
   "cell_type": "markdown",
   "metadata": {},
   "source": [
    "#### Error between the TTN solution and the SSA reference solution"
   ]
  },
  {
   "cell_type": "code",
   "execution_count": null,
   "metadata": {},
   "outputs": [],
   "source": [
    "d = len(ssa_1e7_sol.n)\n",
    "marginal_err_r_5_5_5_SSA = np.zeros(d)\n",
    "marginal_err_r_5_10_10_SSA = np.zeros(d)\n",
    "marginal_err_r_5_15_15_SSA = np.zeros(d)\n",
    "marginal_err_r_10_15_25_SSA = np.zeros(d)\n",
    "sliced_err_r_5_5_5_SSA = np.zeros(d)\n",
    "sliced_err_r_5_10_10_SSA = np.zeros(d)\n",
    "sliced_err_r_5_15_15_SSA = np.zeros(d)\n",
    "sliced_err_r_10_15_25_SSA = np.zeros(d)\n",
    "\n",
    "for i in range(d):\n",
    "    marginal_err_r_5_5_5_SSA[i] = np.linalg.norm(marginal_r_5_5_5[i][ssa_1e7_sol.n_min[i] : ssa_1e7_sol.n_min[i]+ssa_1e7_sol.n[i]] - P_sum_ssa_1e7[-1][i][:grid.n[i]])\n",
    "    marginal_err_r_5_10_10_SSA[i] = np.linalg.norm(marginal_r_5_10_10[i][ssa_1e7_sol.n_min[i] : ssa_1e7_sol.n_min[i]+ssa_1e7_sol.n[i]] - P_sum_ssa_1e7[-1][i][:grid.n[i]])\n",
    "    marginal_err_r_5_15_15_SSA[i] = np.linalg.norm(marginal_r_5_15_15[i][ssa_1e7_sol.n_min[i] : ssa_1e7_sol.n_min[i]+ssa_1e7_sol.n[i]] - P_sum_ssa_1e7[-1][i][:grid.n[i]])\n",
    "    marginal_err_r_10_15_25_SSA[i] = np.linalg.norm(marginal_r_10_15_25[i][ssa_1e7_sol.n_min[i] : ssa_1e7_sol.n_min[i]+ssa_1e7_sol.n[i]] - P_sum_ssa_1e7[-1][i][:grid.n[i]])\n",
    "\n",
    "    sliced_err_r_5_5_5_SSA[i] = np.linalg.norm(sliced_r_5_5_5[i][ssa_1e7_sol.n_min[i] : ssa_1e7_sol.n_min[i]+ssa_1e7_sol.n[i]] - P_slice_ssa_1e7[-1][i][:grid.n[i]])\n",
    "    sliced_err_r_5_10_10_SSA[i] = np.linalg.norm(sliced_r_5_10_10[i][ssa_1e7_sol.n_min[i] : ssa_1e7_sol.n_min[i]+ssa_1e7_sol.n[i]] - P_slice_ssa_1e7[-1][i][:grid.n[i]])\n",
    "    sliced_err_r_5_15_15_SSA[i] = np.linalg.norm(sliced_r_5_15_15[i][ssa_1e7_sol.n_min[i] : ssa_1e7_sol.n_min[i]+ssa_1e7_sol.n[i]] - P_slice_ssa_1e7[-1][i][:grid.n[i]])\n",
    "    sliced_err_r_10_15_25_SSA[i] = np.linalg.norm(sliced_r_10_15_25[i][ssa_1e7_sol.n_min[i] : ssa_1e7_sol.n_min[i]+ssa_1e7_sol.n[i]] - P_slice_ssa_1e7[-1][i][:grid.n[i]])"
   ]
  },
  {
   "cell_type": "code",
   "execution_count": null,
   "metadata": {},
   "outputs": [],
   "source": [
    "s = 10\n",
    "\n",
    "red_marginal_lr_1e2 = marginal_r_5_10_10[s][ssa_1e7_sol.n_min[s] : ssa_1e7_sol.n_min[s]+ssa_1e7_sol.n[s]]\n",
    "red_marginal_lr = marginal_r_10_15_25[s][ssa_1e7_sol.n_min[s] : ssa_1e7_sol.n_min[s]+ssa_1e7_sol.n[s]]\n",
    "red_marginal_ssa = P_sum_ssa_1e7[-1][s][:grid.n[s]]\n",
    "\n",
    "plt.plot(range(red_marginal_lr_1e2.size), red_marginal_lr, 'x')\n",
    "plt.plot(range(red_marginal_lr.size), red_marginal_lr)\n",
    "plt.plot(range(red_marginal_lr.size), red_marginal_ssa, ':')\n",
    "print(np.linalg.norm(red_marginal_lr-red_marginal_ssa))"
   ]
  },
  {
   "cell_type": "code",
   "execution_count": null,
   "metadata": {},
   "outputs": [],
   "source": [
    "print(marginal_err_r_10_15_25_SSA)\n",
    "print(sliced_err_r_5_5_5_SSA)"
   ]
  },
  {
   "cell_type": "markdown",
   "metadata": {},
   "source": [
    "### Plots"
   ]
  },
  {
   "cell_type": "code",
   "execution_count": null,
   "metadata": {},
   "outputs": [],
   "source": [
    "time_series = TimeSeries(\"output/bax_p1_r10-15-25_i_tau1e-2\")\n",
    "mass_err = np.abs(time_series.getMassErr())\n",
    "fig, ax = plt.subplots()\n",
    "ax.plot(time_series.time, mass_err, '-')\n",
    "ax.set_xlabel(\"$t$\")\n",
    "ax.set_ylabel(\"$\\Delta m(t)$\")\n",
    "ax.set_yscale(\"log\")\n",
    "ax.set_ylim([8e-9, 1e-2])\n",
    "\n",
    "plt.savefig(\"plots/mass_err_ttn_r10-15-25.pdf\");"
   ]
  },
  {
   "cell_type": "code",
   "execution_count": null,
   "metadata": {},
   "outputs": [],
   "source": [
    "gs = gridspec.GridSpec(2, 8)\n",
    "\n",
    "fig = plt.figure(figsize=(7, 8))\n",
    "ax00 = plt.subplot(gs[0, :4])\n",
    "ax00.plot(np.arange(grid.d), marginal_err_r_5_5_5_SSA, '.-', label=\"$r = (5, 5, 5)$\")\n",
    "ax00.plot(np.arange(grid.d), marginal_err_r_5_10_10_SSA, '.-', label=\"$r = (5, 10, 10)$\")\n",
    "ax00.plot(np.arange(grid.d), marginal_err_r_5_15_15_SSA, '.-', label=\"$r = (5, 15, 15)$\")\n",
    "ax00.plot(np.arange(grid.d), marginal_err_r_10_15_25_SSA, '.-', label=\"$r = (10, 15, 25)$\")\n",
    "ax00.set_yscale(\"log\")\n",
    "ax00.set_xlabel(\"species $S_i$\")\n",
    "ax00.legend()\n",
    "ax00.set_title(\"$\\Vert P_M^\\mathrm{{TTN}}(x_i)-P_M^\\mathrm{{SSA,ref}}(x_i) \\Vert$\")\n",
    "\n",
    "ax01 = plt.subplot(gs[0, 4:])\n",
    "ax01.plot(np.arange(grid.d), SSA_marginal_err_1e4, 'x-', label=\"$10^4$ runs\")\n",
    "ax01.plot(np.arange(grid.d), SSA_marginal_err_1e5, 'x-', label=\"$10^5$ runs\")\n",
    "ax01.plot(np.arange(grid.d), SSA_marginal_err_1e6, 'x-', label=\"$10^6$ runs\")\n",
    "# ax01.plot(np.arange(grid.d), SSA_marginal_err_2e6, '.-', label=\"$2 \\\\times 10^6$ runs\")\n",
    "ax01.set_yscale(\"log\")\n",
    "ax01.set_xlabel(\"species $S_i$\")\n",
    "ax01.legend()\n",
    "ax01.set_title(\"$\\Vert P_M^\\mathrm{{SSA}}(x_i)-P_M^\\mathrm{{SSA,ref}}(x_i) \\Vert$\")\n",
    "ax01.yaxis.tick_right()\n",
    "ax01.yaxis.set_ticks_position(\"both\")\n",
    "ax01.yaxis.set_label_position(\"right\")\n",
    "\n",
    "plt.setp((ax00, ax01), ylim=[1e-7, 1e-1], xticks=[0, 2, 4, 6, 8, 10])\n",
    "\n",
    "ax10 = plt.subplot(gs[1:, 2:7])\n",
    "ax10.barh(labels_walltime, walltimes, label=bar_labels, color=color)\n",
    "ax10.set_xscale(\"log\")\n",
    "ax10.set_xlabel(\"wall time [$\\mathrm{{s}}$]\")\n",
    "ax10.legend()\n",
    "\n",
    "plt.subplots_adjust(hspace=0.3, wspace=0.0)\n",
    "# plt.tight_layout()\n",
    "\n",
    "plt.savefig(\"plots/comparison_marginal_ttn_ssa.pdf\", bbox_inches=\"tight\");"
   ]
  },
  {
   "cell_type": "code",
   "execution_count": null,
   "metadata": {},
   "outputs": [],
   "source": [
    "gs = gridspec.GridSpec(2, 8)\n",
    "\n",
    "fig = plt.figure(figsize=(7, 8))\n",
    "ax00 = plt.subplot(gs[0, :4])\n",
    "ax00.plot(np.arange(grid.d), sliced_err_r_5_5_5_SSA, '.-', label=\"$r = (5, 5, 5)$\")\n",
    "ax00.plot(np.arange(grid.d), sliced_err_r_5_10_10_SSA, '.-', label=\"$r = (5, 10, 10)$\")\n",
    "ax00.plot(np.arange(grid.d), sliced_err_r_5_15_15_SSA, '.-', label=\"$r = (5, 15, 15)$\")\n",
    "ax00.plot(np.arange(grid.d), sliced_err_r_10_15_25_SSA, '.-', label=\"$r = (10, 15, 25)$\")\n",
    "ax00.set_yscale(\"log\")\n",
    "ax00.set_xlabel(\"species $S_i$\")\n",
    "ax00.legend()\n",
    "ax00.set_title(\"$\\Vert P_S^\\mathrm{{TTN}}(x_i)-P_S^\\mathrm{{SSA,ref}}(x_i) \\Vert$\")\n",
    "\n",
    "ax01 = plt.subplot(gs[0, 4:])\n",
    "ax01.plot(np.arange(grid.d), SSA_sliced_err_1e4, 'x-', label=\"$10^4$ runs\")\n",
    "ax01.plot(np.arange(grid.d), SSA_sliced_err_1e5, 'x-', label=\"$10^5$ runs\")\n",
    "ax01.plot(np.arange(grid.d), SSA_sliced_err_1e6, 'x-', label=\"$10^6$ runs\")\n",
    "# ax01.plot(np.arange(grid.d), SSA_marginal_err_2e6, '.-', label=\"$2 \\\\times 10^6$ runs\")\n",
    "ax01.set_yscale(\"log\")\n",
    "ax01.set_xlabel(\"species $S_i$\")\n",
    "ax01.legend()\n",
    "ax01.set_title(\"$\\Vert P_S^\\mathrm{{SSA}}(x_i)-P_S^\\mathrm{{SSA,ref}}(x_i) \\Vert$\")\n",
    "ax01.yaxis.tick_right()\n",
    "ax01.yaxis.set_ticks_position(\"both\")\n",
    "ax01.yaxis.set_label_position(\"right\")\n",
    "\n",
    "plt.setp((ax00, ax01), ylim=[1e-6, 1e-1], xticks=[0, 2, 4, 6, 8, 10])\n",
    "\n",
    "ax10 = plt.subplot(gs[1:, 2:7])\n",
    "ax10.barh(labels_walltime, walltimes, label=bar_labels, color=color)\n",
    "ax10.set_xscale(\"log\")\n",
    "ax10.set_xlabel(\"wall time [$\\mathrm{{s}}$]\")\n",
    "ax10.legend()\n",
    "\n",
    "plt.subplots_adjust(hspace=0.3, wspace=0.0)\n",
    "# plt.tight_layout()\n",
    "\n",
    "plt.savefig(\"plots/comparison_sliced_ttn_ssa.pdf\", bbox_inches=\"tight\");"
   ]
  },
  {
   "cell_type": "markdown",
   "metadata": {},
   "source": [
    "## Error depending on time step size"
   ]
  },
  {
   "cell_type": "code",
   "execution_count": null,
   "metadata": {},
   "outputs": [],
   "source": [
    "dm_max_r_5_15_25 = []\n",
    "dm_max_r_5_15_15 = []\n",
    "dm_max_r_5_10_10 = []\n",
    "dm_max_r_5_5_5 = []\n",
    "tau = []\n",
    "\n",
    "time_series = TimeSeries(\"output/bax_p1_r5-15-25_i_tau5e-1\")\n",
    "dm_max_r_5_15_25.append(np.abs(time_series.getMaxMassErr()))\n",
    "time_series = TimeSeries(\"output/bax_p1_r5-15-15_i_tau5e-1\")\n",
    "dm_max_r_5_15_15.append(np.abs(time_series.getMaxMassErr()))\n",
    "time_series = TimeSeries(\"output/bax_p1_r5-10-10_i_tau5e-1\")\n",
    "dm_max_r_5_10_10.append(np.abs(time_series.getMaxMassErr()))\n",
    "time_series = TimeSeries(\"output/bax_p1_r5-5-5_i_tau5e-1\")\n",
    "dm_max_r_5_5_5.append(np.abs(time_series.getMaxMassErr()))\n",
    "tau.append(time_series.getTau())\n",
    "\n",
    "time_series = TimeSeries(\"output/bax_p1_r5-15-25_i_tau2e-1\")\n",
    "dm_max_r_5_15_25.append(np.abs(time_series.getMaxMassErr()))\n",
    "time_series = TimeSeries(\"output/bax_p1_r5-15-15_i_tau2e-1\")\n",
    "dm_max_r_5_15_15.append(np.abs(time_series.getMaxMassErr()))\n",
    "time_series = TimeSeries(\"output/bax_p1_r5-10-10_i_tau2e-1\")\n",
    "dm_max_r_5_10_10.append(np.abs(time_series.getMaxMassErr()))\n",
    "time_series = TimeSeries(\"output/bax_p1_r5-5-5_i_tau2e-1\")\n",
    "dm_max_r_5_5_5.append(np.abs(time_series.getMaxMassErr()))\n",
    "tau.append(time_series.getTau())\n",
    "\n",
    "time_series = TimeSeries(\"output/bax_p1_r5-15-25_i_tau1e-1\")\n",
    "dm_max_r_5_15_25.append(np.abs(time_series.getMaxMassErr()))\n",
    "time_series = TimeSeries(\"output/bax_p1_r5-15-15_i_tau1e-1\")\n",
    "dm_max_r_5_15_15.append(np.abs(time_series.getMaxMassErr()))\n",
    "time_series = TimeSeries(\"output/bax_p1_r5-10-10_i_tau1e-1\")\n",
    "dm_max_r_5_10_10.append(np.abs(time_series.getMaxMassErr()))\n",
    "time_series = TimeSeries(\"output/bax_p1_r5-5-5_i_tau1e-1\")\n",
    "dm_max_r_5_5_5.append(np.abs(time_series.getMaxMassErr()))\n",
    "tau.append(time_series.getTau())\n",
    "\n",
    "time_series = TimeSeries(\"output/bax_p1_r5-15-25_i_tau5e-2\")\n",
    "dm_max_r_5_15_25.append(np.abs(time_series.getMaxMassErr()))\n",
    "time_series = TimeSeries(\"output/bax_p1_r5-15-15_i_tau5e-2\")\n",
    "dm_max_r_5_15_15.append(np.abs(time_series.getMaxMassErr()))\n",
    "time_series = TimeSeries(\"output/bax_p1_r5-10-10_i_tau5e-2\")\n",
    "dm_max_r_5_10_10.append(np.abs(time_series.getMaxMassErr()))\n",
    "time_series = TimeSeries(\"output/bax_p1_r5-5-5_i_tau5e-2\")\n",
    "dm_max_r_5_5_5.append(np.abs(time_series.getMaxMassErr()))\n",
    "tau.append(time_series.getTau())\n",
    "\n",
    "time_series = TimeSeries(\"output/bax_p1_r5-15-25_i_tau2e-2\")\n",
    "dm_max_r_5_15_25.append(np.abs(time_series.getMaxMassErr()))\n",
    "time_series = TimeSeries(\"output/bax_p1_r5-15-15_i_tau2e-2\")\n",
    "dm_max_r_5_15_15.append(np.abs(time_series.getMaxMassErr()))\n",
    "time_series = TimeSeries(\"output/bax_p1_r5-10-10_i_tau2e-2\")\n",
    "dm_max_r_5_10_10.append(np.abs(time_series.getMaxMassErr()))\n",
    "time_series = TimeSeries(\"output/bax_p1_r5-5-5_i_tau2e-2\")\n",
    "dm_max_r_5_5_5.append(np.abs(time_series.getMaxMassErr()))\n",
    "tau.append(time_series.getTau())\n",
    "\n",
    "time_series = TimeSeries(\"output/bax_p1_r5-15-25_i_tau1e-2\")\n",
    "dm_max_r_5_15_25.append(np.abs(time_series.getMaxMassErr()))\n",
    "time_series = TimeSeries(\"output/bax_p1_r5-15-15_i_tau1e-2\")\n",
    "dm_max_r_5_15_15.append(np.abs(time_series.getMaxMassErr()))\n",
    "time_series = TimeSeries(\"output/bax_p1_r5-10-10_i_tau1e-2\")\n",
    "dm_max_r_5_10_10.append(np.abs(time_series.getMaxMassErr()))\n",
    "time_series = TimeSeries(\"output/bax_p1_r5-5-5_i_tau1e-2\")\n",
    "dm_max_r_5_5_5.append(np.abs(time_series.getMaxMassErr()))\n",
    "tau.append(time_series.getTau())"
   ]
  },
  {
   "cell_type": "markdown",
   "metadata": {},
   "source": [
    "### Plot"
   ]
  },
  {
   "cell_type": "code",
   "execution_count": null,
   "metadata": {},
   "outputs": [],
   "source": [
    "fig, ax = plt.subplots()\n",
    "t = np.linspace(0.01, 0.5)\n",
    "\n",
    "ax.loglog(tau, dm_max_r_5_5_5, '.-', label=\"$r=(5, 5, 5)$\")\n",
    "ax.loglog(tau, dm_max_r_5_10_10, '.-', label=\"$r=(5, 10, 10)$\")\n",
    "ax.loglog(tau, dm_max_r_5_15_15, '.-', label=\"$r=(5, 15, 15)$\")\n",
    "# ax.loglog(tau, dm_max_r_5_15_25, '.-', label=\"$r=(5, 15, 25)$\")\n",
    "ax.loglog(t, t**3*10, 'k:', label=\"$\\\\tau^3$\")\n",
    "ax.set_xlabel(\"time step size $\\\\tau$\")\n",
    "ax.set_ylabel(\"$\\max_t(|\\Delta m(t)|)$\")\n",
    "fig.legend(loc=\"upper center\", ncols=5)\n",
    "\n",
    "plt.savefig(\"plots/time_mass_err_ttn.pdf\");"
   ]
  },
  {
   "cell_type": "markdown",
   "metadata": {},
   "source": [
    "## Error depending on rank and partition"
   ]
  },
  {
   "cell_type": "markdown",
   "metadata": {},
   "source": [
    "### Load data"
   ]
  },
  {
   "cell_type": "markdown",
   "metadata": {},
   "source": [
    "#### Partition 0"
   ]
  },
  {
   "cell_type": "code",
   "execution_count": null,
   "metadata": {},
   "outputs": [],
   "source": [
    "sliced_err00, marginal_err00 = calculateDistributionError(\"output/bax_p0_r5-5-5_i_tau2e-2/output_t7250.nc\", P_slice_ssa_1e7[-1], P_sum_ssa_1e7[-1], slice_vec, ssa_1e7_sol)\n",
    "\n",
    "sliced_err10, marginal_err10 = calculateDistributionError(\"output/bax_p0_r5-10-10_i_tau2e-2/output_t7250.nc\", P_slice_ssa_1e7[-1], P_sum_ssa_1e7[-1], slice_vec, ssa_1e7_sol)\n",
    "\n",
    "sliced_err20, marginal_err20 = calculateDistributionError(\"output/bax_p0_r5-15-15_i_tau2e-2/output_t7250.nc\", P_slice_ssa_1e7[-1], P_sum_ssa_1e7[-1], slice_vec, ssa_1e7_sol)\n",
    "\n",
    "sliced_err30, marginal_err30 = calculateDistributionError(\"output/bax_p0_r5-20-20_i_tau2e-2/output_t7250.nc\", P_slice_ssa_1e7[-1], P_sum_ssa_1e7[-1], slice_vec, ssa_1e7_sol)"
   ]
  },
  {
   "cell_type": "markdown",
   "metadata": {},
   "source": [
    "#### Partition 1"
   ]
  },
  {
   "cell_type": "code",
   "execution_count": null,
   "metadata": {},
   "outputs": [],
   "source": [
    "sliced_err01, marginal_err01 = calculateDistributionError(\"output/bax_p1_r5-5-5_i_tau2e-2/output_t7250.nc\", P_slice_ssa_1e7[-1], P_sum_ssa_1e7[-1], slice_vec, ssa_1e7_sol)\n",
    "\n",
    "sliced_err11, marginal_err11 = calculateDistributionError(\"output/bax_p1_r5-10-10_i_tau2e-2/output_t7250.nc\", P_slice_ssa_1e7[-1], P_sum_ssa_1e7[-1], slice_vec, ssa_1e7_sol)\n",
    "\n",
    "sliced_err21, marginal_err21 = calculateDistributionError(\"output/bax_p1_r5-15-15_i_tau2e-2/output_t7250.nc\", P_slice_ssa_1e7[-1], P_sum_ssa_1e7[-1], slice_vec, ssa_1e7_sol)\n",
    "\n",
    "sliced_err31, marginal_err31 = calculateDistributionError(\"output/bax_p1_r5-20-20_i_tau2e-2/output_t7250.nc\", P_slice_ssa_1e7[-1], P_sum_ssa_1e7[-1], slice_vec, ssa_1e7_sol)"
   ]
  },
  {
   "cell_type": "markdown",
   "metadata": {},
   "source": [
    "#### Partition 2"
   ]
  },
  {
   "cell_type": "code",
   "execution_count": null,
   "metadata": {},
   "outputs": [],
   "source": [
    "sliced_err02, marginal_err02 = calculateDistributionError(\"output/bax_p2_r5-5-5_i_tau2e-2/output_t7250.nc\", P_slice_ssa_1e7[-1], P_sum_ssa_1e7[-1], slice_vec, ssa_1e7_sol)\n",
    "\n",
    "sliced_err12, marginal_err12 = calculateDistributionError(\"output/bax_p2_r5-10-10_i_tau2e-2/output_t7250.nc\", P_slice_ssa_1e7[-1], P_sum_ssa_1e7[-1], slice_vec, ssa_1e7_sol)\n",
    "\n",
    "sliced_err22, marginal_err22 = calculateDistributionError(\"output/bax_p2_r5-15-15_i_tau2e-2/output_t7250.nc\", P_slice_ssa_1e7[-1], P_sum_ssa_1e7[-1], slice_vec, ssa_1e7_sol)\n",
    "\n",
    "sliced_err32, marginal_err32 = calculateDistributionError(\"output/bax_p2_r5-20-20_i_tau2e-2/output_t7250.nc\", P_slice_ssa_1e7[-1], P_sum_ssa_1e7[-1], slice_vec, ssa_1e7_sol)"
   ]
  },
  {
   "cell_type": "markdown",
   "metadata": {},
   "source": [
    "#### Inset"
   ]
  },
  {
   "cell_type": "code",
   "execution_count": null,
   "metadata": {},
   "outputs": [],
   "source": [
    "sliced_err_r_5_15_25, marginal_err_r_5_15_25 = calculateDistributionError(\"output/bax_p1_r10-15-25_i_tau1e-2/output_t14500.nc\", P_slice_ssa_1e7[-1], P_sum_ssa_1e7[-1], slice_vec, ssa_1e7_sol)"
   ]
  },
  {
   "cell_type": "markdown",
   "metadata": {},
   "source": [
    "### Plot"
   ]
  },
  {
   "cell_type": "code",
   "execution_count": null,
   "metadata": {},
   "outputs": [],
   "source": [
    "# from mpl_toolkits.axes_grid1.inset_locator import inset_axes\n",
    "colors = plt.rcParams['axes.prop_cycle'].by_key()['color']\n",
    "cols = [\"$\\mathcal{{P}}_0$\", \"$\\mathcal{{P}}_1$\", \"$\\mathcal{{P}}_2$\"]\n",
    "rows = [\"$r = (5, 5, 5)$\", \"$r = (5, 10, 10)$\", \"$r = (5, 15, 15)$\", \"$r = (5, 20, 20)$\"]\n",
    "label = \"$\\Vert P_M(x_i)-P_M(x_i)^\\mathrm{{TTN,ref}} \\Vert$\"\n",
    "\n",
    "fig, axs = plt.subplots(4, 3, figsize=(10, 8), sharex='col', sharey='row')\n",
    "\n",
    "line, = axs[0, 0].plot(np.arange(tree.grid.d()), marginal_err00, '.-', color=colors[0])\n",
    "axs[1, 0].plot(np.arange(tree.grid.d()), marginal_err10, '.-', color=colors[0])\n",
    "axs[2, 0].plot(np.arange(tree.grid.d()), marginal_err20, '.-', color=colors[0])\n",
    "axs[3, 0].plot(np.arange(tree.grid.d()), marginal_err30, '.-', color=colors[0])\n",
    "\n",
    "axs[0, 1].plot(np.arange(tree.grid.d()), marginal_err01, '.-', color=colors[1])\n",
    "axs[1, 1].plot(np.arange(tree.grid.d()), marginal_err11, '.-', color=colors[1])\n",
    "axs[2, 1].plot(np.arange(tree.grid.d()), marginal_err21, '.-', color=colors[1])\n",
    "axs[3, 1].plot(np.arange(tree.grid.d()), marginal_err31, '.-', color=colors[1])\n",
    "\n",
    "axs[0, 2].plot(np.arange(tree.grid.d()), marginal_err02, '.-', color=colors[2])\n",
    "axs[1, 2].plot(np.arange(tree.grid.d()), marginal_err12, '.-', color=colors[2])\n",
    "axs[2, 2].plot(np.arange(tree.grid.d()), marginal_err22, '.-', color=colors[2])\n",
    "axs[3, 2].plot(np.arange(tree.grid.d()), marginal_err32, '.-', color=colors[2])\n",
    "\n",
    "# axins = inset_axes(axs[-1, 1], width='65%', height='65%', loc='upper center')\n",
    "# axins.plot(np.arange(tree.grid.d()), SSA_marginal_err_r_5_15_25, '--')\n",
    "# axins.plot(np.arange(tree.grid.d()), DLR_marginal_err_r_5_15_25, '.-')\n",
    "# axins.set_ylim([-0.02*0.6, 0.42*0.6])\n",
    "# axins.annotate(\"TTN with 2 partitions\\n($r=5$)\", xy=(0.5, 1), xytext=(0, -30),\n",
    "#                 xycoords='axes fraction', textcoords='offset points',\n",
    "#                 size=11, ha='center', va='baseline')\n",
    "\n",
    "plt.setp(axs, ylim=[-0.02, 0.22])\n",
    "# plt.setp(axs[:, 0], ylim=[-0.02, 0.22])\n",
    "# plt.setp(axs[:, 1], ylim=[-0.02, 0.47])\n",
    "# plt.setp(axs[:, 2], ylim=[-0.02, 0.34])\n",
    "\n",
    "pad = 5 # in points\n",
    "\n",
    "for ax, col in zip(axs[0], cols):\n",
    "    ax.annotate(col, xy=(0.5, 1), xytext=(0, pad+5),\n",
    "                xycoords='axes fraction', textcoords='offset points',\n",
    "                size=14, ha='center', va='baseline')\n",
    "\n",
    "for ax, row in zip(axs[:,0], rows):\n",
    "    ax.annotate(row, xy=(0, 0.5), xytext=(-ax.yaxis.labelpad-pad, 0),\n",
    "                xycoords=ax.yaxis.label, textcoords='offset points',\n",
    "                size=14, ha='right', va='center')\n",
    "\n",
    "plt.setp(axs[-1, :], xlabel=\"species $S_i$\", xticks=[0, 2, 4, 6, 8, 10])\n",
    "fig.suptitle(label, fontsize=16)\n",
    "plt.subplots_adjust(hspace=.0, wspace=.0)\n",
    "\n",
    "plt.savefig(\"plots/comparison_marginal_ttn.pdf\", bbox_inches=\"tight\");"
   ]
  },
  {
   "cell_type": "code",
   "execution_count": null,
   "metadata": {},
   "outputs": [],
   "source": [
    "fig, axs = plt.subplots(2, 2, figsize=(7, 5))\n",
    "\n",
    "axs[0, 0].plot(np.arange(tree.grid.d()), marginal_err00, '.-', label=\"$\\mathcal{{P}}_0$\")\n",
    "axs[0, 0].plot(np.arange(tree.grid.d()), marginal_err01, '.-', label=\"$\\mathcal{{P}}_1$\")\n",
    "axs[0, 0].plot(np.arange(tree.grid.d()), marginal_err02, '.-', label=\"$\\mathcal{{P}}_2$\")\n",
    "axs[0, 0].set_title(\"$r = (5, 5, 5)$\")\n",
    "\n",
    "axs[0, 1].plot(np.arange(tree.grid.d()), marginal_err10, '.-')\n",
    "axs[0, 1].plot(np.arange(tree.grid.d()), marginal_err11, '.-')\n",
    "axs[0, 1].plot(np.arange(tree.grid.d()), marginal_err12, '.-')\n",
    "axs[0, 1].set_title(\"$r = (5, 10, 10)$\")\n",
    "axs[0, 1].yaxis.tick_right()\n",
    "axs[0, 1].yaxis.set_ticks_position(\"both\")\n",
    "axs[0, 1].yaxis.set_label_position(\"right\")\n",
    "\n",
    "axs[1, 0].plot(np.arange(tree.grid.d()), marginal_err20, '.-')\n",
    "axs[1, 0].plot(np.arange(tree.grid.d()), marginal_err21, '.-')\n",
    "axs[1, 0].plot(np.arange(tree.grid.d()), marginal_err22, '.-')\n",
    "axs[1, 0].set_title(\"$r = (5, 15, 15)$\")\n",
    "\n",
    "axs[1, 1].plot(np.arange(tree.grid.d()), marginal_err30, '.-')\n",
    "axs[1, 1].plot(np.arange(tree.grid.d()), marginal_err31, '.-')\n",
    "axs[1, 1].plot(np.arange(tree.grid.d()), marginal_err32, '.-')\n",
    "axs[1, 1].set_title(\"$r = (5, 20, 20)$\")\n",
    "axs[1, 1].yaxis.tick_right()\n",
    "axs[1, 1].yaxis.set_ticks_position(\"both\")\n",
    "axs[1, 1].yaxis.set_label_position(\"right\")\n",
    "\n",
    "plt.setp(axs, ylim=[-0.02, 0.22])\n",
    "plt.setp(axs, xlabel=\"species $S_i$\", xticks=[0, 2, 4, 6, 8, 10])\n",
    "plt.subplots_adjust(hspace=0.5)\n",
    "fig.suptitle(\"$\\Vert P_M^\\mathrm{{TTN}}(x_i)-P_M^\\mathrm{{SSA,ref}}(x_i) \\Vert$\", fontsize=16, y=1.05)\n",
    "fig.legend(*axs[0, 0].get_legend_handles_labels(), ncols=3, loc=\"center\", bbox_to_anchor=(0.5, 0.95))\n",
    "\n",
    "plt.savefig(\"plots/err_comparison_ttn_alt.pdf\", bbox_inches=\"tight\");"
   ]
  },
  {
   "cell_type": "code",
   "execution_count": null,
   "metadata": {},
   "outputs": [],
   "source": [
    "# from mpl_toolkits.axes_grid1.inset_locator import inset_axes\n",
    "colors = plt.rcParams['axes.prop_cycle'].by_key()['color']\n",
    "cols = [\"$\\mathcal{{P}}_0$\", \"$\\mathcal{{P}}_1$\", \"$\\mathcal{{P}}_2$\"]\n",
    "rows = [\"$r = (5, 5, 5)$\", \"$r = (5, 10, 10)$\", \"$r = (5, 15, 15)$\", \"$r = (5, 20, 20)$\"]\n",
    "label = \"$\\Vert P_S(x_i)-P_S(x_i)^\\mathrm{{TTN,ref}} \\Vert$\"\n",
    "\n",
    "fig, axs = plt.subplots(4, 3, figsize=(10, 8), sharex='col', sharey='row')\n",
    "\n",
    "line1, = axs[0, 0].plot(np.arange(tree.grid.d()), sliced_err00, '.-', color=colors[0])\n",
    "axs[1, 0].plot(np.arange(tree.grid.d()), sliced_err10, '.-', color=colors[0])\n",
    "axs[2, 0].plot(np.arange(tree.grid.d()), sliced_err20, '.-', color=colors[0])\n",
    "axs[3, 0].plot(np.arange(tree.grid.d()), sliced_err30, '.-', color=colors[0])\n",
    "\n",
    "axs[0, 1].plot(np.arange(tree.grid.d()), sliced_err01, '.-', color=colors[1])\n",
    "axs[1, 1].plot(np.arange(tree.grid.d()), sliced_err11, '.-', color=colors[1])\n",
    "axs[2, 1].plot(np.arange(tree.grid.d()), sliced_err21, '.-', color=colors[1])\n",
    "axs[3, 1].plot(np.arange(tree.grid.d()), sliced_err31, '.-', color=colors[1])\n",
    "\n",
    "axs[0, 2].plot(np.arange(tree.grid.d()), sliced_err02, '.-', color=colors[2])\n",
    "axs[1, 2].plot(np.arange(tree.grid.d()), sliced_err12, '.-', color=colors[2])\n",
    "axs[2, 2].plot(np.arange(tree.grid.d()), sliced_err22, '.-', color=colors[2])\n",
    "axs[3, 2].plot(np.arange(tree.grid.d()), sliced_err32, '.-', color=colors[2])\n",
    "\n",
    "plt.setp(axs, ylim=[-0.0005, 0.0081])\n",
    "\n",
    "pad = 5 # in points\n",
    "\n",
    "for ax, col in zip(axs[0], cols):\n",
    "    ax.annotate(col, xy=(0.5, 1), xytext=(0, pad+5),\n",
    "                xycoords='axes fraction', textcoords='offset points',\n",
    "                size=14, ha='center', va='baseline')\n",
    "\n",
    "for ax, row in zip(axs[:,0], rows):\n",
    "    ax.annotate(row, xy=(0, 0.5), xytext=(-ax.yaxis.labelpad-pad, 0),\n",
    "                xycoords=ax.yaxis.label, textcoords='offset points',\n",
    "                size=14, ha='right', va='center')\n",
    "\n",
    "plt.setp(axs[-1, :], xlabel=\"species $S_i$\", xticks=[0, 2, 4, 6, 8, 10])\n",
    "fig.suptitle(label, fontsize=16)\n",
    "plt.subplots_adjust(hspace=.0, wspace=.0)\n",
    "\n",
    "plt.savefig(\"plots/comparison_sliced_ttn.pdf\", bbox_inches=\"tight\");"
   ]
  },
  {
   "cell_type": "code",
   "execution_count": null,
   "metadata": {},
   "outputs": [],
   "source": [
    "fig, axs = plt.subplots(2, 2, figsize=(7, 5))\n",
    "\n",
    "axs[0, 0].plot(np.arange(tree.grid.d()), sliced_err00, '.-', label=\"$\\mathcal{{P}}_0$\")\n",
    "axs[0, 0].plot(np.arange(tree.grid.d()), sliced_err01, '.-', label=\"$\\mathcal{{P}}_1$\")\n",
    "axs[0, 0].plot(np.arange(tree.grid.d()), sliced_err02, '.-', label=\"$\\mathcal{{P}}_2$\")\n",
    "axs[0, 0].set_title(\"$r = (5, 5, 5)$\")\n",
    "\n",
    "axs[0, 1].plot(np.arange(tree.grid.d()), sliced_err10, '.-')\n",
    "axs[0, 1].plot(np.arange(tree.grid.d()), sliced_err11, '.-')\n",
    "axs[0, 1].plot(np.arange(tree.grid.d()), sliced_err12, '.-')\n",
    "axs[0, 1].set_title(\"$r = (5, 10, 10)$\")\n",
    "axs[0, 1].yaxis.tick_right()\n",
    "axs[0, 1].yaxis.set_ticks_position(\"both\")\n",
    "axs[0, 1].yaxis.set_label_position(\"right\")\n",
    "\n",
    "axs[1, 0].plot(np.arange(tree.grid.d()), sliced_err20, '.-')\n",
    "axs[1, 0].plot(np.arange(tree.grid.d()), sliced_err21, '.-')\n",
    "axs[1, 0].plot(np.arange(tree.grid.d()), sliced_err22, '.-')\n",
    "axs[1, 0].set_title(\"$r = (5, 15, 15)$\")\n",
    "\n",
    "axs[1, 1].plot(np.arange(tree.grid.d()), sliced_err30, '.-')\n",
    "axs[1, 1].plot(np.arange(tree.grid.d()), sliced_err31, '.-')\n",
    "axs[1, 1].plot(np.arange(tree.grid.d()), sliced_err32, '.-')\n",
    "axs[1, 1].set_title(\"$r = (5, 20, 20)$\")\n",
    "axs[1, 1].yaxis.tick_right()\n",
    "axs[1, 1].yaxis.set_ticks_position(\"both\")\n",
    "axs[1, 1].yaxis.set_label_position(\"right\")\n",
    "\n",
    "plt.setp(axs, ylim=[1e-5, 1e-1], yscale=\"log\")\n",
    "plt.setp(axs, xlabel=\"species $S_i$\", xticks=[0, 2, 4, 6, 8, 10])\n",
    "plt.subplots_adjust(hspace=0.5)\n",
    "fig.suptitle(\"$\\Vert P_S^\\mathrm{{TTN}}(x_i)-P_S^\\mathrm{{SSA,ref}}(x_i) \\Vert$\", fontsize=16, y=1.05)\n",
    "fig.legend(*axs[0, 0].get_legend_handles_labels(), ncols=3, loc=\"center\", bbox_to_anchor=(0.5, 0.95))\n",
    "\n",
    "plt.savefig(\"plots/err_comparison_ttn_slice_alt.pdf\", bbox_inches=\"tight\");"
   ]
  },
  {
   "cell_type": "markdown",
   "metadata": {},
   "source": [
    "## Mass error"
   ]
  },
  {
   "cell_type": "markdown",
   "metadata": {},
   "source": [
    "### Load data"
   ]
  },
  {
   "cell_type": "markdown",
   "metadata": {},
   "source": [
    "#### Partition 0"
   ]
  },
  {
   "cell_type": "code",
   "execution_count": null,
   "metadata": {},
   "outputs": [],
   "source": [
    "time_series = TimeSeries(\"output/bax_p0_r5-5-5_i_tau2e-2\")\n",
    "mass_err00 = np.abs(time_series.getMassErr())\n",
    "time = time_series.time\n",
    "\n",
    "time_series = TimeSeries(\"output/bax_p0_r5-10-10_i_tau2e-2\")\n",
    "mass_err10 = np.abs(time_series.getMassErr())\n",
    "\n",
    "time_series = TimeSeries(\"output/bax_p0_r5-15-15_i_tau2e-2\")\n",
    "mass_err20 = np.abs(time_series.getMassErr())\n",
    "\n",
    "time_series = TimeSeries(\"output/bax_p0_r5-20-20_i_tau2e-2\")\n",
    "mass_err30 = np.abs(time_series.getMassErr())"
   ]
  },
  {
   "cell_type": "markdown",
   "metadata": {},
   "source": [
    "#### Partition 1"
   ]
  },
  {
   "cell_type": "code",
   "execution_count": null,
   "metadata": {},
   "outputs": [],
   "source": [
    "time_series = TimeSeries(\"output/bax_p1_r5-5-5_i_tau2e-2\")\n",
    "mass_err01 = np.abs(time_series.getMassErr())\n",
    "\n",
    "time_series = TimeSeries(\"output/bax_p1_r5-10-10_i_tau2e-2\")\n",
    "mass_err11 = np.abs(time_series.getMassErr())\n",
    "\n",
    "time_series = TimeSeries(\"output/bax_p1_r5-15-25_i_tau2e-2\")\n",
    "mass_err21 = np.abs(time_series.getMassErr())\n",
    "\n",
    "time_series = TimeSeries(\"output/bax_p1_r5-20-20_i_tau2e-2\")\n",
    "mass_err31 = np.abs(time_series.getMassErr())"
   ]
  },
  {
   "cell_type": "markdown",
   "metadata": {},
   "source": [
    "#### Partition 2"
   ]
  },
  {
   "cell_type": "code",
   "execution_count": null,
   "metadata": {},
   "outputs": [],
   "source": [
    "time_series = TimeSeries(\"output/bax_p2_r5-5-5_i_tau2e-2\")\n",
    "mass_err02 = np.abs(time_series.getMassErr())\n",
    "\n",
    "time_series = TimeSeries(\"output/bax_p2_r5-10-10_i_tau2e-2\")\n",
    "mass_err12 = np.abs(time_series.getMassErr())\n",
    "\n",
    "time_series = TimeSeries(\"output/bax_p2_r5-15-15_i_tau2e-2\")\n",
    "mass_err22 = np.abs(time_series.getMassErr())\n",
    "\n",
    "time_series = TimeSeries(\"output/bax_p2_r5-20-20_i_tau2e-2\")\n",
    "mass_err32 = np.abs(time_series.getMassErr())"
   ]
  },
  {
   "cell_type": "markdown",
   "metadata": {},
   "source": [
    "### Plot"
   ]
  },
  {
   "cell_type": "code",
   "execution_count": null,
   "metadata": {},
   "outputs": [],
   "source": [
    "fig, axs = plt.subplots(2, 2, figsize=(7, 5))\n",
    "\n",
    "axs[0, 0].plot(time, mass_err00, label=\"$\\mathcal{{P}}_0$\")\n",
    "axs[0, 0].plot(time, mass_err01, label=\"$\\mathcal{{P}}_1$\")\n",
    "axs[0, 0].plot(time, mass_err02, label=\"$\\mathcal{{P}}_2$\")\n",
    "axs[0, 0].set_title(\"$r = (5, 5, 5)$\")\n",
    "\n",
    "axs[0, 1].plot(time, mass_err10)\n",
    "axs[0, 1].plot(time, mass_err11)\n",
    "axs[0, 1].plot(time, mass_err12)\n",
    "axs[0, 1].set_title(\"$r = (5, 10, 10)$\")\n",
    "axs[0, 1].yaxis.tick_right()\n",
    "axs[0, 1].yaxis.set_ticks_position(\"both\")\n",
    "axs[0, 1].yaxis.set_label_position(\"right\")\n",
    "\n",
    "axs[1, 0].plot(time, mass_err20)\n",
    "axs[1, 0].plot(time, mass_err21)\n",
    "axs[1, 0].plot(time, mass_err22)\n",
    "axs[1, 0].set_title(\"$r = (5, 15, 15)$\")\n",
    "\n",
    "axs[1, 1].plot(time, mass_err30)\n",
    "axs[1, 1].plot(time, mass_err31)\n",
    "axs[1, 1].plot(time, mass_err32)\n",
    "axs[1, 1].set_title(\"$r = (5, 20, 20)$\")\n",
    "axs[1, 1].yaxis.tick_right()\n",
    "axs[1, 1].yaxis.set_ticks_position(\"both\")\n",
    "axs[1, 1].yaxis.set_label_position(\"right\")\n",
    "\n",
    "plt.setp(axs, xlabel=\"$t$\", xticks=[0.0, 50.0, 100.0, 145.0], ylim=[3e-9, 1e-2], yscale=\"log\")\n",
    "plt.subplots_adjust(hspace=0.5)\n",
    "fig.suptitle(\"$|\\Delta m(t)|$\", fontsize=16, y=1.05)\n",
    "fig.legend(*axs[0, 0].get_legend_handles_labels(), ncols=3, loc=\"center\", bbox_to_anchor=(0.5, 0.95))\n",
    "\n",
    "plt.savefig(\"plots/mass_err_comparison_ttn.pdf\", bbox_inches=\"tight\");"
   ]
  },
  {
   "cell_type": "code",
   "execution_count": null,
   "metadata": {},
   "outputs": [],
   "source": [
    "fig, ax = plt.subplots()\n",
    "ax.plot(time, mass_err01, label=\"$r = (5, 5, 5)$\")\n",
    "ax.plot(time, mass_err11, label=\"$r = (5, 10, 10)$\")\n",
    "ax.plot(time, mass_err21, label=\"$r = (5, 15, 15)$\")\n",
    "ax.plot(time, mass_err31, label=\"$r = (5, 20, 20)$\")\n",
    "ax.legend()\n",
    "plt.setp(ax, xlabel=\"$t$\", ylabel=\"$|\\Delta m(t)|$\", xticks=[0.0, 25.0, 50.0, 75.0, 100.0, 125.0, 145.0])\n",
    "plt.savefig(\"plots/mass_err_comparison_ttn_rank.pdf\");"
   ]
  },
  {
   "cell_type": "markdown",
   "metadata": {},
   "source": [
    "## Wall time"
   ]
  },
  {
   "cell_type": "markdown",
   "metadata": {},
   "source": [
    "### Load data"
   ]
  },
  {
   "cell_type": "markdown",
   "metadata": {},
   "source": [
    "#### Partition 0"
   ]
  },
  {
   "cell_type": "code",
   "execution_count": null,
   "metadata": {},
   "outputs": [],
   "source": [
    "time_series = TimeSeries(\"output/bax_p0_r5-5-5_i_tau2e-2\")\n",
    "walltime00 = time_series.getWallTime()\n",
    "\n",
    "time_series = TimeSeries(\"output/bax_p0_r5-10-10_i_tau2e-2\")\n",
    "walltime10 = time_series.getWallTime()\n",
    "\n",
    "time_series = TimeSeries(\"output/bax_p0_r5-15-15_i_tau2e-2\")\n",
    "walltime20 = time_series.getWallTime()\n",
    "\n",
    "time_series = TimeSeries(\"output/bax_p0_r5-20-20_i_tau2e-2\")\n",
    "walltime30 = time_series.getWallTime()"
   ]
  },
  {
   "cell_type": "markdown",
   "metadata": {},
   "source": [
    "#### Partition 1"
   ]
  },
  {
   "cell_type": "code",
   "execution_count": null,
   "metadata": {},
   "outputs": [],
   "source": [
    "time_series = TimeSeries(\"output/bax_p1_r5-5-5_i_tau2e-2\")\n",
    "walltime01 = time_series.getWallTime()\n",
    "\n",
    "time_series = TimeSeries(\"output/bax_p1_r5-10-10_i_tau2e-2\")\n",
    "walltime11 = time_series.getWallTime()\n",
    "\n",
    "time_series = TimeSeries(\"output/bax_p1_r5-15-15_i_tau2e-2\")\n",
    "walltime21 = time_series.getWallTime()\n",
    "\n",
    "time_series = TimeSeries(\"output/bax_p1_r5-20-20_i_tau2e-2\")\n",
    "walltime31 = time_series.getWallTime()"
   ]
  },
  {
   "cell_type": "markdown",
   "metadata": {},
   "source": [
    "#### Partition 2"
   ]
  },
  {
   "cell_type": "code",
   "execution_count": null,
   "metadata": {},
   "outputs": [],
   "source": [
    "time_series = TimeSeries(\"output/bax_p2_r5-5-5_i_tau2e-2\")\n",
    "walltime02 = time_series.getWallTime()\n",
    "\n",
    "time_series = TimeSeries(\"output/bax_p2_r5-10-10_i_tau2e-2\")\n",
    "walltime12 = time_series.getWallTime()\n",
    "\n",
    "time_series = TimeSeries(\"output/bax_p2_r5-15-15_i_tau2e-2\")\n",
    "walltime22 = time_series.getWallTime()\n",
    "\n",
    "time_series = TimeSeries(\"output/bax_p2_r5-20-20_i_tau2e-2\")\n",
    "walltime32 = time_series.getWallTime()"
   ]
  },
  {
   "cell_type": "markdown",
   "metadata": {},
   "source": [
    "### Plot"
   ]
  },
  {
   "cell_type": "code",
   "execution_count": null,
   "metadata": {},
   "outputs": [],
   "source": [
    "fig, axs = plt.subplots(2, 2, figsize=(7, 5))\n",
    "labels = [\"$\\mathcal{{P}}_{}$\".format(i) for i in range(3)]\n",
    "colors = plt.rcParams['axes.prop_cycle'].by_key()['color']\n",
    "walltime0 = [walltime00, walltime01, walltime02]\n",
    "axs[0, 0].bar(labels, walltime0, color=colors)\n",
    "axs[0, 0].set_title(\"$r = (5, 5, 5)$\")\n",
    "\n",
    "walltime1 = [walltime10, walltime11, walltime12]\n",
    "axs[0, 1].bar(labels, walltime1, color=colors)\n",
    "axs[0, 1].set_title(\"$r = (5, 10, 10)$\")\n",
    "axs[0, 1].yaxis.tick_right()\n",
    "axs[0, 1].yaxis.set_ticks_position(\"both\")\n",
    "axs[0, 1].yaxis.set_label_position(\"right\")\n",
    "\n",
    "walltime2 = [walltime20, walltime21, walltime22]\n",
    "axs[1, 0].bar(labels, walltime2, color=colors)\n",
    "axs[1, 0].set_title(\"$r = (5, 15, 15)$\")\n",
    "\n",
    "walltime3 = [walltime30, walltime31, walltime32]\n",
    "axs[1, 1].bar(labels, walltime3, color=colors)\n",
    "axs[1, 1].set_title(\"$r = (5, 20, 20)$\")\n",
    "axs[1, 1].yaxis.tick_right()\n",
    "axs[1, 1].yaxis.set_ticks_position(\"both\")\n",
    "axs[1, 1].yaxis.set_label_position(\"right\")\n",
    "\n",
    "# plt.setp(axs, ylabel=\"wall time [$\\mathrm{s}$]\")\n",
    "# plt.setp(axs, ylim=[1e0, 1e6], yscale=\"log\")\n",
    "plt.subplots_adjust(hspace=0.3)\n",
    "fig.suptitle(\"wall time [$\\mathrm{s}$]\", fontsize=16)\n",
    "\n",
    "plt.savefig(\"plots/wall_time_comparison_ttn.pdf\");"
   ]
  },
  {
   "cell_type": "markdown",
   "metadata": {},
   "source": [
    "## Memory requirements"
   ]
  },
  {
   "cell_type": "code",
   "execution_count": null,
   "metadata": {},
   "outputs": [],
   "source": [
    "def memoryRequirementsP0(rank):\n",
    "    x0 = rank[0] * 11776\n",
    "    x100 = rank[2] * 1936\n",
    "    x101 = rank[2] * 44\n",
    "    x11 = rank[1] * 3136\n",
    "    q = 1 * rank[0] ** 2\n",
    "    q1 = rank[0] * rank[1] ** 2\n",
    "    q10 = rank[1] * rank[2] ** 2\n",
    "    return (x0 + x100 + x101 + x11 + q + q1 + q10) * 8 * 1e-6\n",
    "\n",
    "def memoryRequirementsP1(rank):\n",
    "    x00 = rank[1] * 11776\n",
    "    x01 = rank[1] * 1331\n",
    "    x10 = rank[2] * 896\n",
    "    x11 = rank[2] * 224\n",
    "    q = 1 * rank[0] ** 2\n",
    "    q0 = rank[0] * rank[1] ** 2\n",
    "    q1 = rank[0] * rank[2] ** 2\n",
    "    return (x00 + x01 + x10 + x11 + q + q0 + q1) * 8 * 1e-6\n",
    "\n",
    "def memoryRequirementsP2(rank):\n",
    "    x00 = rank[1] * 736\n",
    "    x01 = rank[1] * 1936\n",
    "    x10 = rank[2] * 704\n",
    "    x11 = rank[2] * 3136\n",
    "    q = 1 * rank[0] ** 2\n",
    "    q0 = rank[0] * rank[1] ** 2\n",
    "    q1 = rank[0] * rank[2] ** 2\n",
    "    return (x00 + x01 + x10 + x11 + q + q0 + q1) * 8 * 1e-6\n",
    "\n",
    "def memoryRequirementsPfull(rank):\n",
    "    x0 = rank[0] * 1424896\n",
    "    x1 = rank[0] * 2207744\n",
    "    q = 1 * rank[0] ** 2\n",
    "    return (x0 + x1 + q) * 8 * 1e-6"
   ]
  },
  {
   "cell_type": "code",
   "execution_count": null,
   "metadata": {},
   "outputs": [],
   "source": [
    "rank = [5, 5, 5]\n",
    "fig, axs = plt.subplots(2, 2, figsize=(7, 5))\n",
    "labels = [\"$\\mathcal{{P}}_{}$\".format(i) for i in range(3)]\n",
    "colors = plt.rcParams['axes.prop_cycle'].by_key()['color']\n",
    "memory_req = [memoryRequirementsP0(rank), memoryRequirementsP1(rank), memoryRequirementsP2(rank)]\n",
    "axs[0, 0].bar(labels, memory_req, color=colors)\n",
    "axs[0, 0].set_title(\"$r = (5, 5, 5)$\")\n",
    "\n",
    "rank = [5, 10, 10]\n",
    "memory_req = [memoryRequirementsP0(rank), memoryRequirementsP1(rank), memoryRequirementsP2(rank)]\n",
    "axs[0, 1].bar(labels, memory_req, color=colors)\n",
    "axs[0, 1].set_title(\"$r = (5, 10, 10)$\")\n",
    "axs[0, 1].yaxis.tick_right()\n",
    "axs[0, 1].yaxis.set_ticks_position(\"both\")\n",
    "axs[0, 1].yaxis.set_label_position(\"right\")\n",
    "\n",
    "rank = [5, 15, 15]\n",
    "memory_req = [memoryRequirementsP0(rank), memoryRequirementsP1(rank), memoryRequirementsP2(rank)]\n",
    "axs[1, 0].bar(labels, memory_req, color=colors)\n",
    "axs[1, 0].set_title(\"$r = (5, 15, 15)$\")\n",
    "\n",
    "rank = [5, 20, 20]\n",
    "memory_req = [memoryRequirementsP0(rank), memoryRequirementsP1(rank), memoryRequirementsP2(rank)]\n",
    "axs[1, 1].bar(labels, memory_req, color=colors)\n",
    "axs[1, 1].set_title(\"$r = (5, 20, 20)$\")\n",
    "axs[1, 1].yaxis.tick_right()\n",
    "axs[1, 1].yaxis.set_ticks_position(\"both\")\n",
    "axs[1, 1].yaxis.set_label_position(\"right\")\n",
    "\n",
    "# plt.setp(axs, ylim=[1e0, 1e6], yscale=\"log\")\n",
    "plt.subplots_adjust(hspace=0.3)\n",
    "fig.suptitle(\"memory [$\\mathrm{MB}$]\", fontsize=16)\n",
    "\n",
    "plt.savefig(\"plots/memory_comparison_ttn.pdf\");"
   ]
  }
 ],
 "metadata": {
  "kernelspec": {
   "display_name": "base",
   "language": "python",
   "name": "python3"
  },
  "language_info": {
   "codemirror_mode": {
    "name": "ipython",
    "version": 3
   },
   "file_extension": ".py",
   "mimetype": "text/x-python",
   "name": "python",
   "nbconvert_exporter": "python",
   "pygments_lexer": "ipython3",
   "version": "3.10.14"
  }
 },
 "nbformat": 4,
 "nbformat_minor": 2
}
