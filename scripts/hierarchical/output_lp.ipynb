{
 "cells": [
  {
   "cell_type": "code",
   "execution_count": null,
   "metadata": {},
   "outputs": [],
   "source": [
    "import numpy as np\n",
    "import matplotlib.pyplot as plt\n",
    "import xarray as xr"
   ]
  },
  {
   "cell_type": "code",
   "execution_count": null,
   "metadata": {},
   "outputs": [],
   "source": [
    "with xr.open_dataset(\"output/lp/output_t10000.nc\") as ds:\n",
    "    Q = ds['Q'].values\n",
    "\n",
    "with xr.open_dataset(\"output/lp/output_t10000.nc\", group=\"0\") as ds0:\n",
    "    Q0 = ds0['Q'].values\n",
    "\n",
    "with xr.open_dataset(\"output/lp/output_t10000.nc\", group=\"1\") as ds1:\n",
    "    X1 = ds1['X'].values\n",
    "\n",
    "with xr.open_dataset(\"output/lp/output_t10000.nc\", group=\"0/00\") as ds00:\n",
    "    X00 = ds00['X'].values\n",
    "\n",
    "with xr.open_dataset(\"output/lp/output_t10000.nc\", group=\"0/01\") as ds01:\n",
    "    X01 = ds01['X'].values"
   ]
  },
  {
   "cell_type": "code",
   "execution_count": null,
   "metadata": {},
   "outputs": [],
   "source": [
    "Q0 = np.reshape(Q0, (5, 4, 4))\n",
    "for i in range(5):\n",
    "    Q0[i, :, :] = np.transpose(Q0[i, :, :])\n",
    "\n",
    "X01_sum = np.sum(X01, axis=1)\n",
    "X1_sum = np.sum(X1, axis=1)\n",
    "\n",
    "X0 = np.array([X00.T @ Q0[i, :, :] @ X01_sum for i in range(Q0.shape[0])])\n",
    "\n",
    "P = X0.T @ Q[:, :, 0] @ X1_sum\n",
    "\n",
    "x = np.arange(0, 16)\n",
    "y = np.arange(0, 41)\n",
    "X, Y = np.meshgrid(x, y, indexing=\"ij\")\n",
    "\n",
    "plt.figure(1)\n",
    "plt.contour(X, Y, np.reshape(P, (16, 41), order=\"F\"))"
   ]
  }
 ],
 "metadata": {
  "kernelspec": {
   "display_name": "base",
   "language": "python",
   "name": "python3"
  },
  "language_info": {
   "codemirror_mode": {
    "name": "ipython",
    "version": 3
   },
   "file_extension": ".py",
   "mimetype": "text/x-python",
   "name": "python",
   "nbconvert_exporter": "python",
   "pygments_lexer": "ipython3",
   "version": "3.9.18"
  }
 },
 "nbformat": 4,
 "nbformat_minor": 2
}
