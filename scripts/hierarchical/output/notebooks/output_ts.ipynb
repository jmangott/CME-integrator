{
 "cells": [
  {
   "cell_type": "code",
   "execution_count": null,
   "metadata": {},
   "outputs": [],
   "source": [
    "import numpy as np\n",
    "import matplotlib.pyplot as plt\n",
    "import xarray as xr"
   ]
  },
  {
   "cell_type": "code",
   "execution_count": null,
   "metadata": {},
   "outputs": [],
   "source": [
    "with xr.open_dataset(\"output/ts/output_t500000.nc\") as ds:\n",
    "    Q = ds['Q'].values.T\n",
    "\n",
    "with xr.open_dataset(\"output/ts/output_t500000.nc\", group=\"0\") as ds0:\n",
    "    X0 = ds0['X'].values.T\n",
    "\n",
    "with xr.open_dataset(\"output/ts/output_t500000.nc\", group=\"1\") as ds1:\n",
    "    X1 = ds1['X'].values.T"
   ]
  },
  {
   "cell_type": "code",
   "execution_count": null,
   "metadata": {},
   "outputs": [],
   "source": [
    "Q_mat = Q[:, :, 0]\n",
    "P = X0 @ Q_mat @ X1.T\n",
    "\n",
    "x = np.arange(0, 51)\n",
    "y = np.arange(0, 51)\n",
    "X, Y = np.meshgrid(x, y, indexing=\"ij\")\n",
    "\n",
    "plt.figure(1)\n",
    "levels = np.linspace(np.amin(P), np.amax(P), 9)\n",
    "plt.contour(X, Y, P, levels=levels)"
   ]
  }
 ],
 "metadata": {
  "kernelspec": {
   "display_name": "base",
   "language": "python",
   "name": "python3"
  },
  "language_info": {
   "codemirror_mode": {
    "name": "ipython",
    "version": 3
   },
   "file_extension": ".py",
   "mimetype": "text/x-python",
   "name": "python",
   "nbconvert_exporter": "python",
   "pygments_lexer": "ipython3",
   "version": "3.9.18"
  }
 },
 "nbformat": 4,
 "nbformat_minor": 2
}
