{
 "cells": [
  {
   "cell_type": "code",
   "execution_count": null,
   "metadata": {},
   "outputs": [],
   "source": [
    "import numpy as np\n",
    "import matplotlib.pyplot as plt\n",
    "import xarray as xr"
   ]
  },
  {
   "cell_type": "code",
   "execution_count": null,
   "metadata": {},
   "outputs": [],
   "source": [
    "with xr.open_dataset(\"output/lp/output_t1000.nc\") as ds:\n",
    "    Q = ds['Q'].values.T\n",
    "\n",
    "with xr.open_dataset(\"output/lp/output_t1000.nc\", group=\"0\") as ds0:\n",
    "    Q0 = ds0['Q'].values.T\n",
    "\n",
    "with xr.open_dataset(\"output/lp/output_t1000.nc\", group=\"1\") as ds1:\n",
    "    X1 = ds1['X'].values.T\n",
    "\n",
    "with xr.open_dataset(\"output/lp/output_t1000.nc\", group=\"0/00\") as ds00:\n",
    "    X00 = ds00['X'].values.T\n",
    "\n",
    "with xr.open_dataset(\"output/lp/output_t1000.nc\", group=\"0/01\") as ds01:\n",
    "    X01 = ds01['X'].values.T"
   ]
  },
  {
   "cell_type": "code",
   "execution_count": null,
   "metadata": {},
   "outputs": [],
   "source": [
    "X01_sum = np.sum(X01, axis=0)\n",
    "X1_sum = np.sum(X1, axis=0)\n",
    "\n",
    "X0 = np.array([X00 @ Q0[:, :, i] @ X01_sum for i in range(Q0.shape[-1])]).T\n",
    "\n",
    "P = X0 @ Q[:, :, 0] @ X1_sum\n",
    "\n",
    "x = np.arange(0, 16)\n",
    "y = np.arange(0, 41)\n",
    "X, Y = np.meshgrid(x, y, indexing=\"ij\")\n",
    "\n",
    "plt.figure(1)\n",
    "levels = np.linspace(np.amin(P), np.amax(P), 9)\n",
    "plt.contour(X, Y, np.reshape(P, (16, 41), order=\"F\"), levels=levels)"
   ]
  }
 ],
 "metadata": {
  "kernelspec": {
   "display_name": "base",
   "language": "python",
   "name": "python3"
  },
  "language_info": {
   "codemirror_mode": {
    "name": "ipython",
    "version": 3
   },
   "file_extension": ".py",
   "mimetype": "text/x-python",
   "name": "python",
   "nbconvert_exporter": "python",
   "pygments_lexer": "ipython3",
   "version": "3.9.18"
  }
 },
 "nbformat": 4,
 "nbformat_minor": 2
}
