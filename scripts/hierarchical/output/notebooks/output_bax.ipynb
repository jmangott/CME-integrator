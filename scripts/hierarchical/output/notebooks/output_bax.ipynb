{
 "cells": [
  {
   "cell_type": "code",
   "execution_count": null,
   "metadata": {},
   "outputs": [],
   "source": [
    "import numpy as np\n",
    "import matplotlib.pyplot as plt\n",
    "import xarray as xr"
   ]
  },
  {
   "cell_type": "code",
   "execution_count": null,
   "metadata": {},
   "outputs": [],
   "source": [
    "with xr.open_dataset(\"output/bax_tau1e-1/output_t1450.nc\") as ds:\n",
    "    Q = ds['Q'].values.T\n",
    "\n",
    "with xr.open_dataset(\"output/bax_tau1e-1/output_t1450.nc\", group=\"0\") as ds0:\n",
    "    Q0 = ds0['Q'].values.T\n",
    "\n",
    "with xr.open_dataset(\"output/bax_tau1e-1/output_t1450.nc\", group=\"1\") as ds1:\n",
    "    Q1 = ds1['Q'].values.T\n",
    "\n",
    "with xr.open_dataset(\"output/bax_tau1e-1/output_t1450.nc\", group=\"0/00\") as ds00:\n",
    "    X00 = ds00['X'].values.T\n",
    "\n",
    "with xr.open_dataset(\"output/bax_tau1e-1/output_t1450.nc\", group=\"0/01\") as ds01:\n",
    "    X01 = ds01['X'].values.T\n",
    "\n",
    "with xr.open_dataset(\"output/bax_tau1e-1/output_t1450.nc\", group=\"1/10\") as ds10:\n",
    "    X10 = ds10['X'].values.T\n",
    "\n",
    "with xr.open_dataset(\"output/bax_tau1e-1/output_t1450.nc\", group=\"1/11\") as ds11:\n",
    "    X11 = ds11['X'].values.T"
   ]
  },
  {
   "cell_type": "code",
   "execution_count": null,
   "metadata": {},
   "outputs": [],
   "source": [
    "X01_sum = np.sum(X01, axis=0)\n",
    "X10_sum = np.sum(X10, axis=0)\n",
    "X11_sum = np.sum(X11, axis=0)\n",
    "\n",
    "X0_sum = np.array([X00 @ Q0[:, :, i] @ X01_sum for i in range(Q0.shape[-1])]).T\n",
    "X1_sum = np.array([X10_sum @ Q1[:, :, i] @ X11_sum for i in range(Q1.shape[-1])]).T\n",
    "\n",
    "P = X0_sum @ Q[:, :, 0] @ X1_sum\n",
    "\n",
    "x = np.arange(0, 46)\n",
    "y = np.arange(0, 16)\n",
    "X, Y = np.meshgrid(x, y, indexing=\"ij\")\n",
    "\n",
    "plt.figure(1)\n",
    "plt.imshow(np.reshape(P, (46, 16), order=\"F\"))\n",
    "plt.ylim([42, 0])"
   ]
  }
 ],
 "metadata": {
  "kernelspec": {
   "display_name": "base",
   "language": "python",
   "name": "python3"
  },
  "language_info": {
   "codemirror_mode": {
    "name": "ipython",
    "version": 3
   },
   "file_extension": ".py",
   "mimetype": "text/x-python",
   "name": "python",
   "nbconvert_exporter": "python",
   "pygments_lexer": "ipython3",
   "version": "3.9.18"
  }
 },
 "nbformat": 4,
 "nbformat_minor": 2
}
